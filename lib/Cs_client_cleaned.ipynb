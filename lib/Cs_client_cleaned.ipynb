{
 "cells": [
  {
   "cell_type": "markdown",
   "id": "ffe0379d",
   "metadata": {},
   "source": [
    "# Initialization"
   ]
  },
  {
   "cell_type": "code",
   "execution_count": 1,
   "id": "19688a52",
   "metadata": {},
   "outputs": [
    {
     "name": "stdout",
     "output_type": "stream",
     "text": [
      "20250318_110556\n",
      "['slm: hamamatsu display 2 / camera: network']\n"
     ]
    }
   ],
   "source": [
    "import Client\n",
    "import numpy as np\n",
    "client = Client.Client('tcp://192.168.0.129:8879')"
   ]
  },
  {
   "cell_type": "code",
   "execution_count": 2,
   "id": "d4e785fa",
   "metadata": {},
   "outputs": [],
   "source": [
    "import utils\n",
    "import time\n",
    "import slmsuite\n",
    "import slmsuite.holography.toolbox as toolbox\n",
    "import matplotlib.pyplot as plt"
   ]
  },
  {
   "cell_type": "code",
   "execution_count": 2,
   "id": "39e25383",
   "metadata": {},
   "outputs": [
    {
     "name": "stdout",
     "output_type": "stream",
     "text": [
      "Error in client function: Operation cannot be accomplished in current state\n"
     ]
    }
   ],
   "source": [
    "client.send_get_current_phase_info()"
   ]
  },
  {
   "cell_type": "markdown",
   "id": "a7ece8bb",
   "metadata": {},
   "source": [
    "## 3/12 -- Back to Rydberg"
   ]
  },
  {
   "cell_type": "code",
   "execution_count": 3,
   "id": "b1f15bf4",
   "metadata": {},
   "outputs": [
    {
     "name": "stdout",
     "output_type": "stream",
     "text": [
      "20250318_110614\n",
      "20250318_110614\n",
      "20250318_110614\n",
      "20250318_110614\n",
      "20250318_110614\n",
      "20250318_110614\n",
      "20250318_110614\n"
     ]
    },
    {
     "data": {
      "text/plain": [
       "['base: C:\\\\msys64\\\\home\\\\nilab\\\\projects\\\\NaCsSLM\\\\lib\\\\Cs_pattern\\\\20250307_1119213x12Cs_12x12spacing additional: file_correction:C:\\\\msys64\\\\home\\\\nilab\\\\projects\\\\NaCsSLM\\\\lib\\\\Cs_Correction_Patterns\\\\CAL_LSH0802977_1064nm.bmp,zernike:[((2, 1), 16.0), ((2, 0), 0.0), ((2, 2), 0.0), ((3, 2), 0.0), ((3, 1), 0.0), ((4, 2), 0.0), ((1, 1), 0.0), ((1, 0), 0.0)], aperture: None']"
      ]
     },
     "execution_count": 3,
     "metadata": {},
     "output_type": "execute_result"
    }
   ],
   "source": [
    "client.send_reset_pattern()\n",
    "client.send_reset_add_phase()\n",
    "client.load_config(\"C:\\\\experiment-control\\\\matlab_new\\\\NaCsSLM\\\\lib\\\\Cs_config\\\\20250310_3x12_sparse.yml\")\n",
    "client.send_project()\n",
    "client.send_get_current_phase_info()"
   ]
  },
  {
   "cell_type": "code",
   "execution_count": 3,
   "id": "ea95f63c",
   "metadata": {},
   "outputs": [
    {
     "name": "stdout",
     "output_type": "stream",
     "text": [
      "20250312_110024\n",
      "20250312_110024\n",
      "20250312_110024\n",
      "20250312_110025\n"
     ]
    },
    {
     "data": {
      "text/plain": [
       "['ok']"
      ]
     },
     "execution_count": 3,
     "metadata": {},
     "output_type": "execute_result"
    }
   ],
   "source": [
    "client.load_config(\"C:\\\\experiment-control\\\\matlab_new\\\\NaCsSLM\\\\lib\\\\Cs_config\\\\20250312_4x10tight.yml\")\n",
    "client.send_project()"
   ]
  },
  {
   "cell_type": "code",
   "execution_count": 4,
   "id": "f9360fef",
   "metadata": {},
   "outputs": [
    {
     "name": "stdout",
     "output_type": "stream",
     "text": [
      "20250312_110030\n",
      "20250312_110030\n",
      "20250312_110030\n",
      "20250312_110032\n",
      "20250312_110032\n",
      "20250312_110032\n"
     ]
    },
    {
     "data": {
      "text/plain": [
       "['ok']"
      ]
     },
     "execution_count": 4,
     "metadata": {},
     "output_type": "execute_result"
    }
   ],
   "source": [
    "client.send_reset_add_phase()\n",
    "client.send_correction(\"C:\\\\msys64\\\\home\\\\nilab\\\\projects\\\\NaCsSLM\\\\lib\\\\Cs_Correction_Patterns\\\\CAL_LSH0802977_1064nm.bmp\")\n",
    "\n",
    "client.send_zernike_poly(np.array([[2,1,18],[2,0,-3],[2,2,0],[3,2,0],[3,1,0],[4,2,0],[1,1,0],[1,0,0]]))# notice = client.send_zernike_poly(np.array([[1,0,0],[1,1,0],[2,1,0],[2,2,0],[2,0,-20],[3,0,0],[3,2,0],[3,1,0],[3,3,0],[4,2,0]]))# oridginal \n",
    "client.send_use_aperture(np.array([512]))\n",
    "client.send_slm_amplitude('gaussian', np.array([512.0]), np.array([512.0]))  # noted it has to be a float instead of interger \n",
    "client.send_project()"
   ]
  },
  {
   "cell_type": "code",
   "execution_count": 4,
   "id": "b10efa0e",
   "metadata": {},
   "outputs": [
    {
     "name": "stdout",
     "output_type": "stream",
     "text": [
      "20250312_105110\n",
      "20250312_105110\n",
      "20250312_105110\n"
     ]
    },
    {
     "data": {
      "text/plain": [
       "['base: C:\\\\msys64\\\\home\\\\nilab\\\\projects\\\\NaCsSLM\\\\lib\\\\Cs_pattern\\\\20250310_1534184x10Cs_7x9spacing additional: file_correction:C:\\\\msys64\\\\home\\\\nilab\\\\projects\\\\NaCsSLM\\\\lib\\\\Cs_Correction_Patterns\\\\CAL_LSH0802977_1064nm.bmp,zernike:[((2, 1), 18.0), ((2, 0), -3.0), ((2, 2), 0.0), ((3, 2), 0.0), ((3, 1), 0.0), ((4, 2), 0.0), ((1, 1), 0.0), ((1, 0), 0.0)], aperture: [512. 512.]']"
      ]
     },
     "execution_count": 4,
     "metadata": {},
     "output_type": "execute_result"
    }
   ],
   "source": [
    "client.load_and_project('C:\\\\msys64\\\\home\\\\nilab\\\\projects\\\\NaCsSLM\\\\lib\\\\Cs_pattern\\\\20250310_1534184x10Cs_7x9spacing')\n",
    "client.send_get_current_phase_info()"
   ]
  },
  {
   "cell_type": "code",
   "execution_count": 5,
   "id": "0403cf58",
   "metadata": {},
   "outputs": [
    {
     "name": "stdout",
     "output_type": "stream",
     "text": [
      "20250312_105153\n",
      "20250312_105153\n"
     ]
    }
   ],
   "source": [
    "client.save_config(\"C:\\\\experiment-control\\\\matlab_new\\\\NaCsSLM\\\\lib\\\\Cs_config\\\\20250312_4x10tight.yml\")"
   ]
  },
  {
   "cell_type": "code",
   "execution_count": 4,
   "id": "24cb96ad",
   "metadata": {},
   "outputs": [
    {
     "name": "stdout",
     "output_type": "stream",
     "text": [
      "20250312_144703\n",
      "20250312_144703\n",
      "20250312_144703\n",
      "20250312_144703\n",
      "20250312_144704\n"
     ]
    },
    {
     "data": {
      "text/plain": [
       "['ok']"
      ]
     },
     "execution_count": 4,
     "metadata": {},
     "output_type": "execute_result"
    }
   ],
   "source": [
    "client.send_reset_add_phase()\n",
    "client.load_config(\"C:\\\\experiment-control\\\\matlab_new\\\\NaCsSLM\\\\lib\\\\Cs_config\\\\20250310_3x12_sparse.yml\")\n",
    "client.send_project()"
   ]
  },
  {
   "cell_type": "code",
   "execution_count": 6,
   "id": "6420c44f",
   "metadata": {},
   "outputs": [
    {
     "name": "stdout",
     "output_type": "stream",
     "text": [
      "20250312_153401\n",
      "20250312_153401\n",
      "20250312_153401\n",
      "20250312_153401\n",
      "20250312_153401\n"
     ]
    },
    {
     "data": {
      "text/plain": [
       "['ok']"
      ]
     },
     "execution_count": 6,
     "metadata": {},
     "output_type": "execute_result"
    }
   ],
   "source": [
    "client.send_reset_add_phase()\n",
    "client.load_config(\"C:\\\\experiment-control\\\\matlab_new\\\\NaCsSLM\\\\lib\\\\Cs_config\\\\20250312_4x10tight.yml\")\n",
    "client.send_project()"
   ]
  },
  {
   "cell_type": "code",
   "execution_count": 7,
   "id": "85dfc7a4",
   "metadata": {},
   "outputs": [
    {
     "name": "stdout",
     "output_type": "stream",
     "text": [
      "20250314_105532\n"
     ]
    },
    {
     "data": {
      "text/plain": [
       "['base: C:\\\\msys64\\\\home\\\\nilab\\\\projects\\\\NaCsSLM\\\\lib\\\\Cs_pattern\\\\20250310_1534184x10Cs_7x9spacing additional: file_correction:C:\\\\msys64\\\\home\\\\nilab\\\\projects\\\\NaCsSLM\\\\lib\\\\Cs_Correction_Patterns\\\\CAL_LSH0802977_1064nm.bmp,zernike:[((2, 1), 18.0), ((2, 0), -3.0), ((2, 2), 0.0), ((3, 2), 0.0), ((3, 1), 0.0), ((4, 2), 0.0), ((1, 1), 0.0), ((1, 0), 0.0)], aperture: [512. 512.]']"
      ]
     },
     "execution_count": 7,
     "metadata": {},
     "output_type": "execute_result"
    }
   ],
   "source": [
    "client.send_get_current_phase_info()"
   ]
  },
  {
   "cell_type": "code",
   "execution_count": 13,
   "id": "9a8d33e3",
   "metadata": {},
   "outputs": [
    {
     "name": "stdout",
     "output_type": "stream",
     "text": [
      "20250314_114837\n",
      "20250314_114837\n",
      "20250314_114837\n",
      "20250314_114838\n",
      "20250314_114838\n",
      "20250314_114839\n"
     ]
    },
    {
     "data": {
      "text/plain": [
       "['ok']"
      ]
     },
     "execution_count": 13,
     "metadata": {},
     "output_type": "execute_result"
    }
   ],
   "source": [
    "client.send_reset_add_phase()\n",
    "client.send_correction(\"C:\\\\msys64\\\\home\\\\nilab\\\\projects\\\\NaCsSLM\\\\lib\\\\Cs_Correction_Patterns\\\\CAL_LSH0802977_1064nm.bmp\")\n",
    "\n",
    "client.send_zernike_poly(np.array([[2,1,18],[2,0,-3],[2,2,0],[3,2,0],[3,1,0],[4,2,0],[1,1,0],[1,0,0]]))# notice = client.send_zernike_poly(np.array([[1,0,0],[1,1,0],[2,1,0],[2,2,0],[2,0,-20],[3,0,0],[3,2,0],[3,1,0],[3,3,0],[4,2,0]]))# oridginal \n",
    "client.send_use_aperture(np.array([512]))\n",
    "client.send_slm_amplitude('gaussian', np.array([512.0]), np.array([512.0]))  # noted it has to be a float instead of interger \n",
    "client.send_project()"
   ]
  },
  {
   "cell_type": "markdown",
   "id": "acb627d5",
   "metadata": {},
   "source": [
    "## 3/7 -- Dream"
   ]
  },
  {
   "cell_type": "code",
   "execution_count": 94,
   "id": "57a709ba",
   "metadata": {},
   "outputs": [
    {
     "name": "stdout",
     "output_type": "stream",
     "text": [
      "20250307_111728\n",
      "20250307_111731\n",
      "20250307_111731\n",
      "20250307_111731\n",
      "20250307_111731\n"
     ]
    },
    {
     "data": {
      "text/plain": [
       "['base: C:\\\\msys64\\\\home\\\\nilab\\\\projects\\\\NaCsSLM\\\\lib\\\\Cs_pattern\\\\20250307_1119213x12Cs_12x12spacing additional: file_correction:C:\\\\msys64\\\\home\\\\nilab\\\\projects\\\\NaCsSLM\\\\lib\\\\Cs_Correction_Patterns\\\\CAL_LSH0802977_1064nm.bmp,zernike:[((2, 1), 16.0), ((2, 0), 0.0), ((2, 2), 0.0), ((3, 2), 0.0), ((3, 1), 0.0), ((4, 2), 0.0), ((1, 1), 0.0), ((1, 0), 0.0)], aperture: [512. 512.]']"
      ]
     },
     "execution_count": 94,
     "metadata": {},
     "output_type": "execute_result"
    }
   ],
   "source": [
    "angle = 2*(2*np.pi)/360\n",
    "targets,target_amps = utils.gen_square_targets([3,12], [12,12], angle, [386-60,305-60])\n",
    "k_array = andor_to_k_new(targets)\n",
    "target_file_name = '3x12Cs_12x12spacing'\n",
    "client.calculate_save_and_project(k_array, target_amps, 40 , \"C:\\\\msys64\\\\home\\\\nilab\\\\projects\\\\NaCsSLM\\\\lib\\\\Cs_pattern\", target_file_name,guess_phase_path='C:\\\\msys64\\\\home\\\\nilab\\\\projects\\\\NaCsSLM\\\\lib\\\\Cs_pattern\\\\20250304_1336368x8Cs_5x5pixels')\n",
    "client.send_get_current_phase_info()"
   ]
  },
  {
   "cell_type": "code",
   "execution_count": 95,
   "id": "81bbe0b9",
   "metadata": {},
   "outputs": [
    {
     "name": "stdout",
     "output_type": "stream",
     "text": [
      "[[-66 -66 -66 -54 -54 -54 -42 -42 -42 -30 -30 -30 -18 -18 -18  -6  -6  -6    6   6   6  18  18  18  30  30  30  42  42  42  54  54  54  66  66  66] [-12   0  12 -12   0  12 -12   0  12 -12   0  12 -12   0  12 -12   0  12  -12   0  12 -12   0  12 -12   0  12 -12   0  12 -12   0  12 -12   0  12]]\n"
     ]
    }
   ],
   "source": [
    "#targets,target_amps = utils.gen_square_targets([4,10], [10,10], 0, [362,347])\n",
    "#print(str(andor_to_img(targets, [362, 347])).replace(\"\\n\", \"\"))\n",
    "targets,target_amps = utils.gen_square_targets([3,12], [12,12], 0, [386-60,305-60])\n",
    "print(str(andor_to_img(targets, [386-60,305-60])).replace(\"\\n\", \"\"))"
   ]
  },
  {
   "cell_type": "code",
   "execution_count": null,
   "id": "edf36adb",
   "metadata": {},
   "outputs": [],
   "source": []
  },
  {
   "cell_type": "markdown",
   "id": "c102820a",
   "metadata": {},
   "source": [
    "## 3/6 -- More tweezer beam path\n",
    "Implement the sinc^2 diffraction efficiency"
   ]
  },
  {
   "cell_type": "code",
   "execution_count": 15,
   "id": "6f67a8c3",
   "metadata": {},
   "outputs": [],
   "source": [
    "#specify objective focal length in mm\n",
    "def account_for_diffraction_efficiency_correct(camera_array, a, objective_f, offset = [0,0]):\n",
    "    n_atoms = np.size(camera_array[0])\n",
    "    ys = camera_array[0]\n",
    "    xs = camera_array[1]\n",
    "    target_amps = np.zeros(n_atoms)\n",
    "    #convert objective f to andor pixels\n",
    "    d = objective_f*(1e3)/.6\n",
    "    for i in range(0,n_atoms):\n",
    "        x = xs[i]\n",
    "        y = ys[i]\n",
    "        sincsq = 1-(a**2)*((x - offset[0])**2 + ((y - offset[1])**2))/(3*(d**2))\n",
    "        amp_inv = 1/sincsq\n",
    "        target_amps[i] = amp_inv\n",
    "    return target_amps"
   ]
  },
  {
   "cell_type": "code",
   "execution_count": 26,
   "id": "65bd2d9a",
   "metadata": {},
   "outputs": [],
   "source": [
    "zeroth_order_pos = [31,-12] #zeroth order position in relative Andor coordinates\n",
    "objective_eff_f = 16 #mm\n",
    "a = 400 #kind of an open param \n",
    "camera_array = andor_to_img(targets, [362, 347])"
   ]
  },
  {
   "cell_type": "code",
   "execution_count": 27,
   "id": "676f5c22",
   "metadata": {},
   "outputs": [],
   "source": [
    "target_amps = account_for_diffraction_efficiency_correct(camera_array,a,objective_eff_f,zeroth_order_pos)"
   ]
  },
  {
   "cell_type": "code",
   "execution_count": 28,
   "id": "4a4fc382",
   "metadata": {},
   "outputs": [
    {
     "data": {
      "text/plain": [
       "array([1.26402275, 1.19728217, 1.14426295, 1.10226239, 1.06937575,\n",
       "       1.0442501 , 1.02593039, 1.01376182, 1.25545338, 1.18959108,\n",
       "       1.13723595, 1.09574031, 1.06323596, 1.03839464, 1.02027803,\n",
       "       1.00824238, 1.25545338, 1.18959108, 1.13723595, 1.09574031,\n",
       "       1.06323596, 1.03839464, 1.02027803, 1.00824238, 1.26402275,\n",
       "       1.19728217, 1.14426295, 1.10226239, 1.06937575, 1.0442501 ,\n",
       "       1.02593039, 1.01376182, 1.28151732, 1.21296661, 1.15858074,\n",
       "       1.11554229, 1.08187055, 1.05616138, 1.03742511, 1.02498398,\n",
       "       1.30868641, 1.23727922, 1.1807421 , 1.13607316, 1.10116999,\n",
       "       1.07454668, 1.05515841, 1.04229096, 1.346756  , 1.27125377,\n",
       "       1.2116439 , 1.16465279, 1.12799977, 1.10007976, 1.07976785,\n",
       "       1.06629702, 1.39757521, 1.31643903, 1.25262268, 1.20246505,\n",
       "       1.16343329, 1.13375471, 1.11219241, 1.09790574])"
      ]
     },
     "execution_count": 28,
     "metadata": {},
     "output_type": "execute_result"
    }
   ],
   "source": [
    "target_amps"
   ]
  },
  {
   "cell_type": "code",
   "execution_count": 29,
   "id": "730ec92d",
   "metadata": {},
   "outputs": [
    {
     "name": "stdout",
     "output_type": "stream",
     "text": [
      "20250306_134901\n",
      "20250306_134904\n",
      "20250306_134904\n",
      "20250306_134904\n",
      "20250306_134904\n"
     ]
    },
    {
     "data": {
      "text/plain": [
       "['base: C:\\\\msys64\\\\home\\\\nilab\\\\projects\\\\NaCsSLM\\\\lib\\\\Cs_pattern\\\\20250306_1350598x8Cs_6x6pixels_sinc2_a400 additional: file_correction:C:\\\\msys64\\\\home\\\\nilab\\\\projects\\\\NaCsSLM\\\\lib\\\\Cs_Correction_Patterns\\\\CAL_LSH0802977_1064nm.bmp,zernike:[((2, 1), 15.0), ((2, 0), 0.0), ((2, 2), 0.0), ((3, 2), 0.0), ((3, 1), 0.0), ((4, 2), 0.0), ((1, 1), 0.0), ((1, 0), 0.0)], aperture: [512. 512.]']"
      ]
     },
     "execution_count": 29,
     "metadata": {},
     "output_type": "execute_result"
    }
   ],
   "source": [
    "k_array = andor_to_k_new(targets)\n",
    "target_file_name = '8x8Cs_6x6pixels_sinc2_a400'\n",
    "client.calculate_save_and_project(k_array, target_amps, 80 , \"C:\\\\msys64\\\\home\\\\nilab\\\\projects\\\\NaCsSLM\\\\lib\\\\Cs_pattern\", target_file_name,guess_phase_path='C:\\\\msys64\\\\home\\\\nilab\\\\projects\\\\NaCsSLM\\\\lib\\\\Cs_pattern\\\\20250304_1336368x8Cs_5x5pixels')\n",
    "client.send_get_current_phase_info()"
   ]
  },
  {
   "cell_type": "code",
   "execution_count": 32,
   "id": "1e85fe35",
   "metadata": {},
   "outputs": [
    {
     "name": "stdout",
     "output_type": "stream",
     "text": [
      "20250306_140037\n",
      "20250306_140037\n"
     ]
    },
    {
     "data": {
      "text/plain": [
       "['ok']"
      ]
     },
     "execution_count": 32,
     "metadata": {},
     "output_type": "execute_result"
    }
   ],
   "source": [
    "client.send_reset_pattern()\n",
    "client.send_project()"
   ]
  },
  {
   "cell_type": "code",
   "execution_count": 35,
   "id": "4f66da79",
   "metadata": {},
   "outputs": [
    {
     "name": "stdout",
     "output_type": "stream",
     "text": [
      "20250306_160852\n",
      "20250306_160852\n",
      "20250306_160852\n",
      "20250306_160853\n",
      "20250306_160853\n",
      "20250306_160854\n"
     ]
    },
    {
     "data": {
      "text/plain": [
       "['ok']"
      ]
     },
     "execution_count": 35,
     "metadata": {},
     "output_type": "execute_result"
    }
   ],
   "source": [
    "client.send_reset_add_phase()\n",
    "client.send_correction(\"C:\\\\msys64\\\\home\\\\nilab\\\\projects\\\\NaCsSLM\\\\lib\\\\Cs_Correction_Patterns\\\\CAL_LSH0802977_1064nm.bmp\")\n",
    "\n",
    "client.send_zernike_poly(np.array([[2,1,15],[2,0,0],[2,2,0],[3,2,0],[3,1,0],[4,2,0],[1,1,0],[1,0,0]]))# notice = client.send_zernike_poly(np.array([[1,0,0],[1,1,0],[2,1,0],[2,2,0],[2,0,-20],[3,0,0],[3,2,0],[3,1,0],[3,3,0],[4,2,0]]))# oridginal \n",
    "client.send_use_aperture(np.array([512]))\n",
    "client.send_slm_amplitude('gaussian', np.array([512.0]), np.array([512.0]))  # noted it has to be a float instead of interger \n",
    "client.send_project()"
   ]
  },
  {
   "cell_type": "markdown",
   "id": "41de9a4d",
   "metadata": {},
   "source": [
    "## 3/4 -- Tweezer beam path diagnostics"
   ]
  },
  {
   "cell_type": "markdown",
   "id": "3140967f",
   "metadata": {},
   "source": [
    "First we'll generate some 8x8 patterns to use as a diagnostic."
   ]
  },
  {
   "cell_type": "code",
   "execution_count": 39,
   "id": "c3ae7b9b",
   "metadata": {},
   "outputs": [
    {
     "name": "stdout",
     "output_type": "stream",
     "text": [
      "20250306_161209\n"
     ]
    },
    {
     "data": {
      "text/plain": [
       "['base: C:\\\\msys64\\\\home\\\\nilab\\\\projects\\\\NaCsSLM\\\\lib\\\\Cs_pattern\\\\20250306_1613558x8Cs_8x8spacing_newalignment additional: file_correction:C:\\\\msys64\\\\home\\\\nilab\\\\projects\\\\NaCsSLM\\\\lib\\\\Cs_Correction_Patterns\\\\CAL_LSH0802977_1064nm.bmp,zernike:[((2, 1), 15.0), ((2, 0), 0.0), ((2, 2), 0.0), ((3, 2), 0.0), ((3, 1), 0.0), ((4, 2), 0.0), ((1, 1), 0.0), ((1, 0), 0.0)], aperture: [512. 512.]']"
      ]
     },
     "execution_count": 39,
     "metadata": {},
     "output_type": "execute_result"
    }
   ],
   "source": [
    "client.send_get_current_phase_info()"
   ]
  },
  {
   "cell_type": "code",
   "execution_count": 148,
   "id": "7cea0ae9",
   "metadata": {},
   "outputs": [
    {
     "name": "stdout",
     "output_type": "stream",
     "text": [
      "20250305_140209\n"
     ]
    },
    {
     "data": {
      "text/plain": [
       "['ok']"
      ]
     },
     "execution_count": 148,
     "metadata": {},
     "output_type": "execute_result"
    }
   ],
   "source": [
    "client.send_slm_amplitude('gaussian', np.array([200.0]), np.array([200.0]))"
   ]
  },
  {
   "cell_type": "code",
   "execution_count": 93,
   "id": "4f296a27",
   "metadata": {},
   "outputs": [
    {
     "name": "stdout",
     "output_type": "stream",
     "text": [
      "20250306_192122\n",
      "20250306_192122\n",
      "20250306_192122\n",
      "20250306_192124\n",
      "20250306_192124\n",
      "20250306_192124\n"
     ]
    },
    {
     "data": {
      "text/plain": [
       "['ok']"
      ]
     },
     "execution_count": 93,
     "metadata": {},
     "output_type": "execute_result"
    }
   ],
   "source": [
    "client.send_reset_add_phase()\n",
    "client.send_correction(\"C:\\\\msys64\\\\home\\\\nilab\\\\projects\\\\NaCsSLM\\\\lib\\\\Cs_Correction_Patterns\\\\CAL_LSH0802977_1064nm.bmp\")\n",
    "\n",
    "client.send_zernike_poly(np.array([[2,1,16],[2,0,0],[2,2,0],[3,2,0],[3,1,0],[4,2,0],[1,1,0],[1,0,0]]))# notice = client.send_zernike_poly(np.array([[1,0,0],[1,1,0],[2,1,0],[2,2,0],[2,0,-20],[3,0,0],[3,2,0],[3,1,0],[3,3,0],[4,2,0]]))# oridginal \n",
    "client.send_use_aperture(np.array([512]))\n",
    "client.send_slm_amplitude('gaussian', np.array([512.0]), np.array([512.0]))  # noted it has to be a float instead of interger \n",
    "client.send_project()"
   ]
  },
  {
   "cell_type": "code",
   "execution_count": 66,
   "id": "8853caf9",
   "metadata": {},
   "outputs": [
    {
     "data": {
      "text/plain": [
       "[386, 305]"
      ]
     },
     "execution_count": 66,
     "metadata": {},
     "output_type": "execute_result"
    }
   ],
   "source": [
    "[362+43-19,347-42]"
   ]
  },
  {
   "cell_type": "code",
   "execution_count": 49,
   "id": "ec1a342b",
   "metadata": {},
   "outputs": [],
   "source": [
    "angle = 2*(2*np.pi)/360"
   ]
  },
  {
   "cell_type": "code",
   "execution_count": 86,
   "id": "0dd6144a",
   "metadata": {},
   "outputs": [
    {
     "name": "stdout",
     "output_type": "stream",
     "text": [
      "20250306_185023\n",
      "20250306_185026\n",
      "20250306_185026\n",
      "20250306_185026\n",
      "20250306_185026\n"
     ]
    },
    {
     "data": {
      "text/plain": [
       "['base: C:\\\\msys64\\\\home\\\\nilab\\\\projects\\\\NaCsSLM\\\\lib\\\\Cs_pattern\\\\20250306_1852208x8Cs_6x6spacing_newalignment additional: file_correction:C:\\\\msys64\\\\home\\\\nilab\\\\projects\\\\NaCsSLM\\\\lib\\\\Cs_Correction_Patterns\\\\CAL_LSH0802977_1064nm.bmp,zernike:[((2, 1), 14.0), ((2, 0), 0.0), ((2, 2), 0.0), ((3, 2), 0.0), ((3, 1), 0.0), ((4, 2), 0.0), ((1, 1), 0.0), ((1, 0), 0.0)], aperture: [512. 512.]']"
      ]
     },
     "execution_count": 86,
     "metadata": {},
     "output_type": "execute_result"
    }
   ],
   "source": [
    "targets,target_amps = utils.gen_square_targets([8,8], [6,6], angle, [386-60,305-60])\n",
    "k_array = andor_to_k_new(targets)\n",
    "target_file_name = '8x8Cs_6x6spacing_newalignment'\n",
    "client.calculate_save_and_project(k_array, target_amps, 80 , \"C:\\\\msys64\\\\home\\\\nilab\\\\projects\\\\NaCsSLM\\\\lib\\\\Cs_pattern\", target_file_name,guess_phase_path='C:\\\\msys64\\\\home\\\\nilab\\\\projects\\\\NaCsSLM\\\\lib\\\\Cs_pattern\\\\20250304_1336368x8Cs_5x5pixels')\n",
    "client.send_get_current_phase_info()"
   ]
  },
  {
   "cell_type": "code",
   "execution_count": 8,
   "id": "4d672afe",
   "metadata": {},
   "outputs": [],
   "source": [
    "A_matrix = np.array([[-1.3516308 ,  0.88421147],\n",
    "       [ 0.8735573 ,  1.35376453]])\n",
    "b_vec = np.array([[1258.8281393 ],\n",
    "       [ 280.46428624]])\n",
    "def andor_to_k_new(x):\n",
    "    A = A_matrix\n",
    "    b = b_vec\n",
    "    targets = np.matmul(A,x)+b\n",
    "    return targets\n",
    "\n",
    "def andor_to_img(targets, center):\n",
    "    x_array = targets\n",
    "    ntargets = x_array.shape[1]\n",
    "    firstcoord_center = center[0]\n",
    "    secondcoord_center = center[1]\n",
    "    #subtract off center and reflect second coord, then round and cast to int\n",
    "    x_array_cam = np.round((x_array - np.array([np.ones((ntargets))*firstcoord_center,np.ones((ntargets))*secondcoord_center]))*np.array([[1],[-1]])).astype(int)\n",
    "    x_array_cam[[0, 1]] = x_array_cam[[1, 0]]\n",
    "    return x_array_cam"
   ]
  },
  {
   "cell_type": "code",
   "execution_count": 13,
   "id": "58805d80",
   "metadata": {},
   "outputs": [
    {
     "name": "stdout",
     "output_type": "stream",
     "text": [
      "20250304_133454\n",
      "20250304_133457\n",
      "20250304_133457\n",
      "20250304_133457\n",
      "20250304_133457\n"
     ]
    },
    {
     "data": {
      "text/plain": [
       "['base: C:\\\\msys64\\\\home\\\\nilab\\\\projects\\\\NaCsSLM\\\\lib\\\\Cs_pattern\\\\20250304_1336368x8Cs_5x5pixels additional: file_correction:C:\\\\msys64\\\\home\\\\nilab\\\\projects\\\\NaCsSLM\\\\lib\\\\Cs_Correction_Patterns\\\\CAL_LSH0802977_1064nm.bmp,zernike:[((2, 1), 15.0), ((2, 0), 0.0), ((2, 2), 0.0)], aperture: None']"
      ]
     },
     "execution_count": 13,
     "metadata": {},
     "output_type": "execute_result"
    }
   ],
   "source": [
    "targets,target_amps = utils.gen_square_targets([8,8], [5,5], 0, [362,347])\n",
    "k_array = andor_to_k_new(targets)\n",
    "target_file_name = '8x8Cs_6x6pixels'\n",
    "client.calculate_save_and_project(k_array, target_amps, 20, \"C:\\\\msys64\\\\home\\\\nilab\\\\projects\\\\NaCsSLM\\\\lib\\\\Cs_pattern\", target_file_name)\n",
    "client.send_get_current_phase_info()"
   ]
  },
  {
   "cell_type": "code",
   "execution_count": 61,
   "id": "91633fff",
   "metadata": {},
   "outputs": [
    {
     "name": "stdout",
     "output_type": "stream",
     "text": [
      "[[-21 -21 -21 -21 -21 -21 -21 -21 -15 -15 -15 -15 -15 -15 -15 -15  -9  -9   -9  -9  -9  -9  -9  -9  -3  -3  -3  -3  -3  -3  -3  -3   3   3   3   3    3   3   3   3   9   9   9   9   9   9   9   9  15  15  15  15  15  15   15  15  21  21  21  21  21  21  21  21] [-21 -15  -9  -3   3   9  15  21 -21 -15  -9  -3   3   9  15  21 -21 -15   -9  -3   3   9  15  21 -21 -15  -9  -3   3   9  15  21 -21 -15  -9  -3    3   9  15  21 -21 -15  -9  -3   3   9  15  21 -21 -15  -9  -3   3   9   15  21 -21 -15  -9  -3   3   9  15  21]]\n"
     ]
    }
   ],
   "source": [
    "#targets,target_amps = utils.gen_square_targets([4,10], [10,10], 0, [362,347])\n",
    "#print(str(andor_to_img(targets, [362, 347])).replace(\"\\n\", \"\"))\n",
    "targets,target_amps = utils.gen_square_targets([8,8], [6,6], 0, [362+43-19,347-42])\n",
    "print(str(andor_to_img(targets, [362+43-19,347-42])).replace(\"\\n\", \"\"))"
   ]
  },
  {
   "cell_type": "code",
   "execution_count": 4,
   "id": "c7b6cf64",
   "metadata": {},
   "outputs": [
    {
     "name": "stdout",
     "output_type": "stream",
     "text": [
      "20250306_105050\n",
      "20250306_105051\n",
      "20250306_105051\n"
     ]
    },
    {
     "data": {
      "text/plain": [
       "['base: C:\\\\msys64\\\\home\\\\nilab\\\\projects\\\\NaCsSLM\\\\lib\\\\Cs_pattern\\\\20250305_1825598x8Cs_8x8pixels_iteration80_tightgaussian additional: file_correction:C:\\\\msys64\\\\home\\\\nilab\\\\projects\\\\NaCsSLM\\\\lib\\\\Cs_Correction_Patterns\\\\CAL_LSH0802977_1064nm.bmp,zernike:[((2, 1), 15.0), ((2, 0), 0.0), ((2, 2), 0.0), ((3, 2), 0.0), ((3, 1), 0.0), ((4, 2), 0.0), ((1, 1), 0.0), ((1, 0), 0.0)], aperture: [512. 512.]']"
      ]
     },
     "execution_count": 4,
     "metadata": {},
     "output_type": "execute_result"
    }
   ],
   "source": [
    "client.load_and_project('C:\\\\msys64\\\\home\\\\nilab\\\\projects\\\\NaCsSLM\\\\lib\\\\Cs_pattern\\\\20250305_1825598x8Cs_8x8pixels_iteration80_tightgaussian')\n",
    "client.send_get_current_phase_info()"
   ]
  },
  {
   "cell_type": "markdown",
   "id": "f3136241",
   "metadata": {},
   "source": [
    "## 2/13 -- Continued"
   ]
  },
  {
   "cell_type": "code",
   "execution_count": 83,
   "id": "c79b1cad",
   "metadata": {},
   "outputs": [
    {
     "name": "stdout",
     "output_type": "stream",
     "text": [
      "20250304_172728\n",
      "20250304_172728\n",
      "20250304_172728\n",
      "20250304_172728\n",
      "20250304_172728\n"
     ]
    },
    {
     "data": {
      "text/plain": [
       "['base: C:\\\\msys64\\\\home\\\\nilab\\\\projects\\\\NaCsSLM\\\\lib\\\\Cs_pattern\\\\20250304_1336368x8Cs_5x5pixels additional: file_correction:C:\\\\msys64\\\\home\\\\nilab\\\\projects\\\\NaCsSLM\\\\lib\\\\Cs_Correction_Patterns\\\\CAL_LSH0802977_1064nm.bmp,zernike:[((2, 1), 0.0), ((2, 0), 0.0), ((2, 2), 0.0), ((3, 2), 0.0), ((3, 1), 0.0), ((4, 2), 0.0)], aperture: None']"
      ]
     },
     "execution_count": 83,
     "metadata": {},
     "output_type": "execute_result"
    }
   ],
   "source": [
    "client.send_reset_add_phase()\n",
    "client.send_correction(\"C:\\\\msys64\\\\home\\\\nilab\\\\projects\\\\NaCsSLM\\\\lib\\\\Cs_Correction_Patterns\\\\CAL_LSH0802977_1064nm.bmp\")\n",
    "\n",
    "client.send_zernike_poly(np.array([[2,1,0],[2,0,0],[2,2,0],[3,2,0],[3,1,0],[4,2,0]]))# notice = client.send_zernike_poly(np.array([[1,0,0],[1,1,0],[2,1,0],[2,2,0],[2,0,-20],[3,0,0],[3,2,0],[3,1,0],[3,3,0],[4,2,0]]))# oridginal \n",
    "client.send_project()\n",
    "client.send_get_current_phase_info()"
   ]
  },
  {
   "cell_type": "code",
   "execution_count": 30,
   "id": "35d64dfa",
   "metadata": {},
   "outputs": [
    {
     "name": "stdout",
     "output_type": "stream",
     "text": [
      "20250304_163457\n",
      "20250304_163457\n",
      "20250304_163457\n"
     ]
    },
    {
     "data": {
      "text/plain": [
       "['base: C:\\\\msys64\\\\home\\\\nilab\\\\projects\\\\NaCsSLM\\\\lib\\\\Cs_pattern\\\\20250304_1336368x8Cs_5x5pixels additional: file_correction:C:\\\\msys64\\\\home\\\\nilab\\\\projects\\\\NaCsSLM\\\\lib\\\\Cs_Correction_Patterns\\\\CAL_LSH0802977_1064nm.bmp,zernike:[((2, 1), 0.0), ((2, 0), 0.0), ((2, 2), 0.0)], aperture: None']"
      ]
     },
     "execution_count": 30,
     "metadata": {},
     "output_type": "execute_result"
    }
   ],
   "source": [
    "client.load_and_project('C:\\\\msys64\\\\home\\\\nilab\\\\projects\\\\NaCsSLM\\\\lib\\\\Cs_pattern\\\\20250304_1336368x8Cs_5x5pixels')\n",
    "client.send_get_current_phase_info()"
   ]
  },
  {
   "cell_type": "code",
   "execution_count": 89,
   "id": "030fc7a0",
   "metadata": {},
   "outputs": [
    {
     "data": {
      "text/plain": [
       "[1.0127,\n",
       " 1.0082,\n",
       " 1.0154,\n",
       " 1.0235,\n",
       " 1.0126,\n",
       " 1.1,\n",
       " 1.007,\n",
       " 1.0057,\n",
       " 1.0193,\n",
       " 0.97595,\n",
       " 1.0137,\n",
       " 0.90908,\n",
       " 0.94323,\n",
       " 0.835002,\n",
       " 1.0182,\n",
       " 1.0208,\n",
       " 1.0189,\n",
       " 0.8868240000000001,\n",
       " 1.0124,\n",
       " 0.894411,\n",
       " 0.8977320000000001,\n",
       " 0.8743770000000001,\n",
       " 1.0002,\n",
       " 0.87678,\n",
       " 1.0004,\n",
       " 0.98159,\n",
       " 0.99457,\n",
       " 1.12563,\n",
       " 0.99852,\n",
       " 1.0017,\n",
       " 1.0027,\n",
       " 0.9190800000000001,\n",
       " 0.98359,\n",
       " 0.90387,\n",
       " 1.0016,\n",
       " 1.0055,\n",
       " 1.0189,\n",
       " 1.002,\n",
       " 0.90153,\n",
       " 0.9118800000000001]"
      ]
     },
     "execution_count": 89,
     "metadata": {},
     "output_type": "execute_result"
    }
   ],
   "source": [
    "a"
   ]
  },
  {
   "cell_type": "code",
   "execution_count": 91,
   "id": "faa8be67",
   "metadata": {},
   "outputs": [
    {
     "name": "stdout",
     "output_type": "stream",
     "text": [
      "20250224_180051\n",
      "20250224_180053\n",
      "20250224_180053\n",
      "20250224_180054\n",
      "20250224_180054\n"
     ]
    },
    {
     "data": {
      "text/plain": [
       "['base: C:\\\\msys64\\\\home\\\\nilab\\\\projects\\\\NaCsSLM\\\\lib\\\\Cs_pattern\\\\20250224_1802084x10Cs_widespacing_take8 additional: file_correction:C:\\\\msys64\\\\home\\\\nilab\\\\projects\\\\NaCsSLM\\\\lib\\\\Cs_Correction_Patterns\\\\CAL_LSH0802977_1064nm.bmp,zernike:[((2, 1), 15.0), ((2, 0), -3.0), ((2, 2), 6.0)], aperture: None']"
      ]
     },
     "execution_count": 91,
     "metadata": {},
     "output_type": "execute_result"
    }
   ],
   "source": [
    "targets,target_amps = utils.gen_square_targets([4,10], [10,10], 0, [362,347])\n",
    "k_array = andor_to_k_new(targets)\n",
    "a = [1.0127,\n",
    " 1.0082,\n",
    " 1.0154,\n",
    " 1.0235,\n",
    " 1.0126,\n",
    " 1.1,\n",
    " 1.007,\n",
    " 1.0057,\n",
    " 1.0193,\n",
    " 0.97595,\n",
    " 1.0137,\n",
    " 0.90908,\n",
    " 0.94323,\n",
    " 0.835002,\n",
    " 1.0182,\n",
    " 1.0208,\n",
    " 1.0189,\n",
    " 0.8868240000000001,\n",
    " 1.0124,\n",
    " 0.894411,\n",
    " 0.8977320000000001,\n",
    " 0.8743770000000001,\n",
    " 1.0002,\n",
    " 0.87678,\n",
    " 1.0004,\n",
    " 0.98159,\n",
    " 0.99457,\n",
    " 1.12563,\n",
    " 0.99852,\n",
    " 1.0017,\n",
    " 1.0027,\n",
    " 0.9190800000000001,\n",
    " 0.98359,\n",
    " 0.90387,\n",
    " 1.0016,\n",
    " 1.0055,\n",
    " 1.0189,\n",
    " 1.002,\n",
    " 0.90153,\n",
    " 0.9118800000000001]\n",
    "notblastedsiteindex = [6,7,24,10,26,28,28,38,40]\n",
    "for i in notblastedsiteindex:\n",
    "#     print(target_amps[i-1])\n",
    "    a[i-1] = a[i-1]*0.95\n",
    "target_amps = np.array(a)\n",
    "target_file_name = '4x10Cs_widespacing_take8'\n",
    "client.calculate_save_and_project(k_array, target_amps, 20, \"C:\\\\msys64\\\\home\\\\nilab\\\\projects\\\\NaCsSLM\\\\lib\\\\Cs_pattern\", target_file_name,guess_phase_path = 'C:\\\\msys64\\\\home\\\\nilab\\\\projects\\\\NaCsSLM\\\\lib\\\\Cs_pattern\\\\20250224_1748214x10Cs_widespacing_take7')\n",
    "client.send_get_current_phase_info()"
   ]
  },
  {
   "cell_type": "markdown",
   "id": "afeab42d",
   "metadata": {},
   "source": [
    "## 2/24 -- Generate 4x10 sparse array"
   ]
  },
  {
   "cell_type": "code",
   "execution_count": 66,
   "id": "0c881021",
   "metadata": {},
   "outputs": [
    {
     "name": "stdout",
     "output_type": "stream",
     "text": [
      "20250224_104248\n",
      "20250224_104251\n",
      "20250224_104251\n",
      "20250224_104251\n",
      "20250224_104251\n"
     ]
    },
    {
     "data": {
      "text/plain": [
       "['base: C:\\\\msys64\\\\home\\\\nilab\\\\projects\\\\NaCsSLM\\\\lib\\\\Cs_pattern\\\\20250224_1044074x10Cs_widespacing_take1 additional: file_correction:C:\\\\msys64\\\\home\\\\nilab\\\\projects\\\\NaCsSLM\\\\lib\\\\Cs_Correction_Patterns\\\\CAL_LSH0802977_1064nm.bmp,zernike:[((2, 1), 15.0), ((2, 0), 0.0), ((2, 2), 0.0)], aperture: None']"
      ]
     },
     "execution_count": 66,
     "metadata": {},
     "output_type": "execute_result"
    }
   ],
   "source": [
    "## 2/7\n",
    "# recalibration 11/11 \n",
    "A_matrix = np.array([[-1.3516308 ,  0.88421147],\n",
    "       [ 0.8735573 ,  1.35376453]])\n",
    "b_vec = np.array([[1258.8281393 ],\n",
    "       [ 280.46428624]])\n",
    "def andor_to_k_new(x):\n",
    "    A = A_matrix\n",
    "    b = b_vec\n",
    "    targets = np.matmul(A,x)+b\n",
    "    return targets\n",
    "targets,target_amps = utils.gen_square_targets([4,10], [10,10], 0, [362,347])\n",
    "k_array = andor_to_k_new(targets)\n",
    "target_file_name = '4x10Cs_widespacing_take1'\n",
    "client.calculate_save_and_project(k_array, target_amps, 20, \"C:\\\\msys64\\\\home\\\\nilab\\\\projects\\\\NaCsSLM\\\\lib\\\\Cs_pattern\", target_file_name)\n",
    "client.send_get_current_phase_info()"
   ]
  },
  {
   "cell_type": "code",
   "execution_count": 79,
   "id": "4d27ef76",
   "metadata": {
    "scrolled": true
   },
   "outputs": [
    {
     "name": "stdout",
     "output_type": "stream",
     "text": [
      "[[-55 -55 -55 -55 -45 -45 -45 -45 -35 -35 -35 -35 -25 -25 -25 -25 -15 -15  -15 -15  -5  -5  -5  -5   5   5   5   5  15  15  15  15  25  25  25  25   35  35  35  35] [-22 -12  -2   8 -22 -12  -2   8 -22 -12  -2   8 -22 -12  -2   8 -22 -12   -2   8 -22 -12  -2   8 -22 -12  -2   8 -22 -12  -2   8 -22 -12  -2   8  -22 -12  -2   8]]\n"
     ]
    }
   ],
   "source": [
    "targets,target_amps = utils.gen_square_targets([4,10], [10,10], 0, [362,347])\n",
    "def andor_to_img(targets, center):\n",
    "    x_array = targets\n",
    "    ntargets = x_array.shape[1]\n",
    "    firstcoord_center = center[0]\n",
    "    secondcoord_center = center[1]\n",
    "    #subtract off center and reflect second coord, then round and cast to int\n",
    "    x_array_cam = np.round((x_array - np.array([np.ones((ntargets))*firstcoord_center,np.ones((ntargets))*secondcoord_center]))*np.array([[1],[-1]])).astype(int)\n",
    "    x_array_cam[[0, 1]] = x_array_cam[[1, 0]]\n",
    "    return x_array_cam\n",
    "print(str(andor_to_img(targets, [369, 337])).replace(\"\\n\", \"\"))"
   ]
  },
  {
   "cell_type": "code",
   "execution_count": 67,
   "id": "30811097",
   "metadata": {},
   "outputs": [
    {
     "name": "stdout",
     "output_type": "stream",
     "text": [
      "20250224_104355\n",
      "20250224_104355\n"
     ]
    },
    {
     "data": {
      "text/plain": [
       "(['ok'], ['ok'])"
      ]
     },
     "execution_count": 67,
     "metadata": {},
     "output_type": "execute_result"
    }
   ],
   "source": [
    "client.load_and_project('C:\\\\msys64\\\\home\\\\nilab\\\\projects\\\\NaCsSLM\\\\lib\\\\Cs_pattern\\\\20250224_1030194x10Cs_widespacing_take1')"
   ]
  },
  {
   "cell_type": "code",
   "execution_count": 77,
   "id": "21814a0d",
   "metadata": {},
   "outputs": [
    {
     "name": "stdout",
     "output_type": "stream",
     "text": [
      "20250224_142723\n",
      "20250224_142723\n",
      "20250224_142723\n",
      "20250224_142723\n",
      "20250224_142723\n"
     ]
    },
    {
     "data": {
      "text/plain": [
       "['base: C:\\\\msys64\\\\home\\\\nilab\\\\projects\\\\NaCsSLM\\\\lib\\\\Cs_pattern\\\\20250224_1030194x10Cs_widespacing_take1 additional: file_correction:C:\\\\msys64\\\\home\\\\nilab\\\\projects\\\\NaCsSLM\\\\lib\\\\Cs_Correction_Patterns\\\\CAL_LSH0802977_1064nm.bmp,zernike:[((2, 1), 15.0), ((2, 0), -3.0), ((2, 2), 6.0)], aperture: None']"
      ]
     },
     "execution_count": 77,
     "metadata": {},
     "output_type": "execute_result"
    }
   ],
   "source": [
    "client.send_reset_add_phase()\n",
    "client.send_correction(\"C:\\\\msys64\\\\home\\\\nilab\\\\projects\\\\NaCsSLM\\\\lib\\\\Cs_Correction_Patterns\\\\CAL_LSH0802977_1064nm.bmp\")\n",
    "\n",
    "client.send_zernike_poly(np.array([[2,1,15],[2,0,-3],[2,2,6]]))# notice = client.send_zernike_poly(np.array([[1,0,0],[1,1,0],[2,1,0],[2,2,0],[2,0,-20],[3,0,0],[3,2,0],[3,1,0],[3,3,0],[4,2,0]]))# oridginal \n",
    "client.send_project()\n",
    "client.send_get_current_phase_info()"
   ]
  },
  {
   "cell_type": "markdown",
   "id": "8a08cbdb",
   "metadata": {},
   "source": [
    "## 2/11 -- Feedback"
   ]
  },
  {
   "cell_type": "code",
   "execution_count": 166,
   "id": "89c1bdc8",
   "metadata": {},
   "outputs": [
    {
     "name": "stdout",
     "output_type": "stream",
     "text": [
      "20250212_153445\n",
      "20250212_153448\n",
      "20250212_153448\n",
      "20250212_153448\n",
      "20250212_153448\n"
     ]
    },
    {
     "data": {
      "text/plain": [
       "['base: C:\\\\msys64\\\\home\\\\nilab\\\\projects\\\\NaCsSLM\\\\lib\\\\Cs_pattern\\\\20250212_1535404x10Cs_realigned additional: file_correction:C:\\\\msys64\\\\home\\\\nilab\\\\projects\\\\NaCsSLM\\\\lib\\\\Cs_Correction_Patterns\\\\CAL_LSH0802977_1064nm.bmp,zernike:[((2, 1), 15.0), ((2, 0), 0.0), ((2, 2), 0.0)], aperture: None']"
      ]
     },
     "execution_count": 166,
     "metadata": {},
     "output_type": "execute_result"
    }
   ],
   "source": [
    "targets,target_amps = utils.gen_square_targets([4,10], [7,10], 0, [366-17+7+11-7+9,349-2])\n",
    "k_array = andor_to_k_new(targets)\n",
    "target_file_name = '4x10Cs_realigned'\n",
    "client.calculate_save_and_project(k_array, target_amps, 20, \"C:\\\\msys64\\\\home\\\\nilab\\\\projects\\\\NaCsSLM\\\\lib\\\\Cs_pattern\", target_file_name)\n",
    "client.send_get_current_phase_info()"
   ]
  },
  {
   "cell_type": "code",
   "execution_count": 167,
   "id": "1d9af72b",
   "metadata": {},
   "outputs": [
    {
     "name": "stdout",
     "output_type": "stream",
     "text": [
      "20250212_153450\n",
      "20250212_153450\n",
      "20250212_153450\n",
      "20250212_153450\n",
      "20250212_153450\n"
     ]
    },
    {
     "data": {
      "text/plain": [
       "['base: C:\\\\msys64\\\\home\\\\nilab\\\\projects\\\\NaCsSLM\\\\lib\\\\Cs_pattern\\\\20250212_1535404x10Cs_realigned additional: file_correction:C:\\\\msys64\\\\home\\\\nilab\\\\projects\\\\NaCsSLM\\\\lib\\\\Cs_Correction_Patterns\\\\CAL_LSH0802977_1064nm.bmp,zernike:[((2, 1), 15.0), ((2, 0), 0.0), ((2, 2), 0.0)], aperture: None']"
      ]
     },
     "execution_count": 167,
     "metadata": {},
     "output_type": "execute_result"
    }
   ],
   "source": [
    "client.send_reset_add_phase()\n",
    "client.send_correction(\"C:\\\\msys64\\\\home\\\\nilab\\\\projects\\\\NaCsSLM\\\\lib\\\\Cs_Correction_Patterns\\\\CAL_LSH0802977_1064nm.bmp\")\n",
    "\n",
    "client.send_zernike_poly(np.array([[2,1,15],[2,0,0],[2,2,0]]))# notice = client.send_zernike_poly(np.array([[1,0,0],[1,1,0],[2,1,0],[2,2,0],[2,0,-20],[3,0,0],[3,2,0],[3,1,0],[3,3,0],[4,2,0]]))# oridginal \n",
    "client.send_project()\n",
    "client.send_get_current_phase_info()"
   ]
  },
  {
   "cell_type": "code",
   "execution_count": 168,
   "id": "57eb04d9",
   "metadata": {},
   "outputs": [],
   "source": [
    "target_amps = np.ones(40)\n",
    "target_amps[9] = 0.9\n",
    "target_amps[26] = 0.9\n",
    "target_amps[27] = 0.9\n",
    "target_amps[31] = 0.9\n",
    "target_amps[33] = 0.9\n",
    "target_amps[34] = 0.9\n",
    "target_amps[37] = 0.9"
   ]
  },
  {
   "cell_type": "code",
   "execution_count": 194,
   "id": "4322a128",
   "metadata": {},
   "outputs": [],
   "source": [
    "target_amps = np.array([1.0127,0.99969,1.0137,1.0082,1.0127,1.0165,1.0011,0.98741,1.002,0.99038,1.0033,1.0087,1.0009,0.99774,0.99048,0.99285,1.0095,1.0069,1.0055,1.0019,1.0144,0.99585,1.0089,0.99991,1.0033,1.0008,0.99442,0.99115,1.0088,0.99289,0.99378,0.97362,0.99933,0.99736,0.97958,0.99651,1.0072,0.99756,0.99899,0.98673])\n",
    "target_amps[5] = 1.15\n",
    "target_amps[34] = 0.8"
   ]
  },
  {
   "cell_type": "code",
   "execution_count": 195,
   "id": "40e4cb11",
   "metadata": {},
   "outputs": [
    {
     "name": "stdout",
     "output_type": "stream",
     "text": [
      "20250212_182127\n",
      "20250212_182129\n",
      "20250212_182129\n",
      "20250212_182130\n",
      "20250212_182130\n"
     ]
    },
    {
     "data": {
      "text/plain": [
       "['base: C:\\\\msys64\\\\home\\\\nilab\\\\projects\\\\NaCsSLM\\\\lib\\\\Cs_pattern\\\\20250212_1823224x10Cs_realigned_rd8 additional: file_correction:C:\\\\msys64\\\\home\\\\nilab\\\\projects\\\\NaCsSLM\\\\lib\\\\Cs_Correction_Patterns\\\\CAL_LSH0802977_1064nm.bmp,zernike:[((2, 1), 15.0), ((2, 0), 0.0), ((2, 2), 0.0)], aperture: None']"
      ]
     },
     "execution_count": 195,
     "metadata": {},
     "output_type": "execute_result"
    }
   ],
   "source": [
    "target_file_name = '4x10Cs_realigned_rd8'\n",
    "client.calculate_save_and_project(k_array, target_amps, 20, \"C:\\\\msys64\\\\home\\\\nilab\\\\projects\\\\NaCsSLM\\\\lib\\\\Cs_pattern\", target_file_name, guess_phase_path = 'C:\\\\msys64\\\\home\\\\nilab\\\\projects\\\\NaCsSLM\\\\lib\\\\Cs_pattern\\\\20250212_1748464x10Cs_realigned_rd7')\n",
    "client.send_get_current_phase_info()"
   ]
  },
  {
   "cell_type": "code",
   "execution_count": 159,
   "id": "532d7680",
   "metadata": {},
   "outputs": [
    {
     "data": {
      "text/plain": [
       "<matplotlib.collections.PathCollection at 0x176252e8fd0>"
      ]
     },
     "execution_count": 159,
     "metadata": {},
     "output_type": "execute_result"
    },
    {
     "data": {
      "image/png": "[encoded data removed]",
      "text/plain": [
       "<Figure size 640x480 with 1 Axes>"
      ]
     },
     "metadata": {},
     "output_type": "display_data"
    }
   ],
   "source": [
    "plt.scatter(k_array[0],k_array[1])"
   ]
  },
  {
   "cell_type": "code",
   "execution_count": 123,
   "id": "ad5d8613",
   "metadata": {},
   "outputs": [
    {
     "data": {
      "text/plain": [
       "array([1.0742 , 1.0431 , 0.9767 , 1.0209 , 1.0191 , 1.0103 , 0.80147,\n",
       "       1.009  , 1.0263 , 0.99553, 0.94505, 1.017  , 1.0885 , 0.94091,\n",
       "       1.023  , 1.0199 , 1.0636 , 1.0331 , 1.0274 , 1.0089 , 1.0111 ,\n",
       "       0.80064, 1.0223 , 0.94006, 0.99858, 0.99812, 0.99452, 1.0027 ,\n",
       "       0.98751, 1.0197 , 1.0505 , 0.97065, 0.99666, 0.98496, 1.0002 ,\n",
       "       0.96942, 1.0567 , 0.95494, 1.3531 , 0.97987])"
      ]
     },
     "execution_count": 123,
     "metadata": {},
     "output_type": "execute_result"
    }
   ],
   "source": [
    "# doubleloadingsiteindex = [31,35,36]\n",
    "# for i in doubleloadingsiteindex:\n",
    "# #     print(target_amps[i-1])\n",
    "#     target_amps[i-1] = target_amps[i-1]*0.95\n",
    "# lowloadingsiteindex = [4]\n",
    "# for i in lowloadingsiteindex:\n",
    "#     target_amps[i-1] = target_amps[i-1]*1.1\n",
    "\n",
    "target_amps = np.array([1.0742,1.0431,0.9767,1.0209,1.0191,1.0103,0.80147,1.009,1.0263,0.99553,0.94505,1.017,1.0885,0.94091,1.023,1.0199,1.0636,1.0331,1.0274,1.0089,1.0111,0.80064,1.0223,0.94006,0.99858,0.99812,0.99452,1.0027,0.98751,1.0197,1.0505,0.97065,0.99666,0.98496,1.0002,0.96942,1.0567,0.95494,1.3531,0.97987])\n",
    "\n",
    "#np.array([1.0494,0.98855,1.0207,1.0377,0.98566,1.0304,1.0129,1.0163,0.99543,1.0344,0.97405,1.042,0.88734,1.1808,1.0114,0.96996,0.99453,1.0162,1.015,1.0007,1.0119,1.028,0.90444,1.0021,0.98078,1.0358,1.0164,1.0285,0.99107,1.0388,0.95397,1.0129,0.97252,1.0091,0.95246,0.96893,0.95964,1.034,0.95737,0.95891])\n",
    "#np.array([1.1094,1.1185,0.98558,1.0403,1.0223,0.97802,0.95469,1.0246,1.0193,0.97019,0.91327,1.0449,1.1356,0.99098,1.0673,1.0419,1.1584,1.048,1.0655,1.014,1.0496,0.806,1.0179,0.79291,0.96355,1.0443,0.9994,1.0091,0.94753,0.99811,1.0443,1.0032,0.97021,0.9611,0.9741,0.92004,1.0617,0.92137,1.1205,0.93253])\n",
    "#np.array([1.0476,1.0402,0.93706,0.93605,0.95765,0.93542,0.85287,1.0049,1.0071,0.9565,0.90348,1.011,0.95839,0.97488,1.1147,1.034,1.4628,1.0059,1.0086,1.0105,1.0038,0.87033,0.98541,0.87593,0.93959,1.4543,0.97419,0.99962,0.86451,1.0689,1.06,1.0096,0.93661,0.91104,0.97101,1.1384,1.0442,0.90513,1.1824,1.1726])\n",
    "target_amps\n"
   ]
  },
  {
   "cell_type": "code",
   "execution_count": 152,
   "id": "a8dcf15f",
   "metadata": {},
   "outputs": [],
   "source": [
    "target_amps = np.ones(40)\n",
    "target_amps[17] = 0.85\n",
    "target_amps[18] = 0.85\n",
    "target_amps[30] = 0.85\n",
    "target_amps[34] = 0.85\n",
    "target_amps[35] = 0.85\n",
    "target_amps[39] = 0.85"
   ]
  },
  {
   "cell_type": "code",
   "execution_count": 153,
   "id": "f22cd8a3",
   "metadata": {},
   "outputs": [
    {
     "data": {
      "text/plain": [
       "array([1.  , 1.  , 1.  , 1.  , 1.  , 1.  , 1.  , 1.  , 1.  , 1.  , 1.  ,\n",
       "       1.  , 1.  , 1.  , 1.  , 1.  , 1.  , 0.85, 0.85, 1.  , 1.  , 1.  ,\n",
       "       1.  , 1.  , 1.  , 1.  , 1.  , 1.  , 1.  , 1.  , 0.85, 1.  , 1.  ,\n",
       "       1.  , 0.85, 0.85, 1.  , 1.  , 1.  , 0.85])"
      ]
     },
     "execution_count": 153,
     "metadata": {},
     "output_type": "execute_result"
    }
   ],
   "source": [
    "target_amps"
   ]
  },
  {
   "cell_type": "code",
   "execution_count": 154,
   "id": "d300381c",
   "metadata": {},
   "outputs": [],
   "source": [
    "target_file_name = '4x10Cs_rd10'\n",
    "# targets = np.array([0.90783,0.99184,1.0025,0.98786,0.90958,0.94597,0.99913,0.99399,0.97489,1.0134,1.0007,0.9981,1.0033,1.0309,0.997,0.99398,0.9816,1.0008,0.98438,1.0085,0.9587,0.97499,0.98268,1.0183,1.6137,1.0073,1.0042,1.0247,0.87933,0.97355,0.98931,1.0285,1.0291,1.0085,1.0353,1.0069,0.98179,1.0235,1.004,1.0118])"
   ]
  },
  {
   "cell_type": "code",
   "execution_count": 155,
   "id": "98d915bf",
   "metadata": {},
   "outputs": [
    {
     "name": "stdout",
     "output_type": "stream",
     "text": [
      "20250212_122854\n",
      "20250212_122857\n",
      "20250212_122857\n",
      "20250212_122857\n",
      "20250212_122857\n"
     ]
    },
    {
     "data": {
      "text/plain": [
       "['base: C:\\\\msys64\\\\home\\\\nilab\\\\projects\\\\NaCsSLM\\\\lib\\\\Cs_pattern\\\\20250212_1229504x10Cs_rd10 additional: file_correction:C:\\\\msys64\\\\home\\\\nilab\\\\projects\\\\NaCsSLM\\\\lib\\\\Cs_Correction_Patterns\\\\CAL_LSH0802977_1064nm.bmp,zernike:[((2, 1), 15.0), ((2, 0), -2.0), ((2, 2), 0.0)], aperture: None']"
      ]
     },
     "execution_count": 155,
     "metadata": {},
     "output_type": "execute_result"
    }
   ],
   "source": [
    "client.calculate_save_and_project(k_array, target_amps, 20, \"C:\\\\msys64\\\\home\\\\nilab\\\\projects\\\\NaCsSLM\\\\lib\\\\Cs_pattern\", target_file_name,guess_phase_path = 'C:\\\\msys64\\\\home\\\\nilab\\\\projects\\\\NaCsSLM\\\\lib\\\\Cs_pattern\\\\20250212_1221344x10Cs_rd9')\n",
    "client.send_get_current_phase_info()"
   ]
  },
  {
   "cell_type": "code",
   "execution_count": 137,
   "id": "b9fd9de7",
   "metadata": {},
   "outputs": [
    {
     "name": "stdout",
     "output_type": "stream",
     "text": [
      "20250212_114830\n",
      "20250212_114830\n",
      "20250212_114830\n",
      "20250212_114831\n",
      "20250212_114831\n"
     ]
    },
    {
     "data": {
      "text/plain": [
       "['base: C:\\\\msys64\\\\home\\\\nilab\\\\projects\\\\NaCsSLM\\\\lib\\\\Cs_pattern\\\\20250212_1020314x10Cs_rd8 additional: file_correction:C:\\\\msys64\\\\home\\\\nilab\\\\projects\\\\NaCsSLM\\\\lib\\\\Cs_Correction_Patterns\\\\CAL_LSH0802977_1064nm.bmp,zernike:[((2, 1), 15.0), ((2, 0), -2.0), ((2, 2), 0.0)], aperture: None']"
      ]
     },
     "execution_count": 137,
     "metadata": {},
     "output_type": "execute_result"
    }
   ],
   "source": [
    "client.send_reset_add_phase()\n",
    "client.send_correction(\"C:\\\\msys64\\\\home\\\\nilab\\\\projects\\\\NaCsSLM\\\\lib\\\\Cs_Correction_Patterns\\\\CAL_LSH0802977_1064nm.bmp\")\n",
    "\n",
    "client.send_zernike_poly(np.array([[2,1,15],[2,0,-2],[2,2,0]]))# notice = client.send_zernike_poly(np.array([[1,0,0],[1,1,0],[2,1,0],[2,2,0],[2,0,-20],[3,0,0],[3,2,0],[3,1,0],[3,3,0],[4,2,0]]))# oridginal \n",
    "client.send_project()\n",
    "client.send_get_current_phase_info()"
   ]
  },
  {
   "cell_type": "markdown",
   "id": "bc2dec5f",
   "metadata": {},
   "source": [
    "## Early Feb"
   ]
  },
  {
   "cell_type": "code",
   "execution_count": 77,
   "id": "eee98a62",
   "metadata": {},
   "outputs": [
    {
     "data": {
      "text/plain": [
       "array([1.32641285, 1.11019497, 0.89555453, 1.04908002, 1.22481993,\n",
       "       1.21137781, 0.9500353 , 0.94982536, 1.19791007, 0.87731257,\n",
       "       1.04830686, 1.02797442, 1.02890316, 0.69936093, 0.88776948,\n",
       "       1.06088595, 1.04913566, 0.90005805, 0.99795494, 0.91116052,\n",
       "       1.10590043, 0.97204109, 1.00439532, 0.85816268, 1.13904408,\n",
       "       0.87579896, 0.91876724, 0.78404376, 1.47830521, 1.18194747,\n",
       "       0.92326227, 0.69936093, 0.69936093, 0.82916161, 0.69936093,\n",
       "       0.69936093, 1.18197405, 0.69936093, 0.7770677 , 0.69936093])"
      ]
     },
     "execution_count": 77,
     "metadata": {},
     "output_type": "execute_result"
    }
   ],
   "source": [
    "targets,target_amps = utils.gen_square_targets([4,10], [7,10], 0, [366-17+7+11-7,349])\n",
    "target_file_name = \"4x10Cs\"\n",
    "k_array = andor_to_k_new(targets)\n",
    "target_amps = np.array([1.32641285, 1.11019497, 0.89555453, 1.04908002, 1.22481993,\n",
    "       1.21137781, 0.9500353 , 0.94982536, 1.19791007, 0.87731257,\n",
    "       1.04830686, 1.02797442, 1.02890316, 0.69936093, 0.88776948,\n",
    "       1.06088595, 1.04913566, 0.90005805, 0.99795494, 0.91116052,\n",
    "       1.10590043, 0.97204109, 1.00439532, 0.85816268, 1.13904408,\n",
    "       0.87579896, 0.91876724, 0.78404376, 1.47830521, 1.18194747,\n",
    "       0.92326227, 0.69936093, 0.69936093, 0.82916161, 0.69936093,\n",
    "       0.69936093, 1.18197405, 0.69936093, 0.7770677 , 0.69936093])\n",
    "target_amps"
   ]
  },
  {
   "cell_type": "code",
   "execution_count": 78,
   "id": "b27709aa",
   "metadata": {},
   "outputs": [
    {
     "name": "stdout",
     "output_type": "stream",
     "text": [
      "20250210_163214\n",
      "20250210_163217\n",
      "20250210_163217\n",
      "20250210_163217\n"
     ]
    },
    {
     "data": {
      "text/plain": [
       "('C:\\\\msys64\\\\home\\\\nilab\\\\projects\\\\NaCsSLM\\\\lib\\\\Cs_pattern\\\\20250210_1633184x10Cs_config.yml',\n",
       " 'C:\\\\msys64\\\\home\\\\nilab\\\\projects\\\\NaCsSLM\\\\lib\\\\Cs_pattern\\\\20250210_1633184x10Cs_data.npz',\n",
       " ['ok'],\n",
       " ['ok'])"
      ]
     },
     "execution_count": 78,
     "metadata": {},
     "output_type": "execute_result"
    }
   ],
   "source": [
    "client.calculate_save_and_project(k_array, target_amps, 20, \"C:\\\\msys64\\\\home\\\\nilab\\\\projects\\\\NaCsSLM\\\\lib\\\\Cs_pattern\", target_file_name,guess_phase_path = 'C:\\\\msys64\\\\home\\\\nilab\\\\projects\\\\NaCsSLM\\\\lib\\\\Cs_pattern\\\\20250208_2104034x10Cs')"
   ]
  },
  {
   "cell_type": "code",
   "execution_count": 72,
   "id": "01337962",
   "metadata": {},
   "outputs": [
    {
     "data": {
      "text/plain": [
       "array([1.19011106, 0.88304166, 0.89821968, 1.03036876, 1.96819819,\n",
       "       0.90247466, 0.84472356, 0.97898263, 1.02276809, 0.99890525,\n",
       "       1.56170456, 0.70277521, 0.85319854, 0.72022178, 0.75413336,\n",
       "       0.99711   , 1.22900038, 0.71116393, 0.9090145 , 0.82779691,\n",
       "       1.22633082, 0.80477341, 0.89391808, 0.58007801, 1.09720103,\n",
       "       0.89827797, 1.147095  , 0.82433464, 1.94711216, 1.88501282,\n",
       "       0.83906968, 0.69973961, 0.80232534, 0.85807136, 1.04325026,\n",
       "       0.96948179, 1.21364749, 0.73269527, 0.8913068 , 0.66236576])"
      ]
     },
     "execution_count": 72,
     "metadata": {},
     "output_type": "execute_result"
    }
   ],
   "source": [
    "##2/8 new round\n",
    "plateauvalue = np.array([1020.9 ,  757.49,  770.51,  883.87, 1205.97,  774.16,  724.62,\n",
    "        839.79,  877.35,  856.88,  956.9 ,  861.22,  731.89,  617.82,\n",
    "        646.91,  855.34, 1054.26,  610.05,  779.77,  710.1 , 1051.97,\n",
    "        690.35,  766.82,  710.86,  941.2 ,  770.56,  984.  ,  707.13,\n",
    "       1193.05, 1155.  ,  719.77,  600.25,  688.25,  736.07,  894.92,\n",
    "        831.64, 1041.09,  628.52,  764.58,  568.19])\n",
    "target_amps = (plateauvalue)\n",
    "doubleloadingsiteindex = [12,24]\n",
    "for i in doubleloadingsiteindex:\n",
    "#     print(target_amps[i-1])\n",
    "    target_amps[i-1] = target_amps[i-1]*0.7\n",
    "lowloadingsiteindex = [5,29,11,30]\n",
    "for i in lowloadingsiteindex:\n",
    "#     print(target_amps[i-1])\n",
    "    target_amps[i-1] = target_amps[i-1]*1.4\n",
    "# target_amps[29-1] = target_amps[29-1] *1.2\n",
    "target_amps = target_amps/np.mean(target_amps)#renormalize so that every term is close to 1\n",
    "target_amps"
   ]
  },
  {
   "cell_type": "code",
   "execution_count": 73,
   "id": "156f573d",
   "metadata": {},
   "outputs": [
    {
     "name": "stdout",
     "output_type": "stream",
     "text": [
      "20250208_210251\n",
      "20250208_210253\n",
      "20250208_210253\n",
      "20250208_210254\n"
     ]
    },
    {
     "data": {
      "text/plain": [
       "('C:\\\\msys64\\\\home\\\\nilab\\\\projects\\\\NaCsSLM\\\\lib\\\\Cs_pattern\\\\20250208_2104034x10Cs_config.yml',\n",
       " 'C:\\\\msys64\\\\home\\\\nilab\\\\projects\\\\NaCsSLM\\\\lib\\\\Cs_pattern\\\\20250208_2104034x10Cs_data.npz',\n",
       " ['ok'],\n",
       " ['ok'])"
      ]
     },
     "execution_count": 73,
     "metadata": {},
     "output_type": "execute_result"
    }
   ],
   "source": [
    "## 2/7\n",
    "# recalibration 11/11 \n",
    "A_matrix = np.array([[-1.3516308 ,  0.88421147],\n",
    "       [ 0.8735573 ,  1.35376453]])\n",
    "b_vec = np.array([[1258.8281393 ],\n",
    "       [ 280.46428624]])\n",
    "def andor_to_k_new(x):\n",
    "    A = A_matrix\n",
    "    b = b_vec\n",
    "    targets = np.matmul(A,x)+b\n",
    "    return targets\n",
    "targets,target_amps = utils.gen_square_targets([4,10], [7,10], 0, [366-17+7+11-7,349])\n",
    "target_file_name = \"4x10Cs\"\n",
    "k_array = andor_to_k_new(targets)\n",
    "client.calculate_save_and_project(k_array, target_amps, 20, \"C:\\\\msys64\\\\home\\\\nilab\\\\projects\\\\NaCsSLM\\\\lib\\\\Cs_pattern\", target_file_name,guess_phase_path = 'C:\\\\msys64\\\\home\\\\nilab\\\\projects\\\\NaCsSLM\\\\lib\\\\Cs_pattern\\\\20250208_2057164x10Cs')"
   ]
  },
  {
   "cell_type": "code",
   "execution_count": 160,
   "id": "aba3a921",
   "metadata": {},
   "outputs": [
    {
     "data": {
      "text/plain": [
       "array([[349.5, 356.5, 363.5, 370.5, 349.5, 356.5, 363.5, 370.5, 349.5,\n",
       "        356.5, 363.5, 370.5, 349.5, 356.5, 363.5, 370.5, 349.5, 356.5,\n",
       "        363.5, 370.5, 349.5, 356.5, 363.5, 370.5, 349.5, 356.5, 363.5,\n",
       "        370.5, 349.5, 356.5, 363.5, 370.5, 349.5, 356.5, 363.5, 370.5,\n",
       "        349.5, 356.5, 363.5, 370.5],\n",
       "       [394. , 394. , 394. , 394. , 384. , 384. , 384. , 384. , 374. ,\n",
       "        374. , 374. , 374. , 364. , 364. , 364. , 364. , 354. , 354. ,\n",
       "        354. , 354. , 344. , 344. , 344. , 344. , 334. , 334. , 334. ,\n",
       "        334. , 324. , 324. , 324. , 324. , 314. , 314. , 314. , 314. ,\n",
       "        304. , 304. , 304. , 304. ]])"
      ]
     },
     "execution_count": 160,
     "metadata": {},
     "output_type": "execute_result"
    }
   ],
   "source": [
    "targets"
   ]
  },
  {
   "cell_type": "code",
   "execution_count": 42,
   "id": "4d1e48a0",
   "metadata": {},
   "outputs": [
    {
     "name": "stdout",
     "output_type": "stream",
     "text": [
      "[[-57 -57 -57 -57 -47 -47 -47 -47 -37 -37 -37 -37 -27 -27 -27 -27 -17 -17  -17 -17  -7  -7  -7  -7   3   3   3   3  13  13  13  13  23  23  23  23   33  33  33  33] [-20 -12  -6   2 -20 -12  -6   2 -20 -12  -6   2 -20 -12  -6   2 -20 -12   -6   2 -20 -12  -6   2 -20 -12  -6   2 -20 -12  -6   2 -20 -12  -6   2  -20 -12  -6   2]]\n"
     ]
    }
   ],
   "source": [
    "def andor_to_img(targets, center):\n",
    "    x_array = targets\n",
    "    ntargets = x_array.shape[1]\n",
    "    firstcoord_center = center[0]\n",
    "    secondcoord_center = center[1]\n",
    "    #subtract off center and reflect second coord, then round and cast to int\n",
    "    x_array_cam = np.round((x_array - np.array([np.ones((ntargets))*firstcoord_center,np.ones((ntargets))*secondcoord_center]))*np.array([[1],[-1]])).astype(int)\n",
    "    x_array_cam[[0, 1]] = x_array_cam[[1, 0]]\n",
    "    return x_array_cam\n",
    "print(str(andor_to_img(targets, [369, 337])).replace(\"\\n\", \"\"))"
   ]
  },
  {
   "cell_type": "markdown",
   "id": "dab7653b",
   "metadata": {},
   "source": [
    "## 1/17"
   ]
  },
  {
   "cell_type": "code",
   "execution_count": 35,
   "id": "6549c9ee",
   "metadata": {},
   "outputs": [
    {
     "name": "stdout",
     "output_type": "stream",
     "text": [
      "20250207_152755\n",
      "20250207_152755\n",
      "20250207_152755\n",
      "20250207_152756\n"
     ]
    },
    {
     "data": {
      "text/plain": [
       "['ok']"
      ]
     },
     "execution_count": 35,
     "metadata": {},
     "output_type": "execute_result"
    }
   ],
   "source": [
    "client.send_reset_add_phase()\n",
    "client.send_correction(\"C:\\\\msys64\\\\home\\\\nilab\\\\projects\\\\NaCsSLM\\\\lib\\\\Cs_Correction_Patterns\\\\CAL_LSH0802977_1064nm.bmp\")\n",
    "\n",
    "client.send_zernike_poly(np.array([[2,1,15],[2,0,0]]))# notice = client.send_zernike_poly(np.array([[1,0,0],[1,1,0],[2,1,0],[2,2,0],[2,0,-20],[3,0,0],[3,2,0],[3,1,0],[3,3,0],[4,2,0]]))# oridginal \n",
    "client.send_project()"
   ]
  },
  {
   "cell_type": "code",
   "execution_count": 26,
   "id": "38bdc601",
   "metadata": {},
   "outputs": [
    {
     "name": "stdout",
     "output_type": "stream",
     "text": [
      "20250207_140958\n",
      "20250207_140959\n"
     ]
    },
    {
     "data": {
      "text/plain": [
       "(['ok'], ['ok'])"
      ]
     },
     "execution_count": 26,
     "metadata": {},
     "output_type": "execute_result"
    }
   ],
   "source": [
    "client.load_and_project('C:\\\\msys64\\\\home\\\\nilab\\\\projects\\\\NaCsSLM\\\\lib\\\\Cs_pattern\\\\20240521_1241143x18_small_spacing_newsinc')"
   ]
  },
  {
   "cell_type": "code",
   "execution_count": 129,
   "id": "60de0bc1",
   "metadata": {},
   "outputs": [
    {
     "name": "stdout",
     "output_type": "stream",
     "text": [
      "20250117_104126\n",
      "20250117_104126\n"
     ]
    },
    {
     "data": {
      "text/plain": [
       "(['ok'], ['ok'])"
      ]
     },
     "execution_count": 129,
     "metadata": {},
     "output_type": "execute_result"
    }
   ],
   "source": [
    "client.load_and_project(\"C:\\\\msys64\\\\home\\\\nilab\\\\projects\\\\NaCsSLM\\\\lib\\\\Cs_pattern\\\\20250115_15213810x1Cs_horizontal_pairs\")"
   ]
  },
  {
   "cell_type": "code",
   "execution_count": 160,
   "id": "25d48897",
   "metadata": {},
   "outputs": [
    {
     "name": "stdout",
     "output_type": "stream",
     "text": [
      "20250117_174120\n",
      "20250117_174123\n",
      "20250117_174123\n",
      "20250117_174123\n"
     ]
    },
    {
     "data": {
      "text/plain": [
       "('C:\\\\msys64\\\\home\\\\nilab\\\\projects\\\\NaCsSLM\\\\lib\\\\Cs_pattern\\\\20250117_1742292x10Cs_spacing10_config.yml',\n",
       " 'C:\\\\msys64\\\\home\\\\nilab\\\\projects\\\\NaCsSLM\\\\lib\\\\Cs_pattern\\\\20250117_1742292x10Cs_spacing10_data.npz',\n",
       " ['ok'],\n",
       " ['ok'])"
      ]
     },
     "execution_count": 160,
     "metadata": {},
     "output_type": "execute_result"
    }
   ],
   "source": [
    "targets,target_amps = utils.gen_square_targets([2,10], [10,10], 0, [366-17+7+11,349])\n",
    "target_file_name = \"2x10Cs_spacing10\"\n",
    "k_array = andor_to_k_new(targets)\n",
    "client.calculate_save_and_project(k_array, target_amps, 20, \"C:\\\\msys64\\\\home\\\\nilab\\\\projects\\\\NaCsSLM\\\\lib\\\\Cs_pattern\", target_file_name)"
   ]
  },
  {
   "cell_type": "code",
   "execution_count": 161,
   "id": "f9686117",
   "metadata": {},
   "outputs": [
    {
     "data": {
      "text/plain": [
       "array([[-57, -57, -47, -47, -37, -37, -27, -27, -17, -17,  -7,  -7,   3,\n",
       "          3,  13,  13,  23,  23,  33,  33],\n",
       "       [ -7,   3,  -7,   3,  -7,   3,  -7,   3,  -7,   3,  -7,   3,  -7,\n",
       "          3,  -7,   3,  -7,   3,  -7,   3]])"
      ]
     },
     "execution_count": 161,
     "metadata": {},
     "output_type": "execute_result"
    }
   ],
   "source": [
    "andor_to_img(targets, [369, 337])"
   ]
  },
  {
   "cell_type": "code",
   "execution_count": 43,
   "id": "d3729498",
   "metadata": {},
   "outputs": [
    {
     "name": "stdout",
     "output_type": "stream",
     "text": [
      "20250207_154334\n"
     ]
    },
    {
     "data": {
      "text/plain": [
       "['base: C:\\\\msys64\\\\home\\\\nilab\\\\projects\\\\NaCsSLM\\\\lib\\\\Cs_pattern\\\\20250207_1537234x10Cs additional: file_correction:C:\\\\msys64\\\\home\\\\nilab\\\\projects\\\\NaCsSLM\\\\lib\\\\Cs_Correction_Patterns\\\\CAL_LSH0802977_1064nm.bmp,zernike:[((2, 1), 15.0), ((2, 0), 0.0)], aperture: None']"
      ]
     },
     "execution_count": 43,
     "metadata": {},
     "output_type": "execute_result"
    }
   ],
   "source": [
    "client.send_get_current_phase_info()\n"
   ]
  },
  {
   "cell_type": "markdown",
   "id": "edf111a5",
   "metadata": {},
   "source": [
    "## 1/16"
   ]
  },
  {
   "cell_type": "code",
   "execution_count": 123,
   "id": "58afef8b",
   "metadata": {},
   "outputs": [
    {
     "name": "stdout",
     "output_type": "stream",
     "text": [
      "20250115_182410\n",
      "20250115_182412\n",
      "20250115_182413\n",
      "20250115_182413\n"
     ]
    },
    {
     "data": {
      "text/plain": [
       "('C:\\\\msys64\\\\home\\\\nilab\\\\projects\\\\NaCsSLM\\\\lib\\\\Cs_pattern\\\\20250115_18251010x1Cs_horizontal_pairs_leftshift1_config.yml',\n",
       " 'C:\\\\msys64\\\\home\\\\nilab\\\\projects\\\\NaCsSLM\\\\lib\\\\Cs_pattern\\\\20250115_18251010x1Cs_horizontal_pairs_leftshift1_data.npz',\n",
       " ['ok'],\n",
       " ['ok'])"
      ]
     },
     "execution_count": 123,
     "metadata": {},
     "output_type": "execute_result"
    }
   ],
   "source": [
    "targets,target_amps = utils.gen_square_targets([1,10], [22,22], 0, [366-17+7+15+1,337-3])\n",
    "target_file_name = \"10x1Cs_horizontal_pairs_leftshift1\"\n",
    "k_array = andor_to_k_new(targets)\n",
    "client.calculate_save_and_project(k_array, target_amps, 20, \"C:\\\\msys64\\\\home\\\\nilab\\\\projects\\\\NaCsSLM\\\\lib\\\\Cs_pattern\", target_file_name)"
   ]
  },
  {
   "cell_type": "markdown",
   "id": "45e2b270",
   "metadata": {},
   "source": [
    "## 1/15"
   ]
  },
  {
   "cell_type": "code",
   "execution_count": 117,
   "id": "db345fc8",
   "metadata": {},
   "outputs": [
    {
     "name": "stdout",
     "output_type": "stream",
     "text": [
      "20250115_152038\n",
      "20250115_152040\n",
      "20250115_152040\n",
      "20250115_152041\n"
     ]
    },
    {
     "data": {
      "text/plain": [
       "('C:\\\\msys64\\\\home\\\\nilab\\\\projects\\\\NaCsSLM\\\\lib\\\\Cs_pattern\\\\20250115_15213810x1Cs_horizontal_pairs_config.yml',\n",
       " 'C:\\\\msys64\\\\home\\\\nilab\\\\projects\\\\NaCsSLM\\\\lib\\\\Cs_pattern\\\\20250115_15213810x1Cs_horizontal_pairs_data.npz',\n",
       " ['ok'],\n",
       " ['ok'])"
      ]
     },
     "execution_count": 117,
     "metadata": {},
     "output_type": "execute_result"
    }
   ],
   "source": [
    "targets,target_amps = utils.gen_square_targets([1,10], [22,22], 0, [366-17+7+15+1,337-4])\n",
    "target_file_name = \"10x1Cs_horizontal_pairs\"\n",
    "k_array = andor_to_k_new(targets)\n",
    "client.calculate_save_and_project(k_array, target_amps, 20, \"C:\\\\msys64\\\\home\\\\nilab\\\\projects\\\\NaCsSLM\\\\lib\\\\Cs_pattern\", target_file_name)"
   ]
  },
  {
   "cell_type": "code",
   "execution_count": 119,
   "id": "5f59f25f",
   "metadata": {},
   "outputs": [
    {
     "data": {
      "text/plain": [
       "array([[-95, -73, -51, -29,  -7,  15,  37,  59,  81, 103],\n",
       "       [  3,   3,   3,   3,   3,   3,   3,   3,   3,   3]])"
      ]
     },
     "execution_count": 119,
     "metadata": {},
     "output_type": "execute_result"
    }
   ],
   "source": []
  },
  {
   "cell_type": "code",
   "execution_count": 115,
   "id": "a86c5ac8",
   "metadata": {},
   "outputs": [
    {
     "data": {
      "text/plain": [
       "372"
      ]
     },
     "execution_count": 115,
     "metadata": {},
     "output_type": "execute_result"
    }
   ],
   "source": [
    "366-17+7+15+1"
   ]
  },
  {
   "cell_type": "markdown",
   "id": "944f47ca",
   "metadata": {},
   "source": [
    "## 1/14"
   ]
  },
  {
   "cell_type": "code",
   "execution_count": 101,
   "id": "59cd1148",
   "metadata": {},
   "outputs": [
    {
     "name": "stdout",
     "output_type": "stream",
     "text": [
      "20250114_163525\n",
      "20250114_163528\n",
      "20250114_163528\n",
      "20250114_163528\n"
     ]
    },
    {
     "data": {
      "text/plain": [
       "('C:\\\\msys64\\\\home\\\\nilab\\\\projects\\\\NaCsSLM\\\\lib\\\\Cs_pattern\\\\20250114_16363010x1Cs_basepattern_config.yml',\n",
       " 'C:\\\\msys64\\\\home\\\\nilab\\\\projects\\\\NaCsSLM\\\\lib\\\\Cs_pattern\\\\20250114_16363010x1Cs_basepattern_data.npz',\n",
       " ['ok'],\n",
       " ['ok'])"
      ]
     },
     "execution_count": 101,
     "metadata": {},
     "output_type": "execute_result"
    }
   ],
   "source": [
    "targets,target_amps = utils.gen_square_targets([1,10], [12,12], 0, [366-17+7+15+1,337-4])\n",
    "target_file_name = \"10x1Cs_basepattern\"\n",
    "k_array = andor_to_k_new(targets)\n",
    "client.calculate_save_and_project(k_array, target_amps, 20, \"C:\\\\msys64\\\\home\\\\nilab\\\\projects\\\\NaCsSLM\\\\lib\\\\Cs_pattern\", target_file_name)"
   ]
  },
  {
   "cell_type": "code",
   "execution_count": 124,
   "id": "f0d554c8",
   "metadata": {},
   "outputs": [
    {
     "name": "stdout",
     "output_type": "stream",
     "text": [
      "20250115_182549\n"
     ]
    },
    {
     "data": {
      "text/plain": [
       "['base: C:\\\\msys64\\\\home\\\\nilab\\\\projects\\\\NaCsSLM\\\\lib\\\\Cs_pattern\\\\20250115_18251010x1Cs_horizontal_pairs_leftshift1 additional: file_correction:C:\\\\msys64\\\\home\\\\nilab\\\\projects\\\\NaCsSLM\\\\lib\\\\Cs_Correction_Patterns\\\\CAL_LSH0802977_1064nm.bmp,zernike:[((2, 1), 13.0)],zernike:[((2, 0), -4.0)],zernike:[((2, 2), -4.0)], aperture: None']"
      ]
     },
     "execution_count": 124,
     "metadata": {},
     "output_type": "execute_result"
    }
   ],
   "source": [
    "client.send_get_current_phase_info()"
   ]
  },
  {
   "cell_type": "code",
   "execution_count": 94,
   "id": "8c00eec9",
   "metadata": {},
   "outputs": [
    {
     "name": "stdout",
     "output_type": "stream",
     "text": [
      "20250114_153128\n",
      "20250114_153128\n",
      "20250114_153128\n",
      "20250114_153128\n",
      "20250114_153128\n",
      "20250114_153128\n"
     ]
    },
    {
     "data": {
      "text/plain": [
       "['ok']"
      ]
     },
     "execution_count": 94,
     "metadata": {},
     "output_type": "execute_result"
    }
   ],
   "source": [
    "client.send_reset_add_phase()\n",
    "client.send_correction(\"C:\\\\msys64\\\\home\\\\nilab\\\\projects\\\\NaCsSLM\\\\lib\\\\Cs_Correction_Patterns\\\\CAL_LSH0802977_1064nm.bmp\")\n",
    "\n",
    "client.send_zernike_poly(np.array([[2,1,13]]))# notice = client.send_zernike_poly(np.array([[1,0,0],[1,1,0],[2,1,0],[2,2,0],[2,0,-20],[3,0,0],[3,2,0],[3,1,0],[3,3,0],[4,2,0]]))# oridginal \n",
    "client.send_zernike_poly(np.array([[2,0,-4]]))# notice = client.send_zernike_poly(np.array([[1,0,0],[1,1,0],[2,1,0],[2,2,0],[2,0,-20],[3,0,0],[3,2,0],[3,1,0],[3,3,0],[4,2,0]]))# oridginal \n",
    "client.send_zernike_poly(np.array([[2,2,-4]]))# notice = client.send_zernike_poly(np.array([[1,0,0],[1,1,0],[2,1,0],[2,2,0],[2,0,-20],[3,0,0],[3,2,0],[3,1,0],[3,3,0],[4,2,0]]))# oridginal \n",
    "client.send_project()"
   ]
  },
  {
   "cell_type": "markdown",
   "id": "238e14f7",
   "metadata": {},
   "source": [
    "First round of feedback: to be clear, targets[a,b] means site index b (0 indexed!) and a should be 0 for vertical and 1 for horizontal (relative to Andor camera image). The horizontal compensation is counter-intuitive in the sense that you should use positive compensation to push the Cs atoms to the left (negative direction on Andor)."
   ]
  },
  {
   "cell_type": "code",
   "execution_count": 112,
   "id": "9cb3e30e",
   "metadata": {},
   "outputs": [
    {
     "name": "stdout",
     "output_type": "stream",
     "text": [
      "20250114_181929\n",
      "20250114_181931\n",
      "20250114_181931\n",
      "20250114_181932\n"
     ]
    },
    {
     "data": {
      "text/plain": [
       "('C:\\\\msys64\\\\home\\\\nilab\\\\projects\\\\NaCsSLM\\\\lib\\\\Cs_pattern\\\\20250114_18203310x1Cs_manualrd3_config.yml',\n",
       " 'C:\\\\msys64\\\\home\\\\nilab\\\\projects\\\\NaCsSLM\\\\lib\\\\Cs_pattern\\\\20250114_18203310x1Cs_manualrd3_data.npz',\n",
       " ['ok'],\n",
       " ['ok'])"
      ]
     },
     "execution_count": 112,
     "metadata": {},
     "output_type": "execute_result"
    }
   ],
   "source": [
    "targets,target_amps = utils.gen_square_targets([1,10], [12,12], 0, [366-17+7+15+1,337-4])\n",
    "target_file_name = \"10x1Cs_manualrd3\"\n",
    "\n",
    "#Corrections by site -- round 1\n",
    "targets[0,0] = targets[0,0] + 1 \n",
    "targets[0,1] = targets[0,1] + 1 \n",
    "targets[1,3] = targets[1,3] + 1 \n",
    "targets[1,5] = targets[1,5] + 1 \n",
    "targets[1,6] = targets[1,6] + 2\n",
    "targets[1,7] = targets[1,7] + 2\n",
    "targets[1,8] = targets[1,8] + 3\n",
    "targets[1,9] = targets[1,9] + 2\n",
    "\n",
    "#Corrections by site -- round 2\n",
    "targets[1,1] = targets[1,1] + 1 \n",
    "targets[1,2] = targets[1,2] + 1 \n",
    "targets[1,4] = targets[1,4] + 2 \n",
    "targets[1,5] = targets[1,5] + 1\n",
    "targets[0,6] = targets[0,6] -1\n",
    "targets[1,8] = targets[1,8] -1\n",
    "\n",
    "#Corrections by site -- round 3\n",
    "targets[0,4] = targets[0,4] + 1\n",
    "targets[1,4] = targets[1,4] + -2\n",
    "targets[1,5] = targets[1,5] + -2\n",
    "targets[0,6] = targets[0,6] + 1\n",
    "targets[1,7] = targets[1,7] + 1\n",
    "targets[0,9] = targets[0,9] + -1\n",
    "\n",
    "#Corrections by site -- round 4\n",
    "targets[0,4] = targets[0,4] + -0.5\n",
    "targets[1,4] = targets[1,4] + 0.5\n",
    "targets[1,7] = targets[1,7] + -1.0\n",
    "targets[0,9] = targets[0,9] + 0.5\n",
    "targets[1,9] = targets[1,9] + -0.5\n",
    "\n",
    "#Corrections by site -- round 5\n",
    "targets[1,1] = targets[1,1] + 0.5\n",
    "targets[1,3] = targets[1,3] + -0.5\n",
    "targets[1,5] = targets[1,5] + 0.5\n",
    "targets[0,6] = targets[0,6] + -0.5\n",
    "\n",
    "\n",
    "# round6 \n",
    "targets[1,5] = targets[1,5] + 0.25\n",
    "targets[0,6] = targets[0,6] + 0.25\n",
    "targets[1,6] = targets[1,6] + -0.25\n",
    "\n",
    "# Manual rd 1\n",
    "targets[1,1] = targets[1,1] - 0.25\n",
    "targets[1,3] = targets[1,3] - 0.25\n",
    "targets[1,4] = targets[1,4] + 0.25\n",
    "targets[0,4] = targets[0,4] - 0.25\n",
    "targets[1,5] = targets[1,5] + 0.25\n",
    "targets[0,8] = targets[0,8] + 0.25\n",
    "\n",
    "#Manual rd 2\n",
    "targets[0,1] = targets[0,1] + 0.25\n",
    "targets[1,3] = targets[1,3] - 0.25\n",
    "targets[0,4] = targets[0,4] - 0.25\n",
    "targets[1,6] = targets[1,6] - 0.25\n",
    "targets[0,8] = targets[0,8] - 0.25\n",
    "\n",
    "#Manual rd 3\n",
    "targets[0,1] = targets[0,1] - 0.5\n",
    "targets[1,4] = targets[1,4] + 0.5\n",
    "targets[1,5] = targets[1,5] + 0.5\n",
    "targets[1,6] = targets[1,6] - 0.5\n",
    "targets[0,8] = targets[0,8] - 0.5\n",
    "\n",
    "k_array = andor_to_k_new(targets)\n",
    "\n",
    "client.calculate_save_and_project(k_array, target_amps, 20, \"C:\\\\msys64\\\\home\\\\nilab\\\\projects\\\\NaCsSLM\\\\lib\\\\Cs_pattern\", target_file_name,guess_phase_path = 'C:\\\\msys64\\\\home\\\\nilab\\\\projects\\\\NaCsSLM\\\\lib\\\\Cs_pattern\\\\20250114_18140810x1Cs_manualrd2')"
   ]
  },
  {
   "cell_type": "markdown",
   "id": "472b1ce8",
   "metadata": {},
   "source": [
    "## 1/13"
   ]
  },
  {
   "cell_type": "code",
   "execution_count": 67,
   "id": "43810be2",
   "metadata": {},
   "outputs": [
    {
     "name": "stdout",
     "output_type": "stream",
     "text": [
      "20250113_130649\n",
      "20250113_130652\n",
      "20250113_130652\n",
      "20250113_130652\n"
     ]
    },
    {
     "data": {
      "text/plain": [
       "('C:\\\\msys64\\\\home\\\\nilab\\\\projects\\\\NaCsSLM\\\\lib\\\\Cs_pattern\\\\20250113_13075910x1Cs_iteration2p0down_config.yml',\n",
       " 'C:\\\\msys64\\\\home\\\\nilab\\\\projects\\\\NaCsSLM\\\\lib\\\\Cs_pattern\\\\20250113_13075910x1Cs_iteration2p0down_data.npz',\n",
       " ['ok'],\n",
       " ['ok'])"
      ]
     },
     "execution_count": 67,
     "metadata": {},
     "output_type": "execute_result"
    }
   ],
   "source": [
    "targets,target_amps = utils.gen_square_targets([1,10], [12,12], 0, [366-17+7+15-.5-.5,337-4])\n",
    "target_file_name = \"10x1Cs_iteration2p0down\"\n",
    "targets[0,1] = targets[0,1] + 0.5\n",
    "\n",
    "k_array = andor_to_k_new(targets)\n",
    "targets[0,3] = targets[0,3] + 1.5\n",
    "targets[0,5] = targets[0,5] + 0.7\n",
    "\n",
    "client.calculate_save_and_project(k_array, target_amps, 20, \"C:\\\\msys64\\\\home\\\\nilab\\\\projects\\\\NaCsSLM\\\\lib\\\\Cs_pattern\", target_file_name,guess_phase_path = 'C:\\\\msys64\\\\home\\\\nilab\\\\projects\\\\NaCsSLM\\\\lib\\\\Cs_pattern\\\\20250110_16411210x1Cs_iteration0down')"
   ]
  },
  {
   "cell_type": "code",
   "execution_count": 73,
   "id": "fa618c7f",
   "metadata": {},
   "outputs": [
    {
     "name": "stdout",
     "output_type": "stream",
     "text": [
      "20250114_135932\n"
     ]
    },
    {
     "data": {
      "text/plain": [
       "['base: C:\\\\msys64\\\\home\\\\nilab\\\\projects\\\\NaCsSLM\\\\lib\\\\Cs_pattern\\\\20250110_16511310x1Cs_iteration1down additional:  aperture: None']"
      ]
     },
     "execution_count": 73,
     "metadata": {},
     "output_type": "execute_result"
    }
   ],
   "source": [
    "client.send_get_current_phase_info()"
   ]
  },
  {
   "cell_type": "code",
   "execution_count": 113,
   "id": "729fd43b",
   "metadata": {},
   "outputs": [
    {
     "name": "stdout",
     "output_type": "stream",
     "text": [
      "20250114_185303\n",
      "20250114_185303\n"
     ]
    },
    {
     "data": {
      "text/plain": [
       "(['ok'], ['ok'])"
      ]
     },
     "execution_count": 113,
     "metadata": {},
     "output_type": "execute_result"
    }
   ],
   "source": [
    "client.load_and_project(\"C:\\\\msys64\\\\home\\\\nilab\\\\projects\\\\NaCsSLM\\\\lib\\\\Cs_pattern\\\\20250114_16363010x1Cs_basepattern\")"
   ]
  },
  {
   "cell_type": "markdown",
   "id": "037dca93",
   "metadata": {},
   "source": [
    "## 1/11"
   ]
  },
  {
   "cell_type": "code",
   "execution_count": 62,
   "id": "e2951f7e",
   "metadata": {},
   "outputs": [
    {
     "name": "stdout",
     "output_type": "stream",
     "text": [
      "20250110_164951\n",
      "20250110_164953\n",
      "20250110_164953\n",
      "20250110_164954\n"
     ]
    },
    {
     "data": {
      "text/plain": [
       "('C:\\\\msys64\\\\home\\\\nilab\\\\projects\\\\NaCsSLM\\\\lib\\\\Cs_pattern\\\\20250110_16511310x1Cs_iteration1down_config.yml',\n",
       " 'C:\\\\msys64\\\\home\\\\nilab\\\\projects\\\\NaCsSLM\\\\lib\\\\Cs_pattern\\\\20250110_16511310x1Cs_iteration1down_data.npz',\n",
       " ['ok'],\n",
       " ['ok'])"
      ]
     },
     "execution_count": 62,
     "metadata": {},
     "output_type": "execute_result"
    }
   ],
   "source": [
    "targets,target_amps = utils.gen_square_targets([1,10], [12,12], 0, [366-17+7+15,337-4])\n",
    "target_file_name = \"10x1Cs_iteration1down\"\n",
    "targets[0,1] = targets[0,1] + 0.5\n",
    "\n",
    "k_array = andor_to_k_new(targets)\n",
    "targets[0,3] = targets[0,3] + 1.5\n",
    "targets[0,5] = targets[0,5] + 0.7\n",
    "\n",
    "client.calculate_save_and_project(k_array, target_amps, 20, \"C:\\\\msys64\\\\home\\\\nilab\\\\projects\\\\NaCsSLM\\\\lib\\\\Cs_pattern\", target_file_name,guess_phase_path = 'C:\\\\msys64\\\\home\\\\nilab\\\\projects\\\\NaCsSLM\\\\lib\\\\Cs_pattern\\\\20250110_16411210x1Cs_iteration0down')"
   ]
  },
  {
   "cell_type": "code",
   "execution_count": null,
   "id": "63e9e197",
   "metadata": {},
   "outputs": [],
   "source": []
  },
  {
   "cell_type": "code",
   "execution_count": 57,
   "id": "fb48549d",
   "metadata": {},
   "outputs": [
    {
     "name": "stdout",
     "output_type": "stream",
     "text": [
      "[[-50 -38 -26 -14  -2  10  22  34  46  58] [  2   2   2   2   1   1   1   2   1   1]]\n",
      "20250110_162355\n",
      "20250110_162358\n",
      "20250110_162358\n",
      "20250110_162358\n"
     ]
    },
    {
     "data": {
      "text/plain": [
       "('C:\\\\msys64\\\\home\\\\nilab\\\\projects\\\\NaCsSLM\\\\lib\\\\Cs_pattern\\\\20250110_16251810x1Cs_iteration5_config.yml',\n",
       " 'C:\\\\msys64\\\\home\\\\nilab\\\\projects\\\\NaCsSLM\\\\lib\\\\Cs_pattern\\\\20250110_16251810x1Cs_iteration5_data.npz',\n",
       " ['ok'],\n",
       " ['ok'])"
      ]
     },
     "execution_count": 57,
     "metadata": {},
     "output_type": "execute_result"
    }
   ],
   "source": [
    "targets,target_amps = utils.gen_square_targets([1,10], [12,12], 0, [366-17+7+14,337-4])\n",
    "targets[0,0] = targets[0,0] + 0.5 + 0.5\n",
    "targets[0,1] = targets[0,1] + 0.5 +1\n",
    "targets[0,2] = targets[0,2] + 1\n",
    "targets[0,3] = targets[0,3] + 0.5\n",
    "targets[0,4] = targets[0,4] -0.4 + 0.7\n",
    "targets[0,5] = targets[0,5] - 0.9 + 0.7\n",
    "targets[0,6] = targets[0,6] \n",
    "\n",
    "targets[0,7] = targets[0,7] + 0.5\n",
    "k_array = andor_to_k_new(targets)\n",
    "print(str(andor_to_img(targets, [369, 337])).replace(\"\\n\", \"\"))\n",
    "\n",
    "target_file_name = \"10x1Cs_iteration5\"\n",
    "client.calculate_save_and_project(k_array, target_amps, 20, \"C:\\\\msys64\\\\home\\\\nilab\\\\projects\\\\NaCsSLM\\\\lib\\\\Cs_pattern\", target_file_name,guess_phase_path = 'C:\\\\msys64\\\\home\\\\nilab\\\\projects\\\\NaCsSLM\\\\lib\\\\Cs_pattern\\\\20250110_15055310x1Cs_iteration0')"
   ]
  },
  {
   "cell_type": "code",
   "execution_count": 40,
   "id": "56b34fa6",
   "metadata": {},
   "outputs": [
    {
     "ename": "NameError",
     "evalue": "name 'andor_to_img' is not defined",
     "output_type": "error",
     "traceback": [
      "\u001b[1;31m---------------------------------------------------------------------------\u001b[0m",
      "\u001b[1;31mNameError\u001b[0m                                 Traceback (most recent call last)",
      "\u001b[1;32mC:\\Users\\Simulation Computer\\AppData\\Local\\Temp\\ipykernel_18776\\3162854278.py\u001b[0m in \u001b[0;36m<module>\u001b[1;34m\u001b[0m\n\u001b[1;32m----> 1\u001b[1;33m \u001b[0mprint\u001b[0m\u001b[1;33m(\u001b[0m\u001b[0mstr\u001b[0m\u001b[1;33m(\u001b[0m\u001b[0mandor_to_img\u001b[0m\u001b[1;33m(\u001b[0m\u001b[0mtargets\u001b[0m\u001b[1;33m,\u001b[0m \u001b[1;33m[\u001b[0m\u001b[1;36m369\u001b[0m\u001b[1;33m,\u001b[0m \u001b[1;36m337\u001b[0m\u001b[1;33m]\u001b[0m\u001b[1;33m)\u001b[0m\u001b[1;33m)\u001b[0m\u001b[1;33m.\u001b[0m\u001b[0mreplace\u001b[0m\u001b[1;33m(\u001b[0m\u001b[1;34m\"\\n\"\u001b[0m\u001b[1;33m,\u001b[0m \u001b[1;34m\"\"\u001b[0m\u001b[1;33m)\u001b[0m\u001b[1;33m)\u001b[0m\u001b[1;33m\u001b[0m\u001b[1;33m\u001b[0m\u001b[0m\n\u001b[0m",
      "\u001b[1;31mNameError\u001b[0m: name 'andor_to_img' is not defined"
     ]
    }
   ],
   "source": [
    "print(str(andor_to_img(targets, [369, 337])).replace(\"\\n\", \"\"))\n"
   ]
  },
  {
   "cell_type": "code",
   "execution_count": 45,
   "id": "046308bb",
   "metadata": {},
   "outputs": [
    {
     "name": "stdout",
     "output_type": "stream",
     "text": [
      "[[-50 -38 -26 -14  -2  10  22  34  46  58] [-18 -19 -19 -19 -19 -19 -20 -19 -18 -19]]\n"
     ]
    }
   ],
   "source": [
    "print(str(andor_to_img(targets, [369, 337])).replace(\"\\n\", \"\"))\n"
   ]
  },
  {
   "cell_type": "code",
   "execution_count": 38,
   "id": "f7f7f38d",
   "metadata": {},
   "outputs": [
    {
     "name": "stdout",
     "output_type": "stream",
     "text": [
      "[[-50 -38 -26 -14  -2  10  22  34  46  58] [-19 -19 -19 -19 -19 -19 -19 -19 -19 -19]]\n",
      "20250110_150431\n",
      "20250110_150433\n",
      "20250110_150433\n",
      "20250110_150434\n"
     ]
    },
    {
     "data": {
      "text/plain": [
       "('C:\\\\msys64\\\\home\\\\nilab\\\\projects\\\\NaCsSLM\\\\lib\\\\Cs_pattern\\\\20250110_15055310x1Cs_iteration0_config.yml',\n",
       " 'C:\\\\msys64\\\\home\\\\nilab\\\\projects\\\\NaCsSLM\\\\lib\\\\Cs_pattern\\\\20250110_15055310x1Cs_iteration0_data.npz',\n",
       " ['ok'],\n",
       " ['ok'])"
      ]
     },
     "execution_count": 38,
     "metadata": {},
     "output_type": "execute_result"
    }
   ],
   "source": [
    "#iteration 0 \n",
    "targets,target_amps = utils.gen_square_targets([1,10], [12,12], 0, [366-16,337-4])\n",
    "k_array = andor_to_k_new(targets)\n",
    "print(str(andor_to_img(targets, [369, 337])).replace(\"\\n\", \"\"))\n",
    "\n",
    "target_file_name = \"10x1Cs_iteration0\"\n",
    "client.calculate_save_and_project(k_array, target_amps, 20, \"C:\\\\msys64\\\\home\\\\nilab\\\\projects\\\\NaCsSLM\\\\lib\\\\Cs_pattern\", target_file_name)"
   ]
  },
  {
   "cell_type": "code",
   "execution_count": 36,
   "id": "ac5d865b",
   "metadata": {},
   "outputs": [
    {
     "name": "stdout",
     "output_type": "stream",
     "text": [
      "20250110_145223\n",
      "20250110_145226\n",
      "20250110_145226\n",
      "20250110_145226\n"
     ]
    },
    {
     "data": {
      "text/plain": [
       "('C:\\\\msys64\\\\home\\\\nilab\\\\projects\\\\NaCsSLM\\\\lib\\\\Cs_pattern\\\\20250110_14534610x1Cs_iteration2_config.yml',\n",
       " 'C:\\\\msys64\\\\home\\\\nilab\\\\projects\\\\NaCsSLM\\\\lib\\\\Cs_pattern\\\\20250110_14534610x1Cs_iteration2_data.npz',\n",
       " ['ok'],\n",
       " ['ok'])"
      ]
     },
     "execution_count": 36,
     "metadata": {},
     "output_type": "execute_result"
    }
   ],
   "source": [
    "#iteration2\n",
    "measured_coord = np.transpose(np.array([[351.147, 387.907],\n",
    "       [348.967, 375.217],\n",
    "       [349.461, 361.937],\n",
    "       [349.190, 351.406],\n",
    "       [350.487, 337.889],\n",
    "       [350.428, 326.530],\n",
    "       [350.028, 313.541],\n",
    "       [351.139, 302.471],\n",
    "       [350.177, 290.933],\n",
    "       [348.548, 279.083]]))\n",
    "\n",
    "\n",
    "offset = new_target - measured_coord\n",
    "gain = 0.2\n",
    "new_target2 = new_target + offset*0.2\n",
    "k_array = andor_to_k_new(new_target2)\n",
    "new_target2\n",
    "target_file_name = \"10x1Cs_iteration2\"\n",
    "client.calculate_save_and_project(k_array, target_amps, 20, \"C:\\\\msys64\\\\home\\\\nilab\\\\projects\\\\NaCsSLM\\\\lib\\\\Cs_pattern\", target_file_name)"
   ]
  },
  {
   "cell_type": "code",
   "execution_count": 37,
   "id": "6fc42c0a",
   "metadata": {},
   "outputs": [
    {
     "data": {
      "text/plain": [
       "array([[349.9422, 350.3674, 351.3702, 350.5796, 349.9026, 350.2252,\n",
       "        349.8612, 349.4182, 349.5482, 351.6608],\n",
       "       [386.8246, 375.1294, 362.5922, 351.0472, 339.4994, 327.6784,\n",
       "        315.6746, 303.2666, 291.1838, 278.4674]])"
      ]
     },
     "execution_count": 37,
     "metadata": {},
     "output_type": "execute_result"
    }
   ],
   "source": [
    "new_target2"
   ]
  },
  {
   "cell_type": "code",
   "execution_count": 26,
   "id": "98ae4227",
   "metadata": {},
   "outputs": [],
   "source": [
    "#iteration1 \n",
    "measured_coord = np.transpose(np.array([[349.857, 386.995],\n",
    "       [349.866, 374.856],\n",
    "       [348.948, 363.517],\n",
    "       [349.652, 350.893],\n",
    "       [350.000, 338.769],\n",
    "       [349.741, 326.513],\n",
    "       [350.111, 314.681],\n",
    "       [350.295, 302.866],\n",
    "       [350.347, 290.858],\n",
    "       [348.858, 279.430]]))\n",
    "offset = targets - measured_coord\n",
    "new_target = targets + offset\n",
    "k_array = andor_to_k_new(new_target)\n",
    "new_target\n",
    "target_file_name = \"10x1Cs_iteration1\"\n",
    "# client.calculate_save_and_project(k_array, target_amps, 20, \"C:\\\\msys64\\\\home\\\\nilab\\\\projects\\\\NaCsSLM\\\\lib\\\\Cs_pattern\", target_file_name)"
   ]
  },
  {
   "cell_type": "code",
   "execution_count": 25,
   "id": "d306bbc2",
   "metadata": {},
   "outputs": [
    {
     "data": {
      "text/plain": [
       "array([[350.143, 350.134, 351.052, 350.348, 350.   , 350.259, 349.889,\n",
       "        349.705, 349.653, 351.142],\n",
       "       [387.005, 375.144, 362.483, 351.107, 339.231, 327.487, 315.319,\n",
       "        303.134, 291.142, 278.57 ]])"
      ]
     },
     "execution_count": 25,
     "metadata": {},
     "output_type": "execute_result"
    }
   ],
   "source": [
    "new_target"
   ]
  },
  {
   "cell_type": "markdown",
   "id": "6d8a1743",
   "metadata": {},
   "source": [
    "# 1/9/25 interatomic distance feedback"
   ]
  },
  {
   "cell_type": "code",
   "execution_count": 12,
   "id": "14560cf8",
   "metadata": {},
   "outputs": [
    {
     "name": "stdout",
     "output_type": "stream",
     "text": [
      "[[-50 -38 -26 -14  -2  10  22  34  46  58] [-19 -19 -19 -19 -19 -19 -19 -19 -19 -19]]\n"
     ]
    }
   ],
   "source": [
    "# recalibration 11/11 \n",
    "A_matrix = np.array([[-1.3516308 ,  0.88421147],\n",
    "       [ 0.8735573 ,  1.35376453]])\n",
    "b_vec = np.array([[1258.8281393 ],\n",
    "       [ 280.46428624]])\n",
    "def andor_to_k_new(x):\n",
    "    A = A_matrix\n",
    "    b = b_vec\n",
    "    targets = np.matmul(A,x)+b\n",
    "    return targets\n",
    "targets,target_amps = utils.gen_square_targets([1,10], [12,12], 0, [366-16,337-4])\n",
    "k_array = andor_to_k_new(targets)\n",
    "print(str(andor_to_img(targets, [369, 337])).replace(\"\\n\", \"\"))\n",
    "\n",
    "target_file_name = \"10x1Cs\"\n",
    "# client.calculate_save_and_project(k_array, target_amps, 20, \"C:\\\\msys64\\\\home\\\\nilab\\\\projects\\\\NaCsSLM\\\\lib\\\\Cs_pattern\", target_file_name)"
   ]
  },
  {
   "cell_type": "code",
   "execution_count": 6,
   "id": "705cff15",
   "metadata": {},
   "outputs": [
    {
     "data": {
      "text/plain": [
       "(array([[350., 350., 350., 350., 350., 350., 350., 350., 350., 350.],\n",
       "        [387., 375., 363., 351., 339., 327., 315., 303., 291., 279.]]),\n",
       " array([1., 1., 1., 1., 1., 1., 1., 1., 1., 1.]))"
      ]
     },
     "execution_count": 6,
     "metadata": {},
     "output_type": "execute_result"
    }
   ],
   "source": [
    "utils.gen_square_targets([1,10], [12,12], 0, [366-16,337-4])"
   ]
  },
  {
   "cell_type": "markdown",
   "id": "0e6db843",
   "metadata": {},
   "source": [
    "## 12/19 -- Varying interatomic distance"
   ]
  },
  {
   "cell_type": "code",
   "execution_count": 11,
   "id": "719c395d",
   "metadata": {},
   "outputs": [
    {
     "name": "stdout",
     "output_type": "stream",
     "text": [
      "[[-78 -64 -48 -34 -18  -4  12  26  42  56  72  86 -78 -64 -48 -34 -18  -4   12  26  42  56  72  86 -50 -38 -26 -14  -2  10  22  34  46  58 -50 -38  -26 -14  -2  10  22  34  46  58] [ 35  35  35  35  35  35  35  35  35  35  35  35 -35 -35 -35 -35 -35 -35  -35 -35 -35 -35 -35 -35 -19 -19 -19 -19 -19 -19 -19 -19 -19 -19   7   7    7   7   7   7   7   7   7   7]]\n"
     ]
    }
   ],
   "source": [
    "# recalibration 11/11 \n",
    "A_matrix = np.array([[-1.3516308 ,  0.88421147],\n",
    "       [ 0.8735573 ,  1.35376453]])\n",
    "b_vec = np.array([[1258.8281393 ],\n",
    "       [ 280.46428624]])\n",
    "def andor_to_k_new(x):\n",
    "    A = A_matrix\n",
    "    b = b_vec\n",
    "    targets = np.matmul(A,x)+b\n",
    "    return targets\n",
    "\n",
    "def k_to_andor_new(k):\n",
    "    A = A_matrix\n",
    "    b = b_vec\n",
    "    invA = np.linalg.inv(A)\n",
    "    targets = np.matmul(invA, k - b)\n",
    "    return targets\n",
    "\n",
    "\n",
    "def combine_targets(mytargets):\n",
    "    targetX = []\n",
    "    targetY = []\n",
    "    target_amps = []\n",
    "    for i in range(len(mytargets)):\n",
    "        thistarget,this_target_amp = mytarget[i]\n",
    "        targetX.extend(thistarget[0])\n",
    "        targetY.extend(thistarget[1])\n",
    "        target_amps.extend(this_target_amp)\n",
    "    \n",
    "    return np.array([targetX,targetY]),np.array(target_amps)\n",
    "\n",
    "def andor_to_img(targets, center):\n",
    "    x_array = targets\n",
    "    ntargets = x_array.shape[1]\n",
    "    firstcoord_center = center[0]\n",
    "    secondcoord_center = center[1]\n",
    "    #subtract off center and reflect second coord, then round and cast to int\n",
    "    x_array_cam = np.round((x_array - np.array([np.ones((ntargets))*firstcoord_center,np.ones((ntargets))*secondcoord_center]))*np.array([[1],[-1]])).astype(int)\n",
    "    x_array_cam[[0, 1]] = x_array_cam[[1, 0]]\n",
    "    return x_array_cam\n",
    "mytarget1 = utils.gen_square_targets([1,12], [6, 15], 0, [369+35,337-4])\n",
    "mytarget2 = utils.gen_square_targets([1,12], [6, 15], 0, [369-35,337-4])\n",
    "mytarget3 = utils.gen_square_targets([1,10], [6,12], 0, [366-16,337-4])\n",
    "mytarget4 = utils.gen_square_targets([1,10], [6,12], 0, [366+10,337-4])\n",
    "mytarget = [mytarget1,mytarget2,mytarget3,mytarget4]\n",
    "targets,target_amps = combine_targets(mytarget)\n",
    "print(str(andor_to_img(targets, [369, 337])).replace(\"\\n\", \"\"))\n",
    "k_array = andor_to_k_new(targets)\n",
    "\n",
    "target_file_name = \"12x1x2_and_10x2_Cs_pairs_shifted_5\"\n",
    "# client.calculate_save_and_project(k_array, target_amps, 20, \"C:\\\\msys64\\\\home\\\\nilab\\\\projects\\\\NaCsSLM\\\\lib\\\\Cs_pattern\", target_file_name)"
   ]
  },
  {
   "cell_type": "code",
   "execution_count": 37,
   "id": "f64a077b",
   "metadata": {},
   "outputs": [
    {
     "data": {
      "text/plain": [
       "array([[404. , 404. , 404. , 404. , 404. , 404. , 404. , 404. , 404. ,\n",
       "        404. , 404. , 404. , 334. , 334. , 334. , 334. , 334. , 334. ,\n",
       "        334. , 334. , 334. , 334. , 334. , 334. , 350. , 350. , 350. ,\n",
       "        350. , 350. , 350. , 350. , 350. , 350. , 350. , 376. , 376. ,\n",
       "        376. , 376. , 376. , 376. , 376. , 376. , 376. , 376. ],\n",
       "       [415.5, 400.5, 385.5, 370.5, 355.5, 340.5, 325.5, 310.5, 295.5,\n",
       "        280.5, 265.5, 250.5, 415.5, 400.5, 385.5, 370.5, 355.5, 340.5,\n",
       "        325.5, 310.5, 295.5, 280.5, 265.5, 250.5, 387. , 375. , 363. ,\n",
       "        351. , 339. , 327. , 315. , 303. , 291. , 279. , 387. , 375. ,\n",
       "        363. , 351. , 339. , 327. , 315. , 303. , 291. , 279. ]])"
      ]
     },
     "execution_count": 37,
     "metadata": {},
     "output_type": "execute_result"
    }
   ],
   "source": [
    "targets"
   ]
  },
  {
   "cell_type": "markdown",
   "id": "8a4c4b95",
   "metadata": {},
   "source": [
    "## 12/17 -- Two rows of dual species interactions"
   ]
  },
  {
   "cell_type": "code",
   "execution_count": 3,
   "id": "5a92d310",
   "metadata": {},
   "outputs": [
    {
     "name": "stdout",
     "output_type": "stream",
     "text": [
      "[[-78 -64 -48 -34 -18  -4  12  26  42  56  72  86 -78 -64 -48 -34 -18  -4   12  26  42  56  72  86 -50 -38 -26 -14  -2  10  22  34  46  58 -50 -38  -26 -14  -2  10  22  34  46  58] [ 35  35  35  35  35  35  35  35  35  35  35  35 -35 -35 -35 -35 -35 -35  -35 -35 -35 -35 -35 -35 -17 -17 -17 -17 -17 -17 -17 -17 -17 -17   7   7    7   7   7   7   7   7   7   7]]\n",
      "20241217_155004\n",
      "20241217_155007\n",
      "20241217_155007\n",
      "20241217_155007\n"
     ]
    },
    {
     "data": {
      "text/plain": [
       "('C:\\\\msys64\\\\home\\\\nilab\\\\projects\\\\NaCsSLM\\\\lib\\\\Cs_pattern\\\\20241217_15505212x1x2_and_10x2_Cs_pairs_shifted_config.yml',\n",
       " 'C:\\\\msys64\\\\home\\\\nilab\\\\projects\\\\NaCsSLM\\\\lib\\\\Cs_pattern\\\\20241217_15505212x1x2_and_10x2_Cs_pairs_shifted_data.npz',\n",
       " ['ok'],\n",
       " ['ok'])"
      ]
     },
     "execution_count": 3,
     "metadata": {},
     "output_type": "execute_result"
    }
   ],
   "source": [
    "# recalibration 11/11 \n",
    "A_matrix = np.array([[-1.3516308 ,  0.88421147],\n",
    "       [ 0.8735573 ,  1.35376453]])\n",
    "b_vec = np.array([[1258.8281393 ],\n",
    "       [ 280.46428624]])\n",
    "def andor_to_k_new(x):\n",
    "    A = A_matrix\n",
    "    b = b_vec\n",
    "    targets = np.matmul(A,x)+b\n",
    "    return targets\n",
    "\n",
    "def k_to_andor_new(k):\n",
    "    A = A_matrix\n",
    "    b = b_vec\n",
    "    invA = np.linalg.inv(A)\n",
    "    targets = np.matmul(invA, k - b)\n",
    "    return targets\n",
    "\n",
    "\n",
    "def combine_targets(mytargets):\n",
    "    targetX = []\n",
    "    targetY = []\n",
    "    target_amps = []\n",
    "    for i in range(len(mytargets)):\n",
    "        thistarget,this_target_amp = mytarget[i]\n",
    "        targetX.extend(thistarget[0])\n",
    "        targetY.extend(thistarget[1])\n",
    "        target_amps.extend(this_target_amp)\n",
    "    \n",
    "    return np.array([targetX,targetY]),np.array(target_amps)\n",
    "\n",
    "def andor_to_img(targets, center):\n",
    "    x_array = targets\n",
    "    ntargets = x_array.shape[1]\n",
    "    firstcoord_center = center[0]\n",
    "    secondcoord_center = center[1]\n",
    "    #subtract off center and reflect second coord, then round and cast to int\n",
    "    x_array_cam = np.round((x_array - np.array([np.ones((ntargets))*firstcoord_center,np.ones((ntargets))*secondcoord_center]))*np.array([[1],[-1]])).astype(int)\n",
    "    x_array_cam[[0, 1]] = x_array_cam[[1, 0]]\n",
    "    return x_array_cam\n",
    "mytarget1 = utils.gen_square_targets([1,12], [6, 15], 0, [369+35,337-4])\n",
    "mytarget2 = utils.gen_square_targets([1,12], [6, 15], 0, [369-35,337-4])\n",
    "mytarget3 = utils.gen_square_targets([1,10], [6,12], 0, [366-14,337-4])\n",
    "mytarget4 = utils.gen_square_targets([1,10], [6,12], 0, [366+10,337-4])\n",
    "mytarget = [mytarget1,mytarget2,mytarget3,mytarget4]\n",
    "targets,target_amps = combine_targets(mytarget)\n",
    "print(str(andor_to_img(targets, [369, 337])).replace(\"\\n\", \"\"))\n",
    "k_array = andor_to_k_new(targets)\n",
    "\n",
    "target_file_name = \"12x1x2_and_10x2_Cs_pairs_shifted\"\n",
    "client.calculate_save_and_project(k_array, target_amps, 20, \"C:\\\\msys64\\\\home\\\\nilab\\\\projects\\\\NaCsSLM\\\\lib\\\\Cs_pattern\", target_file_name)"
   ]
  },
  {
   "cell_type": "code",
   "execution_count": 13,
   "id": "fb44129c",
   "metadata": {},
   "outputs": [
    {
     "name": "stdout",
     "output_type": "stream",
     "text": [
      "20241219_151245\n"
     ]
    }
   ],
   "source": [
    "client.load_config(\"C:\\\\experiment-control\\\\matlab_new\\\\NaCsSLM\\\\lib\\\\Cs_config\\\\20241219_tworows_interacting.yml\")"
   ]
  },
  {
   "cell_type": "code",
   "execution_count": 16,
   "id": "b77be65f",
   "metadata": {},
   "outputs": [
    {
     "name": "stdout",
     "output_type": "stream",
     "text": [
      "20241219_153200\n",
      "20241219_153200\n"
     ]
    },
    {
     "data": {
      "text/plain": [
       "['ok']"
      ]
     },
     "execution_count": 16,
     "metadata": {},
     "output_type": "execute_result"
    }
   ],
   "source": [
    "client.send_reset_add_phase()\n",
    "client.send_project()"
   ]
  },
  {
   "cell_type": "code",
   "execution_count": 14,
   "id": "a1a283d9",
   "metadata": {},
   "outputs": [
    {
     "name": "stdout",
     "output_type": "stream",
     "text": [
      "20241219_151250\n",
      "20241219_151250\n",
      "20241219_151250\n",
      "20241219_151251\n"
     ]
    },
    {
     "data": {
      "text/plain": [
       "['ok']"
      ]
     },
     "execution_count": 14,
     "metadata": {},
     "output_type": "execute_result"
    }
   ],
   "source": [
    "client.send_reset_add_phase()\n",
    "client.send_correction(\"C:\\\\msys64\\\\home\\\\nilab\\\\projects\\\\NaCsSLM\\\\lib\\\\Cs_Correction_Patterns\\\\CAL_LSH0802977_1064nm.bmp\")\n",
    "\n",
    "client.send_zernike_poly(np.array([[2,1,10]]))# notice = client.send_zernike_poly(np.array([[1,0,0],[1,1,0],[2,1,0],[2,2,0],[2,0,-20],[3,0,0],[3,2,0],[3,1,0],[3,3,0],[4,2,0]]))# oridginal \n",
    "client.send_project()"
   ]
  },
  {
   "cell_type": "code",
   "execution_count": 63,
   "id": "2fccafef",
   "metadata": {},
   "outputs": [
    {
     "name": "stdout",
     "output_type": "stream",
     "text": [
      "20250113_122315\n"
     ]
    },
    {
     "data": {
      "text/plain": [
       "['base: C:\\\\msys64\\\\home\\\\nilab\\\\projects\\\\NaCsSLM\\\\lib\\\\Cs_pattern\\\\20250110_16511310x1Cs_iteration1down additional:  aperture: None']"
      ]
     },
     "execution_count": 63,
     "metadata": {},
     "output_type": "execute_result"
    }
   ],
   "source": [
    "client.send_get_current_phase_info()\n"
   ]
  },
  {
   "cell_type": "code",
   "execution_count": 12,
   "id": "8fb6f769",
   "metadata": {},
   "outputs": [
    {
     "name": "stdout",
     "output_type": "stream",
     "text": [
      "20241219_151238\n",
      "20241219_151238\n",
      "20241219_151238\n"
     ]
    },
    {
     "data": {
      "text/plain": [
       "['ok']"
      ]
     },
     "execution_count": 12,
     "metadata": {},
     "output_type": "execute_result"
    }
   ],
   "source": [
    "client.send_reset_add_phase()\n",
    "client.send_reset_pattern()\n",
    "client.send_project()"
   ]
  },
  {
   "cell_type": "markdown",
   "id": "45312780",
   "metadata": {},
   "source": [
    "## 11/13 -- Dual-species interactions"
   ]
  },
  {
   "cell_type": "code",
   "execution_count": 11,
   "id": "b9a95756",
   "metadata": {},
   "outputs": [
    {
     "name": "stdout",
     "output_type": "stream",
     "text": [
      "[[-78 -64 -48 -34 -18  -4  12  26  42  56  72  86 -78 -64 -48 -34 -18  -4   12  26  42  56  72  86 -50 -38 -26 -14  -2  10  22  34  46  58] [ 25  25  25  25  25  25  25  25  25  25  25  25 -25 -25 -25 -25 -25 -25  -25 -25 -25 -25 -25 -25  -2  -2  -2  -2  -2  -2  -2  -2  -2  -2]]\n",
      "20241113_192536\n",
      "20241113_192538\n",
      "20241113_192538\n",
      "20241113_192539\n"
     ]
    },
    {
     "data": {
      "text/plain": [
       "('C:\\\\msys64\\\\home\\\\nilab\\\\projects\\\\NaCsSLM\\\\lib\\\\Cs_pattern\\\\20241113_19255812x1x2_and_10x1_Cs_pairs_shifted_config.yml',\n",
       " 'C:\\\\msys64\\\\home\\\\nilab\\\\projects\\\\NaCsSLM\\\\lib\\\\Cs_pattern\\\\20241113_19255812x1x2_and_10x1_Cs_pairs_shifted_data.npz',\n",
       " ['ok'],\n",
       " ['ok'])"
      ]
     },
     "execution_count": 11,
     "metadata": {},
     "output_type": "execute_result"
    }
   ],
   "source": [
    "# recalibration 11/11 \n",
    "A_matrix = np.array([[-1.3516308 ,  0.88421147],\n",
    "       [ 0.8735573 ,  1.35376453]])\n",
    "b_vec = np.array([[1258.8281393 ],\n",
    "       [ 280.46428624]])\n",
    "def andor_to_k_new(x):\n",
    "    A = A_matrix\n",
    "    b = b_vec\n",
    "    targets = np.matmul(A,x)+b\n",
    "    return targets\n",
    "\n",
    "def k_to_andor_new(k):\n",
    "    A = A_matrix\n",
    "    b = b_vec\n",
    "    invA = np.linalg.inv(A)\n",
    "    targets = np.matmul(invA, k - b)\n",
    "    return targets\n",
    "\n",
    "\n",
    "def combine_targets(mytargets):\n",
    "    targetX = []\n",
    "    targetY = []\n",
    "    target_amps = []\n",
    "    for i in range(len(mytargets)):\n",
    "        thistarget,this_target_amp = mytarget[i]\n",
    "        targetX.extend(thistarget[0])\n",
    "        targetY.extend(thistarget[1])\n",
    "        target_amps.extend(this_target_amp)\n",
    "    \n",
    "    return np.array([targetX,targetY]),np.array(target_amps)\n",
    "\n",
    "def andor_to_img(targets, center):\n",
    "    x_array = targets\n",
    "    ntargets = x_array.shape[1]\n",
    "    firstcoord_center = center[0]\n",
    "    secondcoord_center = center[1]\n",
    "    #subtract off center and reflect second coord, then round and cast to int\n",
    "    x_array_cam = np.round((x_array - np.array([np.ones((ntargets))*firstcoord_center,np.ones((ntargets))*secondcoord_center]))*np.array([[1],[-1]])).astype(int)\n",
    "    x_array_cam[[0, 1]] = x_array_cam[[1, 0]]\n",
    "    return x_array_cam\n",
    "mytarget1 = utils.gen_square_targets([1,12], [6, 15], 0, [369+25,337-4])\n",
    "mytarget2 = utils.gen_square_targets([1,12], [6, 15], 0, [369-25,337-4])\n",
    "mytarget3 = utils.gen_square_targets([1,10], [6,12], 0, [366+1,337-4])\n",
    "mytarget = [mytarget1,mytarget2,mytarget3]\n",
    "targets,target_amps = combine_targets(mytarget)\n",
    "print(str(andor_to_img(targets, [369, 337])).replace(\"\\n\", \"\"))\n",
    "k_array = andor_to_k_new(targets)\n",
    "\n",
    "target_file_name = \"12x1x2_and_10x1_Cs_pairs_shifted\"\n",
    "client.calculate_save_and_project(k_array, target_amps, 20, \"C:\\\\msys64\\\\home\\\\nilab\\\\projects\\\\NaCsSLM\\\\lib\\\\Cs_pattern\", target_file_name)"
   ]
  },
  {
   "cell_type": "code",
   "execution_count": 8,
   "id": "f0b676bb",
   "metadata": {},
   "outputs": [
    {
     "name": "stdout",
     "output_type": "stream",
     "text": [
      "20241211_172129\n",
      "20241211_172129\n"
     ]
    },
    {
     "data": {
      "text/plain": [
       "(['ok'], ['ok'])"
      ]
     },
     "execution_count": 8,
     "metadata": {},
     "output_type": "execute_result"
    }
   ],
   "source": [
    "client.load_and_project(\"C:\\\\msys64\\\\home\\\\nilab\\\\projects\\\\NaCsSLM\\\\lib\\\\Cs_pattern\\\\20241113_19255812x1x2_and_10x1_Cs_pairs_shifted\")"
   ]
  },
  {
   "cell_type": "markdown",
   "id": "4783df1a",
   "metadata": {},
   "source": [
    "## 11/11 -- Redo Cs calibration; single-species interaction pattern"
   ]
  },
  {
   "cell_type": "code",
   "execution_count": 179,
   "id": "626ce1f4",
   "metadata": {},
   "outputs": [
    {
     "name": "stdout",
     "output_type": "stream",
     "text": [
      "[[-82 -82 -68 -68 -52 -52 -38 -38 -22 -22  -8  -8   8   8  22  22  38  38   52  52  68  68  82  82 -82 -82 -68 -68 -52 -52 -38 -38 -22 -22  -8  -8    8   8  22  22  38  38  52  52  68  68  82  82] [ 22  28  22  28  22  28  22  28  22  28  22  28  22  28  22  28  22  28   22  28  22  28  22  28 -28 -22 -28 -22 -28 -22 -28 -22 -28 -22 -28 -22  -28 -22 -28 -22 -28 -22 -28 -22 -28 -22 -28 -22]]\n",
      "20241111_144150\n",
      "20241111_144152\n",
      "20241111_144152\n",
      "20241111_144153\n"
     ]
    },
    {
     "data": {
      "text/plain": [
       "('C:\\\\msys64\\\\home\\\\nilab\\\\projects\\\\NaCsSLM\\\\lib\\\\Cs_pattern\\\\20241111_14421012x2x2_Cs_pairs_config.yml',\n",
       " 'C:\\\\msys64\\\\home\\\\nilab\\\\projects\\\\NaCsSLM\\\\lib\\\\Cs_pattern\\\\20241111_14421012x2x2_Cs_pairs_data.npz',\n",
       " ['ok'],\n",
       " ['ok'])"
      ]
     },
     "execution_count": 179,
     "metadata": {},
     "output_type": "execute_result"
    }
   ],
   "source": [
    "# recalibration 11/11 \n",
    "A_matrix = np.array([[-1.3516308 ,  0.88421147],\n",
    "       [ 0.8735573 ,  1.35376453]])\n",
    "b_vec = np.array([[1258.8281393 ],\n",
    "       [ 280.46428624]])\n",
    "def andor_to_k_new(x):\n",
    "    A = A_matrix\n",
    "    b = b_vec\n",
    "    targets = np.matmul(A,x)+b\n",
    "    return targets\n",
    "\n",
    "def k_to_andor_new(k):\n",
    "    A = A_matrix\n",
    "    b = b_vec\n",
    "    invA = np.linalg.inv(A)\n",
    "    targets = np.matmul(invA, k - b)\n",
    "    return targets\n",
    "\n",
    "\n",
    "def combine_targets(mytargets):\n",
    "    targetX = []\n",
    "    targetY = []\n",
    "    target_amps = []\n",
    "    for i in range(len(mytargets)):\n",
    "        thistarget,this_target_amp = mytarget[i]\n",
    "        targetX.extend(thistarget[0])\n",
    "        targetY.extend(thistarget[1])\n",
    "        target_amps.extend(this_target_amp)\n",
    "    \n",
    "    return np.array([targetX,targetY]),np.array(target_amps)\n",
    "\n",
    "def andor_to_img(targets, center):\n",
    "    x_array = targets\n",
    "    ntargets = x_array.shape[1]\n",
    "    firstcoord_center = center[0]\n",
    "    secondcoord_center = center[1]\n",
    "    #subtract off center and reflect second coord, then round and cast to int\n",
    "    x_array_cam = np.round((x_array - np.array([np.ones((ntargets))*firstcoord_center,np.ones((ntargets))*secondcoord_center]))*np.array([[1],[-1]])).astype(int)\n",
    "    x_array_cam[[0, 1]] = x_array_cam[[1, 0]]\n",
    "    return x_array_cam\n",
    "mytarget1 = utils.gen_square_targets([2,12], [6, 15], 0, [369+25,337])\n",
    "mytarget2 = utils.gen_square_targets([2,12], [6, 15], 0, [369-25,337])\n",
    "mytarget = [mytarget1,mytarget2]\n",
    "targets,target_amps = combine_targets(mytarget)\n",
    "print(str(andor_to_img(targets, [369, 337])).replace(\"\\n\", \"\"))\n",
    "k_array = andor_to_k(targets)\n",
    "\n",
    "target_file_name = \"12x2x2_Cs_pairs\"\n",
    "client.calculate_save_and_project(k_array, target_amps, 20, \"C:\\\\msys64\\\\home\\\\nilab\\\\projects\\\\NaCsSLM\\\\lib\\\\Cs_pattern\", target_file_name)"
   ]
  },
  {
   "cell_type": "code",
   "execution_count": 9,
   "id": "8e594f93",
   "metadata": {},
   "outputs": [
    {
     "name": "stdout",
     "output_type": "stream",
     "text": [
      "20241219_151126\n",
      "20241219_151126\n",
      "20241219_151126\n"
     ]
    }
   ],
   "source": [
    "client.load_config(\"C:\\\\experiment-control\\\\matlab_new\\\\NaCsSLM\\\\lib\\\\Cs_config\\\\20241111_12x2x2_pairs.yml\")"
   ]
  },
  {
   "cell_type": "code",
   "execution_count": 11,
   "id": "44f40f09",
   "metadata": {},
   "outputs": [
    {
     "name": "stdout",
     "output_type": "stream",
     "text": [
      "20241219_151159\n"
     ]
    },
    {
     "data": {
      "text/plain": [
       "['base: C:\\\\msys64\\\\home\\\\nilab\\\\projects\\\\NaCsSLM\\\\lib\\\\Cs_pattern\\\\20241111_14421012x2x2_Cs_pairs additional: file_correction:C:\\\\msys64\\\\home\\\\nilab\\\\projects\\\\NaCsSLM\\\\lib\\\\Cs_Correction_Patterns\\\\CAL_LSH0802977_1064nm.bmp,zernike:[((2, 1), 10.0)], aperture: None']"
      ]
     },
     "execution_count": 11,
     "metadata": {},
     "output_type": "execute_result"
    }
   ],
   "source": [
    "client.send_get_current_phase_info()\n",
    "#client.send_project()"
   ]
  },
  {
   "cell_type": "code",
   "execution_count": 5,
   "id": "48352667",
   "metadata": {},
   "outputs": [
    {
     "name": "stdout",
     "output_type": "stream",
     "text": [
      "20241205_104138\n",
      "20241205_104138\n",
      "20241205_104138\n",
      "20241205_104139\n"
     ]
    },
    {
     "data": {
      "text/plain": [
       "['ok']"
      ]
     },
     "execution_count": 5,
     "metadata": {},
     "output_type": "execute_result"
    }
   ],
   "source": [
    "#Recreate correction pattern\n",
    "client.send_reset_add_phase()\n",
    "# client.send_fresnel_lens(np.array([500000])) \n",
    "#client.send_fresnel_lens(np.array([-100000])) \n",
    "client.send_correction(\"C:\\\\msys64\\\\home\\\\nilab\\\\projects\\\\NaCsSLM\\\\lib\\\\Cs_Correction_Patterns\\\\CAL_LSH0802977_1064nm.bmp\")\n",
    "\n",
    "client.send_zernike_poly(np.array([[2,1,10]]))# notice = client.send_zernike_poly(np.array([[1,0,0],[1,1,0],[2,1,0],[2,2,0],[2,0,-20],[3,0,0],[3,2,0],[3,1,0],[3,3,0],[4,2,0]]))# oridginal \n",
    "\n",
    "# notice = client.send_zernike_poly(np.array([[1,0,0],[1,1,0],[2,1,3],[2,2,6],[2,0,-14],[3,0,0],[3,1,3],[3,3,0]]))# oridginal +defocus\n",
    "\n",
    "#notice = client.send_zernike_poly(np.array([[1,0,0],[1,1,0],[2,1,4],[2,2,-4],[2,0,-25],[3,0,5],[3,1,3],[3,3,0]]))\n",
    "\n",
    "#print(notice)\n",
    "# notice = client.send_zernike_poly(np.array([[2,1,1]]))\n",
    "client.send_project()"
   ]
  },
  {
   "cell_type": "code",
   "execution_count": 175,
   "id": "87cfda4f",
   "metadata": {},
   "outputs": [
    {
     "name": "stdout",
     "output_type": "stream",
     "text": [
      "[[-108 -108  -92  -92  -78  -78  -62  -62  -48  -48  -32  -32  -18  -18    -2   -2   12   12   28   28] [ -23  -17  -23  -17  -23  -17  -23  -17  -23  -17  -23  -17  -23  -17   -23  -17  -23  -17  -23  -17]]\n"
     ]
    }
   ],
   "source": [
    "thistarget,this_target_amp = utils.gen_square_targets([2,10], [6, 15], 0, [369-20,337+40])\n",
    "print(str(andor_to_img(thistarget, [369, 337])).replace(\"\\n\", \"\"))\n"
   ]
  },
  {
   "cell_type": "code",
   "execution_count": 172,
   "id": "2c1b476c",
   "metadata": {},
   "outputs": [
    {
     "data": {
      "text/plain": [
       "array([[346. , 352. , 346. , 352. , 346. , 352. , 346. , 352. , 346. ,\n",
       "        352. , 346. , 352. , 346. , 352. , 346. , 352. , 346. , 352. ,\n",
       "        346. , 352. , 346. , 352. , 346. , 352. , 346. , 352. , 346. ,\n",
       "        352. , 346. , 352. , 346. , 352. , 346. , 352. , 346. , 352. ,\n",
       "        346. , 352. , 346. , 352. ],\n",
       "       [364.5, 364.5, 349.5, 349.5, 334.5, 334.5, 319.5, 319.5, 304.5,\n",
       "        304.5, 289.5, 289.5, 274.5, 274.5, 259.5, 259.5, 244.5, 244.5,\n",
       "        229.5, 229.5, 444.5, 444.5, 429.5, 429.5, 414.5, 414.5, 399.5,\n",
       "        399.5, 384.5, 384.5, 369.5, 369.5, 354.5, 354.5, 339.5, 339.5,\n",
       "        324.5, 324.5, 309.5, 309.5]])"
      ]
     },
     "execution_count": 172,
     "metadata": {},
     "output_type": "execute_result"
    }
   ],
   "source": [
    "targets"
   ]
  },
  {
   "cell_type": "code",
   "execution_count": 160,
   "id": "b2f1141a",
   "metadata": {},
   "outputs": [
    {
     "data": {
      "text/plain": [
       "array([[346. , 352. , 346. , 352. , 346. , 352. , 346. , 352. , 346. ,\n",
       "        352. , 346. , 352. , 346. , 352. , 346. , 352. , 346. , 352. ,\n",
       "        346. , 352. ],\n",
       "       [364.5, 364.5, 349.5, 349.5, 334.5, 334.5, 319.5, 319.5, 304.5,\n",
       "        304.5, 289.5, 289.5, 274.5, 274.5, 259.5, 259.5, 244.5, 244.5,\n",
       "        229.5, 229.5]])"
      ]
     },
     "execution_count": 160,
     "metadata": {},
     "output_type": "execute_result"
    }
   ],
   "source": [
    "utils.gen_square_targets([2,10], [6, 15], 0, [369-20,337-40])[0]"
   ]
  },
  {
   "cell_type": "code",
   "execution_count": 107,
   "id": "9f2edf43",
   "metadata": {},
   "outputs": [
    {
     "name": "stdout",
     "output_type": "stream",
     "text": [
      "20241111_135100\n",
      "20241111_135103\n",
      "20241111_135103\n",
      "20241111_135103\n"
     ]
    },
    {
     "data": {
      "text/plain": [
       "('C:\\\\msys64\\\\home\\\\nilab\\\\projects\\\\NaCsSLM\\\\lib\\\\Cs_pattern\\\\20241111_13512112x7_big_newcalibration_config.yml',\n",
       " 'C:\\\\msys64\\\\home\\\\nilab\\\\projects\\\\NaCsSLM\\\\lib\\\\Cs_pattern\\\\20241111_13512112x7_big_newcalibration_data.npz',\n",
       " ['ok'],\n",
       " ['ok'])"
      ]
     },
     "execution_count": 107,
     "metadata": {},
     "output_type": "execute_result"
    }
   ],
   "source": [
    "target_file_name = \"12x7_big_newcalibration\"\n",
    "client.calculate_save_and_project(k_array, target_amps, 20, \"C:\\\\msys64\\\\home\\\\nilab\\\\projects\\\\NaCsSLM\\\\lib\\\\Cs_pattern\", target_file_name)"
   ]
  },
  {
   "cell_type": "markdown",
   "id": "2d31809e",
   "metadata": {},
   "source": [
    "# 10/28 - Bigger array"
   ]
  },
  {
   "cell_type": "code",
   "execution_count": 91,
   "id": "41250fde",
   "metadata": {},
   "outputs": [],
   "source": [
    "# 7_13_24\n",
    "def andor_to_k(x):\n",
    "    A = np.array([[-1.3347, 0.89309], [0.89306, 1.3414]])\n",
    "    b = np.array([[1254.758], [277.627]])\n",
    "    targets = np.matmul(A,x)+b\n",
    "    return targets\n",
    "\n",
    "def k_to_andor(k):\n",
    "    A = np.array([[-1.3347, 0.89309], [0.89306, 1.3414]])\n",
    "    b = np.array([[1254.758], [277.627]])\n",
    "    invA = np.linalg.inv(A)\n",
    "    targets = np.matmul(invA, k - b)\n",
    "    return targets"
   ]
  },
  {
   "cell_type": "code",
   "execution_count": 152,
   "id": "81722c90",
   "metadata": {},
   "outputs": [
    {
     "name": "stdout",
     "output_type": "stream",
     "text": [
      "[321. 336. 351. 366. 381. 396. 411. 321. 336. 351. 366. 381. 396. 411.\n",
      " 321. 336. 351. 366. 381. 396. 411. 321. 336. 351. 366. 381. 396. 411.\n",
      " 321. 336. 351. 366. 381. 396. 411. 321. 336. 351. 366. 381. 396. 411.\n",
      " 321. 336. 351. 366. 381. 396. 411. 321. 336. 351. 366. 381. 396. 411.\n",
      " 321. 336. 351. 366. 381. 396. 411. 321. 336. 351. 366. 381. 396. 411.\n",
      " 321. 336. 351. 366. 381. 396. 411. 321. 336. 351. 366. 381. 396. 411.]\n",
      "[[-86 -86 -86 -86 -86 -86 -86 -70 -70 -70 -70 -70 -70 -70 -56 -56 -56 -56  -56 -56 -56 -40 -40 -40 -40 -40 -40 -40 -26 -26 -26 -26 -26 -26 -26 -10  -10 -10 -10 -10 -10 -10   4   4   4   4   4   4   4  20  20  20  20  20   20  20  34  34  34  34  34  34  34  50  50  50  50  50  50  50  64  64   64  64  64  64  64  80  80  80  80  80  80  80] [-48 -33 -18  -3  12  27  42 -48 -33 -18  -3  12  27  42 -48 -33 -18  -3   12  27  42 -48 -33 -18  -3  12  27  42 -48 -33 -18  -3  12  27  42 -48  -33 -18  -3  12  27  42 -48 -33 -18  -3  12  27  42 -48 -33 -18  -3  12   27  42 -48 -33 -18  -3  12  27  42 -48 -33 -18  -3  12  27  42 -48 -33  -18  -3  12  27  42 -48 -33 -18  -3  12  27  42]]\n"
     ]
    }
   ],
   "source": [
    "targets, target_amps = utils.gen_square_targets([7,12], [15, 15], 0, [366,340])\n",
    "print(targets[0])\n",
    "\n",
    "def andor_to_img(targets, center):\n",
    "    x_array = targets\n",
    "    ntargets = x_array.shape[1]\n",
    "    firstcoord_center = center[0]\n",
    "    secondcoord_center = center[1]\n",
    "    #subtract off center and reflect second coord, then round and cast to int\n",
    "    x_array_cam = np.round((x_array - np.array([np.ones((ntargets))*firstcoord_center,np.ones((ntargets))*secondcoord_center]))*np.array([[1],[-1]])).astype(int)\n",
    "    x_array_cam[[0, 1]] = x_array_cam[[1, 0]]\n",
    "    return x_array_cam\n",
    "\n",
    "print(str(andor_to_img(targets, [369, 337])).replace(\"\\n\", \"\"))"
   ]
  },
  {
   "cell_type": "code",
   "execution_count": 40,
   "id": "69eb1d57",
   "metadata": {},
   "outputs": [
    {
     "name": "stdout",
     "output_type": "stream",
     "text": [
      "[[-56 -40 -40 -26   4  64  64] [ 42  27  42  27 -48 -18  42]]\n"
     ]
    }
   ],
   "source": [
    "temp_target = np.array([[411., 396., 411., 396., 321., 351., 411.],[392.5, 377.5, 377.5, 362.5, 332.5, 272.5, 272.5]])\n",
    "print(str(andor_to_img(temp_target, [369, 337])).replace(\"\\n\", \"\"))"
   ]
  },
  {
   "cell_type": "code",
   "execution_count": 80,
   "id": "e912b363",
   "metadata": {},
   "outputs": [
    {
     "name": "stdout",
     "output_type": "stream",
     "text": [
      "[[-58 -42 -42 -28 -13  63  62] [ 24   9  24   9  39 -35  25]]\n"
     ]
    }
   ],
   "source": [
    "print(str(andor_to_img(mycord, [369, 337])).replace(\"\\n\", \"\"))"
   ]
  },
  {
   "cell_type": "code",
   "execution_count": 79,
   "id": "ddee5eef",
   "metadata": {},
   "outputs": [
    {
     "data": {
      "text/plain": [
       "array([[393., 378., 393., 378., 408., 334., 394.],\n",
       "       [395., 379., 379., 365., 350., 274., 275.]])"
      ]
     },
     "execution_count": 79,
     "metadata": {},
     "output_type": "execute_result"
    }
   ],
   "source": [
    "X = np.array([-58,-42,-42,-28,-13,63,62])\n",
    "Y = np.array([24,9,24,9,39,-35,25])\n",
    "np.array([np.ones((7))*369,np.ones((7))*337])\n",
    "mycord = np.array([Y,-X])+np.array([np.ones((7))*369,np.ones((7))*337])\n",
    "mycord"
   ]
  },
  {
   "cell_type": "code",
   "execution_count": 33,
   "id": "212bcd02",
   "metadata": {},
   "outputs": [
    {
     "data": {
      "text/plain": [
       "array([ 42,  27,  42,  27, -48, -18,  42])"
      ]
     },
     "execution_count": 33,
     "metadata": {},
     "output_type": "execute_result"
    }
   ],
   "source": [
    "andor_to_img(targets, [369, 337])[1][[20,26,27,33,42,72,76]]"
   ]
  },
  {
   "cell_type": "code",
   "execution_count": 97,
   "id": "c39929b2",
   "metadata": {},
   "outputs": [
    {
     "data": {
      "text/plain": [
       "array([396., 381., 396., 381., 411., 336., 396.])"
      ]
     },
     "execution_count": 97,
     "metadata": {},
     "output_type": "execute_result"
    }
   ],
   "source": [
    "targets[0][[20-1,26-1,27-1,33-1,42-1,72-1,76-1]]"
   ]
  },
  {
   "cell_type": "code",
   "execution_count": 96,
   "id": "4f4bcc07",
   "metadata": {},
   "outputs": [
    {
     "data": {
      "text/plain": [
       "array([392.5, 377.5, 377.5, 362.5, 347.5, 272.5, 272.5])"
      ]
     },
     "execution_count": 96,
     "metadata": {},
     "output_type": "execute_result"
    }
   ],
   "source": [
    "targets[1][[20-1,26-1,27-1,33-1,42-1,72-1,76-1]]"
   ]
  },
  {
   "cell_type": "code",
   "execution_count": 99,
   "id": "37c104fa",
   "metadata": {},
   "outputs": [
    {
     "name": "stdout",
     "output_type": "stream",
     "text": [
      "[1076.754625 1083.378775 1063.358275 1069.982425 1016.545075 1049.665825\n",
      "  969.583825]\n",
      "[1157.77826 1124.26136 1137.65726 1104.14036 1110.81116  943.22666\n",
      "  996.81026]\n"
     ]
    }
   ],
   "source": [
    "k_array = andor_to_k(targets)\n",
    "print(k_array[0][[20-1,26-1,27-1,33-1,42-1,72-1,76-1]])\n",
    "print(k_array[1][[20-1,26-1,27-1,33-1,42-1,72-1,76-1]])\n"
   ]
  },
  {
   "cell_type": "code",
   "execution_count": 43,
   "id": "f91d2065",
   "metadata": {},
   "outputs": [
    {
     "name": "stdout",
     "output_type": "stream",
     "text": [
      "20241028_183543\n",
      "20241028_183546\n",
      "20241028_183546\n",
      "20241028_183546\n"
     ]
    },
    {
     "data": {
      "text/plain": [
       "('C:\\\\msys64\\\\home\\\\nilab\\\\projects\\\\NaCsSLM\\\\lib\\\\Cs_pattern\\\\20241028_18361312x7_big_config.yml',\n",
       " 'C:\\\\msys64\\\\home\\\\nilab\\\\projects\\\\NaCsSLM\\\\lib\\\\Cs_pattern\\\\20241028_18361312x7_big_data.npz',\n",
       " ['ok'],\n",
       " ['ok'])"
      ]
     },
     "execution_count": 43,
     "metadata": {},
     "output_type": "execute_result"
    }
   ],
   "source": [
    "target_file_name = \"12x7_big\"\n",
    "client.calculate_save_and_project(k_array, target_amps, 20, \"C:\\\\msys64\\\\home\\\\nilab\\\\projects\\\\NaCsSLM\\\\lib\\\\Cs_pattern\", target_file_name)"
   ]
  },
  {
   "cell_type": "code",
   "execution_count": 182,
   "id": "19642e47",
   "metadata": {},
   "outputs": [
    {
     "name": "stdout",
     "output_type": "stream",
     "text": [
      "20241111_162759\n"
     ]
    },
    {
     "data": {
      "text/plain": [
       "['base: C:\\\\msys64\\\\home\\\\nilab\\\\projects\\\\NaCsSLM\\\\lib\\\\Cs_pattern\\\\20241111_14421012x2x2_Cs_pairs additional: file_correction:C:\\\\msys64\\\\home\\\\nilab\\\\projects\\\\NaCsSLM\\\\lib\\\\Cs_Correction_Patterns\\\\CAL_LSH0802977_1064nm.bmp,zernike:[((2, 1), 10.0)], aperture: None']"
      ]
     },
     "execution_count": 182,
     "metadata": {},
     "output_type": "execute_result"
    }
   ],
   "source": [
    "client.send_get_current_phase_info()"
   ]
  },
  {
   "cell_type": "code",
   "execution_count": 6,
   "id": "901fc120",
   "metadata": {},
   "outputs": [
    {
     "name": "stdout",
     "output_type": "stream",
     "text": [
      "20241111_120013\n",
      "20241111_120013\n",
      "20241111_120014\n",
      "20241111_120014\n"
     ]
    },
    {
     "data": {
      "text/plain": [
       "['ok']"
      ]
     },
     "execution_count": 6,
     "metadata": {},
     "output_type": "execute_result"
    }
   ],
   "source": [
    "#Recreate correction pattern\n",
    "client.send_reset_add_phase()\n",
    "# client.send_fresnel_lens(np.array([500000])) \n",
    "#client.send_fresnel_lens(np.array([-100000])) \n",
    "client.send_correction(\"C:\\\\msys64\\\\home\\\\nilab\\\\projects\\\\NaCsSLM\\\\lib\\\\Cs_Correction_Patterns\\\\CAL_LSH0802977_1064nm.bmp\")\n",
    "\n",
    "client.send_zernike_poly(np.array([[2,1,10]]))# notice = client.send_zernike_poly(np.array([[1,0,0],[1,1,0],[2,1,0],[2,2,0],[2,0,-20],[3,0,0],[3,2,0],[3,1,0],[3,3,0],[4,2,0]]))# oridginal \n",
    "\n",
    "# notice = client.send_zernike_poly(np.array([[1,0,0],[1,1,0],[2,1,3],[2,2,6],[2,0,-14],[3,0,0],[3,1,3],[3,3,0]]))# oridginal +defocus\n",
    "\n",
    "#notice = client.send_zernike_poly(np.array([[1,0,0],[1,1,0],[2,1,4],[2,2,-4],[2,0,-25],[3,0,5],[3,1,3],[3,3,0]]))\n",
    "\n",
    "#print(notice)\n",
    "# notice = client.send_zernike_poly(np.array([[2,1,1]]))\n",
    "client.send_project()"
   ]
  },
  {
   "cell_type": "code",
   "execution_count": 60,
   "id": "4683cf00",
   "metadata": {},
   "outputs": [
    {
     "name": "stdout",
     "output_type": "stream",
     "text": [
      "20241028_191827\n"
     ]
    },
    {
     "data": {
      "text/plain": [
       "['base: C:\\\\msys64\\\\home\\\\nilab\\\\projects\\\\NaCsSLM\\\\lib\\\\Cs_pattern\\\\20241028_18361312x7_big additional: file_correction:C:\\\\msys64\\\\home\\\\nilab\\\\projects\\\\NaCsSLM\\\\lib\\\\Cs_Correction_Patterns\\\\CAL_LSH0802977_1064nm.bmp,zernike:[((2, 1), 10.0)], aperture: None']"
      ]
     },
     "execution_count": 60,
     "metadata": {},
     "output_type": "execute_result"
    }
   ],
   "source": [
    "client.send_get_current_phase_info()"
   ]
  },
  {
   "cell_type": "markdown",
   "id": "cc5c573a",
   "metadata": {},
   "source": [
    "# 7/13 - Promotional Patterns"
   ]
  },
  {
   "cell_type": "code",
   "execution_count": 3,
   "id": "b98693dc",
   "metadata": {},
   "outputs": [],
   "source": [
    "# 7_13_24\n",
    "def andor_to_k(x):\n",
    "    A = np.array([[-1.3347, 0.89309], [0.89306, 1.3414]])\n",
    "    b = np.array([[1254.758], [277.627]])\n",
    "    targets = np.matmul(A,x)+b\n",
    "    return targets\n",
    "\n",
    "def k_to_andor(k):\n",
    "    A = np.array([[-1.3347, 0.89309], [0.89306, 1.3414]])\n",
    "    b = np.array([[1254.758], [277.627]])\n",
    "    invA = np.linalg.inv(A)\n",
    "    targets = np.matmul(invA, k - b)\n",
    "    return targets"
   ]
  },
  {
   "cell_type": "code",
   "execution_count": 6,
   "id": "93c89bd9",
   "metadata": {},
   "outputs": [
    {
     "name": "stdout",
     "output_type": "stream",
     "text": [
      "[[329. 339. 349. 359. 369. 379. 389. 399. 409. 329. 339. 349. 359. 369.\n",
      "  379. 389. 399. 409. 329. 339. 349. 359. 369. 379. 389. 399. 409. 329.\n",
      "  339. 349. 359. 369. 379. 389. 399. 409. 329. 339. 349. 359. 369. 379.\n",
      "  389. 399. 409. 329. 339. 349. 359. 369. 379. 389. 399. 409. 329. 339.\n",
      "  349. 359. 369. 379. 389. 399. 409. 329. 339. 349. 359. 369. 379. 389.\n",
      "  399. 409. 329. 339. 349. 359. 369. 379. 389. 399. 409.]\n",
      " [297. 297. 297. 297. 297. 297. 297. 297. 297. 287. 287. 287. 287. 287.\n",
      "  287. 287. 287. 287. 277. 277. 277. 277. 277. 277. 277. 277. 277. 267.\n",
      "  267. 267. 267. 267. 267. 267. 267. 267. 257. 257. 257. 257. 257. 257.\n",
      "  257. 257. 257. 247. 247. 247. 247. 247. 247. 247. 247. 247. 237. 237.\n",
      "  237. 237. 237. 237. 237. 237. 237. 227. 227. 227. 227. 227. 227. 227.\n",
      "  227. 227. 217. 217. 217. 217. 217. 217. 217. 217. 217.]]\n",
      "[[-40 -40 -40 -40 -40 -40 -40 -40 -40 -30 -30 -30 -30 -30 -30 -30 -30 -30  -20 -20 -20 -20 -20 -20 -20 -20 -20 -10 -10 -10 -10 -10 -10 -10 -10 -10    0   0   0   0   0   0   0   0   0  10  10  10  10  10  10  10  10  10   20  20  20  20  20  20  20  20  20  30  30  30  30  30  30  30  30  30   40  40  40  40  40  40  40  40  40] [-40 -30 -20 -10   0  10  20  30  40 -40 -30 -20 -10   0  10  20  30  40  -40 -30 -20 -10   0  10  20  30  40 -40 -30 -20 -10   0  10  20  30  40  -40 -30 -20 -10   0  10  20  30  40 -40 -30 -20 -10   0  10  20  30  40  -40 -30 -20 -10   0  10  20  30  40 -40 -30 -20 -10   0  10  20  30  40  -40 -30 -20 -10   0  10  20  30  40]]\n"
     ]
    }
   ],
   "source": [
    "#\n",
    "# 1     41 45\n",
    "# 2     42 46\n",
    "# 3     43 47\n",
    "# 4     44 48\n",
    "targets, target_amps = utils.gen_square_targets([9,9], [10, 10], 0, [369,257])\n",
    "print(targets)\n",
    "\n",
    "def andor_to_img(targets, center):\n",
    "    x_array = targets\n",
    "    ntargets = x_array.shape[1]\n",
    "    firstcoord_center = center[0]\n",
    "    secondcoord_center = center[1]\n",
    "    #subtract off center and reflect second coord, then round and cast to int\n",
    "    x_array_cam = np.round((x_array - np.array([np.ones((ntargets))*firstcoord_center,np.ones((ntargets))*secondcoord_center]))*np.array([[1],[-1]])).astype(int)\n",
    "    x_array_cam[[0, 1]] = x_array_cam[[1, 0]]\n",
    "    return x_array_cam\n",
    "\n",
    "print(str(andor_to_img(targets, [369, 257])).replace(\"\\n\", \"\"))"
   ]
  },
  {
   "cell_type": "code",
   "execution_count": 7,
   "id": "48b6e5c8",
   "metadata": {},
   "outputs": [
    {
     "data": {
      "text/plain": [
       "array([[1080.88943, 1067.54243, 1054.19543, 1040.84843, 1027.50143,\n",
       "        1014.15443, 1000.80743,  987.46043,  974.11343, 1071.95853,\n",
       "        1058.61153, 1045.26453, 1031.91753, 1018.57053, 1005.22353,\n",
       "         991.87653,  978.52953,  965.18253, 1063.02763, 1049.68063,\n",
       "        1036.33363, 1022.98663, 1009.63963,  996.29263,  982.94563,\n",
       "         969.59863,  956.25163, 1054.09673, 1040.74973, 1027.40273,\n",
       "        1014.05573, 1000.70873,  987.36173,  974.01473,  960.66773,\n",
       "         947.32073, 1045.16583, 1031.81883, 1018.47183, 1005.12483,\n",
       "         991.77783,  978.43083,  965.08383,  951.73683,  938.38983,\n",
       "        1036.23493, 1022.88793, 1009.54093,  996.19393,  982.84693,\n",
       "         969.49993,  956.15293,  942.80593,  929.45893, 1027.30403,\n",
       "        1013.95703, 1000.61003,  987.26303,  973.91603,  960.56903,\n",
       "         947.22203,  933.87503,  920.52803, 1018.37313, 1005.02613,\n",
       "         991.67913,  978.33213,  964.98513,  951.63813,  938.29113,\n",
       "         924.94413,  911.59713, 1009.44223,  996.09523,  982.74823,\n",
       "         969.40123,  956.05423,  942.70723,  929.36023,  916.01323,\n",
       "         902.66623],\n",
       "       [ 969.83954,  978.77014,  987.70074,  996.63134, 1005.56194,\n",
       "        1014.49254, 1023.42314, 1032.35374, 1041.28434,  956.42554,\n",
       "         965.35614,  974.28674,  983.21734,  992.14794, 1001.07854,\n",
       "        1010.00914, 1018.93974, 1027.87034,  943.01154,  951.94214,\n",
       "         960.87274,  969.80334,  978.73394,  987.66454,  996.59514,\n",
       "        1005.52574, 1014.45634,  929.59754,  938.52814,  947.45874,\n",
       "         956.38934,  965.31994,  974.25054,  983.18114,  992.11174,\n",
       "        1001.04234,  916.18354,  925.11414,  934.04474,  942.97534,\n",
       "         951.90594,  960.83654,  969.76714,  978.69774,  987.62834,\n",
       "         902.76954,  911.70014,  920.63074,  929.56134,  938.49194,\n",
       "         947.42254,  956.35314,  965.28374,  974.21434,  889.35554,\n",
       "         898.28614,  907.21674,  916.14734,  925.07794,  934.00854,\n",
       "         942.93914,  951.86974,  960.80034,  875.94154,  884.87214,\n",
       "         893.80274,  902.73334,  911.66394,  920.59454,  929.52514,\n",
       "         938.45574,  947.38634,  862.52754,  871.45814,  880.38874,\n",
       "         889.31934,  898.24994,  907.18054,  916.11114,  925.04174,\n",
       "         933.97234]])"
      ]
     },
     "execution_count": 7,
     "metadata": {},
     "output_type": "execute_result"
    }
   ],
   "source": [
    "k_array = andor_to_k(targets)\n",
    "k_array"
   ]
  },
  {
   "cell_type": "code",
   "execution_count": 8,
   "id": "6840c844",
   "metadata": {},
   "outputs": [
    {
     "name": "stdout",
     "output_type": "stream",
     "text": [
      "20240713_145356\n",
      "20240713_145359\n",
      "20240713_145359\n",
      "20240713_145359\n"
     ]
    },
    {
     "data": {
      "text/plain": [
       "('C:\\\\msys64\\\\home\\\\nilab\\\\projects\\\\NaCsSLM\\\\lib\\\\Cs_pattern\\\\20240713_1453509x9_config.yml',\n",
       " 'C:\\\\msys64\\\\home\\\\nilab\\\\projects\\\\NaCsSLM\\\\lib\\\\Cs_pattern\\\\20240713_1453509x9_data.npz',\n",
       " ['ok'],\n",
       " ['ok'])"
      ]
     },
     "execution_count": 8,
     "metadata": {},
     "output_type": "execute_result"
    }
   ],
   "source": [
    "ntargets = targets.shape[1]\n",
    "target_file_name = \"9x9\"\n",
    "#[_,targetname,_,_] = client.calculate_save_and_project(targets, target_amps, 20, \"C:\\\\msys64\\\\home\\\\nilab\\\\projects\\\\NaCsSLM\\\\lib\\\\Na_pattern\", target_file_name)\n",
    "client.calculate_save_and_project(k_array, target_amps, 20, \"C:\\\\msys64\\\\home\\\\nilab\\\\projects\\\\NaCsSLM\\\\lib\\\\Cs_pattern\", target_file_name)"
   ]
  },
  {
   "cell_type": "code",
   "execution_count": 9,
   "id": "95d405f3",
   "metadata": {},
   "outputs": [
    {
     "name": "stdout",
     "output_type": "stream",
     "text": [
      "20240713_192000\n",
      "20240713_192000\n"
     ]
    },
    {
     "data": {
      "text/plain": [
       "(['ok'], ['ok'])"
      ]
     },
     "execution_count": 9,
     "metadata": {},
     "output_type": "execute_result"
    }
   ],
   "source": [
    "client.load_and_project(\"C:\\\\msys64\\\\home\\\\nilab\\\\projects\\\\VincentSLM\\\\SLM-Assistant\\\\CsPatternsVincent\\\\base\\\\20240713_185926cs_text\")"
   ]
  },
  {
   "cell_type": "markdown",
   "id": "d5bbe56e",
   "metadata": {},
   "source": [
    "# 7/3 Calibration patterns"
   ]
  },
  {
   "cell_type": "code",
   "execution_count": 19,
   "id": "dc20806c",
   "metadata": {},
   "outputs": [],
   "source": [
    "# 7_3_24\n",
    "def andor_to_k(x):\n",
    "    A = np.array([[-1.3347, 0.89309], [0.89306, 1.3414]])\n",
    "    b = np.array([[1254.758], [277.627]])\n",
    "    targets = np.matmul(A,x)+b\n",
    "    return targets\n",
    "\n",
    "def k_to_andor(k):\n",
    "    A = np.array([[-1.3347, 0.89309], [0.89306, 1.3414]])\n",
    "    b = np.array([[1254.758], [277.627]])\n",
    "    invA = np.linalg.inv(A)\n",
    "    targets = np.matmul(invA, k - b)\n",
    "    return targets"
   ]
  },
  {
   "cell_type": "code",
   "execution_count": 37,
   "id": "d227f5fc",
   "metadata": {},
   "outputs": [
    {
     "name": "stdout",
     "output_type": "stream",
     "text": [
      "[[339. 359. 379. 399. 339. 359. 379. 399. 339. 359. 379. 399. 339. 359.\n",
      "  379. 399. 339. 359. 379. 399. 339. 359. 379. 399. 339. 359. 379. 399.\n",
      "  339. 359. 379. 399. 339. 359. 379. 399. 339. 359. 379. 399. 339. 359.\n",
      "  379. 399. 339. 359. 379. 399.]\n",
      " [312. 312. 312. 312. 302. 302. 302. 302. 292. 292. 292. 292. 282. 282.\n",
      "  282. 282. 272. 272. 272. 272. 262. 262. 262. 262. 252. 252. 252. 252.\n",
      "  242. 242. 242. 242. 232. 232. 232. 232. 222. 222. 222. 222. 212. 212.\n",
      "  212. 212. 202. 202. 202. 202.]]\n",
      "[[-55 -55 -55 -55 -45 -45 -45 -45 -35 -35 -35 -35 -25 -25 -25 -25 -15 -15  -15 -15  -5  -5  -5  -5   5   5   5   5  15  15  15  15  25  25  25  25   35  35  35  35  45  45  45  45  55  55  55  55] [-30 -10  10  30 -30 -10  10  30 -30 -10  10  30 -30 -10  10  30 -30 -10   10  30 -30 -10  10  30 -30 -10  10  30 -30 -10  10  30 -30 -10  10  30  -30 -10  10  30 -30 -10  10  30 -30 -10  10  30]]\n"
     ]
    }
   ],
   "source": [
    "#\n",
    "# 1     41 45\n",
    "# 2     42 46\n",
    "# 3     43 47\n",
    "# 4     44 48\n",
    "targets, target_amps = utils.gen_square_targets([4,12], [20, 10], 0, [369,257])\n",
    "print(targets)\n",
    "\n",
    "def andor_to_img(targets, center):\n",
    "    x_array = targets\n",
    "    ntargets = x_array.shape[1]\n",
    "    firstcoord_center = center[0]\n",
    "    secondcoord_center = center[1]\n",
    "    #subtract off center and reflect second coord, then round and cast to int\n",
    "    x_array_cam = np.round((x_array - np.array([np.ones((ntargets))*firstcoord_center,np.ones((ntargets))*secondcoord_center]))*np.array([[1],[-1]])).astype(int)\n",
    "    x_array_cam[[0, 1]] = x_array_cam[[1, 0]]\n",
    "    return x_array_cam\n",
    "\n",
    "print(str(andor_to_img(targets, [369, 257])).replace(\"\\n\", \"\"))\n"
   ]
  },
  {
   "cell_type": "code",
   "execution_count": 38,
   "id": "78f454e4",
   "metadata": {},
   "outputs": [
    {
     "data": {
      "text/plain": [
       "array([[1080.93878, 1054.24478, 1027.55078, 1000.85678, 1072.00788,\n",
       "        1045.31388, 1018.61988,  991.92588, 1063.07698, 1036.38298,\n",
       "        1009.68898,  982.99498, 1054.14608, 1027.45208, 1000.75808,\n",
       "         974.06408, 1045.21518, 1018.52118,  991.82718,  965.13318,\n",
       "        1036.28428, 1009.59028,  982.89628,  956.20228, 1027.35338,\n",
       "        1000.65938,  973.96538,  947.27138, 1018.42248,  991.72848,\n",
       "         965.03448,  938.34048, 1009.49158,  982.79758,  956.10358,\n",
       "         929.40958, 1000.56068,  973.86668,  947.17268,  920.47868,\n",
       "         991.62978,  964.93578,  938.24178,  911.54778,  982.69888,\n",
       "         956.00488,  929.31088,  902.61688],\n",
       "       [ 998.89114, 1016.75234, 1034.61354, 1052.47474,  985.47714,\n",
       "        1003.33834, 1021.19954, 1039.06074,  972.06314,  989.92434,\n",
       "        1007.78554, 1025.64674,  958.64914,  976.51034,  994.37154,\n",
       "        1012.23274,  945.23514,  963.09634,  980.95754,  998.81874,\n",
       "         931.82114,  949.68234,  967.54354,  985.40474,  918.40714,\n",
       "         936.26834,  954.12954,  971.99074,  904.99314,  922.85434,\n",
       "         940.71554,  958.57674,  891.57914,  909.44034,  927.30154,\n",
       "         945.16274,  878.16514,  896.02634,  913.88754,  931.74874,\n",
       "         864.75114,  882.61234,  900.47354,  918.33474,  851.33714,\n",
       "         869.19834,  887.05954,  904.92074]])"
      ]
     },
     "execution_count": 38,
     "metadata": {},
     "output_type": "execute_result"
    }
   ],
   "source": [
    "k_array = andor_to_k(targets)\n",
    "k_array"
   ]
  },
  {
   "cell_type": "code",
   "execution_count": 41,
   "id": "0743a695",
   "metadata": {
    "scrolled": true
   },
   "outputs": [
    {
     "name": "stdout",
     "output_type": "stream",
     "text": [
      "20240703_120426\n",
      "20240703_120428\n",
      "20240703_120428\n",
      "20240703_120429\n"
     ]
    },
    {
     "data": {
      "text/plain": [
       "('C:\\\\msys64\\\\home\\\\nilab\\\\projects\\\\NaCsSLM\\\\lib\\\\Cs_pattern\\\\20240703_120425calib_rows_config.yml',\n",
       " 'C:\\\\msys64\\\\home\\\\nilab\\\\projects\\\\NaCsSLM\\\\lib\\\\Cs_pattern\\\\20240703_120425calib_rows_data.npz',\n",
       " ['ok'],\n",
       " ['ok'])"
      ]
     },
     "execution_count": 41,
     "metadata": {},
     "output_type": "execute_result"
    }
   ],
   "source": [
    "ntargets = targets.shape[1]\n",
    "target_amps[26] = 1.05\n",
    "target_file_name = \"calib_rows\"\n",
    "#[_,targetname,_,_] = client.calculate_save_and_project(targets, target_amps, 20, \"C:\\\\msys64\\\\home\\\\nilab\\\\projects\\\\NaCsSLM\\\\lib\\\\Na_pattern\", target_file_name)\n",
    "client.calculate_save_and_project(k_array, target_amps, 20, \"C:\\\\msys64\\\\home\\\\nilab\\\\projects\\\\NaCsSLM\\\\lib\\\\Cs_pattern\", target_file_name)"
   ]
  },
  {
   "cell_type": "code",
   "execution_count": 23,
   "id": "0ac6acb5",
   "metadata": {},
   "outputs": [
    {
     "name": "stdout",
     "output_type": "stream",
     "text": [
      "20241028_173612\n"
     ]
    },
    {
     "data": {
      "text/plain": [
       "['base: C:\\\\msys64\\\\home\\\\nilab\\\\projects\\\\NaCsSLM\\\\lib\\\\Cs_pattern\\\\20241028_17104712x7_big additional: file_correction:C:\\\\msys64\\\\home\\\\nilab\\\\projects\\\\NaCsSLM\\\\lib\\\\Cs_Correction_Patterns\\\\CAL_LSH0802977_1064nm.bmp,zernike:[((2, 1), 10.0)], aperture: None']"
      ]
     },
     "execution_count": 23,
     "metadata": {},
     "output_type": "execute_result"
    }
   ],
   "source": [
    "client.send_get_current_phase_info()"
   ]
  },
  {
   "cell_type": "code",
   "execution_count": 29,
   "id": "b192a6ba",
   "metadata": {},
   "outputs": [
    {
     "name": "stdout",
     "output_type": "stream",
     "text": [
      "20241004_130148\n",
      "20241004_130149\n"
     ]
    },
    {
     "data": {
      "text/plain": [
       "['ok']"
      ]
     },
     "execution_count": 29,
     "metadata": {},
     "output_type": "execute_result"
    }
   ],
   "source": [
    "client.send_reset_add_phase()\n",
    "client.send_project()"
   ]
  },
  {
   "cell_type": "code",
   "execution_count": 15,
   "id": "0eb1f006",
   "metadata": {},
   "outputs": [
    {
     "name": "stdout",
     "output_type": "stream",
     "text": [
      "20241004_112459\n",
      "20241004_112459\n"
     ]
    }
   ],
   "source": [
    "client.save_config(\"C:\\\\experiment-control\\\\matlab_new\\\\NaCsSLM\\\\lib\\\\Cs_config\\\\20241004_3x9_corner.yml\")"
   ]
  },
  {
   "cell_type": "code",
   "execution_count": 4,
   "id": "18138ecb",
   "metadata": {},
   "outputs": [
    {
     "name": "stdout",
     "output_type": "stream",
     "text": [
      "20241009_103221\n",
      "20241009_103221\n",
      "20241009_103221\n",
      "20241009_103222\n",
      "20241009_103222\n"
     ]
    },
    {
     "data": {
      "text/plain": [
       "['ok']"
      ]
     },
     "execution_count": 4,
     "metadata": {},
     "output_type": "execute_result"
    }
   ],
   "source": [
    "client.send_reset_add_phase()\n",
    "client.load_config(\"C:\\\\experiment-control\\\\matlab_new\\\\NaCsSLM\\\\lib\\\\Cs_config\\\\20241004_3x9_corner.yml\")\n",
    "client.send_project()"
   ]
  },
  {
   "cell_type": "code",
   "execution_count": 4,
   "id": "5593dd84",
   "metadata": {},
   "outputs": [
    {
     "name": "stdout",
     "output_type": "stream",
     "text": [
      "20241003_180516\n",
      "20241003_180516\n",
      "20241003_180516\n",
      "20241003_180516\n",
      "20241003_180516\n",
      "20241003_180516\n"
     ]
    },
    {
     "data": {
      "text/plain": [
       "['ok']"
      ]
     },
     "execution_count": 4,
     "metadata": {},
     "output_type": "execute_result"
    }
   ],
   "source": [
    "client.send_reset_add_phase()\n",
    "client.load_config(\"C:\\\\experiment-control\\\\matlab_new\\\\NaCsSLM\\\\lib\\\\Cs_config\\\\20240703_4x12_calib.yml\")\n",
    "client.send_project()"
   ]
  },
  {
   "cell_type": "markdown",
   "id": "49d87776",
   "metadata": {},
   "source": [
    "# 6/21 ELQ"
   ]
  },
  {
   "cell_type": "code",
   "execution_count": 10,
   "id": "53dc65b3",
   "metadata": {},
   "outputs": [],
   "source": [
    "# 5_20_24\n",
    "def andor_to_k(x):\n",
    "    A = np.array([[-1.3347, 0.89309], [0.89306, 1.3414]])\n",
    "    b = np.array([[1254.758], [277.627]])\n",
    "    targets = np.matmul(A,x)+b\n",
    "    return targets\n",
    "\n",
    "def k_to_andor(k):\n",
    "    A = np.array([[-1.3347, 0.89309], [0.89306, 1.3414]])\n",
    "    b = np.array([[1254.758], [277.627]])\n",
    "    invA = np.linalg.inv(A)\n",
    "    targets = np.matmul(invA, k - b)\n",
    "    return targets"
   ]
  },
  {
   "cell_type": "code",
   "execution_count": 18,
   "id": "f806f15c",
   "metadata": {},
   "outputs": [
    {
     "name": "stdout",
     "output_type": "stream",
     "text": [
      "20240621_153034\n",
      "20240621_153037\n",
      "20240621_153037\n",
      "20240621_153037\n"
     ]
    },
    {
     "data": {
      "text/plain": [
       "('C:\\\\msys64\\\\home\\\\nilab\\\\projects\\\\NaCsSLM\\\\lib\\\\Cs_pattern\\\\20240621_153034ELQ_E_config.yml',\n",
       " 'C:\\\\msys64\\\\home\\\\nilab\\\\projects\\\\NaCsSLM\\\\lib\\\\Cs_pattern\\\\20240621_153034ELQ_E_data.npz',\n",
       " ['ok'],\n",
       " ['ok'])"
      ]
     },
     "execution_count": 18,
     "metadata": {},
     "output_type": "execute_result"
    }
   ],
   "source": [
    "# ELQ\n",
    "# E\n",
    "# Cs Na Cs\n",
    "# Na\n",
    "# Cs Na Cs\n",
    "# Na\n",
    "# Cs Na Cs\n",
    "\n",
    "# targets in andor space\n",
    "# top left corner (319, 357)\n",
    "ntargets = 6\n",
    "targets = np.zeros((2, ntargets))\n",
    "targets[0,:] = np.array([335, 335, 345, 345, 355, 355]) # x coordinates\n",
    "targets[1,:] = np.array([345, 335, 345, 335, 345, 335]) - 30 # y coordinates\n",
    "\n",
    "target_amps = np.array([1, 1, 1, 1,1, 1])\n",
    "\n",
    "k_array = andor_to_k(targets)\n",
    "\n",
    "target_file_name = \"ELQ_E\"\n",
    "#[_,targetname,_,_] = client.calculate_save_and_project(targets, target_amps, 20, \"C:\\\\msys64\\\\home\\\\nilab\\\\projects\\\\NaCsSLM\\\\lib\\\\Na_pattern\", target_file_name)\n",
    "client.calculate_save_and_project(k_array, target_amps, 20, \"C:\\\\msys64\\\\home\\\\nilab\\\\projects\\\\NaCsSLM\\\\lib\\\\Cs_pattern\", target_file_name)"
   ]
  },
  {
   "cell_type": "code",
   "execution_count": 17,
   "id": "db94ea5e",
   "metadata": {},
   "outputs": [
    {
     "data": {
      "text/plain": [
       "array([[1115.74955, 1106.81865, 1102.40255, 1093.47165, 1089.05555,\n",
       "        1080.12465],\n",
       "       [1039.5851 , 1026.1711 , 1048.5157 , 1035.1017 , 1057.4463 ,\n",
       "        1044.0323 ]])"
      ]
     },
     "execution_count": 17,
     "metadata": {},
     "output_type": "execute_result"
    }
   ],
   "source": [
    "k_array"
   ]
  },
  {
   "cell_type": "markdown",
   "id": "e6507c61",
   "metadata": {},
   "source": [
    "# 5/15"
   ]
  },
  {
   "cell_type": "code",
   "execution_count": 26,
   "id": "31b54e5e",
   "metadata": {},
   "outputs": [
    {
     "name": "stdout",
     "output_type": "stream",
     "text": [
      "20241004_130041\n",
      "20241004_130043\n",
      "20241004_130043\n",
      "20241004_130044\n"
     ]
    },
    {
     "data": {
      "text/plain": [
       "('C:\\\\msys64\\\\home\\\\nilab\\\\projects\\\\NaCsSLM\\\\lib\\\\Cs_pattern\\\\20241004_1301591500.0_1500.0_config.yml',\n",
       " 'C:\\\\msys64\\\\home\\\\nilab\\\\projects\\\\NaCsSLM\\\\lib\\\\Cs_pattern\\\\20241004_1301591500.0_1500.0_data.npz',\n",
       " ['ok'],\n",
       " ['ok'])"
      ]
     },
     "execution_count": 26,
     "metadata": {},
     "output_type": "execute_result"
    }
   ],
   "source": [
    "# grating \n",
    "ntargets = 1\n",
    "targets = np.zeros((2, ntargets))\n",
    "targets[0,:] = [1500]\n",
    "targets[1,:] = [1500]\n",
    "\n",
    "target_amps = np.array([1])#np.ones((1, ntargets))\n",
    "target_file_name = str(targets[0,0]) + '_' + str(targets[1,0])\n",
    "client.calculate_save_and_project(targets, target_amps, 20,\"C:\\\\msys64\\\\home\\\\nilab\\\\projects\\\\NaCsSLM\\\\lib\\\\Cs_pattern\" ,target_file_name)"
   ]
  },
  {
   "cell_type": "code",
   "execution_count": 8,
   "id": "3ced510b",
   "metadata": {},
   "outputs": [
    {
     "name": "stdout",
     "output_type": "stream",
     "text": [
      "20241111_120559\n",
      "20241111_120559\n"
     ]
    },
    {
     "data": {
      "text/plain": [
       "(['ok'], ['ok'])"
      ]
     },
     "execution_count": 8,
     "metadata": {},
     "output_type": "execute_result"
    }
   ],
   "source": [
    "client.load_and_project(\"C:\\\\msys64\\\\home\\\\nilab\\\\projects\\\\NaCsSLM\\\\lib\\\\Cs_pattern\\\\20241028_18361312x7_big\")"
   ]
  },
  {
   "cell_type": "code",
   "execution_count": 9,
   "id": "4adc8994",
   "metadata": {},
   "outputs": [
    {
     "name": "stdout",
     "output_type": "stream",
     "text": [
      "20241111_120602\n"
     ]
    },
    {
     "data": {
      "text/plain": [
       "['base: C:\\\\msys64\\\\home\\\\nilab\\\\projects\\\\NaCsSLM\\\\lib\\\\Cs_pattern\\\\20241028_18361312x7_big additional: file_correction:C:\\\\msys64\\\\home\\\\nilab\\\\projects\\\\NaCsSLM\\\\lib\\\\Cs_Correction_Patterns\\\\CAL_LSH0802977_1064nm.bmp,zernike:[((2, 1), 10.0)], aperture: None']"
      ]
     },
     "execution_count": 9,
     "metadata": {},
     "output_type": "execute_result"
    }
   ],
   "source": [
    "client.send_get_current_phase_info()"
   ]
  },
  {
   "cell_type": "code",
   "execution_count": 14,
   "id": "50c6098a",
   "metadata": {},
   "outputs": [
    {
     "name": "stdout",
     "output_type": "stream",
     "text": [
      "20240523_183014\n",
      "20240523_183015\n"
     ]
    },
    {
     "data": {
      "text/plain": [
       "['ok']"
      ]
     },
     "execution_count": 14,
     "metadata": {},
     "output_type": "execute_result"
    }
   ],
   "source": []
  },
  {
   "cell_type": "code",
   "execution_count": 13,
   "id": "05486bc7",
   "metadata": {},
   "outputs": [
    {
     "name": "stdout",
     "output_type": "stream",
     "text": [
      "20241004_112421\n",
      "20241004_112421\n",
      "20241004_112421\n",
      "20241004_112421\n"
     ]
    },
    {
     "data": {
      "text/plain": [
       "['ok']"
      ]
     },
     "execution_count": 13,
     "metadata": {},
     "output_type": "execute_result"
    }
   ],
   "source": [
    "#Recreate correction pattern\n",
    "client.send_reset_add_phase()\n",
    "# client.send_fresnel_lens(np.array([500000])) \n",
    "#client.send_fresnel_lens(np.array([-100000])) \n",
    "client.send_correction(\"C:\\\\msys64\\\\home\\\\nilab\\\\projects\\\\NaCsSLM\\\\lib\\\\Cs_Correction_Patterns\\\\CAL_LSH0802977_1064nm.bmp\")\n",
    "\n",
    "client.send_zernike_poly(np.array([[2,1,10]]))# notice = client.send_zernike_poly(np.array([[1,0,0],[1,1,0],[2,1,0],[2,2,0],[2,0,-20],[3,0,0],[3,2,0],[3,1,0],[3,3,0],[4,2,0]]))# oridginal \n",
    "\n",
    "# notice = client.send_zernike_poly(np.array([[1,0,0],[1,1,0],[2,1,3],[2,2,6],[2,0,-14],[3,0,0],[3,1,3],[3,3,0]]))# oridginal +defocus\n",
    "\n",
    "#notice = client.send_zernike_poly(np.array([[1,0,0],[1,1,0],[2,1,4],[2,2,-4],[2,0,-25],[3,0,5],[3,1,3],[3,3,0]]))\n",
    "\n",
    "#print(notice)\n",
    "# notice = client.send_zernike_poly(np.array([[2,1,1]]))\n",
    "client.send_project()"
   ]
  },
  {
   "cell_type": "code",
   "execution_count": 314,
   "id": "ecd1b888",
   "metadata": {},
   "outputs": [
    {
     "data": {
      "text/plain": [
       "array([[0.00000000e+00, 0.00000000e+00, 0.00000000e+00, ...,\n",
       "        0.00000000e+00, 0.00000000e+00, 0.00000000e+00],\n",
       "       [0.00000000e+00, 2.00400601e-06, 4.00801202e-06, ...,\n",
       "        1.99799399e-03, 1.99999800e-03, 0.00000000e+00],\n",
       "       [0.00000000e+00, 4.00801202e-06, 8.01602403e-06, ...,\n",
       "        3.99598798e-03, 3.99999599e-03, 0.00000000e+00],\n",
       "       ...,\n",
       "       [0.00000000e+00, 1.99799399e-03, 3.99598798e-03, ...,\n",
       "        0.00000000e+00, 0.00000000e+00, 0.00000000e+00],\n",
       "       [0.00000000e+00, 1.99999800e-03, 3.99999599e-03, ...,\n",
       "        0.00000000e+00, 0.00000000e+00, 0.00000000e+00],\n",
       "       [0.00000000e+00, 0.00000000e+00, 0.00000000e+00, ...,\n",
       "        0.00000000e+00, 0.00000000e+00, 0.00000000e+00]])"
      ]
     },
     "execution_count": 314,
     "metadata": {},
     "output_type": "execute_result"
    }
   ],
   "source": []
  },
  {
   "cell_type": "code",
   "execution_count": 370,
   "id": "81823835",
   "metadata": {
    "scrolled": false
   },
   "outputs": [
    {
     "data": {
      "text/plain": [
       "<matplotlib.colorbar.Colorbar at 0x22b63b0a438>"
      ]
     },
     "execution_count": 370,
     "metadata": {},
     "output_type": "execute_result"
    },
    {
     "data": {
      "image/png": "[encoded data removed]",
      "text/plain": [
       "<Figure size 640x480 with 2 Axes>"
      ]
     },
     "metadata": {},
     "output_type": "display_data"
    }
   ],
   "source": [
    "# test \n",
    "x = np.arange(1000)\n",
    "y = np.arange(1000)\n",
    "x_grid, y_grid = np.meshgrid(x,y)\n",
    "zernike_phase = toolbox.phase.zernike_sum(grid = (x_grid, y_grid), weights = (((3,2),0),((2,1),1)) , aperture = 'circular')\n",
    "im = plt.imshow(np.mod(np.pi*zernike_phase,2*np.pi))\n",
    "# im = plt.imshow(zernike_phase)\n",
    "\n",
    "plt.colorbar(im)"
   ]
  },
  {
   "cell_type": "code",
   "execution_count": 3,
   "id": "c89dc244",
   "metadata": {},
   "outputs": [
    {
     "name": "stdout",
     "output_type": "stream",
     "text": [
      "20240502_130459\n",
      "20240502_130459\n",
      "20240502_130459\n",
      "20240502_130459\n",
      "20240502_130500\n"
     ]
    },
    {
     "data": {
      "text/plain": [
       "['ok']"
      ]
     },
     "execution_count": 3,
     "metadata": {},
     "output_type": "execute_result"
    }
   ],
   "source": [
    "client.load_config(\"C:\\\\msys64\\\\home\\\\Simulation Computer\\\\projects\\\\NaCsSLM\\\\lib\\\\Cs_config\\\\20200227_3x3_large_spacing_Andor20_2.yml\")\n",
    "client.send_project()"
   ]
  },
  {
   "cell_type": "code",
   "execution_count": null,
   "id": "9b82c91c",
   "metadata": {},
   "outputs": [],
   "source": []
  },
  {
   "cell_type": "code",
   "execution_count": 21,
   "id": "80414b0d",
   "metadata": {},
   "outputs": [],
   "source": [
    "targets_x = [1026, 1040, 1055, 1011, 1025, 1040, 991, 1005, 1019]\n",
    "targets_y = [1018, 1038, 1059, 1034, 1054, 1074, 1053, 1074, 1094]\n",
    "targets = np.array([targets_x,targets_y])\n",
    "target_amps = np.array([1,1,1,1,1,1,1,1,1])"
   ]
  },
  {
   "cell_type": "code",
   "execution_count": 22,
   "id": "7e13da1e",
   "metadata": {},
   "outputs": [
    {
     "name": "stdout",
     "output_type": "stream",
     "text": [
      "20240502_155529\n",
      "20240502_155532\n",
      "20240502_155532\n",
      "20240502_155532\n"
     ]
    },
    {
     "data": {
      "text/plain": [
       "('C:\\\\msys64\\\\home\\\\nilab\\\\projects\\\\NaCsSLM\\\\lib\\\\Cs_pattern\\\\20240502_1555243x3_feedback_wonkystart_config.yml',\n",
       " 'C:\\\\msys64\\\\home\\\\nilab\\\\projects\\\\NaCsSLM\\\\lib\\\\Cs_pattern\\\\20240502_1555243x3_feedback_wonkystart_data.npz',\n",
       " ['ok'],\n",
       " ['ok'])"
      ]
     },
     "execution_count": 22,
     "metadata": {},
     "output_type": "execute_result"
    }
   ],
   "source": [
    "target_file_name = \"3x3_feedback_wonkystart\"\n",
    "client.calculate_save_and_project(targets, target_amps, 20, \"C:\\\\msys64\\\\home\\\\nilab\\\\projects\\\\NaCsSLM\\\\lib\\\\Cs_pattern\", target_file_name)\n"
   ]
  },
  {
   "cell_type": "code",
   "execution_count": 87,
   "id": "6647858b",
   "metadata": {},
   "outputs": [
    {
     "name": "stdout",
     "output_type": "stream",
     "text": [
      "20240514_170500\n",
      "20240514_170500\n"
     ]
    },
    {
     "data": {
      "text/plain": [
       "(['ok'], ['ok'])"
      ]
     },
     "execution_count": 87,
     "metadata": {},
     "output_type": "execute_result"
    }
   ],
   "source": [
    "client.load_and_project(\"C:\\\\msys64\\\\home\\\\nilab\\\\projects\\\\NaCsSLM\\\\lib\\\\Cs_pattern\\\\20240514_1638513x12_new_large_spacing_fdback\")"
   ]
  },
  {
   "cell_type": "code",
   "execution_count": 66,
   "id": "e5b02d8d",
   "metadata": {},
   "outputs": [
    {
     "name": "stdout",
     "output_type": "stream",
     "text": [
      "20240522_184152\n",
      "20240522_184152\n",
      "20240522_184153\n"
     ]
    },
    {
     "data": {
      "text/plain": [
       "['ok']"
      ]
     },
     "execution_count": 66,
     "metadata": {},
     "output_type": "execute_result"
    }
   ],
   "source": [
    "#Recreate correction pattern\n",
    "client.send_reset_add_phase()\n",
    "# client.send_fresnel_lens(np.array([500000])) \n",
    "client.send_correction(\"C:\\\\msys64\\\\home\\\\nilab\\\\projects\\\\NaCsSLM\\\\lib\\\\Cs_Correction_Patterns\\\\CAL_LSH0802977_1064nm.bmp\")\n",
    "# notice = client.send_zernike_poly(np.array([[2,1,200]]))\n",
    "#print(notice)\n",
    "# notice = client.send_zernike_poly(np.array([[2,1,1]]))\n",
    "client.send_project()"
   ]
  },
  {
   "cell_type": "markdown",
   "id": "b35a515c",
   "metadata": {},
   "source": [
    "# 5/21"
   ]
  },
  {
   "cell_type": "code",
   "execution_count": 6,
   "id": "ac9ecb99",
   "metadata": {},
   "outputs": [
    {
     "name": "stdout",
     "output_type": "stream",
     "text": [
      "20240625_184621\n",
      "20240625_184621\n",
      "20240625_184621\n",
      "20240625_184621\n",
      "20240625_184621\n",
      "20240625_184622\n"
     ]
    },
    {
     "data": {
      "text/plain": [
       "['ok']"
      ]
     },
     "execution_count": 6,
     "metadata": {},
     "output_type": "execute_result"
    }
   ],
   "source": [
    "client.send_reset_add_phase()\n",
    "client.load_config(\"C:\\\\experiment-control\\\\matlab_new\\\\NaCsSLM\\\\lib\\\\Cs_config\\\\20240519_3x9_10pixel.yml\")\n",
    "client.send_project()"
   ]
  },
  {
   "cell_type": "code",
   "execution_count": 5,
   "id": "13aa6247",
   "metadata": {},
   "outputs": [
    {
     "name": "stdout",
     "output_type": "stream",
     "text": [
      "20240626_165727\n",
      "20240626_165727\n",
      "20240626_165727\n",
      "20240626_165727\n",
      "20240626_165728\n"
     ]
    },
    {
     "data": {
      "text/plain": [
       "['ok']"
      ]
     },
     "execution_count": 5,
     "metadata": {},
     "output_type": "execute_result"
    }
   ],
   "source": [
    "#Recreate correction pattern\n",
    "client.send_reset_add_phase()\n",
    "client.send_fresnel_lens(np.array([500000])) \n",
    "#client.send_fresnel_lens(np.array([-100000])) \n",
    "client.send_correction(\"C:\\\\msys64\\\\home\\\\nilab\\\\projects\\\\NaCsSLM\\\\lib\\\\Cs_Correction_Patterns\\\\CAL_LSH0802977_1064nm.bmp\")\n",
    "notice = client.send_zernike_poly(np.array([[2,1,10]]))# original \n",
    "\n",
    "# notice = client.send_zernike_poly(np.array([[1,0,0],[1,1,0],[2,1,3],[2,2,6],[2,0,-14],[3,0,0],[3,1,3],[3,3,0]]))# oridginal +defocus\n",
    "\n",
    "#notice = client.send_zernike_poly(np.array([[1,0,0],[1,1,0],[2,1,4],[2,2,-4],[2,0,-25],[3,0,5],[3,1,3],[3,3,0]]))\n",
    "\n",
    "#print(notice)\n",
    "# notice = client.send_zernike_poly(np.array([[2,1,1]]))\n",
    "client.send_project()"
   ]
  },
  {
   "cell_type": "code",
   "execution_count": 7,
   "id": "e515c9d7",
   "metadata": {},
   "outputs": [
    {
     "name": "stdout",
     "output_type": "stream",
     "text": [
      "20240703_105042\n"
     ]
    },
    {
     "data": {
      "text/plain": [
       "['base: C:\\\\msys64\\\\home\\\\nilab\\\\projects\\\\NaCsSLM\\\\lib\\\\Cs_pattern\\\\20240517_1607513x9_new_large_spacing_fdback additional: fresnel_lens:500000.,file_correction:C:\\\\msys64\\\\home\\\\nilab\\\\projects\\\\NaCsSLM\\\\lib\\\\Cs_Correction_Patterns\\\\CAL_LSH0802977_1064nm.bmp,zernike:[((2, 1), 10.0)], aperture: None']"
      ]
     },
     "execution_count": 7,
     "metadata": {},
     "output_type": "execute_result"
    }
   ],
   "source": [
    "client.send_get_current_phase_info()"
   ]
  },
  {
   "cell_type": "code",
   "execution_count": 6,
   "id": "5e446882",
   "metadata": {},
   "outputs": [],
   "source": [
    "# 5_20_24\n",
    "def andor_to_k(x):\n",
    "    A = np.array([[-1.3347, 0.89309], [0.89306, 1.3414]])\n",
    "    b = np.array([[1254.758], [277.627]])\n",
    "    targets = np.matmul(A,x)+b\n",
    "    return targets\n",
    "\n",
    "def k_to_andor(k):\n",
    "    A = np.array([[-1.3347, 0.89309], [0.89306, 1.3414]])\n",
    "    b = np.array([[1254.758], [277.627]])\n",
    "    invA = np.linalg.inv(A)\n",
    "    targets = np.matmul(invA, k - b)\n",
    "    return targets\n",
    "\n",
    "# 5_20_24\n",
    "def andor_to_f(x):\n",
    "    A = np.array([[-0.00676, 0.1854], [-0.1813, -0.002275]])\n",
    "    b = np.array([[21.026], [138.39]])\n",
    "    return np.matmul(A,x) + b\n",
    "\n",
    "def f_to_andor(f):\n",
    "    A = np.array([[-0.00676, 0.1854], [-0.1813, -0.002275]])\n",
    "    b = np.array([[21.026], [138.39]])\n",
    "    invA = np.linalg.inv(A)\n",
    "    return np.matmul(invA, f - b)"
   ]
  },
  {
   "cell_type": "code",
   "execution_count": 7,
   "id": "4c1e267d",
   "metadata": {},
   "outputs": [],
   "source": [
    "#First generate an array in camera pixel coordinates\n",
    "# attempt to generate in andor plane\n",
    "# 3 6 9\n",
    "# 2 5 8\n",
    "# 1 4 7\n",
    "# for example...\n",
    "side_length = [3, 18] #num columns, num rows\n",
    "pixel_spacing = [1.1,1.1]\n",
    "rot_angle = 0\n",
    "offset = [76, 75]\n",
    "#offset = [0,0]\n",
    "[f_array,target_amps] = utils.gen_square_targets(side_length, pixel_spacing, rot_angle, offset)\n",
    "fx = np.copy(f_array[1,:])\n",
    "fy = np.copy(f_array[0,:])\n",
    "f_array[0,:] = fx\n",
    "f_array[1,:] = fy"
   ]
  },
  {
   "cell_type": "code",
   "execution_count": 8,
   "id": "8db79ddd",
   "metadata": {},
   "outputs": [
    {
     "data": {
      "text/plain": [
       "array([[340.31697881],\n",
       "       [303.53043569]])"
      ]
     },
     "execution_count": 8,
     "metadata": {},
     "output_type": "execute_result"
    }
   ],
   "source": [
    "x = f_to_andor(np.array([[75], [76]]))\n",
    "x"
   ]
  },
  {
   "cell_type": "code",
   "execution_count": 9,
   "id": "16058037",
   "metadata": {},
   "outputs": [
    {
     "data": {
      "text/plain": [
       "array([[84.35, 84.35, 84.35, 83.25, 83.25, 83.25, 82.15, 82.15, 82.15,\n",
       "        81.05, 81.05, 81.05, 79.95, 79.95, 79.95, 78.85, 78.85, 78.85,\n",
       "        77.75, 77.75, 77.75, 76.65, 76.65, 76.65, 75.55, 75.55, 75.55,\n",
       "        74.45, 74.45, 74.45, 73.35, 73.35, 73.35, 72.25, 72.25, 72.25,\n",
       "        71.15, 71.15, 71.15, 70.05, 70.05, 70.05, 68.95, 68.95, 68.95,\n",
       "        67.85, 67.85, 67.85, 66.75, 66.75, 66.75, 65.65, 65.65, 65.65],\n",
       "       [74.9 , 76.  , 77.1 , 74.9 , 76.  , 77.1 , 74.9 , 76.  , 77.1 ,\n",
       "        74.9 , 76.  , 77.1 , 74.9 , 76.  , 77.1 , 74.9 , 76.  , 77.1 ,\n",
       "        74.9 , 76.  , 77.1 , 74.9 , 76.  , 77.1 , 74.9 , 76.  , 77.1 ,\n",
       "        74.9 , 76.  , 77.1 , 74.9 , 76.  , 77.1 , 74.9 , 76.  , 77.1 ,\n",
       "        74.9 , 76.  , 77.1 , 74.9 , 76.  , 77.1 , 74.9 , 76.  , 77.1 ,\n",
       "        74.9 , 76.  , 77.1 , 74.9 , 76.  , 77.1 , 74.9 , 76.  , 77.1 ]])"
      ]
     },
     "execution_count": 9,
     "metadata": {},
     "output_type": "execute_result"
    }
   ],
   "source": [
    "f_array"
   ]
  },
  {
   "cell_type": "code",
   "execution_count": 10,
   "id": "adff3ab1",
   "metadata": {
    "scrolled": false
   },
   "outputs": [
    {
     "data": {
      "text/plain": [
       "array([[345.7489576 , 339.68444052, 333.61992345, 345.82337387,\n",
       "        339.75885679, 333.69433972, 345.89779014, 339.83327306,\n",
       "        333.76875599, 345.97220641, 339.90768933, 333.84317225,\n",
       "        346.04662268, 339.9821056 , 333.91758852, 346.12103895,\n",
       "        340.05652187, 333.99200479, 346.19545522, 340.13093814,\n",
       "        334.06642106, 346.26987149, 340.20535441, 334.14083733,\n",
       "        346.34428776, 340.27977068, 334.2152536 , 346.41870402,\n",
       "        340.35418695, 334.28966987, 346.49312029, 340.42860322,\n",
       "        334.36408614, 346.56753656, 340.50301949, 334.43850241,\n",
       "        346.64195283, 340.57743576, 334.51291868, 346.7163691 ,\n",
       "        340.65185203, 334.58733495, 346.79078537, 340.72626829,\n",
       "        334.66175122, 346.86520164, 340.80068456, 334.73616749,\n",
       "        346.93961791, 340.87510083, 334.81058376, 347.01403418,\n",
       "        340.9495171 , 334.88500003],\n",
       "       [354.15999435, 353.93887173, 353.7177491 , 348.22959012,\n",
       "        348.00846749, 347.78734486, 342.29918588, 342.07806325,\n",
       "        341.85694062, 336.36878164, 336.14765901, 335.92653638,\n",
       "        330.4383774 , 330.21725477, 329.99613214, 324.50797316,\n",
       "        324.28685053, 324.0657279 , 318.57756892, 318.35644629,\n",
       "        318.13532366, 312.64716468, 312.42604205, 312.20491942,\n",
       "        306.71676044, 306.49563781, 306.27451518, 300.7863562 ,\n",
       "        300.56523357, 300.34411094, 294.85595196, 294.63482933,\n",
       "        294.4137067 , 288.92554772, 288.70442509, 288.48330246,\n",
       "        282.99514348, 282.77402085, 282.55289822, 277.06473924,\n",
       "        276.84361661, 276.62249398, 271.134335  , 270.91321237,\n",
       "        270.69208974, 265.20393076, 264.98280813, 264.7616855 ,\n",
       "        259.27352652, 259.05240389, 258.83128126, 253.34312228,\n",
       "        253.12199965, 252.90087702]])"
      ]
     },
     "execution_count": 10,
     "metadata": {},
     "output_type": "execute_result"
    }
   ],
   "source": [
    "x_array = f_to_andor(f_array)\n",
    "x_array"
   ]
  },
  {
   "cell_type": "code",
   "execution_count": 11,
   "id": "97694a84",
   "metadata": {},
   "outputs": [],
   "source": [
    "x_array.shape\n",
    "firstcoord_center = 369\n",
    "secondcoord_center = 307\n",
    "#subtract off center and reflect second coord, then round and cast to int\n",
    "x_array_cam = np.round((x_array - np.array([np.ones((54))*firstcoord_center,np.ones((54))*secondcoord_center]))*np.array([[1],[-1]])).astype(int)\n"
   ]
  },
  {
   "cell_type": "code",
   "execution_count": 12,
   "id": "fef07990",
   "metadata": {},
   "outputs": [
    {
     "data": {
      "text/plain": [
       "array([[-23, -29, -35, -23, -29, -35, -23, -29, -35, -23, -29, -35, -23,\n",
       "        -29, -35, -23, -29, -35, -23, -29, -35, -23, -29, -35, -23, -29,\n",
       "        -35, -23, -29, -35, -23, -29, -35, -22, -28, -35, -22, -28, -34,\n",
       "        -22, -28, -34, -22, -28, -34, -22, -28, -34, -22, -28, -34, -22,\n",
       "        -28, -34],\n",
       "       [-47, -47, -47, -41, -41, -41, -35, -35, -35, -29, -29, -29, -23,\n",
       "        -23, -23, -18, -17, -17, -12, -11, -11,  -6,  -5,  -5,   0,   1,\n",
       "          1,   6,   6,   7,  12,  12,  13,  18,  18,  19,  24,  24,  24,\n",
       "         30,  30,  30,  36,  36,  36,  42,  42,  42,  48,  48,  48,  54,\n",
       "         54,  54]])"
      ]
     },
     "execution_count": 12,
     "metadata": {},
     "output_type": "execute_result"
    }
   ],
   "source": [
    "x_array_cam"
   ]
  },
  {
   "cell_type": "code",
   "execution_count": 13,
   "id": "da5ddb15",
   "metadata": {},
   "outputs": [],
   "source": [
    "#specify objective focal length in mm\n",
    "def account_for_diffraction_efficiency_correct(camera_array, a, objective_f, offset = [0,0]):\n",
    "    n_atoms = np.size(camera_array[0])\n",
    "    ys = camera_array[0]\n",
    "    xs = camera_array[1]\n",
    "    target_amps = np.zeros(n_atoms)\n",
    "    #convert objective f to andor pixels\n",
    "    d = objective_f*(1e3)/.6\n",
    "    for i in range(0,n_atoms):\n",
    "        x = xs[i]\n",
    "        y = ys[i]\n",
    "        sincsq = 1-(a**2)*((x - offset[0])**2 + ((y - offset[1])**2))/(3*(d**2))\n",
    "        amp_inv = 1/sincsq\n",
    "        target_amps[i] = amp_inv\n",
    "    return target_amps"
   ]
  },
  {
   "cell_type": "code",
   "execution_count": 14,
   "id": "544d861a",
   "metadata": {},
   "outputs": [],
   "source": [
    "targ = account_for_diffraction_efficiency_correct(x_array_cam, 200, 16)"
   ]
  },
  {
   "cell_type": "code",
   "execution_count": 15,
   "id": "687bda77",
   "metadata": {},
   "outputs": [
    {
     "data": {
      "text/plain": [
       "array([1.05411566, 1.06065628, 1.06881855, 1.04322879, 1.0496346 ,\n",
       "       1.05762748, 1.03400587, 1.04029857, 1.04814936, 1.02636474,\n",
       "       1.0325645 , 1.04029857, 1.02023899, 1.02636474, 1.03400587,\n",
       "       1.01625371, 1.02164613, 1.02921689, 1.01278002, 1.01836883,\n",
       "       1.02589092, 1.01070718, 1.01650551, 1.024     , 1.01001812,\n",
       "       1.01604074, 1.02352836, 1.01070718, 1.01671867, 1.02447208,\n",
       "       1.01278002, 1.01881626, 1.026839  , 1.01538305, 1.02121576,\n",
       "       1.03064892, 1.02027803, 1.02616727, 1.03356502, 1.02664134,\n",
       "       1.03260449, 1.04009569, 1.03452735, 1.04058273, 1.04819056,\n",
       "       1.0440048 , 1.05017197, 1.05792118, 1.05515841, 1.06145844,\n",
       "       1.06937575, 1.06809079, 1.07454668, 1.08266118])"
      ]
     },
     "execution_count": 15,
     "metadata": {},
     "output_type": "execute_result"
    }
   ],
   "source": [
    "targ"
   ]
  },
  {
   "cell_type": "code",
   "execution_count": 18,
   "id": "7dce9619",
   "metadata": {},
   "outputs": [
    {
     "data": {
      "text/plain": [
       "array([[1109.58361565, 1117.48044418, 1125.37727272, 1104.18790753,\n",
       "        1112.08473607, 1119.9815646 , 1098.79219942, 1106.68902795,\n",
       "        1114.58585648, 1093.3964913 , 1101.29331983, 1109.19014837,\n",
       "        1088.00078318, 1095.89761171, 1103.79444025, 1082.60507506,\n",
       "        1090.5019036 , 1098.39873213, 1077.20936695, 1085.10619548,\n",
       "        1093.00302401, 1071.81365883, 1079.71048736, 1087.6073159 ,\n",
       "        1066.41795071, 1074.31477925, 1082.21160778, 1061.0222426 ,\n",
       "        1068.91907113, 1076.81589966, 1055.62653448, 1063.52336301,\n",
       "        1071.42019155, 1050.23082636, 1058.1276549 , 1066.02448343,\n",
       "        1044.83511824, 1052.73194678, 1060.62877531, 1039.43941013,\n",
       "        1047.33623866, 1055.23306719, 1034.04370201, 1041.94053054,\n",
       "        1049.83735908, 1028.64799389, 1036.54482243, 1044.44165096,\n",
       "        1023.25228578, 1031.14911431, 1039.04594284, 1017.85657766,\n",
       "        1025.75340619, 1033.65023473],\n",
       "       [1061.4717805 , 1055.75918899, 1050.04659747, 1053.58319445,\n",
       "        1047.87060293, 1042.15801142, 1045.69460839, 1039.98201688,\n",
       "        1034.26942536, 1037.80602234, 1032.09343083, 1026.38083931,\n",
       "        1029.91743629, 1024.20484477, 1018.49225326, 1022.02885023,\n",
       "        1016.31625872, 1010.6036672 , 1014.14026418, 1008.42767267,\n",
       "        1002.71508115, 1006.25167813, 1000.53908661,  994.8264951 ,\n",
       "         998.36309207,  992.65050056,  986.93790904,  990.47450602,\n",
       "         984.76191451,  979.04932299,  982.58591997,  976.87332845,\n",
       "         971.16073694,  974.69733391,  968.9847424 ,  963.27215088,\n",
       "         966.80874786,  961.09615635,  955.38356483,  958.92016181,\n",
       "         953.20757029,  947.49497878,  951.03157575,  945.31898424,\n",
       "         939.60639272,  943.1429897 ,  937.43039819,  931.71780667,\n",
       "         935.25440365,  929.54181213,  923.82922062,  927.36581759,\n",
       "         921.65322608,  915.94063456]])"
      ]
     },
     "execution_count": 18,
     "metadata": {},
     "output_type": "execute_result"
    }
   ],
   "source": [
    "k_array"
   ]
  },
  {
   "cell_type": "code",
   "execution_count": 30,
   "id": "bb28c2ef",
   "metadata": {},
   "outputs": [
    {
     "data": {
      "text/plain": [
       "(1117.4804441833821, 1055.759188986279)"
      ]
     },
     "execution_count": 30,
     "metadata": {},
     "output_type": "execute_result"
    }
   ],
   "source": [
    "k_array = andor_to_k(x_array)\n",
    "k_array[0][1],k_array[1][1]"
   ]
  },
  {
   "cell_type": "code",
   "execution_count": 181,
   "id": "18aca4ac",
   "metadata": {},
   "outputs": [],
   "source": [
    "def account_for_diffraction_efficiency(camera_array, a, offset = [0,0]):\n",
    "    n_atoms = np.size(camera_array[0])\n",
    "    xs = camera_array[0]\n",
    "    ys = camera_array[1]\n",
    "    target_amps = np.zeros(n_atoms)\n",
    "    for i in range(0,n_atoms):\n",
    "        x = xs[i]\n",
    "        y = ys[i]\n",
    "        d = np.sqrt((x - offset[0])**2 + (y - offset[0])**2)\n",
    "        amp_inv = (np.sinc(a*d)**2)\n",
    "        if amp_inv != 0:\n",
    "            amp = 1/amp_inv\n",
    "        else:\n",
    "            amp = 1\n",
    "            print('Warning: encountered divide by zero. Try reducing parameter a.')\n",
    "        target_amps[i] = amp\n",
    "    return target_amps"
   ]
  },
  {
   "cell_type": "code",
   "execution_count": 182,
   "id": "c997fba2",
   "metadata": {},
   "outputs": [
    {
     "data": {
      "text/plain": [
       "array([0.12473132, 0.12543566, 0.12626788, 0.12522923, 0.12593982,\n",
       "       0.12677895, 0.12584664, 0.12656432, 0.12741137, 0.12658564,\n",
       "       0.1273113 , 0.1281673 , 0.12744878, 0.12818332, 0.12904932,\n",
       "       0.128439  , 0.12918337, 0.13006048, 0.12955976, 0.13031494,\n",
       "       0.13120431, 0.13081499, 0.13158199, 0.13248483, 0.13220913,\n",
       "       0.13298904, 0.1339066 , 0.13374718, 0.13454113, 0.13547473,\n",
       "       0.13543473, 0.13624391, 0.13719494, 0.13727798, 0.13810365,\n",
       "       0.13907358, 0.13928384, 0.14012733, 0.1411177 , 0.1414599 ,\n",
       "       0.14232262, 0.14333509, 0.14381457, 0.14469804, 0.14573434,\n",
       "       0.14635711, 0.14726292, 0.14832494, 0.1490977 , 0.15002757,\n",
       "       0.15111728, 0.15204753, 0.1530033 , 0.15412284])"
      ]
     },
     "execution_count": 182,
     "metadata": {},
     "output_type": "execute_result"
    }
   ],
   "source": [
    "test_target = account_for_diffraction_efficiency(x_array,0.002, [377, 305])\n",
    "test_target = test_target / np.linalg.norm(test_target)\n",
    "test_target"
   ]
  },
  {
   "cell_type": "code",
   "execution_count": 19,
   "id": "986e080f",
   "metadata": {},
   "outputs": [],
   "source": [
    "test_target = account_for_diffraction_efficiency_correct(x_array_cam, 200, 16)"
   ]
  },
  {
   "cell_type": "code",
   "execution_count": 20,
   "id": "3a79da82",
   "metadata": {},
   "outputs": [
    {
     "data": {
      "text/plain": [
       "array([1.05411566, 1.06065628, 1.06881855, 1.04322879, 1.0496346 ,\n",
       "       1.05762748, 1.03400587, 1.04029857, 1.04814936, 1.02636474,\n",
       "       1.0325645 , 1.04029857, 1.02023899, 1.02636474, 1.03400587,\n",
       "       1.01625371, 1.02164613, 1.02921689, 1.01278002, 1.01836883,\n",
       "       1.02589092, 1.01070718, 1.01650551, 1.024     , 1.01001812,\n",
       "       1.01604074, 1.02352836, 1.01070718, 1.01671867, 1.02447208,\n",
       "       1.01278002, 1.01881626, 1.026839  , 1.01538305, 1.02121576,\n",
       "       1.03064892, 1.02027803, 1.02616727, 1.03356502, 1.02664134,\n",
       "       1.03260449, 1.04009569, 1.03452735, 1.04058273, 1.04819056,\n",
       "       1.0440048 , 1.05017197, 1.05792118, 1.05515841, 1.06145844,\n",
       "       1.06937575, 1.06809079, 1.07454668, 1.08266118])"
      ]
     },
     "execution_count": 20,
     "metadata": {},
     "output_type": "execute_result"
    }
   ],
   "source": [
    "test_target"
   ]
  },
  {
   "cell_type": "code",
   "execution_count": 21,
   "id": "62f12abb",
   "metadata": {},
   "outputs": [
    {
     "name": "stdout",
     "output_type": "stream",
     "text": [
      "20240521_124119\n",
      "20240521_124121\n",
      "20240521_124121\n",
      "20240521_124122\n"
     ]
    },
    {
     "data": {
      "text/plain": [
       "('C:\\\\msys64\\\\home\\\\nilab\\\\projects\\\\NaCsSLM\\\\lib\\\\Cs_pattern\\\\20240521_1241143x18_small_spacing_newsinc_config.yml',\n",
       " 'C:\\\\msys64\\\\home\\\\nilab\\\\projects\\\\NaCsSLM\\\\lib\\\\Cs_pattern\\\\20240521_1241143x18_small_spacing_newsinc_data.npz',\n",
       " ['ok'],\n",
       " ['ok'])"
      ]
     },
     "execution_count": 21,
     "metadata": {},
     "output_type": "execute_result"
    }
   ],
   "source": [
    "target_file_name = \"3x18_small_spacing_newsinc\"\n",
    "target_amps = test_target\n",
    "#target_amps = target_amps\n",
    "old_guess_file_name = \"\"#\"C:\\\\msys64\\\\home\\\\nilab\\\\projects\\\\NaCsSLM\\\\lib\\\\Cs_pattern\\\\20240515_1405353x9_new_large_spacing_fdback\" ##\"C:\\\\msys64\\\\home\\\\nilab\\\\projects\\\\NaCsSLM\\\\lib\\\\Cs_pattern\\\\20240503_1251173x12_test\"\n",
    "client.calculate_save_and_project(k_array, target_amps, 20, \"C:\\\\msys64\\\\home\\\\nilab\\\\projects\\\\NaCsSLM\\\\lib\\\\Cs_pattern\", target_file_name, old_guess_file_name)\n"
   ]
  },
  {
   "cell_type": "code",
   "execution_count": 22,
   "id": "0c456cbc",
   "metadata": {},
   "outputs": [
    {
     "name": "stdout",
     "output_type": "stream",
     "text": [
      "20240521_124126\n"
     ]
    },
    {
     "data": {
      "text/plain": [
       "['base: C:\\\\msys64\\\\home\\\\nilab\\\\projects\\\\NaCsSLM\\\\lib\\\\Cs_pattern\\\\20240521_1241143x18_small_spacing_newsinc additional: file_correction:C:\\\\msys64\\\\home\\\\nilab\\\\projects\\\\NaCsSLM\\\\lib\\\\Cs_Correction_Patterns\\\\CAL_LSH0802977_1064nm.bmp,fresnel_lens:500000.,zernike:[((1, 0), 0.0), ((1, 1), 0.0), ((2, 1), 10.0), ((2, 2), 0.0), ((2, 0), 0.0), ((3, 0), 0.0), ((3, 2), 0.0), ((3, 1), 0.0), ((3, 3), 0.0), ((4, 2), 0.0)], aperture: None']"
      ]
     },
     "execution_count": 22,
     "metadata": {},
     "output_type": "execute_result"
    }
   ],
   "source": [
    "client.send_get_current_phase_info()"
   ]
  },
  {
   "cell_type": "code",
   "execution_count": 24,
   "id": "46ad6a12",
   "metadata": {},
   "outputs": [
    {
     "name": "stdout",
     "output_type": "stream",
     "text": [
      "20240521_123639\n",
      "20240521_123639\n"
     ]
    },
    {
     "data": {
      "text/plain": [
       "(['ok'], ['ok'])"
      ]
     },
     "execution_count": 24,
     "metadata": {},
     "output_type": "execute_result"
    }
   ],
   "source": [
    "client.load_and_project(\"C:\\\\msys64\\\\home\\\\nilab\\\\projects\\\\NaCsSLM\\\\lib\\\\Cs_pattern\\\\20240521_1116213x18_small_spacing\")"
   ]
  },
  {
   "cell_type": "markdown",
   "id": "68e9ae9e",
   "metadata": {},
   "source": [
    "# Generating larger arrays"
   ]
  },
  {
   "cell_type": "code",
   "execution_count": 15,
   "id": "6d32c134",
   "metadata": {},
   "outputs": [],
   "source": [
    "#First generate an array in camera pixel coordinates\n",
    "side_length = [12,3] #num columns, num rows\n",
    "pixel_spacing = [7,7]\n",
    "rot_angle = 0\n",
    "#offset = [-1,30]\n",
    "offset = [49,30]\n",
    "#offset = [0,0]\n",
    "[camera_array,target_amps] = utils.gen_square_targets(side_length, pixel_spacing, rot_angle, offset)\n",
    "\n",
    "#Now convert it to fourier space\n",
    "M = np.array([[-19/20,26/20],[-27/20,-1]])\n",
    "b = np.array([[1026],[1018]])\n",
    "\n",
    "targets = np.matmul(M,camera_array)+b\n",
    "\n",
    "\n",
    "#target_amps[0] = 1.4\n",
    "#target_amps[8] = 1.1\n",
    "#target_amps[12] = 1.1\n",
    "#target_amps[22] = 0.95\n",
    "#target_amps[27] = 0.95\n",
    "\n",
    "#For convenience an initial guess at the cameraconsts box coordinates\n",
    "#target_amps[1] = 0.9\n",
    "#target_amps[3] = 0.9\n",
    "#target_amps[4] = 0.9\n",
    "#target_amps[7] = 0.9\n",
    "#target_amps[8] = 0.8\n",
    "#target_amps[9] = 0.9\n",
    "#target_amps[10] = 0.8\n",
    "#target_amps[13] = 0.8\n",
    "#target_amps[15] = 0.9\n",
    "#target_amps[16] = 0.9\n",
    "#target_amps[19] = 0.9\n",
    "#target_amps[20] = 0.9\n",
    "#target_amps[21] = 0.9\n",
    "#target_amps[22] = 0.8\n",
    "#target_amps[27] = 0.8\n",
    "#target_amps[28] = 0.9\n",
    "#target_amps[33] = 0.9\n",
    "#target_amps[35] = 0.9\n",
    "\n",
    "\n",
    "#target_amps[19] = 1.2\n",
    "#target_amps[28] = 1.2\n"
   ]
  },
  {
   "cell_type": "code",
   "execution_count": 16,
   "id": "75f97028",
   "metadata": {},
   "outputs": [
    {
     "data": {
      "text/plain": [
       "array([[10.5, 17.5, 24.5, 31.5, 38.5, 45.5, 52.5, 59.5, 66.5, 73.5, 80.5,\n",
       "        87.5, 10.5, 17.5, 24.5, 31.5, 38.5, 45.5, 52.5, 59.5, 66.5, 73.5,\n",
       "        80.5, 87.5, 10.5, 17.5, 24.5, 31.5, 38.5, 45.5, 52.5, 59.5, 66.5,\n",
       "        73.5, 80.5, 87.5],\n",
       "       [37. , 37. , 37. , 37. , 37. , 37. , 37. , 37. , 37. , 37. , 37. ,\n",
       "        37. , 30. , 30. , 30. , 30. , 30. , 30. , 30. , 30. , 30. , 30. ,\n",
       "        30. , 30. , 23. , 23. , 23. , 23. , 23. , 23. , 23. , 23. , 23. ,\n",
       "        23. , 23. , 23. ]])"
      ]
     },
     "execution_count": 16,
     "metadata": {},
     "output_type": "execute_result"
    }
   ],
   "source": [
    "camera_array"
   ]
  },
  {
   "cell_type": "code",
   "execution_count": 17,
   "id": "f318bd36",
   "metadata": {},
   "outputs": [],
   "source": [
    "targets2048 = 2 * (targets - np.ones([2,36]) * 1024) + np.ones([2,36]) * 2048"
   ]
  },
  {
   "cell_type": "code",
   "execution_count": 18,
   "id": "57c977ca",
   "metadata": {},
   "outputs": [
    {
     "data": {
      "text/plain": [
       "array([[2128.25, 2114.95, 2101.65, 2088.35, 2075.05, 2061.75, 2048.45,\n",
       "        2035.15, 2021.85, 2008.55, 1995.25, 1981.95, 2110.05, 2096.75,\n",
       "        2083.45, 2070.15, 2056.85, 2043.55, 2030.25, 2016.95, 2003.65,\n",
       "        1990.35, 1977.05, 1963.75, 2091.85, 2078.55, 2065.25, 2051.95,\n",
       "        2038.65, 2025.35, 2012.05, 1998.75, 1985.45, 1972.15, 1958.85,\n",
       "        1945.55],\n",
       "       [1933.65, 1914.75, 1895.85, 1876.95, 1858.05, 1839.15, 1820.25,\n",
       "        1801.35, 1782.45, 1763.55, 1744.65, 1725.75, 1947.65, 1928.75,\n",
       "        1909.85, 1890.95, 1872.05, 1853.15, 1834.25, 1815.35, 1796.45,\n",
       "        1777.55, 1758.65, 1739.75, 1961.65, 1942.75, 1923.85, 1904.95,\n",
       "        1886.05, 1867.15, 1848.25, 1829.35, 1810.45, 1791.55, 1772.65,\n",
       "        1753.75]])"
      ]
     },
     "execution_count": 18,
     "metadata": {},
     "output_type": "execute_result"
    }
   ],
   "source": [
    "targets2048"
   ]
  },
  {
   "cell_type": "code",
   "execution_count": 160,
   "id": "13fa68bb",
   "metadata": {},
   "outputs": [],
   "source": [
    "#Scale target amps by a sinc function\n",
    "#Principle is that (0,0) should be the 0th order in the coordinates of camera_array\n",
    "#For each atom we calculate the cartesian distance sqrt(x^2+y^2) and use this as an input to the sinc^2 function\n",
    "#a is a free parameter with the target amplitude given by 1/sinc(ax)^2 where x is Cartesian distance to zeroth order\n",
    "def account_for_diffraction_efficiency(camera_array, a):\n",
    "    n_atoms = np.size(camera_array[0])\n",
    "    xs = camera_array[0]\n",
    "    ys = camera_array[1]\n",
    "    target_amps = np.zeros(n_atoms)\n",
    "    for i in range(0,n_atoms):\n",
    "        x = xs[i]\n",
    "        y = ys[i]\n",
    "        d = np.sqrt(x**2 + y**2)\n",
    "        amp_inv = (np.sinc(a*d)**2)\n",
    "        if amp_inv != 0:\n",
    "            amp = 1/amp_inv\n",
    "        else:\n",
    "            amp = 1\n",
    "            print('Warning: encountered divide by zero. Try reducing parameter a.')\n",
    "        target_amps[i] = amp\n",
    "    return target_amps\n",
    "        "
   ]
  },
  {
   "cell_type": "code",
   "execution_count": 161,
   "id": "412f5dd8",
   "metadata": {},
   "outputs": [],
   "source": [
    "test_target = account_for_diffraction_efficiency(camera_array,0.001)\n",
    "test_target = test_target / np.linalg.norm(test_target)"
   ]
  },
  {
   "cell_type": "code",
   "execution_count": 171,
   "id": "5bbbbc1b",
   "metadata": {},
   "outputs": [],
   "source": [
    "test_target = np.array([0.16072  , 0.17445  , 0.16752  , 0.16183  , 0.2081625, 0.1709   ,\n",
    "       0.1749615, 0.16858  , 0.16434  , 0.16786  , 0.1657   , 0.16684  ,\n",
    "       0.14915  , 0.16097  , 0.1455   , 0.171948 , 0.1685985, 0.16712  ,\n",
    "       0.16297  , 0.17587  , 0.16249  , 0.16257  , 0.15758  , 0.16572  ,\n",
    "       0.16102  , 0.18962  , 0.15797  , 0.15823  , 0.1985865, 0.15928  ,\n",
    "       0.15189  , 0.14987  , 0.1952685, 0.15818  , 0.1782295, 0.17559 ])\n",
    "#multiplier = np.array([0.98672,1.0153,1.0141,0.99233,1.0106,0.99463,1.0225,0.9991,1.0131,1.0017,1.0196,1.0125,1.0021,0.99237,0.99035,0.99424,0.98982,0.99366,0.96407,0.98839,1.0024,0.99379,1.0176,0.99977,0.98976,1.0104,0.98478,0.99716,1.0156,0.99059,0.99397,0.9929,1.0098,0.99408,1.0002,1.0101])\n",
    "multiplier = np.ones(36)\n",
    "\n",
    "#multiplier[4] = 1.05\n",
    "#multiplier[15] = 1.05\n",
    "#multiplier[16] = 1.05\n",
    "#multiplier[28] = 1.05\n",
    "multiplier[32] = 1.05\n",
    "#multiplier[6] = 0.95\n",
    "#multiplier[34] = 0.95\n",
    "\n",
    "test_target= multiplier * test_target"
   ]
  },
  {
   "cell_type": "code",
   "execution_count": 104,
   "id": "45d22ebd",
   "metadata": {},
   "outputs": [],
   "source": [
    "multiplier = np.ones(36)\n",
    "#multiplier[10] = 0.99\n",
    "multiplier[25] = 0.99\n",
    "#multiplier[28] = 0.99\n",
    "test_target= multiplier * test_target"
   ]
  },
  {
   "cell_type": "code",
   "execution_count": 144,
   "id": "c42ed041",
   "metadata": {},
   "outputs": [
    {
     "data": {
      "text/plain": [
       "array([0.1920847 , 0.14701   , 0.16224   , 0.16864   , 0.15470655,\n",
       "       0.1633    , 0.16814   , 0.14158   , 0.16923   , 0.1531    ,\n",
       "       0.18888   , 0.18603   , 0.18927517, 0.1594176 , 0.14896   ,\n",
       "       0.15683   , 0.15729   , 0.15526   , 0.16691   , 0.16242   ,\n",
       "       0.13771   , 0.17602   , 0.18092   , 0.17105   , 0.1971711 ,\n",
       "       0.12795   , 0.18255874, 0.1447325 , 0.14643   , 0.17575   ,\n",
       "       0.15867   , 0.17765   , 0.17254   , 0.18172   , 0.16418   ,\n",
       "       0.19082   ])"
      ]
     },
     "execution_count": 144,
     "metadata": {},
     "output_type": "execute_result"
    }
   ],
   "source": [
    "test_target"
   ]
  },
  {
   "cell_type": "code",
   "execution_count": 109,
   "id": "ef47d51d",
   "metadata": {},
   "outputs": [
    {
     "data": {
      "text/plain": [
       "0.1747944"
      ]
     },
     "execution_count": 109,
     "metadata": {},
     "output_type": "execute_result"
    }
   ],
   "source": [
    "0.99 * 0.17656"
   ]
  },
  {
   "cell_type": "code",
   "execution_count": 162,
   "id": "196e729a",
   "metadata": {},
   "outputs": [
    {
     "name": "stdout",
     "output_type": "stream",
     "text": [
      "20240511_162139\n"
     ]
    },
    {
     "data": {
      "text/plain": [
       "['ok']"
      ]
     },
     "execution_count": 162,
     "metadata": {},
     "output_type": "execute_result"
    }
   ],
   "source": [
    "client.send_slm_amplitude('gaussian', np.array([1000.0]), np.array([1000.0]))"
   ]
  },
  {
   "cell_type": "code",
   "execution_count": 51,
   "id": "56116b63",
   "metadata": {},
   "outputs": [
    {
     "data": {
      "text/plain": [
       "1.0639704374695393"
      ]
     },
     "execution_count": 51,
     "metadata": {},
     "output_type": "execute_result"
    }
   ],
   "source": [
    "test_target[17]"
   ]
  },
  {
   "cell_type": "code",
   "execution_count": 52,
   "id": "fa1012b9",
   "metadata": {},
   "outputs": [],
   "source": [
    "test_target[0] = 1.4\n",
    "test_target[12] = 1.3\n",
    "test_target[24] = 1.4\n",
    "test_target[24] = 1.3\n",
    "test_target[14] = 1.5\n",
    "test_target[14] = 1.45\n",
    "test_target[15] = 1\n",
    "test_target[15] = 0.9\n",
    "test_target[15] = 0.8\n",
    "test_target[30] = 1.2\n",
    "test_target[31] = 0.98\n",
    "test_target[31] = 0.95\n",
    "test_target[35] = 1.4\n",
    "test_target[35] = 1.3\n",
    "test_target[35] = 1.2\n",
    "test_target[9] = 0.9\n",
    "test_target[1] = 0.9\n",
    "test_target[3] = 0.9\n",
    "test_target[13] = 0.9\n",
    "test_target[10] = 1\n",
    "test_target[33] = 0.9\n",
    "test_target[4] = 1.1\n",
    "test_target[8] = 1.08\n",
    "test_target[26] = 1\n",
    "test_target[17] = 1.1\n",
    "\n"
   ]
  },
  {
   "cell_type": "code",
   "execution_count": 174,
   "id": "f289722b",
   "metadata": {},
   "outputs": [
    {
     "data": {
      "text/plain": [
       "array([0.16072   , 0.17445   , 0.16752   , 0.16183   , 0.2081625 ,\n",
       "       0.1709    , 0.1749615 , 0.16858   , 0.16434   , 0.16786   ,\n",
       "       0.1657    , 0.16684   , 0.14915   , 0.16097   , 0.1455    ,\n",
       "       0.171948  , 0.1685985 , 0.16712   , 0.16297   , 0.17587   ,\n",
       "       0.16249   , 0.16257   , 0.15758   , 0.16572   , 0.16102   ,\n",
       "       0.18962   , 0.15797   , 0.15823   , 0.1985865 , 0.15928   ,\n",
       "       0.15189   , 0.14987   , 0.20503193, 0.15818   , 0.1782295 ,\n",
       "       0.17559   ])"
      ]
     },
     "execution_count": 174,
     "metadata": {},
     "output_type": "execute_result"
    }
   ],
   "source": [
    "test_target"
   ]
  },
  {
   "cell_type": "code",
   "execution_count": 135,
   "id": "fefcddf8",
   "metadata": {},
   "outputs": [
    {
     "data": {
      "text/plain": [
       "[<matplotlib.lines.Line2D at 0x1cbc0e544a8>]"
      ]
     },
     "execution_count": 135,
     "metadata": {},
     "output_type": "execute_result"
    },
    {
     "data": {
      "image/png": "[encoded data removed]",
      "text/plain": [
       "<Figure size 640x480 with 1 Axes>"
      ]
     },
     "metadata": {},
     "output_type": "display_data"
    }
   ],
   "source": [
    "from matplotlib import pyplot as plt\n",
    "\n",
    "plt.plot(test_target)"
   ]
  },
  {
   "cell_type": "code",
   "execution_count": 172,
   "id": "34b25e01",
   "metadata": {
    "scrolled": false
   },
   "outputs": [
    {
     "name": "stdout",
     "output_type": "stream",
     "text": [
      "20240511_175613\n",
      "20240511_175622\n",
      "20240511_175622\n",
      "20240511_175623\n"
     ]
    },
    {
     "data": {
      "text/plain": [
       "('C:\\\\msys64\\\\home\\\\nilab\\\\projects\\\\NaCsSLM\\\\lib\\\\Cs_pattern\\\\20240511_1756003x12_xoffset_yoffset_new_large_config.yml',\n",
       " 'C:\\\\msys64\\\\home\\\\nilab\\\\projects\\\\NaCsSLM\\\\lib\\\\Cs_pattern\\\\20240511_1756003x12_xoffset_yoffset_new_large_data.npz',\n",
       " ['ok'],\n",
       " ['ok'])"
      ]
     },
     "execution_count": 172,
     "metadata": {},
     "output_type": "execute_result"
    }
   ],
   "source": [
    "target_file_name = \"3x9_xoffset_yoffset_new_large\"\n",
    "target_amps = test_target\n",
    "old_guess_file_name = \"C:\\\\msys64\\\\home\\\\nilab\\\\projects\\\\NaCsSLM\\\\lib\\\\Cs_pattern\\\\20240511_1748393x12_xoffset_yoffset_new_large\" #C:\\\\msys64\\\\home\\\\nilab\\\\projects\\\\NaCsSLM\\\\lib\\\\Cs_pattern\\\\20240506_1216163x12\" ##\"C:\\\\msys64\\\\home\\\\nilab\\\\projects\\\\NaCsSLM\\\\lib\\\\Cs_pattern\\\\20240503_1251173x12_test\"\n",
    "client.calculate_save_and_project(targets2048, target_amps, 20, \"C:\\\\msys64\\\\home\\\\nilab\\\\projects\\\\NaCsSLM\\\\lib\\\\Cs_pattern\", target_file_name, old_guess_file_name)\n"
   ]
  },
  {
   "cell_type": "code",
   "execution_count": 70,
   "id": "7854b98e",
   "metadata": {},
   "outputs": [
    {
     "name": "stdout",
     "output_type": "stream",
     "text": [
      "20240519_153205\n",
      "20240519_153205\n",
      "20240519_153205\n",
      "20240519_153205\n",
      "20240519_153206\n"
     ]
    },
    {
     "data": {
      "text/plain": [
       "['ok']"
      ]
     },
     "execution_count": 70,
     "metadata": {},
     "output_type": "execute_result"
    }
   ],
   "source": [
    "#Recreate correction pattern\n",
    "client.send_reset_add_phase()\n",
    "client.send_fresnel_lens(np.array([500000])) \n",
    "#client.send_fresnel_lens(np.array([-100000])) \n",
    "client.send_correction(\"C:\\\\msys64\\\\home\\\\nilab\\\\projects\\\\NaCsSLM\\\\lib\\\\Cs_Correction_Patterns\\\\CAL_LSH0802977_1064nm.bmp\")\n",
    "notice = client.send_zernike_poly(np.array([[1,0,0],[1,1,0],[2,1,10],[2,2,0],[2,0,0],[3,0,0],[3,2,0],[3,1,0],[3,3,0],[4,2,0]]))\n",
    "#notice = client.send_zernike_poly(np.array([[1,0,0],[1,1,0],[2,1,5],[2,2,0],[2,0,-20],[3,0,-2],[3,2,0],[3,1,2.5],[3,3,0],[4,2,-1]]))# oridginal \n",
    "\n",
    "# notice = client.send_zernike_poly(np.array([[1,0,0],[1,1,0],[2,1,3],[2,2,6],[2,0,-14],[3,0,0],[3,1,3],[3,3,0]]))# oridginal +defocus\n",
    "\n",
    "#notice = client.send_zernike_poly(np.array([[1,0,0],[1,1,0],[2,1,4],[2,2,-4],[2,0,-25],[3,0,5],[3,1,3],[3,3,0]]))\n",
    "\n",
    "#print(notice)\n",
    "# notice = client.send_zernike_poly(np.array([[2,1,1]]))\n",
    "client.send_project()"
   ]
  },
  {
   "cell_type": "code",
   "execution_count": 62,
   "id": "7def9117",
   "metadata": {},
   "outputs": [
    {
     "name": "stdout",
     "output_type": "stream",
     "text": [
      "Trying weight = -20.0\n",
      "20240519_144602\n",
      "20240519_144602\n",
      "20240519_144602\n",
      "20240519_144602\n",
      "20240519_144603\n",
      "['ok']\n",
      "Waiting\n",
      "finished\n",
      "Trying weight = -18.0\n",
      "20240519_144604\n",
      "20240519_144604\n",
      "20240519_144604\n",
      "20240519_144604\n",
      "20240519_144605\n",
      "['ok']\n",
      "Waiting\n",
      "finished\n",
      "Trying weight = -16.0\n",
      "20240519_144606\n",
      "20240519_144606\n",
      "20240519_144606\n",
      "20240519_144606\n",
      "20240519_144606\n",
      "['ok']\n",
      "Waiting\n",
      "finished\n",
      "Trying weight = -14.0\n",
      "20240519_144607\n",
      "20240519_144607\n",
      "20240519_144607\n",
      "20240519_144608\n",
      "20240519_144608\n",
      "['ok']\n",
      "Waiting\n",
      "finished\n",
      "Trying weight = -12.0\n",
      "20240519_144609\n",
      "20240519_144609\n",
      "20240519_144609\n",
      "20240519_144610\n",
      "20240519_144610\n",
      "['ok']\n",
      "Waiting\n",
      "finished\n",
      "Trying weight = -10.0\n",
      "20240519_144611\n",
      "20240519_144611\n",
      "20240519_144611\n",
      "20240519_144612\n",
      "20240519_144612\n",
      "['ok']\n",
      "Waiting\n",
      "finished\n",
      "Trying weight = -8.0\n",
      "20240519_144613\n",
      "20240519_144613\n",
      "20240519_144613\n",
      "20240519_144613\n",
      "20240519_144614\n",
      "['ok']\n",
      "Waiting\n",
      "finished\n",
      "Trying weight = -6.0\n",
      "20240519_144615\n",
      "20240519_144615\n",
      "20240519_144615\n",
      "20240519_144615\n",
      "20240519_144616\n",
      "['ok']\n",
      "Waiting\n",
      "finished\n",
      "Trying weight = -4.0\n",
      "20240519_144617\n",
      "20240519_144617\n",
      "20240519_144617\n",
      "20240519_144617\n",
      "20240519_144617\n",
      "['ok']\n",
      "Waiting\n",
      "finished\n",
      "Trying weight = -2.0\n",
      "20240519_144618\n",
      "20240519_144618\n",
      "20240519_144618\n",
      "20240519_144619\n",
      "20240519_144619\n",
      "['ok']\n",
      "Waiting\n",
      "finished\n",
      "Trying weight = 0.0\n",
      "20240519_144620\n",
      "20240519_144620\n",
      "20240519_144620\n",
      "20240519_144621\n",
      "20240519_144621\n",
      "['ok']\n",
      "Waiting\n",
      "finished\n",
      "Trying weight = 2.0\n",
      "20240519_144622\n",
      "20240519_144622\n",
      "20240519_144622\n",
      "20240519_144622\n",
      "20240519_144623\n",
      "['ok']\n",
      "Waiting\n",
      "finished\n",
      "Trying weight = 4.0\n",
      "20240519_144624\n",
      "20240519_144624\n",
      "20240519_144624\n",
      "20240519_144624\n",
      "20240519_144625\n",
      "['ok']\n",
      "Waiting\n",
      "finished\n",
      "Trying weight = 6.0\n",
      "20240519_144626\n",
      "20240519_144626\n",
      "20240519_144626\n",
      "20240519_144626\n",
      "20240519_144626\n",
      "['ok']\n",
      "Waiting\n",
      "finished\n",
      "Trying weight = 8.0\n",
      "20240519_144627\n",
      "20240519_144627\n",
      "20240519_144627\n",
      "20240519_144628\n",
      "20240519_144628\n",
      "['ok']\n",
      "Waiting\n",
      "finished\n",
      "Trying weight = 10.0\n",
      "20240519_144629\n",
      "20240519_144629\n",
      "20240519_144629\n",
      "20240519_144630\n",
      "20240519_144630\n",
      "['ok']\n",
      "Waiting\n",
      "finished\n",
      "Trying weight = 12.0\n",
      "20240519_144631\n",
      "20240519_144631\n",
      "20240519_144631\n",
      "20240519_144631\n",
      "20240519_144632\n",
      "['ok']\n",
      "Waiting\n",
      "finished\n",
      "Trying weight = 14.0\n",
      "20240519_144633\n",
      "20240519_144633\n",
      "20240519_144633\n",
      "20240519_144633\n",
      "20240519_144634\n",
      "['ok']\n",
      "Waiting\n",
      "finished\n",
      "Trying weight = 16.0\n",
      "20240519_144635\n",
      "20240519_144635\n",
      "20240519_144635\n",
      "20240519_144635\n",
      "20240519_144636\n",
      "['ok']\n",
      "Waiting\n",
      "finished\n",
      "Trying weight = 18.0\n",
      "20240519_144637\n",
      "20240519_144637\n",
      "20240519_144637\n",
      "20240519_144637\n",
      "20240519_144637\n",
      "['ok']\n",
      "Waiting\n",
      "finished\n",
      "Trying weight = 20.0\n",
      "20240519_144638\n",
      "20240519_144638\n",
      "20240519_144638\n",
      "20240519_144639\n",
      "20240519_144639\n",
      "['ok']\n",
      "Waiting\n",
      "finished\n"
     ]
    }
   ],
   "source": [
    "weights = np.linspace(-20,20,21)\n",
    "for weight in weights:\n",
    "    print('Trying weight = ' + str(weight))\n",
    "    client.send_reset_add_phase()\n",
    "    client.send_fresnel_lens(np.array([500000])) \n",
    "    client.send_correction(\"C:\\\\msys64\\\\home\\\\nilab\\\\projects\\\\NaCsSLM\\\\lib\\\\Cs_Correction_Patterns\\\\CAL_LSH0802977_1064nm.bmp\")\n",
    "    notice = client.send_zernike_poly(np.array([[1,0,0],[1,1,0],[2,1,6],[2,2,-4],[2,0,-25],[3,0,-1],[3,1,0],[3,3,weight]]))\n",
    "    client.send_project()\n",
    "\n",
    "    print(notice)\n",
    "    print('Waiting')\n",
    "    time.sleep(1)\n",
    "    print('finished')"
   ]
  },
  {
   "cell_type": "code",
   "execution_count": 4,
   "id": "68e0225b",
   "metadata": {},
   "outputs": [
    {
     "name": "stdout",
     "output_type": "stream",
     "text": [
      "20240220_191301\n"
     ]
    },
    {
     "data": {
      "text/plain": [
       "['ok']"
      ]
     },
     "execution_count": 4,
     "metadata": {},
     "output_type": "execute_result"
    }
   ],
   "source": [
    "client.send_init_hologram(\"C:\\\\msys64\\\\home\\\\nilab\\\\projects\\\\NaCsSLM\\\\lib\\\\Cs_pattern\\\\20240216_1542233x3_Andor20_quad2_with_feedback\")"
   ]
  },
  {
   "cell_type": "code",
   "execution_count": 17,
   "id": "758cec14",
   "metadata": {},
   "outputs": [
    {
     "name": "stdout",
     "output_type": "stream",
     "text": [
      "20240220_195334\n"
     ]
    },
    {
     "data": {
      "text/plain": [
       "['ok']"
      ]
     },
     "execution_count": 17,
     "metadata": {},
     "output_type": "execute_result"
    }
   ],
   "source": [
    "client.send_perform_scan_feedback(1, 25)"
   ]
  },
  {
   "cell_type": "code",
   "execution_count": 128,
   "id": "d6084cef",
   "metadata": {},
   "outputs": [
    {
     "name": "stdout",
     "output_type": "stream",
     "text": [
      "20240521_103524\n"
     ]
    },
    {
     "data": {
      "text/plain": [
       "['base: C:\\\\msys64\\\\home\\\\nilab\\\\projects\\\\NaCsSLM\\\\lib\\\\Cs_pattern\\\\20240517_1607513x9_new_large_spacing_fdback additional: fresnel_lens:500000.,file_correction:C:\\\\msys64\\\\home\\\\nilab\\\\projects\\\\NaCsSLM\\\\lib\\\\Cs_Correction_Patterns\\\\CAL_LSH0802977_1064nm.bmp,zernike:[((1, 0), 0.0), ((1, 1), 0.0), ((2, 1), 10.0), ((2, 2), 0.0), ((2, 0), 0.0), ((3, 0), 0.0), ((3, 2), 0.0), ((3, 1), 0.0), ((3, 3), 0.0), ((4, 2), 0.0)], aperture: None']"
      ]
     },
     "execution_count": 128,
     "metadata": {},
     "output_type": "execute_result"
    }
   ],
   "source": [
    "client.send_get_current_phase_info()"
   ]
  },
  {
   "cell_type": "code",
   "execution_count": 7,
   "id": "b785905e",
   "metadata": {},
   "outputs": [
    {
     "name": "stdout",
     "output_type": "stream",
     "text": [
      "20240319_110411\n"
     ]
    },
    {
     "data": {
      "text/plain": [
       "['ok']"
      ]
     },
     "execution_count": 7,
     "metadata": {},
     "output_type": "execute_result"
    }
   ],
   "source": [
    "\n",
    "client.send_project()"
   ]
  },
  {
   "cell_type": "code",
   "execution_count": 11,
   "id": "f4e02f28",
   "metadata": {},
   "outputs": [
    {
     "name": "stdout",
     "output_type": "stream",
     "text": [
      "20240319_110541\n",
      "20240319_110542\n"
     ]
    },
    {
     "data": {
      "text/plain": [
       "['ok']"
      ]
     },
     "execution_count": 11,
     "metadata": {},
     "output_type": "execute_result"
    }
   ],
   "source": [
    "client.send_reset_add_phase()\n",
    "client.send_project()"
   ]
  },
  {
   "cell_type": "code",
   "execution_count": 3,
   "id": "88a3b782",
   "metadata": {},
   "outputs": [
    {
     "name": "stdout",
     "output_type": "stream",
     "text": [
      "20240522_184431\n",
      "20240522_184431\n"
     ]
    },
    {
     "data": {
      "text/plain": [
       "(['ok'], ['ok'])"
      ]
     },
     "execution_count": 3,
     "metadata": {},
     "output_type": "execute_result"
    }
   ],
   "source": [
    "client.load_and_project(\"C:\\\\msys64\\\\home\\\\nilab\\\\projects\\\\NaCsSLM\\\\lib\\\\Cs_pattern\\\\20240517_1607513x9_new_large_spacing_fdback\")"
   ]
  },
  {
   "cell_type": "code",
   "execution_count": 91,
   "id": "7309dc89",
   "metadata": {},
   "outputs": [
    {
     "name": "stdout",
     "output_type": "stream",
     "text": [
      "20240520_145538\n",
      "20240520_145539\n"
     ]
    },
    {
     "data": {
      "text/plain": [
       "(['ok'], ['ok'])"
      ]
     },
     "execution_count": 91,
     "metadata": {},
     "output_type": "execute_result"
    }
   ],
   "source": [
    "client.load_and_project(\"C:\\\\msys64\\\\home\\\\nilab\\\\projects\\\\NaCsSLM\\\\lib\\\\Cs_pattern\\\\20240517_1457221074.0_1074.0\")"
   ]
  },
  {
   "cell_type": "code",
   "execution_count": 14,
   "id": "8fad5c22",
   "metadata": {},
   "outputs": [
    {
     "name": "stdout",
     "output_type": "stream",
     "text": [
      "20240517_145100\n"
     ]
    },
    {
     "data": {
      "text/plain": [
       "['ok']"
      ]
     },
     "execution_count": 14,
     "metadata": {},
     "output_type": "execute_result"
    }
   ],
   "source": [
    "client.send_project()"
   ]
  },
  {
   "cell_type": "code",
   "execution_count": 72,
   "id": "6646e3e7",
   "metadata": {},
   "outputs": [
    {
     "name": "stdout",
     "output_type": "stream",
     "text": [
      "20240519_154011\n",
      "20240519_154011\n"
     ]
    }
   ],
   "source": [
    "client.save_config(\"C:\\\\experiment-control\\\\matlab_new\\\\NaCsSLM\\\\lib\\\\Cs_config\\\\20240519_3x9_10pixel.yml\")"
   ]
  },
  {
   "cell_type": "markdown",
   "id": "da4ffcd8",
   "metadata": {},
   "source": [
    "# 5/12"
   ]
  },
  {
   "cell_type": "code",
   "execution_count": 107,
   "id": "008aeddc",
   "metadata": {},
   "outputs": [],
   "source": [
    "#First generate an array in camera pixel coordinates\n",
    "side_length = [1, 10] #num columns, num rows\n",
    "pixel_spacing = [10,10]\n",
    "rot_angle = 0\n",
    "#offset = [-1,30]\n",
    "#offset = [2048,2100]\n",
    "#offset = [2100, 2048]\n",
    "#offset = [1024, 1050]\n",
    "offset = [1050, 1024]\n",
    "#offset = [0,0]\n",
    "[k_array,target_amps] = utils.gen_square_targets(side_length, pixel_spacing, rot_angle, offset)\n"
   ]
  },
  {
   "cell_type": "code",
   "execution_count": 108,
   "id": "0f32e131",
   "metadata": {},
   "outputs": [
    {
     "data": {
      "text/plain": [
       "array([[1050., 1050., 1050., 1050., 1050., 1050., 1050., 1050., 1050.,\n",
       "        1050.],\n",
       "       [1069., 1059., 1049., 1039., 1029., 1019., 1009.,  999.,  989.,\n",
       "         979.]])"
      ]
     },
     "execution_count": 108,
     "metadata": {},
     "output_type": "execute_result"
    }
   ],
   "source": [
    "k_array"
   ]
  },
  {
   "cell_type": "code",
   "execution_count": 109,
   "id": "c021e6f8",
   "metadata": {},
   "outputs": [
    {
     "data": {
      "text/plain": [
       "array([1., 1., 1., 1., 1., 1., 1., 1., 1., 1.])"
      ]
     },
     "execution_count": 109,
     "metadata": {},
     "output_type": "execute_result"
    }
   ],
   "source": [
    "target_amps"
   ]
  },
  {
   "cell_type": "code",
   "execution_count": 110,
   "id": "76ebf34e",
   "metadata": {},
   "outputs": [
    {
     "name": "stdout",
     "output_type": "stream",
     "text": [
      "20240520_162814\n",
      "20240520_162817\n",
      "20240520_162817\n",
      "20240520_162817\n"
     ]
    },
    {
     "data": {
      "text/plain": [
       "('C:\\\\msys64\\\\home\\\\nilab\\\\projects\\\\NaCsSLM\\\\lib\\\\Cs_pattern\\\\20240520_1628121x10_ky_config.yml',\n",
       " 'C:\\\\msys64\\\\home\\\\nilab\\\\projects\\\\NaCsSLM\\\\lib\\\\Cs_pattern\\\\20240520_1628121x10_ky_data.npz',\n",
       " ['ok'],\n",
       " ['ok'])"
      ]
     },
     "execution_count": 110,
     "metadata": {},
     "output_type": "execute_result"
    }
   ],
   "source": [
    "target_file_name = \"1x10_ky\"\n",
    "target_amps = target_amps\n",
    "old_guess_file_name = \"\" #C:\\\\msys64\\\\home\\\\nilab\\\\projects\\\\NaCsSLM\\\\lib\\\\Cs_pattern\\\\20240506_1216163x12\" ##\"C:\\\\msys64\\\\home\\\\nilab\\\\projects\\\\NaCsSLM\\\\lib\\\\Cs_pattern\\\\20240503_1251173x12_test\"\n",
    "client.calculate_save_and_project(k_array, target_amps, 20, \"C:\\\\msys64\\\\home\\\\nilab\\\\projects\\\\NaCsSLM\\\\lib\\\\Cs_pattern\", target_file_name, old_guess_file_name)\n"
   ]
  },
  {
   "cell_type": "code",
   "execution_count": 129,
   "id": "58e983b8",
   "metadata": {},
   "outputs": [],
   "source": [
    "import numpy as np\n",
    "\n",
    "# def andor_to_k(x):\n",
    "#     A = np.array([[-2.664, 1.790], [1.778, 2.7]])\n",
    "#     b = np.array([[2461.33], [677.8]])\n",
    "#     targets = np.matmul(A,x)+b\n",
    "#     return targets\n",
    "\n",
    "# def k_to_andor(k):\n",
    "#     A = np.array([[-2.664, 1.790], [1.778, 2.7]])\n",
    "#     b = np.array([[2461.33], [677.8]])\n",
    "#     invA = np.linalg.inv(A)\n",
    "#     targets = np.matmul(invA, k - b)\n",
    "#     return targets\n",
    "\n",
    "# 5_20_24\n",
    "def andor_to_k(x):\n",
    "    A = np.array([[-1.3347, 0.89309], [0.89306, 1.3414]])\n",
    "    b = np.array([[1254.758], [277.627]])\n",
    "    targets = np.matmul(A,x)+b\n",
    "    return targets\n",
    "\n",
    "def k_to_andor(k):\n",
    "    A = np.array([[-1.3347, 0.89309], [0.89306, 1.3414]])\n",
    "    b = np.array([[1254.758], [277.627]])\n",
    "    invA = np.linalg.inv(A)\n",
    "    targets = np.matmul(invA, k - b)\n",
    "    return targets\n",
    "\n",
    "# 5_20_24\n",
    "def andor_to_f(x):\n",
    "    A = np.array([[-0.00676, 0.1854], [-0.1813, -0.002275]])\n",
    "    b = np.array([[21.026], [138.39]])\n",
    "    return np.matmul(A,x) + b\n",
    "\n",
    "def f_to_andor(f):\n",
    "    A = np.array([[-0.00676, 0.1854], [-0.1813, -0.002275]])\n",
    "    b = np.array([[21.026], [138.39]])\n",
    "    invA = np.linalg.inv(A)\n",
    "    return np.matmul(invA, f - b)"
   ]
  },
  {
   "cell_type": "code",
   "execution_count": 19,
   "id": "90d86337",
   "metadata": {},
   "outputs": [
    {
     "data": {
      "text/plain": [
       "array([[2137.984],\n",
       "       [2097.062]])"
      ]
     },
     "execution_count": 19,
     "metadata": {},
     "output_type": "execute_result"
    }
   ],
   "source": [
    "andor_to_k(np.array([[329], [309]]))"
   ]
  },
  {
   "cell_type": "code",
   "execution_count": 125,
   "id": "b55e1cee",
   "metadata": {},
   "outputs": [
    {
     "data": {
      "text/plain": [
       "array([[368.51628315],\n",
       "       [348.34191753]])"
      ]
     },
     "execution_count": 125,
     "metadata": {},
     "output_type": "execute_result"
    }
   ],
   "source": [
    "k_to_andor(np.array([[1074], [1074]]))"
   ]
  },
  {
   "cell_type": "code",
   "execution_count": 126,
   "id": "cba09ceb",
   "metadata": {},
   "outputs": [
    {
     "data": {
      "text/plain": [
       "41"
      ]
     },
     "execution_count": 126,
     "metadata": {},
     "output_type": "execute_result"
    }
   ],
   "source": [
    "348 - 307"
   ]
  },
  {
   "cell_type": "code",
   "execution_count": 120,
   "id": "675d3360",
   "metadata": {},
   "outputs": [],
   "source": [
    "#First generate an array in camera pixel coordinates\n",
    "side_length = [3, 9] #num columns, num rows\n",
    "pixel_spacing = [10,10]\n",
    "rot_angle = 0\n",
    "#offset = [-1,30]\n",
    "#offset = [2048,2100]\n",
    "# offset = [305, 280]\n",
    "offset = [339, 307]\n",
    "#offset = [0,0]\n",
    "[camera_array,target_amps] = utils.gen_square_targets(side_length, pixel_spacing, rot_angle, offset)"
   ]
  },
  {
   "cell_type": "code",
   "execution_count": 121,
   "id": "57731d17",
   "metadata": {},
   "outputs": [
    {
     "data": {
      "text/plain": [
       "array([[329., 339., 349., 329., 339., 349., 329., 339., 349., 329., 339.,\n",
       "        349., 329., 339., 349., 329., 339., 349., 329., 339., 349., 329.,\n",
       "        339., 349., 329., 339., 349.],\n",
       "       [347., 347., 347., 337., 337., 337., 327., 327., 327., 317., 317.,\n",
       "        317., 307., 307., 307., 297., 297., 297., 287., 287., 287., 277.,\n",
       "        277., 277., 267., 267., 267.]])"
      ]
     },
     "execution_count": 121,
     "metadata": {},
     "output_type": "execute_result"
    }
   ],
   "source": [
    "camera_array"
   ]
  },
  {
   "cell_type": "code",
   "execution_count": 123,
   "id": "abefb0f0",
   "metadata": {},
   "outputs": [
    {
     "data": {
      "text/plain": [
       "array([[1125.54393, 1112.19693, 1098.84993, 1116.61303, 1103.26603,\n",
       "        1089.91903, 1107.68213, 1094.33513, 1080.98813, 1098.75123,\n",
       "        1085.40423, 1072.05723, 1089.82033, 1076.47333, 1063.12633,\n",
       "        1080.88943, 1067.54243, 1054.19543, 1071.95853, 1058.61153,\n",
       "        1045.26453, 1063.02763, 1049.68063, 1036.33363, 1054.09673,\n",
       "        1040.74973, 1027.40273],\n",
       "       [1036.90954, 1045.84014, 1054.77074, 1023.49554, 1032.42614,\n",
       "        1041.35674, 1010.08154, 1019.01214, 1027.94274,  996.66754,\n",
       "        1005.59814, 1014.52874,  983.25354,  992.18414, 1001.11474,\n",
       "         969.83954,  978.77014,  987.70074,  956.42554,  965.35614,\n",
       "         974.28674,  943.01154,  951.94214,  960.87274,  929.59754,\n",
       "         938.52814,  947.45874]])"
      ]
     },
     "execution_count": 123,
     "metadata": {},
     "output_type": "execute_result"
    }
   ],
   "source": [
    "targets2048 = andor_to_k(camera_array)\n",
    "targets2048 "
   ]
  },
  {
   "cell_type": "code",
   "execution_count": 83,
   "id": "c1728e04",
   "metadata": {},
   "outputs": [
    {
     "data": {
      "text/plain": [
       "array([[1104.477, 1096.485, 1088.493, 1099.107, 1091.115, 1083.123,\n",
       "        1093.737, 1085.745, 1077.753, 1088.367, 1080.375, 1072.383,\n",
       "        1082.997, 1075.005, 1067.013, 1077.627, 1069.635, 1061.643,\n",
       "        1072.257, 1064.265, 1056.273, 1066.887, 1058.895, 1050.903,\n",
       "        1061.517, 1053.525, 1045.533],\n",
       "       [1015.111, 1020.445, 1025.779, 1007.011, 1012.345, 1017.679,\n",
       "         998.911, 1004.245, 1009.579,  990.811,  996.145, 1001.479,\n",
       "         982.711,  988.045,  993.379,  974.611,  979.945,  985.279,\n",
       "         966.511,  971.845,  977.179,  958.411,  963.745,  969.079,\n",
       "         950.311,  955.645,  960.979]])"
      ]
     },
     "execution_count": 83,
     "metadata": {},
     "output_type": "execute_result"
    }
   ],
   "source": [
    "targets1024 = targets2048/2 \n",
    "targets1024"
   ]
  },
  {
   "cell_type": "code",
   "execution_count": 84,
   "id": "2d794785",
   "metadata": {},
   "outputs": [],
   "source": [
    "def account_for_diffraction_efficiency(camera_array, a, offset = [0,0]):\n",
    "    n_atoms = np.size(camera_array[0])\n",
    "    xs = camera_array[0]\n",
    "    ys = camera_array[1]\n",
    "    target_amps = np.zeros(n_atoms)\n",
    "    for i in range(0,n_atoms):\n",
    "        x = xs[i]\n",
    "        y = ys[i]\n",
    "        d = np.sqrt((x - offset[0])**2 + (y - offset[0])**2)\n",
    "        amp_inv = (np.sinc(a*d)**2)\n",
    "        if amp_inv != 0:\n",
    "            amp = 1/amp_inv\n",
    "        else:\n",
    "            amp = 1\n",
    "            print('Warning: encountered divide by zero. Try reducing parameter a.')\n",
    "        target_amps[i] = amp\n",
    "    return target_amps"
   ]
  },
  {
   "cell_type": "code",
   "execution_count": 85,
   "id": "049d8174",
   "metadata": {},
   "outputs": [
    {
     "data": {
      "text/plain": [
       "array([0.18659767, 0.18535313, 0.1842943 , 0.18788226, 0.18662742,\n",
       "       0.18555986, 0.18935909, 0.18809239, 0.18701475, 0.1910334 ,\n",
       "       0.18975324, 0.18866415, 0.19291123, 0.19161593, 0.19051399,\n",
       "       0.19499942, 0.19368725, 0.19257097, 0.19730565, 0.19597479,\n",
       "       0.19484265, 0.19983853, 0.19848709, 0.19733747, 0.20260763,\n",
       "       0.20123363, 0.20006484])"
      ]
     },
     "execution_count": 85,
     "metadata": {},
     "output_type": "execute_result"
    }
   ],
   "source": [
    "test_target = account_for_diffraction_efficiency(camera_array,0.002, [344, 281])\n",
    "test_target = test_target / np.linalg.norm(test_target)\n",
    "test_target"
   ]
  },
  {
   "cell_type": "code",
   "execution_count": 234,
   "id": "08dab920",
   "metadata": {},
   "outputs": [],
   "source": [
    "test_target = np.array([0.24465384, 0.20288036, 0.19230514, 0.18588915, 0.19866572,\n",
    "       0.18310556, 0.18811989, 0.1785171 , 0.19468236, 0.1656739 ,\n",
    "       0.19744556, 0.16990281, 0.19895369, 0.18698865, 0.1792776 ,\n",
    "       0.17559665, 0.19572294, 0.17303894, 0.21075164, 0.19501796,\n",
    "       0.16834161, 0.20282825, 0.18816445, 0.20124884, 0.20416459,\n",
    "       0.18768768, 0.20851596])\n",
    "#multiplier = np.array([0.98672,1.0153,1.0141,0.99233,1.0106,0.99463,1.0225,0.9991,1.0131,1.0017,1.0196,1.0125,1.0021,0.99237,0.99035,0.99424,0.98982,0.99366,0.96407,0.98839,1.0024,0.99379,1.0176,0.99977,0.98976,1.0104,0.98478,0.99716,1.0156,0.99059,0.99397,0.9929,1.0098,0.99408,1.0002,1.0101])\n",
    "multiplier = np.ones(27)\n",
    "multiplier[7] = 0.97\n",
    "multiplier[4] = 0.97\n",
    "multiplier[16] = 0.97\n",
    "multiplier[18] = 0.97\n",
    "multiplier[20] = 0.97\n",
    "multiplier[17] = 0.94\n",
    "# multiplier[20] = 0.98\n",
    "# multiplier[25] = 0.98\n",
    "\n",
    "\n",
    "# multiplier[11] = 0.96\n",
    "# multiplier[16] = 0.96\n",
    "\n",
    "# multiplier[26] = 0.96\n",
    "\n",
    "# multiplier[20] = 0.98\n",
    "# multiplier[25] = 0.98\n",
    "# multiplier[6] = 1.03\n",
    "# multiplier[10] = 1.03\n",
    "# multiplier[18] = 1.03\n",
    "#multiplier[14] = 0.97\n",
    "#multiplier[20] = 0.97\n",
    "#multiplier[23] = 0.97\n",
    "#multiplier[26] = 1.05\n",
    "#multiplier[24] = 1.03\n",
    "#multiplier[26] = 1.03\n",
    "#multiplier[2] = 0.97\n",
    "#multiplier[11] = 0.97\n",
    "#multiplier[15] = 0.97\n",
    "#multiplier[35] = 0.97\n",
    "#multiplier[16] = 1.03\n",
    "#multiplier[19] = 1.03\n",
    "#multiplier[22] = 1.03\n",
    "#multiplier[24] = 1.03\n",
    "#multiplier[26] = 1.03\n",
    "#multiplier[34] = 1.03\n",
    "#multiplier[30] = 1.03\n",
    "#multiplier[32] = 1.03\n",
    "#multiplier[19] = 0.95\n",
    "#multiplier[22] = 0.95\n",
    "#multiplier[24] = 0.95\n",
    "#multiplier[34] = 0.95\n",
    "#multiplier[9] = 1.05\n",
    "#multiplier[14] = 1.05\n",
    "\n",
    "\n",
    "#multiplier[26] = 0.95\n",
    "#multiplier[28] = 0.95\n",
    "#multiplier[29] = 0.95\n",
    "\n",
    "test_target= multiplier * test_target"
   ]
  },
  {
   "cell_type": "code",
   "execution_count": 41,
   "id": "dc1dc16b",
   "metadata": {},
   "outputs": [
    {
     "data": {
      "text/plain": [
       "array([0.04930299, 0.04222263, 0.03758372, 0.05476756, 0.04673765,\n",
       "       0.04149865, 0.06333589, 0.05377455, 0.04757431, 0.07656922,\n",
       "       0.06454985, 0.05682171, 0.09737284, 0.08128834, 0.0710673 ,\n",
       "       0.13149297, 0.10828773, 0.09378169, 0.19139021, 0.15457037,\n",
       "       0.13208954, 0.30789131, 0.24144565, 0.20229581, 0.57380756,\n",
       "       0.42865494, 0.34800152])"
      ]
     },
     "execution_count": 41,
     "metadata": {},
     "output_type": "execute_result"
    }
   ],
   "source": [
    "\n",
    "test_target = test_target / np.linalg.norm(test_target)\n",
    "test_target"
   ]
  },
  {
   "cell_type": "code",
   "execution_count": 264,
   "id": "7c305c91",
   "metadata": {},
   "outputs": [
    {
     "data": {
      "text/plain": [
       "array([2150.01, 1976.09])"
      ]
     },
     "execution_count": 264,
     "metadata": {},
     "output_type": "execute_result"
    }
   ],
   "source": [
    "np.mean(targets2048,1)"
   ]
  },
  {
   "cell_type": "code",
   "execution_count": 26,
   "id": "7109b583",
   "metadata": {},
   "outputs": [
    {
     "data": {
      "text/plain": [
       "array([1., 1., 1., 1., 1., 1., 1., 1., 1., 1., 1., 1., 1., 1., 1., 1., 1.,\n",
       "       1., 1., 1., 1., 1., 1., 1., 1., 1., 1.])"
      ]
     },
     "execution_count": 26,
     "metadata": {},
     "output_type": "execute_result"
    }
   ],
   "source": [
    "target_amps\n"
   ]
  },
  {
   "cell_type": "code",
   "execution_count": 86,
   "id": "0e2ea003",
   "metadata": {},
   "outputs": [
    {
     "name": "stdout",
     "output_type": "stream",
     "text": [
      "20240519_154837\n",
      "20240519_154840\n",
      "20240519_154840\n",
      "20240519_154841\n"
     ]
    },
    {
     "data": {
      "text/plain": [
       "('C:\\\\msys64\\\\home\\\\nilab\\\\projects\\\\NaCsSLM\\\\lib\\\\Cs_pattern\\\\20240519_1548293x9_new_small_spacing_config.yml',\n",
       " 'C:\\\\msys64\\\\home\\\\nilab\\\\projects\\\\NaCsSLM\\\\lib\\\\Cs_pattern\\\\20240519_1548293x9_new_small_spacing_data.npz',\n",
       " ['ok'],\n",
       " ['ok'])"
      ]
     },
     "execution_count": 86,
     "metadata": {},
     "output_type": "execute_result"
    }
   ],
   "source": [
    "target_file_name = \"3x9_new_small_spacing\"\n",
    "target_amps = test_target\n",
    "#target_amps = target_amps\n",
    "old_guess_file_name = \"\"#\"C:\\\\msys64\\\\home\\\\nilab\\\\projects\\\\NaCsSLM\\\\lib\\\\Cs_pattern\\\\20240515_1405353x9_new_large_spacing_fdback\" ##\"C:\\\\msys64\\\\home\\\\nilab\\\\projects\\\\NaCsSLM\\\\lib\\\\Cs_pattern\\\\20240503_1251173x12_test\"\n",
    "client.calculate_save_and_project(targets1024, target_amps, 20, \"C:\\\\msys64\\\\home\\\\nilab\\\\projects\\\\NaCsSLM\\\\lib\\\\Cs_pattern\", target_file_name, old_guess_file_name)\n"
   ]
  },
  {
   "cell_type": "code",
   "execution_count": 25,
   "id": "8506d235",
   "metadata": {},
   "outputs": [
    {
     "data": {
      "text/plain": [
       "array([[295., 305., 315., 295., 305., 315., 295., 305., 315., 295., 305.,\n",
       "        315., 295., 305., 315., 295., 305., 315., 295., 305., 315., 295.,\n",
       "        305., 315., 295., 305., 315.],\n",
       "       [320., 320., 320., 310., 310., 310., 300., 300., 300., 290., 290.,\n",
       "        290., 280., 280., 280., 270., 270., 270., 260., 260., 260., 250.,\n",
       "        250., 250., 240., 240., 240.]])"
      ]
     },
     "execution_count": 25,
     "metadata": {},
     "output_type": "execute_result"
    }
   ],
   "source": [
    "camera_array"
   ]
  },
  {
   "cell_type": "markdown",
   "id": "05487299",
   "metadata": {},
   "source": [
    "# Code for 2/16"
   ]
  },
  {
   "cell_type": "code",
   "execution_count": 31,
   "id": "e36c1365",
   "metadata": {},
   "outputs": [
    {
     "name": "stdout",
     "output_type": "stream",
     "text": [
      "20240220_170941\n",
      "20240220_170943\n",
      "20240220_170943\n",
      "20240220_170944\n"
     ]
    },
    {
     "data": {
      "text/plain": [
       "('C:\\\\msys64\\\\home\\\\nilab\\\\projects\\\\NaCsSLM\\\\lib\\\\Cs_pattern\\\\20240220_1709391045.0_1045.0_config.yml',\n",
       " 'C:\\\\msys64\\\\home\\\\nilab\\\\projects\\\\NaCsSLM\\\\lib\\\\Cs_pattern\\\\20240220_1709391045.0_1045.0_data.npz',\n",
       " ['ok'],\n",
       " ['ok'])"
      ]
     },
     "execution_count": 31,
     "metadata": {},
     "output_type": "execute_result"
    }
   ],
   "source": [
    "# 6x6 array\n",
    "ntargets = 1\n",
    "targets = np.zeros((2, ntargets))\n",
    "\n",
    "targets[0,:] = [1045]\n",
    "targets[1,:] = [1045]\n",
    "\n",
    "target_amps = np.array([1])#np.ones((1, ntargets))\n",
    "target_file_name = str(targets[0,0]) + '_' + str(targets[1,0])\n",
    "client.calculate_save_and_project(targets, target_amps, 20,\"C:\\\\msys64\\\\home\\\\nilab\\\\projects\\\\NaCsSLM\\\\lib\\\\Cs_pattern\" ,target_file_name)"
   ]
  },
  {
   "cell_type": "code",
   "execution_count": 9,
   "id": "5d1d6973",
   "metadata": {},
   "outputs": [
    {
     "name": "stdout",
     "output_type": "stream",
     "text": [
      "20240216_153808\n",
      "20240216_153811\n",
      "20240216_153811\n",
      "20240216_153811\n"
     ]
    },
    {
     "data": {
      "text/plain": [
       "('C:\\\\msys64\\\\home\\\\nilab\\\\projects\\\\NaCsSLM\\\\lib\\\\Cs_pattern\\\\20240216_1538043by3_Andor20_quad2_config.yml',\n",
       " 'C:\\\\msys64\\\\home\\\\nilab\\\\projects\\\\NaCsSLM\\\\lib\\\\Cs_pattern\\\\20240216_1538043by3_Andor20_quad2_data.npz',\n",
       " ['ok'],\n",
       " ['ok'])"
      ]
     },
     "execution_count": 9,
     "metadata": {},
     "output_type": "execute_result"
    }
   ],
   "source": [
    "targets, target_amps = utils.gen_square_targets(3, 118, 0.06981317007977318, [610, 480])\n",
    "# targets, target_amps = utils.gen_square_targets(3, 118, 0.06981317007977318, [820, 710])\n",
    "target_file_name = \"3by3_Andor20_quad2\"\n",
    "WGS_iterations = 40\n",
    "client.calculate_save_and_project(targets, target_amps, WGS_iterations, \"C:\\\\msys64\\\\home\\\\nilab\\\\projects\\\\NaCsSLM\\\\lib\\\\Cs_pattern\" ,target_file_name)\n",
    "\n",
    "#print(targets)\n",
    "#print(target_amps)"
   ]
  },
  {
   "cell_type": "code",
   "execution_count": 15,
   "id": "d1edbd4d",
   "metadata": {},
   "outputs": [
    {
     "name": "stdout",
     "output_type": "stream",
     "text": [
      "20240216_163251\n"
     ]
    },
    {
     "data": {
      "text/plain": [
       "['ok']"
      ]
     },
     "execution_count": 15,
     "metadata": {},
     "output_type": "execute_result"
    }
   ],
   "source": [
    "client.send_perform_camera_feedback(30)"
   ]
  },
  {
   "cell_type": "code",
   "execution_count": 16,
   "id": "319204cd",
   "metadata": {},
   "outputs": [
    {
     "name": "stdout",
     "output_type": "stream",
     "text": [
      "20240216_163353\n"
     ]
    },
    {
     "data": {
      "text/plain": [
       "['C:\\\\msys64\\\\home\\\\nilab\\\\projects\\\\NaCsSLM\\\\lib\\\\Cs_pattern\\\\20240216_1633463x3_Andor20_double_spot_close_with_feedback_config.yml',\n",
       " 'C:\\\\msys64\\\\home\\\\nilab\\\\projects\\\\NaCsSLM\\\\lib\\\\Cs_pattern\\\\20240216_1633463x3_Andor20_double_spot_close_with_feedback_data.npz']"
      ]
     },
     "execution_count": 16,
     "metadata": {},
     "output_type": "execute_result"
    }
   ],
   "source": [
    "uniform_hologram_file_name = \"3x3_Andor20_double_spot_close_with_feedback\"\n",
    "client.send_save(\"C:\\\\msys64\\\\home\\\\nilab\\\\projects\\\\NaCsSLM\\\\lib\\\\Cs_pattern\", uniform_hologram_file_name)"
   ]
  },
  {
   "cell_type": "code",
   "execution_count": 25,
   "id": "6f4ee72b",
   "metadata": {},
   "outputs": [
    {
     "name": "stdout",
     "output_type": "stream",
     "text": [
      "20240220_164814\n",
      "20240220_164814\n"
     ]
    }
   ],
   "source": [
    "client.save_config(\"C:\\\\msys64\\\\home\\\\Simulation Computer\\\\projects\\\\NaCsSLM\\\\lib\\\\Cs_config\\\\20200220_3x3_large_spacing_Andor20_2.yml\")"
   ]
  },
  {
   "cell_type": "code",
   "execution_count": 6,
   "id": "120797bc",
   "metadata": {},
   "outputs": [
    {
     "name": "stdout",
     "output_type": "stream",
     "text": [
      "20240216_115411\n"
     ]
    },
    {
     "data": {
      "text/plain": [
       "['ok']"
      ]
     },
     "execution_count": 6,
     "metadata": {},
     "output_type": "execute_result"
    }
   ],
   "source": [
    "client.send_offset(np.array([0.1,0.1]))"
   ]
  },
  {
   "cell_type": "code",
   "execution_count": 14,
   "id": "9042c19a",
   "metadata": {},
   "outputs": [
    {
     "name": "stdout",
     "output_type": "stream",
     "text": [
      "20240216_163122\n",
      "20240216_163125\n",
      "20240216_163125\n",
      "20240216_163125\n"
     ]
    },
    {
     "data": {
      "text/plain": [
       "('C:\\\\msys64\\\\home\\\\nilab\\\\projects\\\\NaCsSLM\\\\lib\\\\Cs_pattern\\\\20240216_1631183by3_Andor20pixel_double_spot_close_config.yml',\n",
       " 'C:\\\\msys64\\\\home\\\\nilab\\\\projects\\\\NaCsSLM\\\\lib\\\\Cs_pattern\\\\20240216_1631183by3_Andor20pixel_double_spot_close_data.npz',\n",
       " ['ok'],\n",
       " ['ok'])"
      ]
     },
     "execution_count": 14,
     "metadata": {},
     "output_type": "execute_result"
    }
   ],
   "source": [
    "targets1, target_amps1 = utils.gen_square_targets(3, 118, 0.06981317007977318, [610, 480])\n",
    "targets2, target_amps2 = utils.gen_square_targets(3, 118, 0.06981317007977318, [610 + 23, 480])\n",
    "targets = np.concatenate((targets1,targets2),axis=1)\n",
    "target_amps = np.concatenate((target_amps1, target_amps2))\n",
    "target_file_name = \"3by3_Andor20pixel_double_spot_close\"\n",
    "WGS_iterations = 40\n",
    "client.calculate_save_and_project(targets, target_amps, WGS_iterations, \"C:\\\\msys64\\\\home\\\\nilab\\\\projects\\\\NaCsSLM\\\\lib\\\\Cs_pattern\" ,target_file_name)\n"
   ]
  },
  {
   "cell_type": "code",
   "execution_count": 9,
   "id": "7846f490",
   "metadata": {},
   "outputs": [
    {
     "name": "stdout",
     "output_type": "stream",
     "text": [
      "20240216_162204\n",
      "20240216_162207\n",
      "20240216_162207\n",
      "20240216_162207\n"
     ]
    },
    {
     "data": {
      "text/plain": [
       "('C:\\\\msys64\\\\home\\\\nilab\\\\projects\\\\NaCsSLM\\\\lib\\\\Cs_pattern\\\\20240216_1622003by3_Andor20pixel_quad_spot_config.yml',\n",
       " 'C:\\\\msys64\\\\home\\\\nilab\\\\projects\\\\NaCsSLM\\\\lib\\\\Cs_pattern\\\\20240216_1622003by3_Andor20pixel_quad_spot_data.npz',\n",
       " ['ok'],\n",
       " ['ok'])"
      ]
     },
     "execution_count": 9,
     "metadata": {},
     "output_type": "execute_result"
    }
   ],
   "source": [
    "targets1, target_amps1 = utils.gen_square_targets(3, 118, 0.06981317007977318, [610, 480])\n",
    "targets2, target_amps2 = utils.gen_square_targets(3, 118, 0.06981317007977318, [610 + 46, 480])\n",
    "targets3, target_amps3 = utils.gen_square_targets(3, 118, 0.06981317007977318, [610 + 23, 480 - 23])\n",
    "targets4, target_amps4 = utils.gen_square_targets(3, 118, 0.06981317007977318, [610 + 23, 480 + 23])\n",
    "targets = np.concatenate((targets1,targets2,targets3,targets4),axis=1)\n",
    "target_amps = np.concatenate((target_amps1, target_amps2, target_amps3, target_amps4))\n",
    "target_file_name = \"3by3_Andor20pixel_quad_spot\"\n",
    "WGS_iterations = 80\n",
    "client.calculate_save_and_project(targets, target_amps, WGS_iterations, \"C:\\\\msys64\\\\home\\\\nilab\\\\projects\\\\NaCsSLM\\\\lib\\\\Cs_pattern\" ,target_file_name)\n"
   ]
  },
  {
   "cell_type": "code",
   "execution_count": 55,
   "id": "d036654b",
   "metadata": {},
   "outputs": [
    {
     "name": "stdout",
     "output_type": "stream",
     "text": [
      "20240216_135041\n",
      "20240216_135043\n",
      "20240216_135043\n",
      "20240216_135043\n"
     ]
    },
    {
     "data": {
      "text/plain": [
       "('C:\\\\msys64\\\\home\\\\nilab\\\\projects\\\\NaCsSLM\\\\lib\\\\Cs_pattern\\\\20240216_1350371x12_Andor8_config.yml',\n",
       " 'C:\\\\msys64\\\\home\\\\nilab\\\\projects\\\\NaCsSLM\\\\lib\\\\Cs_pattern\\\\20240216_1350371x12_Andor8_data.npz',\n",
       " ['ok'],\n",
       " ['ok'])"
      ]
     },
     "execution_count": 55,
     "metadata": {},
     "output_type": "execute_result"
    }
   ],
   "source": [
    "ntargets = 12\n",
    "targets = np.zeros((2,ntargets))\n",
    "targets[0,:] = 610 + np.linspace(-5 * 46 -23, 5 * 46 + 23, 12)\n",
    "targets[1,:] = 480 * np.ones(ntargets)\n",
    "target_amps = np.ones(ntargets)\n",
    "target_file_name = '1x12_Andor8'\n",
    "WGS_iterations = 50\n",
    "client.calculate_save_and_project(targets, target_amps, WGS_iterations, \"C:\\\\msys64\\\\home\\\\nilab\\\\projects\\\\NaCsSLM\\\\lib\\\\Cs_pattern\" ,target_file_name)"
   ]
  },
  {
   "cell_type": "markdown",
   "id": "f2ca6769",
   "metadata": {},
   "source": [
    "# Code for 2/14"
   ]
  },
  {
   "cell_type": "code",
   "execution_count": 50,
   "id": "55f94b35",
   "metadata": {},
   "outputs": [
    {
     "name": "stdout",
     "output_type": "stream",
     "text": [
      "20240215_122808\n",
      "20240215_122809\n",
      "20240215_122809\n",
      "20240215_122810\n"
     ]
    },
    {
     "data": {
      "text/plain": [
       "('C:\\\\msys64\\\\home\\\\nilab\\\\projects\\\\NaCsSLM\\\\lib\\\\Cs_pattern\\\\20240215_122806800.0_1024.0two_spots_config.yml',\n",
       " 'C:\\\\msys64\\\\home\\\\nilab\\\\projects\\\\NaCsSLM\\\\lib\\\\Cs_pattern\\\\20240215_122806800.0_1024.0two_spots_data.npz',\n",
       " ['ok'],\n",
       " ['ok'])"
      ]
     },
     "execution_count": 50,
     "metadata": {},
     "output_type": "execute_result"
    }
   ],
   "source": [
    "# 6x6 array\n",
    "ntargets = 2\n",
    "targets = np.zeros((2, ntargets))\n",
    "\n",
    "targets[0,:] = [800, 900]\n",
    "targets[1,:] = [1024,1024]\n",
    "\n",
    "target_amps = np.array([1, 1])#np.ones((1, ntargets))\n",
    "target_file_name = str(targets[0,0]) + '_' + str(targets[1,0]) + 'two_spots'\n",
    "client.calculate_save_and_project(targets, target_amps, 20,\"C:\\\\msys64\\\\home\\\\nilab\\\\projects\\\\NaCsSLM\\\\lib\\\\Cs_pattern\" ,target_file_name)"
   ]
  },
  {
   "cell_type": "code",
   "execution_count": 66,
   "id": "59d61a67",
   "metadata": {},
   "outputs": [
    {
     "name": "stdout",
     "output_type": "stream",
     "text": [
      "20240215_141911\n",
      "20240215_141932\n",
      "20240215_141935\n",
      "20240215_141935\n",
      "20240215_141935\n"
     ]
    },
    {
     "data": {
      "text/plain": [
       "('C:\\\\msys64\\\\home\\\\nilab\\\\projects\\\\NaCsSLM\\\\lib\\\\Cs_pattern\\\\20240215_1419306by6_with_gaussian_waist400_config.yml',\n",
       " 'C:\\\\msys64\\\\home\\\\nilab\\\\projects\\\\NaCsSLM\\\\lib\\\\Cs_pattern\\\\20240215_1419306by6_with_gaussian_waist400_data.npz',\n",
       " ['ok'],\n",
       " ['ok'])"
      ]
     },
     "execution_count": 66,
     "metadata": {},
     "output_type": "execute_result"
    }
   ],
   "source": [
    "a = 400.0\n",
    "client.send_slm_amplitude(\"gaussian\", np.array([a]), np.array([a])) # Sets a slm amplitude, gaussian beam with waist 400 px\n",
    "\n",
    "targets, target_amps = utils.gen_square_targets(6, 10, 0, [1024,1024])\n",
    "target_file_name = \"6by6_with_gaussian_waist\" + str(int(a))\n",
    "\n",
    "client.calculate_save_and_project(targets, target_amps, 20,\"C:\\\\msys64\\\\home\\\\nilab\\\\projects\\\\NaCsSLM\\\\lib\\\\Cs_pattern\" ,target_file_name)"
   ]
  },
  {
   "cell_type": "code",
   "execution_count": 65,
   "id": "c8fd58c2",
   "metadata": {},
   "outputs": [
    {
     "name": "stdout",
     "output_type": "stream",
     "text": [
      "20240215_141830\n",
      "20240215_141830\n"
     ]
    },
    {
     "data": {
      "text/plain": [
       "(['ok'], ['ok'])"
      ]
     },
     "execution_count": 65,
     "metadata": {},
     "output_type": "execute_result"
    }
   ],
   "source": [
    "client.load_and_project('C:\\\\msys64\\\\home\\\\nilab\\\\projects\\\\NaCsSLM\\\\lib\\\\Cs_pattern\\\\20240215_1400066by6_with_gaussian_waist1000')"
   ]
  },
  {
   "cell_type": "code",
   "execution_count": 4,
   "id": "3be55e53",
   "metadata": {},
   "outputs": [
    {
     "name": "stdout",
     "output_type": "stream",
     "text": [
      "20240216_112904\n",
      "20240216_112904\n"
     ]
    },
    {
     "data": {
      "text/plain": [
       "(['ok'], ['ok'])"
      ]
     },
     "execution_count": 4,
     "metadata": {},
     "output_type": "execute_result"
    }
   ],
   "source": [
    "client.load_and_project('C:\\\\msys64\\\\home\\\\nilab\\\\projects\\\\NaCsSLM\\\\lib\\\\Cs_pattern\\\\20240216_1107243by3_Andor20pixel')"
   ]
  },
  {
   "cell_type": "markdown",
   "id": "f5ee5143",
   "metadata": {},
   "source": [
    "# code for 2/13"
   ]
  },
  {
   "cell_type": "code",
   "execution_count": 27,
   "id": "c053f62e",
   "metadata": {},
   "outputs": [
    {
     "name": "stdout",
     "output_type": "stream",
     "text": [
      "20240213_122008\n",
      "20240213_122008\n",
      "20240213_122020\n",
      "20240213_122023\n",
      "20240213_122023\n",
      "20240213_122023\n"
     ]
    },
    {
     "data": {
      "text/plain": [
       "('C:\\\\msys64\\\\home\\\\nilab\\\\projects\\\\NaCsSLM\\\\lib\\\\Cs_pattern\\\\20240213_1220192by2_with_gaussian_waist100000_config.yml',\n",
       " 'C:\\\\msys64\\\\home\\\\nilab\\\\projects\\\\NaCsSLM\\\\lib\\\\Cs_pattern\\\\20240213_1220192by2_with_gaussian_waist100000_data.npz',\n",
       " ['ok'],\n",
       " ['ok'])"
      ]
     },
     "execution_count": 27,
     "metadata": {},
     "output_type": "execute_result"
    }
   ],
   "source": [
    "a = 100000.0\n",
    "client.send_slm_amplitude(\"gaussian\", np.array([a]), np.array([a])) # Sets a slm amplitude, gaussian beam with waist 400 px\n",
    "# load a calibration file\n",
    "client.send_load_fourier_calibration('C:\\\\msys64\\\\home\\\\nilab\\\\projects\\\\NaCsSLM\\\\lib\\\\Cs_pattern\\\\Cs_0212_calibration_bishop_flipper_00000.h5')\n",
    "#Calculate square\n",
    "targets, target_amps = utils.gen_square_targets(2, 40, 0.06981317007977318, [621,606])\n",
    "target_file_name = \"2by2_with_gaussian_waist\" + str(int(a))\n",
    "WGS_iterations = 10\n",
    "client.calculate_save_and_project(targets, target_amps, WGS_iterations, \"C:\\\\msys64\\\\home\\\\nilab\\\\projects\\\\NaCsSLM\\\\lib\\\\Cs_pattern\" ,target_file_name)\n"
   ]
  },
  {
   "cell_type": "code",
   "execution_count": 109,
   "id": "b8154ede",
   "metadata": {},
   "outputs": [
    {
     "name": "stdout",
     "output_type": "stream",
     "text": [
      "20240228_144712\n",
      "20240228_144712\n",
      "20240228_144712\n",
      "20240228_144712\n",
      "20240228_144713\n"
     ]
    },
    {
     "data": {
      "text/plain": [
       "['ok']"
      ]
     },
     "execution_count": 109,
     "metadata": {},
     "output_type": "execute_result"
    }
   ],
   "source": [
    "# load correction\n",
    "client.send_reset_add_phase()\n",
    "#client.send_fresnel_lens(np.array([0.25e5])) #seems to be good correction for Cs SLM\n",
    "client.send_fresnel_lens(np.array([5e5]))\n",
    "client.send_correction(\"C:\\\\msys64\\\\home\\\\nilab\\\\projects\\\\NaCsSLM\\\\lib\\\\Cs_Correction_Patterns\\\\CAL_LSH0802977_1064nm.bmp\")\n",
    "# notice = client.send_zernike_poly(np.array([[2,1,1.5],[2,2,-10],[3,2,4]]))\n",
    "\n",
    "# notice = client.send_zernike_poly(np.array([[2,0,5],[2,2,-10]])) # what atoms like\n",
    "# notice = client.send_zernike_poly(np.array([[2,0,-25],[2,2,0]])) # for calibration\n",
    "# notice = client.send_zernike_poly(np.array([[2,0,-25],[2,2,-4],[2,1,5]]))\n",
    "notice = client.send_zernike_poly(np.array([[2,0,-16],[2,2,1]]))\n",
    "#notice = client.send_zernike_poly(np.array([[2,0,-10],[2,2,5]]))\n",
    "# print(notice)\n",
    "client.send_project()"
   ]
  },
  {
   "cell_type": "code",
   "execution_count": 63,
   "id": "eb4c0aa4",
   "metadata": {},
   "outputs": [
    {
     "name": "stdout",
     "output_type": "stream",
     "text": [
      "20240517_100357\n"
     ]
    },
    {
     "data": {
      "text/plain": [
       "[None]"
      ]
     },
     "execution_count": 63,
     "metadata": {},
     "output_type": "execute_result"
    }
   ],
   "source": [
    "client.send_get_current_phase_info()"
   ]
  },
  {
   "cell_type": "code",
   "execution_count": 29,
   "id": "1b75b938",
   "metadata": {},
   "outputs": [
    {
     "name": "stdout",
     "output_type": "stream",
     "text": [
      "20240213_122219\n",
      "20240213_122231\n",
      "20240213_122233\n",
      "20240213_122233\n",
      "20240213_122234\n"
     ]
    },
    {
     "data": {
      "text/plain": [
       "('C:\\\\msys64\\\\home\\\\nilab\\\\projects\\\\NaCsSLM\\\\lib\\\\Cs_pattern\\\\20240213_1222302by2_without_gaussian_config.yml',\n",
       " 'C:\\\\msys64\\\\home\\\\nilab\\\\projects\\\\NaCsSLM\\\\lib\\\\Cs_pattern\\\\20240213_1222302by2_without_gaussian_data.npz',\n",
       " ['ok'],\n",
       " ['ok'])"
      ]
     },
     "execution_count": 29,
     "metadata": {},
     "output_type": "execute_result"
    }
   ],
   "source": [
    "client.send_load_fourier_calibration('C:\\\\msys64\\\\home\\\\nilab\\\\projects\\\\NaCsSLM\\\\lib\\\\Cs_pattern\\\\Cs_0212_calibration_bishop_flipper_00000.h5')\n",
    "#Calculate square\n",
    "targets, target_amps = utils.gen_square_targets(2, 40, 0.06981317007977318, [621,606])\n",
    "target_file_name = \"2by2_without_gaussian\"\n",
    "WGS_iterations = 10\n",
    "client.calculate_save_and_project(targets, target_amps, WGS_iterations, \"C:\\\\msys64\\\\home\\\\nilab\\\\projects\\\\NaCsSLM\\\\lib\\\\Cs_pattern\" ,target_file_name)\n"
   ]
  },
  {
   "cell_type": "code",
   "execution_count": 4,
   "id": "87577af3",
   "metadata": {},
   "outputs": [
    {
     "name": "stdout",
     "output_type": "stream",
     "text": [
      "20240215_180711\n",
      "20240215_180711\n"
     ]
    },
    {
     "data": {
      "text/plain": [
       "(['ok'], ['ok'])"
      ]
     },
     "execution_count": 4,
     "metadata": {},
     "output_type": "execute_result"
    }
   ],
   "source": [
    "client.load_and_project('C:\\\\msys64\\\\home\\\\nilab\\\\projects\\\\NaCsSLM\\\\lib\\\\Cs_pattern\\\\20240212_1738142x2_with_feedback')"
   ]
  },
  {
   "cell_type": "code",
   "execution_count": 13,
   "id": "ab29856f",
   "metadata": {},
   "outputs": [
    {
     "name": "stdout",
     "output_type": "stream",
     "text": [
      "20240214_165930\n",
      "20240214_165930\n"
     ]
    },
    {
     "data": {
      "text/plain": [
       "(['ok'], ['ok'])"
      ]
     },
     "execution_count": 13,
     "metadata": {},
     "output_type": "execute_result"
    }
   ],
   "source": [
    "file_name = \"20240209_1529196x6_with_feedback_big_spacing\"\n",
    "\n",
    "folder = 'C:\\\\msys64\\\\home\\\\nilab\\\\projects\\\\NaCsSLM\\\\lib\\\\Cs_pattern\\\\'\n",
    "file = folder + file_name\n",
    "client.load_and_project(file)"
   ]
  },
  {
   "cell_type": "code",
   "execution_count": 21,
   "id": "7e94eeef",
   "metadata": {},
   "outputs": [
    {
     "name": "stdout",
     "output_type": "stream",
     "text": [
      "20240214_160323\n",
      "20240214_160323\n",
      "20240214_160323\n",
      "20240214_160323\n"
     ]
    },
    {
     "data": {
      "text/plain": [
       "['ok']"
      ]
     },
     "execution_count": 21,
     "metadata": {},
     "output_type": "execute_result"
    }
   ],
   "source": [
    "# load correction\n",
    "client.send_reset_add_phase()\n",
    "#client.send_fresnel_lens(np.array([0.25e5])) #seems to be good correction for Cs SLM\n",
    "client.send_fresnel_lens(np.array([.35e5]))\n",
    "client.send_correction(\"C:\\\\msys64\\\\home\\\\nilab\\\\projects\\\\NaCsSLM\\\\lib\\\\Cs_Correction_Patterns\\\\CAL_LSH0802977_1064nm.bmp\")\n",
    "# notice = client.send_zernike_poly(np.array([[2,1,1.5],[2,2,-10],[3,2,4]]))\n",
    "\n",
    "#notice = client.send_zernike_poly(np.array([[2,0,5],[2,2,-10]]))\n",
    "\n",
    "\n",
    "#notice = client.send_zernike_poly(np.array([[2,1,-3],[2,2,-9],[3,2,-3]]))\n",
    "#print(notice)\n",
    "client.send_project()"
   ]
  },
  {
   "cell_type": "code",
   "execution_count": 17,
   "id": "b302ff68",
   "metadata": {},
   "outputs": [
    {
     "name": "stdout",
     "output_type": "stream",
     "text": [
      "20240215_221136\n",
      "20240215_221136\n"
     ]
    },
    {
     "data": {
      "text/plain": [
       "['ok']"
      ]
     },
     "execution_count": 17,
     "metadata": {},
     "output_type": "execute_result"
    }
   ],
   "source": [
    "client.send_offset(np.array([0.02,0.0]))\n",
    "client.send_project()"
   ]
  },
  {
   "cell_type": "code",
   "execution_count": 12,
   "id": "2acc9447",
   "metadata": {},
   "outputs": [
    {
     "name": "stdout",
     "output_type": "stream",
     "text": [
      "20240319_110557\n",
      "20240319_110557\n"
     ]
    },
    {
     "data": {
      "text/plain": [
       "['ok']"
      ]
     },
     "execution_count": 12,
     "metadata": {},
     "output_type": "execute_result"
    }
   ],
   "source": [
    "client.send_reset_pattern()\n",
    "client.send_project()"
   ]
  },
  {
   "cell_type": "markdown",
   "id": "6c4f26cd",
   "metadata": {},
   "source": [
    "# Code for 2/12"
   ]
  },
  {
   "cell_type": "markdown",
   "id": "021db5dd",
   "metadata": {},
   "source": [
    "Load 4x4 after redoing bishop beam path and apply Zernike corrections:"
   ]
  },
  {
   "cell_type": "code",
   "execution_count": 3,
   "id": "47ab245c",
   "metadata": {},
   "outputs": [
    {
     "name": "stdout",
     "output_type": "stream",
     "text": [
      "20240213_170616\n",
      "20240213_170616\n"
     ]
    },
    {
     "data": {
      "text/plain": [
       "(['ok'], ['ok'])"
      ]
     },
     "execution_count": 3,
     "metadata": {},
     "output_type": "execute_result"
    }
   ],
   "source": [
    "current_file = \"C:\\\\msys64\\\\home\\\\nilab\\\\projects\\\\NaCsSLM\\\\lib\\\\Cs_pattern\\\\20240209_1409122by2_pre_feedback\"\n",
    "client.load_and_project(current_file)"
   ]
  },
  {
   "cell_type": "code",
   "execution_count": 4,
   "id": "aca1ce44",
   "metadata": {},
   "outputs": [
    {
     "name": "stdout",
     "output_type": "stream",
     "text": [
      "20240213_170743\n",
      "20240213_170743\n",
      "20240213_170743\n"
     ]
    },
    {
     "ename": "NameError",
     "evalue": "name 'notice' is not defined",
     "output_type": "error",
     "traceback": [
      "\u001b[1;31m---------------------------------------------------------------------------\u001b[0m",
      "\u001b[1;31mNameError\u001b[0m                                 Traceback (most recent call last)",
      "\u001b[1;32mC:\\Users\\Simulation Computer\\AppData\\Local\\Temp\\ipykernel_4252\\1828205761.py\u001b[0m in \u001b[0;36m<module>\u001b[1;34m\u001b[0m\n\u001b[0;32m     10\u001b[0m \u001b[1;33m\u001b[0m\u001b[0m\n\u001b[0;32m     11\u001b[0m \u001b[1;31m#notice = client.send_zernike_poly(np.array([[2,1,-3],[2,2,-9],[3,2,-3]]))\u001b[0m\u001b[1;33m\u001b[0m\u001b[1;33m\u001b[0m\u001b[1;33m\u001b[0m\u001b[0m\n\u001b[1;32m---> 12\u001b[1;33m \u001b[0mprint\u001b[0m\u001b[1;33m(\u001b[0m\u001b[0mnotice\u001b[0m\u001b[1;33m)\u001b[0m\u001b[1;33m\u001b[0m\u001b[1;33m\u001b[0m\u001b[0m\n\u001b[0m\u001b[0;32m     13\u001b[0m \u001b[0mclient\u001b[0m\u001b[1;33m.\u001b[0m\u001b[0msend_project\u001b[0m\u001b[1;33m(\u001b[0m\u001b[1;33m)\u001b[0m\u001b[1;33m\u001b[0m\u001b[1;33m\u001b[0m\u001b[0m\n",
      "\u001b[1;31mNameError\u001b[0m: name 'notice' is not defined"
     ]
    }
   ],
   "source": [
    "# load correction\n",
    "client.send_reset_add_phase()\n",
    "#client.send_fresnel_lens(np.array([0.25e5])) #seems to be good correction for Cs SLM\n",
    "client.send_fresnel_lens(np.array([.3e5]))\n",
    "client.send_correction(\"C:\\\\msys64\\\\home\\\\nilab\\\\projects\\\\NaCsSLM\\\\lib\\\\Cs_Correction_Patterns\\\\CAL_LSH0802977_1064nm.bmp\")\n",
    "# notice = client.send_zernike_poly(np.array([[2,1,1.5],[2,2,-10],[3,2,4]]))\n",
    "\n",
    "# notice = client.send_zernike_poly(np.array([[2,0,-20],[2,1,1.5],[2,2,-10]]))\n",
    "\n",
    "\n",
    "#notice = client.send_zernike_poly(np.array([[2,1,-3],[2,2,-9],[3,2,-3]]))\n",
    "print(notice)\n",
    "client.send_project()\n"
   ]
  },
  {
   "cell_type": "code",
   "execution_count": 7,
   "id": "4e8a3e17",
   "metadata": {},
   "outputs": [
    {
     "name": "stdout",
     "output_type": "stream",
     "text": [
      "20240212_162522\n"
     ]
    },
    {
     "data": {
      "text/plain": [
       "['no hologram exists to continue camera feedback']"
      ]
     },
     "execution_count": 7,
     "metadata": {},
     "output_type": "execute_result"
    }
   ],
   "source": [
    "uniformity_feedback_iterations = 15\n",
    "#Uniformity\n",
    "client.send_perform_camera_feedback(uniformity_feedback_iterations)"
   ]
  },
  {
   "cell_type": "markdown",
   "id": "6abdf6fc",
   "metadata": {},
   "source": [
    "Now we're ready to calibrate:"
   ]
  },
  {
   "cell_type": "code",
   "execution_count": 8,
   "id": "d1f0997d",
   "metadata": {},
   "outputs": [
    {
     "name": "stdout",
     "output_type": "stream",
     "text": [
      "20240216_002531\n"
     ]
    },
    {
     "data": {
      "text/plain": [
       "['ok']"
      ]
     },
     "execution_count": 8,
     "metadata": {},
     "output_type": "execute_result"
    }
   ],
   "source": [
    "# start a new calibration\n",
    "client.send_perform_fourier_calibration(np.array([7,5]), np.array([40,40]))"
   ]
  },
  {
   "cell_type": "code",
   "execution_count": 39,
   "id": "4e6358d4",
   "metadata": {},
   "outputs": [
    {
     "name": "stdout",
     "output_type": "stream",
     "text": [
      "20240215_225846\n"
     ]
    },
    {
     "data": {
      "text/plain": [
       "['C:\\\\msys64\\\\home\\\\nilab\\\\projects\\\\NaCsSLM\\\\lib\\\\Cs_pattern\\\\Cs_0215_calibration_bishop_flipper_00000.h5']"
      ]
     },
     "execution_count": 39,
     "metadata": {},
     "output_type": "execute_result"
    }
   ],
   "source": [
    "# save the current calibration\n",
    "calibration_file_name = \"Cs_0215_calibration_bishop_flipper\"\n",
    "client.send_save_fourier_calibration(\"C:\\\\msys64\\\\home\\\\nilab\\\\projects\\\\NaCsSLM\\\\lib\\\\Cs_pattern\", calibration_file_name)"
   ]
  },
  {
   "cell_type": "markdown",
   "id": "4d3e15cf",
   "metadata": {},
   "source": [
    "Now that we have the calibration, we can attempt a 2x2:"
   ]
  },
  {
   "cell_type": "code",
   "execution_count": 8,
   "id": "61910563",
   "metadata": {},
   "outputs": [
    {
     "name": "stdout",
     "output_type": "stream",
     "text": [
      "20240212_173242\n",
      "20240212_173320\n",
      "20240212_173322\n",
      "20240212_173322\n",
      "20240212_173322\n",
      "20240212_173322\n",
      "20240212_173322\n",
      "20240212_173322\n",
      "20240212_173323\n",
      "['ok']\n",
      "20240212_173323\n"
     ]
    },
    {
     "data": {
      "text/plain": [
       "['ok']"
      ]
     },
     "execution_count": 8,
     "metadata": {},
     "output_type": "execute_result"
    }
   ],
   "source": [
    "#Params\n",
    "uniformity_feedback_iterations = 30\n",
    "WGS_iterations = 40\n",
    "\n",
    "# load a calibration file\n",
    "client.send_load_fourier_calibration('C:\\\\msys64\\\\home\\\\nilab\\\\projects\\\\NaCsSLM\\\\lib\\\\Cs_pattern\\\\Cs_0212_calibration_bishop_flipper_00000.h5')\n",
    "\n",
    "#Calculate square\n",
    "targets, target_amps = utils.gen_square_targets(2, 40, 0.06981317007977318, [621,606])\n",
    "target_file_name = \"2by2_pre_feedback\"\n",
    "client.calculate_save_and_project(targets, target_amps, WGS_iterations, \"C:\\\\msys64\\\\home\\\\nilab\\\\projects\\\\NaCsSLM\\\\lib\\\\Cs_pattern\" ,target_file_name)\n",
    "\n",
    "#Apply correction pattern\n",
    "client.send_reset_add_phase()\n",
    "client.send_fresnel_lens(np.array([0.25e5])) #seems to be good correction for Cs SLM\n",
    "client.send_correction(\"C:\\\\msys64\\\\home\\\\nilab\\\\projects\\\\NaCsSLM\\\\lib\\\\Cs_Correction_Patterns\\\\CAL_LSH0802977_1064nm.bmp\")\n",
    "#notice = client.send_zernike_poly(np.array([[2,2,-1.0],[2,0,-15]]))\n",
    "notice = client.send_zernike_poly(np.array([[2,0,-20],[2,1,1.5],[2,2,-10]]))\n",
    "print(notice)\n",
    "client.send_project()\n",
    "\n"
   ]
  },
  {
   "cell_type": "code",
   "execution_count": null,
   "id": "c169c487",
   "metadata": {},
   "outputs": [],
   "source": [
    "#Uniformity\n",
    "client.send_perform_camera_feedback(uniformity_feedback_iterations)"
   ]
  },
  {
   "cell_type": "code",
   "execution_count": 26,
   "id": "dca3c84c",
   "metadata": {},
   "outputs": [
    {
     "name": "stdout",
     "output_type": "stream",
     "text": [
      "20240214_170352\n"
     ]
    },
    {
     "data": {
      "text/plain": [
       "['C:\\\\msys64\\\\home\\\\nilab\\\\projects\\\\NaCsSLM\\\\lib\\\\Cs_pattern\\\\20240214_1703472x2_with_feedback_config.yml',\n",
       " 'C:\\\\msys64\\\\home\\\\nilab\\\\projects\\\\NaCsSLM\\\\lib\\\\Cs_pattern\\\\20240214_1703472x2_with_feedback_data.npz']"
      ]
     },
     "execution_count": 26,
     "metadata": {},
     "output_type": "execute_result"
    }
   ],
   "source": [
    "uniform_hologram_file_name = \"2x2_with_feedback\"\n",
    "client.send_save(\"C:\\\\msys64\\\\home\\\\nilab\\\\projects\\\\NaCsSLM\\\\lib\\\\Cs_pattern\", uniform_hologram_file_name)"
   ]
  },
  {
   "cell_type": "code",
   "execution_count": 6,
   "id": "a4d83da0",
   "metadata": {},
   "outputs": [
    {
     "name": "stdout",
     "output_type": "stream",
     "text": [
      "20240212_194829\n",
      "20240212_194829\n",
      "20240212_194829\n",
      "20240212_194829\n"
     ]
    },
    {
     "data": {
      "text/plain": [
       "['ok']"
      ]
     },
     "execution_count": 6,
     "metadata": {},
     "output_type": "execute_result"
    }
   ],
   "source": [
    "#Apply correction pattern\n",
    "client.send_reset_add_phase()\n",
    "client.send_fresnel_lens(np.array([0.3e5])) #seems to be good correction for Cs SLM\n",
    "client.send_correction(\"C:\\\\msys64\\\\home\\\\nilab\\\\projects\\\\NaCsSLM\\\\lib\\\\Cs_Correction_Patterns\\\\CAL_LSH0802977_1064nm.bmp\")\n",
    "#notice = client.send_zernike_poly(np.array([[2,2,-1.0],[2,0,-15]]))\n",
    "#notice = client.send_zernike_poly(np.array([[2,0,-20],[2,1,0],[2,2,-10]]))\n",
    "#print(notice)\n",
    "client.send_project()\n"
   ]
  },
  {
   "cell_type": "markdown",
   "id": "4cdf0bbf",
   "metadata": {},
   "source": [
    "# Code for 2/9"
   ]
  },
  {
   "cell_type": "code",
   "execution_count": 25,
   "id": "06ce8389",
   "metadata": {},
   "outputs": [
    {
     "name": "stdout",
     "output_type": "stream",
     "text": [
      "20240214_170242\n",
      "20240214_170323\n",
      "20240214_170325\n",
      "20240214_170325\n",
      "20240214_170325\n",
      "20240214_170325\n",
      "20240214_170325\n",
      "20240214_170325\n",
      "20240214_170326\n",
      "['ok']\n",
      "20240214_170326\n"
     ]
    },
    {
     "data": {
      "text/plain": [
       "['ok']"
      ]
     },
     "execution_count": 25,
     "metadata": {},
     "output_type": "execute_result"
    }
   ],
   "source": [
    "#Params\n",
    "uniformity_feedback_iterations = 30\n",
    "WGS_iterations = 40\n",
    "\n",
    "# load a calibration file\n",
    "client.send_load_fourier_calibration('C:\\\\msys64\\\\home\\\\nilab\\\\projects\\\\NaCsSLM\\\\lib\\\\Cs_pattern\\\\Cs_0212_calibration_bishop_flipper_00000.h5')\n",
    "\n",
    "#Calculate square\n",
    "targets, target_amps = utils.gen_square_targets(2, 40, 0.06981317007977318, [621,606])\n",
    "target_file_name = \"2by2_pre_feedback\"\n",
    "client.calculate_save_and_project(targets, target_amps, WGS_iterations, \"C:\\\\msys64\\\\home\\\\nilab\\\\projects\\\\NaCsSLM\\\\lib\\\\Cs_pattern\" ,target_file_name)\n",
    "\n",
    "#Apply correction pattern\n",
    "client.send_reset_add_phase()\n",
    "client.send_fresnel_lens(np.array([0.25e5])) #seems to be good correction for Cs SLM\n",
    "client.send_correction(\"C:\\\\msys64\\\\home\\\\nilab\\\\projects\\\\NaCsSLM\\\\lib\\\\Cs_Correction_Patterns\\\\CAL_LSH0802977_1064nm.bmp\")\n",
    "#notice = client.send_zernike_poly(np.array([[2,2,-1.0],[2,0,-15]]))\n",
    "notice = client.send_zernike_poly(np.array([[2,2,-7],[2,0,-15]]))\n",
    "print(notice)\n",
    "client.send_project()\n",
    "\n"
   ]
  },
  {
   "cell_type": "code",
   "execution_count": 9,
   "id": "f9a0b9ec",
   "metadata": {},
   "outputs": [
    {
     "name": "stdout",
     "output_type": "stream",
     "text": [
      "20240212_173526\n"
     ]
    },
    {
     "data": {
      "text/plain": [
       "['ok']"
      ]
     },
     "execution_count": 9,
     "metadata": {},
     "output_type": "execute_result"
    }
   ],
   "source": [
    "#Uniformity\n",
    "client.send_perform_camera_feedback(uniformity_feedback_iterations)"
   ]
  },
  {
   "cell_type": "code",
   "execution_count": 11,
   "id": "b0dc6227",
   "metadata": {},
   "outputs": [
    {
     "name": "stdout",
     "output_type": "stream",
     "text": [
      "20240209_153700\n"
     ]
    },
    {
     "data": {
      "text/plain": [
       "['ok']"
      ]
     },
     "execution_count": 11,
     "metadata": {},
     "output_type": "execute_result"
    }
   ],
   "source": [
    "#Uniformity\n",
    "client.send_perform_camera_feedback(uniformity_feedback_iterations)"
   ]
  },
  {
   "cell_type": "code",
   "execution_count": 12,
   "id": "ca6b53d5",
   "metadata": {},
   "outputs": [
    {
     "name": "stdout",
     "output_type": "stream",
     "text": [
      "20240209_153731\n"
     ]
    },
    {
     "data": {
      "text/plain": [
       "['C:\\\\msys64\\\\home\\\\nilab\\\\projects\\\\NaCsSLM\\\\lib\\\\Cs_pattern\\\\20240209_15372610x10_with_feedback_config.yml',\n",
       " 'C:\\\\msys64\\\\home\\\\nilab\\\\projects\\\\NaCsSLM\\\\lib\\\\Cs_pattern\\\\20240209_15372610x10_with_feedback_data.npz']"
      ]
     },
     "execution_count": 12,
     "metadata": {},
     "output_type": "execute_result"
    }
   ],
   "source": [
    "uniform_hologram_file_name = \"10x10_with_feedback\"\n",
    "client.send_save(\"C:\\\\msys64\\\\home\\\\nilab\\\\projects\\\\NaCsSLM\\\\lib\\\\Cs_pattern\", uniform_hologram_file_name)"
   ]
  },
  {
   "cell_type": "code",
   "execution_count": null,
   "id": "2e4d1896",
   "metadata": {},
   "outputs": [],
   "source": []
  },
  {
   "cell_type": "markdown",
   "id": "b5dc77d3",
   "metadata": {},
   "source": [
    "# Daily operation"
   ]
  },
  {
   "cell_type": "code",
   "execution_count": 33,
   "id": "e1674fd2",
   "metadata": {},
   "outputs": [
    {
     "name": "stdout",
     "output_type": "stream",
     "text": [
      "20240209_171259\n"
     ]
    },
    {
     "data": {
      "text/plain": [
       "['base: C:\\\\msys64\\\\home\\\\nilab\\\\projects\\\\NaCsSLM\\\\lib\\\\Cs_pattern\\\\20240209_1419342x2_with_feedback_big_spacingfresnel_lens:45000.0,file_correction:C:\\\\msys64\\\\home\\\\nilab\\\\projects\\\\NaCsSLM\\\\lib\\\\Cs_Correction_Patterns\\\\CAL_LSH0802977_1064nm.bmp,zernike:[((2, 2), -7.0), ((2, 0), -15.0)],']"
      ]
     },
     "execution_count": 33,
     "metadata": {},
     "output_type": "execute_result"
    }
   ],
   "source": [
    "client.send_get_current_phase_info()"
   ]
  },
  {
   "cell_type": "code",
   "execution_count": 14,
   "id": "26aace68",
   "metadata": {},
   "outputs": [
    {
     "name": "stdout",
     "output_type": "stream",
     "text": [
      "20240209_153932\n",
      "20240209_153932\n"
     ]
    },
    {
     "data": {
      "text/plain": [
       "(['ok'], ['ok'])"
      ]
     },
     "execution_count": 14,
     "metadata": {},
     "output_type": "execute_result"
    }
   ],
   "source": [
    "#load base\n",
    "current_file = \"C:\\\\msys64\\\\home\\\\nilab\\\\projects\\\\NaCsSLM\\\\lib\\\\Cs_pattern\\\\20240209_1419342x2_with_feedback_big_spacing\"\n",
    "client.load_and_project(current_file)"
   ]
  },
  {
   "cell_type": "code",
   "execution_count": 79,
   "id": "5d34a113",
   "metadata": {},
   "outputs": [
    {
     "name": "stdout",
     "output_type": "stream",
     "text": [
      "20240208_151545\n",
      "20240208_151545\n",
      "20240208_151545\n"
     ]
    },
    {
     "data": {
      "text/plain": [
       "['ok']"
      ]
     },
     "execution_count": 79,
     "metadata": {},
     "output_type": "execute_result"
    }
   ],
   "source": [
    "# load correction\n",
    "client.send_fresnel_lens(np.array([0.25e5])) #seems to be good correction for Cs SLM\n",
    "client.send_correction(\"C:\\\\msys64\\\\home\\\\nilab\\\\projects\\\\NaCsSLM\\\\lib\\\\Cs_Correction_Patterns\\\\CAL_LSH0802977_1064nm.bmp\")\n",
    "client.send_project()"
   ]
  },
  {
   "cell_type": "code",
   "execution_count": 78,
   "id": "4490d1c8",
   "metadata": {},
   "outputs": [
    {
     "name": "stdout",
     "output_type": "stream",
     "text": [
      "20240208_151458\n",
      "['ok']\n",
      "20240208_151458\n"
     ]
    },
    {
     "data": {
      "text/plain": [
       "['ok']"
      ]
     },
     "execution_count": 78,
     "metadata": {},
     "output_type": "execute_result"
    }
   ],
   "source": [
    "# add zernike correction\n",
    "notice = client.send_zernike_poly(np.array([[2,2,0]]))\n",
    "print(notice)\n",
    "client.send_project()"
   ]
  },
  {
   "cell_type": "code",
   "execution_count": 77,
   "id": "8f0cb7e1",
   "metadata": {},
   "outputs": [
    {
     "name": "stdout",
     "output_type": "stream",
     "text": [
      "20240208_151456\n",
      "20240208_151457\n"
     ]
    },
    {
     "data": {
      "text/plain": [
       "['ok']"
      ]
     },
     "execution_count": 77,
     "metadata": {},
     "output_type": "execute_result"
    }
   ],
   "source": [
    "# reset correction\n",
    "client.send_reset_add_phase()\n",
    "client.send_project()"
   ]
  },
  {
   "cell_type": "markdown",
   "id": "b40594b1",
   "metadata": {},
   "source": [
    "# Calibration "
   ]
  },
  {
   "cell_type": "code",
   "execution_count": 6,
   "id": "da19c277",
   "metadata": {},
   "outputs": [
    {
     "name": "stdout",
     "output_type": "stream",
     "text": [
      "20240216_102256\n"
     ]
    },
    {
     "data": {
      "text/plain": [
       "['ok']"
      ]
     },
     "execution_count": 6,
     "metadata": {},
     "output_type": "execute_result"
    }
   ],
   "source": [
    "# start a new calibration\n",
    "client.send_perform_fourier_calibration(np.array([6,5]), np.array([25,25]))"
   ]
  },
  {
   "cell_type": "code",
   "execution_count": 13,
   "id": "2237077f",
   "metadata": {},
   "outputs": [
    {
     "name": "stdout",
     "output_type": "stream",
     "text": [
      "20240216_104609\n"
     ]
    },
    {
     "data": {
      "text/plain": [
       "['C:\\\\msys64\\\\home\\\\nilab\\\\projects\\\\NaCsSLM\\\\lib\\\\Cs_pattern\\\\Cs_0216_calibration_bishop_flipper_correct_00000.h5']"
      ]
     },
     "execution_count": 13,
     "metadata": {},
     "output_type": "execute_result"
    }
   ],
   "source": [
    "# save the current calibration\n",
    "calibration_file_name = \"Cs_0216_calibration_bishop_flipper_correct\"\n",
    "client.send_save_fourier_calibration(\"C:\\\\msys64\\\\home\\\\nilab\\\\projects\\\\NaCsSLM\\\\lib\\\\Cs_pattern\", calibration_file_name)"
   ]
  },
  {
   "cell_type": "code",
   "execution_count": 4,
   "id": "4199589e",
   "metadata": {},
   "outputs": [
    {
     "name": "stdout",
     "output_type": "stream",
     "text": [
      "20240216_161142\n"
     ]
    },
    {
     "data": {
      "text/plain": [
       "['ok']"
      ]
     },
     "execution_count": 4,
     "metadata": {},
     "output_type": "execute_result"
    }
   ],
   "source": [
    "# load a calibration file\n",
    "client.send_load_fourier_calibration('C:\\\\msys64\\\\home\\\\nilab\\\\projects\\\\NaCsSLM\\\\lib\\\\Cs_pattern\\\\Cs_0216_calibration_bishop_flipper_correct_00000.h5')\n",
    "# client.send_load_fourier_calibration('C:\\\\msys64\\\\home\\\\nilab\\\\projects\\\\NaCsSLM\\\\lib\\\\Cs_pattern\\\\Cs_0208_calibration_00000.h5')"
   ]
  },
  {
   "cell_type": "markdown",
   "id": "7a160f1e",
   "metadata": {},
   "source": [
    "# Target array\n",
    "## generate target array "
   ]
  },
  {
   "cell_type": "code",
   "execution_count": 10,
   "id": "be2e59aa",
   "metadata": {},
   "outputs": [
    {
     "name": "stdout",
     "output_type": "stream",
     "text": [
      "20240208_212025\n",
      "20240208_212027\n",
      "20240208_212027\n",
      "20240208_212028\n"
     ]
    },
    {
     "data": {
      "text/plain": [
       "('C:\\\\msys64\\\\home\\\\nilab\\\\projects\\\\NaCsSLM\\\\lib\\\\Cs_pattern\\\\20240208_2120206x6_ij_aftercalibration_config.yml',\n",
       " 'C:\\\\msys64\\\\home\\\\nilab\\\\projects\\\\NaCsSLM\\\\lib\\\\Cs_pattern\\\\20240208_2120206x6_ij_aftercalibration_data.npz',\n",
       " ['ok'],\n",
       " ['ok'])"
      ]
     },
     "execution_count": 10,
     "metadata": {},
     "output_type": "execute_result"
    }
   ],
   "source": [
    "# 6x6 array\n",
    "ntargets = 36\n",
    "targets = np.zeros((2, ntargets))\n",
    "\n",
    "# targets[0,:] = np.array([152,159,166,173,180,187,\\\n",
    "#                         152,159,166,173,180,187,\\\n",
    "#                         152,159,166,173,180,187,\\\n",
    "#                         152,159,166,173,180,187,\\\n",
    "#                         152,159,166,173,180,187,\\\n",
    "#                         152,159,166,173,180,187])  # x coordinates \n",
    "# targets[1,:] = np.array([352,352,352,352,352,352, \\\n",
    "#                         359,359,359,359,359,359, \\\n",
    "#                         366,366,366,366,366,366, \\\n",
    "#                         373,373,373,373,373,373, \\\n",
    "#                         380,380,380,380,380,380, \\\n",
    "#                         387,387,387,387,387,387]) -50 # y coordinates\n",
    "targets[0,:] = np.array([152,159,166,173,180,187,\\\n",
    "                        152,159,166,173,180,187,\\\n",
    "                        152,159,166,173,180,187,\\\n",
    "                        152,159,166,173,180,187,\\\n",
    "                        152,159,166,173,180,187,\\\n",
    "                        152,159,166,173,180,187])-170+1000  # x coordinates \n",
    "targets[1,:] = np.array([352,352,352,352,352,352, \\\n",
    "                        359,359,359,359,359,359, \\\n",
    "                        366,366,366,366,366,366, \\\n",
    "                        373,373,373,373,373,373, \\\n",
    "                        380,380,380,380,380,380, \\\n",
    "                        387,387,387,387,387,387]) -370+600 # y coordinates\n",
    "\n",
    "target_amps = np.ones((1, ntargets))\n",
    "target_file_name = \"6x6_ij_aftercalibration\"\n",
    "client.calculate_save_and_project(targets, target_amps, 20,\"C:\\\\msys64\\\\home\\\\nilab\\\\projects\\\\NaCsSLM\\\\lib\\\\Cs_pattern\" ,target_file_name)"
   ]
  },
  {
   "cell_type": "code",
   "execution_count": 6,
   "id": "beb014fb",
   "metadata": {},
   "outputs": [
    {
     "name": "stdout",
     "output_type": "stream",
     "text": [
      "20240209_111827\n",
      "20240209_111830\n",
      "20240209_111830\n",
      "20240209_111830\n"
     ]
    },
    {
     "data": {
      "text/plain": [
       "('C:\\\\msys64\\\\home\\\\nilab\\\\projects\\\\NaCsSLM\\\\lib\\\\Cs_pattern\\\\20240209_111825single_spot_config.yml',\n",
       " 'C:\\\\msys64\\\\home\\\\nilab\\\\projects\\\\NaCsSLM\\\\lib\\\\Cs_pattern\\\\20240209_111825single_spot_data.npz',\n",
       " ['ok'],\n",
       " ['ok'])"
      ]
     },
     "execution_count": 6,
     "metadata": {},
     "output_type": "execute_result"
    }
   ],
   "source": [
    "ntargets = 1\n",
    "targets = np.zeros((2, ntargets))\n",
    "\n",
    "targets[0,:] = np.array([621]) # x coordinates\n",
    "targets[1,:] = np.array([616]) # y coordinates\n",
    "\n",
    "target_amps = np.ones((1,ntargets))\n",
    "target_file_name = \"single_spot\"\n",
    "client.calculate_save_and_project(targets, target_amps, 20, \"C:\\\\msys64\\\\home\\\\nilab\\\\projects\\\\NaCsSLM\\\\lib\\\\Cs_pattern\" ,target_file_name)\n"
   ]
  },
  {
   "cell_type": "markdown",
   "id": "4b2e5cea",
   "metadata": {},
   "source": [
    "Now let's generate a square array:"
   ]
  },
  {
   "cell_type": "code",
   "execution_count": 4,
   "id": "b1a5bf24",
   "metadata": {
    "scrolled": true
   },
   "outputs": [
    {
     "name": "stdout",
     "output_type": "stream",
     "text": [
      "20240209_121912\n",
      "20240209_121915\n",
      "20240209_121915\n",
      "20240209_121915\n"
     ]
    },
    {
     "data": {
      "text/plain": [
       "('C:\\\\msys64\\\\home\\\\nilab\\\\projects\\\\NaCsSLM\\\\lib\\\\Cs_pattern\\\\20240209_1219104by4_test_config.yml',\n",
       " 'C:\\\\msys64\\\\home\\\\nilab\\\\projects\\\\NaCsSLM\\\\lib\\\\Cs_pattern\\\\20240209_1219104by4_test_data.npz',\n",
       " ['ok'],\n",
       " ['ok'])"
      ]
     },
     "execution_count": 4,
     "metadata": {},
     "output_type": "execute_result"
    }
   ],
   "source": [
    "targets, target_amps = utils.gen_square_targets(4, 40, 0.06981317007977318, [621,606])\n",
    "target_file_name = \"4by4_test\"\n",
    "client.calculate_save_and_project(targets, target_amps, 20, \"C:\\\\msys64\\\\home\\\\nilab\\\\projects\\\\NaCsSLM\\\\lib\\\\Cs_pattern\" ,target_file_name)\n"
   ]
  },
  {
   "cell_type": "code",
   "execution_count": 12,
   "id": "9db60cd1",
   "metadata": {},
   "outputs": [
    {
     "data": {
      "text/plain": [
       "-0.06981317007977318"
      ]
     },
     "execution_count": 12,
     "metadata": {},
     "output_type": "execute_result"
    }
   ],
   "source": [
    "-4*(2*np.pi/360)"
   ]
  },
  {
   "cell_type": "code",
   "execution_count": 33,
   "id": "67545fc8",
   "metadata": {},
   "outputs": [
    {
     "name": "stdout",
     "output_type": "stream",
     "text": [
      "20240208_141941\n",
      "20240208_141943\n",
      "20240208_141943\n",
      "20240208_141944\n"
     ]
    },
    {
     "data": {
      "text/plain": [
       "('C:\\\\msys64\\\\home\\\\nilab\\\\projects\\\\NaCsSLM\\\\lib\\\\Cs_pattern\\\\20240208_1419372x3_ij_config.yml',\n",
       " 'C:\\\\msys64\\\\home\\\\nilab\\\\projects\\\\NaCsSLM\\\\lib\\\\Cs_pattern\\\\20240208_1419372x3_ij_data.npz',\n",
       " ['ok'],\n",
       " ['ok'])"
      ]
     },
     "execution_count": 33,
     "metadata": {},
     "output_type": "execute_result"
    }
   ],
   "source": [
    "ntargets = 6\n",
    "targets = np.zeros((2, ntargets))\n",
    "\n",
    "targets[0,:] = np.array([150,150,150,170,170,170]) + 80# x coordinates\n",
    "targets[1,:] = np.array([350,370,390,350,370,390]) - 10 # y coordinates\n",
    "\n",
    "target_amps = np.ones((1,ntargets))\n",
    "target_file_name = \"2x3_ij\"\n",
    "client.calculate_save_and_project(targets, target_amps, 20,\"C:\\\\msys64\\\\home\\\\nilab\\\\projects\\\\NaCsSLM\\\\lib\\\\Cs_pattern\" ,target_file_name)\n"
   ]
  },
  {
   "cell_type": "markdown",
   "id": "840cdfdb",
   "metadata": {},
   "source": [
    "# Uniformity feedback"
   ]
  },
  {
   "cell_type": "code",
   "execution_count": 6,
   "id": "c6fdcef8",
   "metadata": {},
   "outputs": [
    {
     "name": "stdout",
     "output_type": "stream",
     "text": [
      "20240209_122013\n"
     ]
    },
    {
     "data": {
      "text/plain": [
       "['ok']"
      ]
     },
     "execution_count": 6,
     "metadata": {},
     "output_type": "execute_result"
    }
   ],
   "source": [
    "# define a target first \n",
    "# client.send_calculate(targets, target_amps, 20)\n",
    "#If you've already saved and projected then you can go ahead:\n",
    "uniformity_feedback_iterations = 20\n",
    "client.send_perform_camera_feedback(uniformity_feedback_iterations)"
   ]
  },
  {
   "cell_type": "code",
   "execution_count": null,
   "id": "ede56833",
   "metadata": {},
   "outputs": [],
   "source": [
    "uniform_hologram_file_name = \"1x3_with_feedback\"\n",
    "client.send_save(\"C:\\\\msys64\\\\home\\\\nilab\\\\projects\\\\NaCsSLM\\\\lib\\\\Cs_pattern\", uniform_hologram_file_name)"
   ]
  },
  {
   "cell_type": "code",
   "execution_count": 8,
   "id": "c8c19dc2",
   "metadata": {},
   "outputs": [],
   "source": [
    "import time"
   ]
  },
  {
   "cell_type": "code",
   "execution_count": 23,
   "id": "afb929a0",
   "metadata": {},
   "outputs": [
    {
     "name": "stdout",
     "output_type": "stream",
     "text": [
      "Trying f = 20000.0\n",
      "20240213_180955\n",
      "20240213_180955\n",
      "20240213_180955\n",
      "20240213_180955\n",
      "Waiting\n",
      "Trying f = 21578.947368421053\n",
      "20240213_180956\n",
      "20240213_180956\n",
      "20240213_180956\n",
      "20240213_180957\n",
      "Waiting\n",
      "Trying f = 23157.894736842107\n",
      "20240213_180958\n",
      "20240213_180958\n",
      "20240213_180958\n",
      "20240213_180958\n",
      "Waiting\n",
      "Trying f = 24736.84210526316\n",
      "20240213_180959\n",
      "20240213_180959\n",
      "20240213_180959\n",
      "20240213_181000\n",
      "Waiting\n",
      "Trying f = 26315.789473684214\n",
      "20240213_181001\n",
      "20240213_181001\n",
      "20240213_181001\n",
      "20240213_181001\n",
      "Waiting\n",
      "Trying f = 27894.73684210526\n",
      "20240213_181002\n",
      "20240213_181002\n",
      "20240213_181002\n",
      "20240213_181003\n",
      "Waiting\n",
      "Trying f = 29473.68421052632\n",
      "20240213_181004\n",
      "20240213_181004\n",
      "20240213_181004\n",
      "20240213_181004\n",
      "Waiting\n",
      "Trying f = 31052.63157894737\n",
      "20240213_181005\n",
      "20240213_181005\n",
      "20240213_181005\n",
      "20240213_181005\n",
      "Waiting\n",
      "Trying f = 32631.578947368424\n",
      "20240213_181006\n",
      "20240213_181007\n",
      "20240213_181007\n",
      "20240213_181007\n",
      "Waiting\n",
      "Trying f = 34210.52631578947\n",
      "20240213_181008\n",
      "20240213_181008\n",
      "20240213_181008\n",
      "20240213_181008\n",
      "Waiting\n",
      "Trying f = 35789.47368421053\n",
      "20240213_181009\n",
      "20240213_181009\n",
      "20240213_181010\n",
      "20240213_181010\n",
      "Waiting\n",
      "Trying f = 37368.42105263159\n",
      "20240213_181011\n",
      "20240213_181011\n",
      "20240213_181011\n",
      "20240213_181011\n",
      "Waiting\n",
      "Trying f = 38947.36842105263\n",
      "20240213_181012\n",
      "20240213_181012\n",
      "20240213_181012\n",
      "20240213_181013\n",
      "Waiting\n",
      "Trying f = 40526.31578947369\n",
      "20240213_181014\n",
      "20240213_181014\n",
      "20240213_181014\n",
      "20240213_181014\n",
      "Waiting\n",
      "Trying f = 42105.26315789474\n",
      "20240213_181015\n",
      "20240213_181015\n",
      "20240213_181015\n",
      "20240213_181016\n",
      "Waiting\n",
      "Trying f = 43684.210526315794\n",
      "20240213_181017\n",
      "20240213_181017\n",
      "20240213_181017\n",
      "20240213_181017\n",
      "Waiting\n",
      "Trying f = 45263.15789473685\n",
      "20240213_181018\n",
      "20240213_181018\n",
      "20240213_181018\n",
      "20240213_181019\n",
      "Waiting\n",
      "Trying f = 46842.10526315789\n",
      "20240213_181020\n",
      "20240213_181020\n",
      "20240213_181020\n",
      "20240213_181020\n",
      "Waiting\n",
      "Trying f = 48421.05263157895\n",
      "20240213_181021\n",
      "20240213_181021\n",
      "20240213_181021\n",
      "20240213_181022\n",
      "Waiting\n",
      "Trying f = 50000.0\n",
      "20240213_181023\n",
      "20240213_181023\n",
      "20240213_181023\n",
      "20240213_181023\n",
      "Waiting\n"
     ]
    }
   ],
   "source": [
    "# fs = np.linspace(0.1, 0.17, 18) * 1e5   # Thorcam \n",
    "fs = np.linspace(0.2, 0.5, 20) * 1e5   # Andor\n",
    "for f in fs:\n",
    "    print('Trying f = ' + str(f))\n",
    "    client.send_reset_add_phase()\n",
    "    client.send_fresnel_lens(np.array([f])) #seems to be good correction for Cs SLM\n",
    "    client.send_correction(\"C:\\\\msys64\\\\home\\\\nilab\\\\projects\\\\NaCsSLM\\\\lib\\\\Cs_Correction_Patterns\\\\CAL_LSH0802977_1064nm.bmp\")\n",
    "    client.send_project()\n",
    "    print('Waiting')\n",
    "    time.sleep(1)\n",
    "    "
   ]
  },
  {
   "cell_type": "code",
   "execution_count": 24,
   "id": "c37ae07a",
   "metadata": {
    "scrolled": true
   },
   "outputs": [
    {
     "name": "stdout",
     "output_type": "stream",
     "text": [
      "Trying weight = -20.0\n",
      "20240214_170152\n",
      "20240214_170152\n",
      "20240214_170152\n",
      "20240214_170153\n",
      "['ok']\n",
      "20240214_170153\n",
      "Waiting\n",
      "Trying weight = -18.0\n",
      "20240214_170154\n",
      "20240214_170154\n",
      "20240214_170154\n",
      "20240214_170154\n",
      "['ok']\n",
      "20240214_170155\n",
      "Waiting\n",
      "Trying weight = -16.0\n",
      "20240214_170156\n",
      "20240214_170156\n",
      "20240214_170156\n",
      "20240214_170156\n",
      "['ok']\n",
      "20240214_170156\n",
      "Waiting\n",
      "Trying weight = -14.0\n",
      "20240214_170157\n",
      "20240214_170157\n",
      "20240214_170157\n",
      "20240214_170157\n",
      "['ok']\n",
      "20240214_170158\n",
      "Waiting\n",
      "Trying weight = -12.0\n",
      "20240214_170159\n",
      "20240214_170159\n",
      "20240214_170159\n",
      "20240214_170159\n",
      "['ok']\n",
      "20240214_170159\n",
      "Waiting\n",
      "Trying weight = -10.0\n",
      "20240214_170201\n",
      "20240214_170201\n",
      "20240214_170201\n",
      "20240214_170201\n",
      "['ok']\n",
      "20240214_170201\n",
      "Waiting\n",
      "Trying weight = -8.0\n",
      "20240214_170202\n",
      "20240214_170202\n",
      "20240214_170202\n",
      "20240214_170202\n",
      "['ok']\n",
      "20240214_170203\n",
      "Waiting\n",
      "Trying weight = -6.0\n",
      "20240214_170204\n",
      "20240214_170204\n",
      "20240214_170204\n",
      "20240214_170204\n",
      "['ok']\n",
      "20240214_170204\n",
      "Waiting\n",
      "Trying weight = -4.0\n",
      "20240214_170205\n",
      "20240214_170205\n",
      "20240214_170205\n",
      "20240214_170206\n",
      "['ok']\n",
      "20240214_170206\n",
      "Waiting\n",
      "Trying weight = -2.0\n",
      "20240214_170207\n",
      "20240214_170207\n",
      "20240214_170207\n",
      "20240214_170207\n",
      "['ok']\n",
      "20240214_170208\n",
      "Waiting\n",
      "Trying weight = 0.0\n",
      "20240214_170209\n",
      "20240214_170209\n",
      "20240214_170209\n",
      "20240214_170209\n",
      "['ok']\n",
      "20240214_170209\n",
      "Waiting\n",
      "Trying weight = 2.0\n",
      "20240214_170210\n",
      "20240214_170210\n",
      "20240214_170210\n",
      "20240214_170210\n",
      "['ok']\n",
      "20240214_170211\n",
      "Waiting\n",
      "Trying weight = 4.0\n",
      "20240214_170212\n",
      "20240214_170212\n",
      "20240214_170212\n",
      "20240214_170212\n",
      "['ok']\n",
      "20240214_170212\n",
      "Waiting\n",
      "Trying weight = 6.0\n",
      "20240214_170213\n",
      "20240214_170213\n",
      "20240214_170213\n",
      "20240214_170214\n",
      "['ok']\n",
      "20240214_170214\n",
      "Waiting\n",
      "Trying weight = 8.0\n",
      "20240214_170215\n",
      "20240214_170215\n",
      "20240214_170215\n",
      "20240214_170215\n",
      "['ok']\n",
      "20240214_170216\n",
      "Waiting\n",
      "Trying weight = 10.0\n",
      "20240214_170217\n",
      "20240214_170217\n",
      "20240214_170217\n",
      "20240214_170217\n",
      "['ok']\n",
      "20240214_170217\n",
      "Waiting\n",
      "Trying weight = 12.0\n",
      "20240214_170218\n",
      "20240214_170218\n",
      "20240214_170218\n",
      "20240214_170219\n",
      "['ok']\n",
      "20240214_170219\n",
      "Waiting\n",
      "Trying weight = 14.0\n",
      "20240214_170220\n",
      "20240214_170220\n",
      "20240214_170220\n",
      "20240214_170220\n",
      "['ok']\n",
      "20240214_170221\n",
      "Waiting\n",
      "Trying weight = 16.0\n",
      "20240214_170222\n",
      "20240214_170222\n",
      "20240214_170222\n",
      "20240214_170222\n",
      "['ok']\n",
      "20240214_170222\n",
      "Waiting\n",
      "Trying weight = 18.0\n",
      "20240214_170223\n",
      "20240214_170223\n",
      "20240214_170223\n",
      "20240214_170223\n",
      "['ok']\n",
      "20240214_170224\n",
      "Waiting\n",
      "Trying weight = 20.0\n",
      "20240214_170225\n",
      "20240214_170225\n",
      "20240214_170225\n",
      "20240214_170225\n",
      "['ok']\n",
      "20240214_170225\n",
      "Waiting\n",
      "finished\n"
     ]
    }
   ],
   "source": [
    "# fs = np.linspace(0.1, 0.17, 18) * 1e5   # Thorcam \n",
    "# scan the Zernike \n",
    "# fs = np.linspace(0.25, 0.26, 20) * 1e5   # Andor\n",
    "weights = np.linspace(-20,20,21)\n",
    "for weight in weights:\n",
    "    print('Trying weight = ' + str(weight))\n",
    "    client.send_reset_add_phase()\n",
    "    client.send_fresnel_lens(np.array([0.3e5 ])) #seems to be good correction for Cs SLM\n",
    "    client.send_correction(\"C:\\\\msys64\\\\home\\\\nilab\\\\projects\\\\NaCsSLM\\\\lib\\\\Cs_Correction_Patterns\\\\CAL_LSH0802977_1064nm.bmp\")\n",
    "    notice = client.send_zernike_poly(np.array([[2,0,-10], [2,2,weight]]))\n",
    "    print(notice)\n",
    "    client.send_project()\n",
    "    print('Waiting')\n",
    "    time.sleep(1)\n",
    "print('finished')"
   ]
  },
  {
   "cell_type": "code",
   "execution_count": 43,
   "id": "28fc6b72",
   "metadata": {
    "scrolled": true
   },
   "outputs": [
    {
     "name": "stdout",
     "output_type": "stream",
     "text": [
      "20240212_191046\n",
      "20240212_191046\n",
      "20240212_191046\n",
      "20240212_191046\n"
     ]
    },
    {
     "data": {
      "text/plain": [
       "['ok']"
      ]
     },
     "execution_count": 43,
     "metadata": {},
     "output_type": "execute_result"
    }
   ],
   "source": [
    "client.send_reset_add_phase()\n",
    "client.send_fresnel_lens(np.array([0.3e5])) #seems to be good correction for Cs SLM\n",
    "client.send_correction(\"C:\\\\msys64\\\\home\\\\nilab\\\\projects\\\\NaCsSLM\\\\lib\\\\Cs_Correction_Patterns\\\\CAL_LSH0802977_1064nm.bmp\")\n",
    "#notice = client.send_zernike_poly(np.array([[2,2,-1],[2,0,-15]]))\n",
    "#notice = client.send_zernike_poly(np.array([[2,1,1],[2,2,-4]]))\n",
    "#print(notice)\n",
    "client.send_project()\n"
   ]
  },
  {
   "cell_type": "code",
   "execution_count": 27,
   "id": "79cca1a0",
   "metadata": {},
   "outputs": [
    {
     "name": "stdout",
     "output_type": "stream",
     "text": [
      "20240208_154312\n"
     ]
    },
    {
     "data": {
      "text/plain": [
       "['ok']"
      ]
     },
     "execution_count": 27,
     "metadata": {},
     "output_type": "execute_result"
    }
   ],
   "source": [
    "client.send_zernike_poly(np.array([[2,1,0.0]]))\n"
   ]
  },
  {
   "cell_type": "code",
   "execution_count": 17,
   "id": "92d44fa1",
   "metadata": {},
   "outputs": [
    {
     "name": "stdout",
     "output_type": "stream",
     "text": [
      "20240209_100952\n"
     ]
    },
    {
     "data": {
      "text/plain": [
       "['C:\\\\msys64\\\\home\\\\nilab\\\\projects\\\\NaCsSLM\\\\lib\\\\Cs_pattern\\\\Cs_0208_calibration_bishop_flipper_00000.h5']"
      ]
     },
     "execution_count": 17,
     "metadata": {},
     "output_type": "execute_result"
    }
   ],
   "source": [
    "client.send_get_fourier_calibration()"
   ]
  },
  {
   "cell_type": "code",
   "execution_count": 11,
   "id": "8a2d9f0d",
   "metadata": {},
   "outputs": [
    {
     "name": "stdout",
     "output_type": "stream",
     "text": [
      "20240213_120445\n"
     ]
    },
    {
     "data": {
      "text/plain": [
       "['base: C:\\\\msys64\\\\home\\\\nilab\\\\projects\\\\NaCsSLM\\\\lib\\\\Cs_pattern\\\\20240212_1738142x2_with_feedbackfresnel_lens:30000.0,file_correction:C:\\\\msys64\\\\home\\\\nilab\\\\projects\\\\NaCsSLM\\\\lib\\\\Cs_Correction_Patterns\\\\\\\\CAL_LSH0802977_1064nm.bmp,zernike:[((2, 0), 10.0), ((2, 2), 10.0)],']"
      ]
     },
     "execution_count": 11,
     "metadata": {},
     "output_type": "execute_result"
    }
   ],
   "source": [
    "client.send_get_current_phase_info()"
   ]
  },
  {
   "cell_type": "code",
   "execution_count": 8,
   "id": "a745dc5f",
   "metadata": {},
   "outputs": [
    {
     "name": "stdout",
     "output_type": "stream",
     "text": [
      "20240212_195131\n",
      "20240212_195132\n"
     ]
    },
    {
     "data": {
      "text/plain": [
       "(['ok'], ['ok'])"
      ]
     },
     "execution_count": 8,
     "metadata": {},
     "output_type": "execute_result"
    }
   ],
   "source": [
    "client.load_and_project(\"C:\\\\msys64\\\\home\\\\nilab\\\\projects\\\\NaCsSLM\\\\lib\\\\Cs_pattern\\\\20240212_1738142x2_with_feedback\")\n"
   ]
  },
  {
   "cell_type": "code",
   "execution_count": 17,
   "id": "fffe4e8b",
   "metadata": {},
   "outputs": [
    {
     "name": "stdout",
     "output_type": "stream",
     "text": [
      "20240213_121142\n",
      "20240213_121142\n"
     ]
    },
    {
     "data": {
      "text/plain": [
       "['ok']"
      ]
     },
     "execution_count": 17,
     "metadata": {},
     "output_type": "execute_result"
    }
   ],
   "source": [
    "a = 10.0\n",
    "client.send_slm_amplitude(\"gaussian\", np.array([a]), np.array([a])) # Sets a slm amplitude, gaussian beam with waist 400 px\n",
    "client.send_project()"
   ]
  },
  {
   "cell_type": "code",
   "execution_count": 7,
   "id": "b50a73e0",
   "metadata": {},
   "outputs": [
    {
     "name": "stdout",
     "output_type": "stream",
     "text": [
      "20240216_115420\n"
     ]
    },
    {
     "data": {
      "text/plain": [
       "['ok']"
      ]
     },
     "execution_count": 7,
     "metadata": {},
     "output_type": "execute_result"
    }
   ],
   "source": [
    "client.send_project()"
   ]
  },
  {
   "cell_type": "code",
   "execution_count": 11,
   "id": "1a878dab",
   "metadata": {},
   "outputs": [],
   "source": [
    "targets, target_amps = utils.gen_square_targets(3, 118, 0.06981317007977318, [610 - 23, 480])\n",
    "targets2, target_amps2 = utils.gen_square_targets(3, 118, 0.06981317007977318, [610 + 23, 480])"
   ]
  },
  {
   "cell_type": "code",
   "execution_count": 13,
   "id": "70d8922a",
   "metadata": {},
   "outputs": [
    {
     "data": {
      "text/plain": [
       "array([[422.77805896, 410.4311631 , 398.08426725, 599.34689585,\n",
       "        587.        , 574.65310415, 775.91573275, 763.5688369 ,\n",
       "        751.22194104, 468.77805896, 456.4311631 , 444.08426725,\n",
       "        645.34689585, 633.        , 620.65310415, 821.91573275,\n",
       "        809.5688369 , 797.22194104],\n",
       "       [291.08426725, 467.65310415, 644.22194104, 303.4311631 ,\n",
       "        480.        , 656.5688369 , 315.77805896, 492.34689585,\n",
       "        668.91573275, 291.08426725, 467.65310415, 644.22194104,\n",
       "        303.4311631 , 480.        , 656.5688369 , 315.77805896,\n",
       "        492.34689585, 668.91573275]])"
      ]
     },
     "execution_count": 13,
     "metadata": {},
     "output_type": "execute_result"
    }
   ],
   "source": [
    "np.concatenate((targets, targets2), axis=1)"
   ]
  },
  {
   "cell_type": "code",
   "execution_count": 6,
   "id": "57108da2",
   "metadata": {},
   "outputs": [],
   "source": [
    "import utils"
   ]
  },
  {
   "cell_type": "code",
   "execution_count": 27,
   "id": "cd4d3897",
   "metadata": {},
   "outputs": [
    {
     "name": "stdout",
     "output_type": "stream",
     "text": [
      "20240220_165416\n"
     ]
    },
    {
     "data": {
      "text/plain": [
       "['']"
      ]
     },
     "execution_count": 27,
     "metadata": {},
     "output_type": "execute_result"
    }
   ],
   "source": [
    "client.send_get_fourier_calibration()"
   ]
  },
  {
   "cell_type": "code",
   "execution_count": null,
   "id": "eadaaf7f",
   "metadata": {},
   "outputs": [],
   "source": []
  }
 ],
 "metadata": {
  "kernelspec": {
   "display_name": "Python 3 (ipykernel)",
   "language": "python",
   "name": "python3"
  },
  "language_info": {
   "codemirror_mode": {
    "name": "ipython",
    "version": 3
   },
   "file_extension": ".py",
   "mimetype": "text/x-python",
   "name": "python",
   "nbconvert_exporter": "python",
   "pygments_lexer": "ipython3",
   "version": "3.7.2"
  }
 },
 "nbformat": 4,
 "nbformat_minor": 5
}
