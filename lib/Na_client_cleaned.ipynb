{
 "cells": [
  {
   "cell_type": "markdown",
   "id": "4d5e33ce",
   "metadata": {},
   "source": [
    "# Initialization"
   ]
  },
  {
   "cell_type": "code",
   "execution_count": 1,
   "id": "f55f3b4c",
   "metadata": {},
   "outputs": [
    {
     "name": "stdout",
     "output_type": "stream",
     "text": [
      "20250306_105038\n",
      "['slm: hamamatsu display 1 / camera: network']\n"
     ]
    }
   ],
   "source": [
    "import Client\n",
    "import numpy as np\n",
    "import utils\n",
    "client = Client.Client('tcp://192.168.0.129:8878')"
   ]
  },
  {
   "cell_type": "markdown",
   "id": "05e92d46",
   "metadata": {},
   "source": [
    "## 2/24 -- Wide spacing 4x10 array"
   ]
  },
  {
   "cell_type": "code",
   "execution_count": 33,
   "id": "1cc77fa9",
   "metadata": {},
   "outputs": [
    {
     "name": "stdout",
     "output_type": "stream",
     "text": [
      "[[377. 387. 397. 407. 377. 387. 397. 407. 377. 387. 397. 407. 377. 387.\n",
      "  397. 407. 377. 387. 397. 407. 377. 387. 397. 407. 377. 387. 397. 407.\n",
      "  377. 387. 397. 407. 377. 387. 397. 407. 377. 387. 397. 407.]\n",
      " [397. 397. 397. 397. 387. 387. 387. 387. 377. 377. 377. 377. 367. 367.\n",
      "  367. 367. 357. 357. 357. 357. 347. 347. 347. 347. 337. 337. 337. 337.\n",
      "  327. 327. 327. 327. 317. 317. 317. 317. 307. 307. 307. 307.]]\n",
      "[[-60 -60 -60 -60 -50 -50 -50 -50 -40 -40 -40 -40 -30 -30 -30 -30 -20 -20  -20 -20 -10 -10 -10 -10   0   0   0   0  10  10  10  10  20  20  20  20   30  30  30  30] [  8  18  28  38   8  18  28  38   8  18  28  38   8  18  28  38   8  18   28  38   8  18  28  38   8  18  28  38   8  18  28  38   8  18  28  38    8  18  28  38]]\n"
     ]
    }
   ],
   "source": [
    "## 1/9/25  1row for calibration\n",
    "#11/11\n",
    "\n",
    "def andor_to_k(x):\n",
    "    A = np.array([[-0.0704, 2.340], [2.4303, 0.1019]])\n",
    "    b = np.array([[343.19], [57.604]])\n",
    "    targets = np.matmul(A,x)+b\n",
    "    return targets\n",
    "\n",
    "def k_to_andor(k):\n",
    "    A = np.array([[-0.0704, 2.340], [2.4303, 0.1019]])\n",
    "    b = np.array([[343.19], [57.604]])\n",
    "    invA = np.linalg.inv(A)\n",
    "    targets = np.matmul(invA, k - b)\n",
    "    return targets\n",
    "targets, target_amps = utils.gen_square_targets([4,10], [10,10], 0, [392,352])\n",
    "print(targets)\n",
    "\n",
    "def andor_to_img(targets, center):\n",
    "    x_array = targets\n",
    "    ntargets = x_array.shape[1]\n",
    "    firstcoord_center = center[0]\n",
    "    secondcoord_center = center[1]\n",
    "    #subtract off center and reflect second coord, then round and cast to int\n",
    "    x_array_cam = np.round((x_array - np.array([np.ones((ntargets))*firstcoord_center,np.ones((ntargets))*secondcoord_center]))*np.array([[1],[-1]])).astype(int)\n",
    "    x_array_cam[[0, 1]] = x_array_cam[[1, 0]]\n",
    "    return x_array_cam\n",
    "\n",
    "print(str(andor_to_img(targets, [369, 337])).replace(\"\\n\", \"\"))"
   ]
  },
  {
   "cell_type": "code",
   "execution_count": 53,
   "id": "4ef66ad9",
   "metadata": {},
   "outputs": [
    {
     "name": "stdout",
     "output_type": "stream",
     "text": [
      "20250224_164133\n",
      "20250224_164135\n",
      "20250224_164135\n",
      "20250224_164136\n"
     ]
    },
    {
     "data": {
      "text/plain": [
       "('C:\\\\msys64\\\\home\\\\nilab\\\\projects\\\\NaCsSLM\\\\lib\\\\Na_pattern\\\\20250224_1642514x10Na_widespacing_take5_config.yml',\n",
       " 'C:\\\\msys64\\\\home\\\\nilab\\\\projects\\\\NaCsSLM\\\\lib\\\\Na_pattern\\\\20250224_1642514x10Na_widespacing_take5_data.npz',\n",
       " ['ok'],\n",
       " ['ok'])"
      ]
     },
     "execution_count": 53,
     "metadata": {},
     "output_type": "execute_result"
    }
   ],
   "source": [
    "k_array = andor_to_k(targets)\n",
    "a = [1.0738,1.0293,0.98643,1.1071,1.0687,1.0726,1.1114,1.1328,1.0091,1.0805,1.1099,1.019,1.0419,1.0554,1.0323,1.0459,0.93924,0.92814,1.0173,0.97189,0.98976,0.99763,1.0414,1.0958,0.96577,0.99215,0.96477,0.96077,0.91234,0.93065,0.94815,0.95155,0.91007,0.95429,0.92918,0.97837,0.9849,0.91878,0.95602,0.93669]\n",
    "a[20-1] = a[20-1]*1.05\n",
    "a[24-1] = a[24-1]*0.95\n",
    "target_amps = np.array(a)\n",
    "# target_amps[0] = target_amps[0]*1.5\n",
    "# target_amps[1] = target_amps[1]/1.5\n",
    "# target_amps[8:10] = target_amps[32:34]*1.1\n",
    "# target_amps[32:34] = target_amps[32:34]*0.9\n",
    "target_file_name = \"4x10Na_widespacing_take5\"\n",
    "client.calculate_save_and_project(k_array, target_amps, 20, \"C:\\\\msys64\\\\home\\\\nilab\\\\projects\\\\NaCsSLM\\\\lib\\\\Na_pattern\",target_file_name,guess_phase_path = 'C:\\\\msys64\\\\home\\\\nilab\\\\projects\\\\NaCsSLM\\\\lib\\\\Na_pattern\\\\20250224_1611124x10Na_widespacing_take4')"
   ]
  },
  {
   "cell_type": "code",
   "execution_count": 50,
   "id": "5bb32da8",
   "metadata": {},
   "outputs": [
    {
     "name": "stdout",
     "output_type": "stream",
     "text": [
      "20250224_152236\n"
     ]
    },
    {
     "data": {
      "text/plain": [
       "['base: C:\\\\msys64\\\\home\\\\nilab\\\\projects\\\\NaCsSLM\\\\lib\\\\Na_pattern\\\\20250224_1523444x10Na_widespacing_take2 additional: file_correction:C:\\\\msys64\\\\home\\\\nilab\\\\projects\\\\NaCsSLM\\\\lib\\\\Na_Correction_Patterns\\\\CAL_LSH0803972_620nm.bmp,fresnel_lens:-600000.,zernike:[((2, 1), -2.0), ((2, 2), -25.5), ((2, 0), 10.5)], aperture: None']"
      ]
     },
     "execution_count": 50,
     "metadata": {},
     "output_type": "execute_result"
    }
   ],
   "source": [
    "client.send_get_current_phase_info()"
   ]
  },
  {
   "cell_type": "code",
   "execution_count": 48,
   "id": "cb0f25dc",
   "metadata": {},
   "outputs": [
    {
     "name": "stdout",
     "output_type": "stream",
     "text": [
      "20250224_112822\n",
      "20250224_112822\n",
      "20250224_112822\n",
      "20250224_112822\n",
      "20250224_112823\n",
      "20250224_112823\n"
     ]
    },
    {
     "data": {
      "text/plain": [
       "['base: C:\\\\msys64\\\\home\\\\nilab\\\\projects\\\\NaCsSLM\\\\lib\\\\Na_pattern\\\\20250224_1051224x10Na_widespacing_take1 additional: file_correction:C:\\\\msys64\\\\home\\\\nilab\\\\projects\\\\NaCsSLM\\\\lib\\\\Na_Correction_Patterns\\\\CAL_LSH0803972_620nm.bmp,fresnel_lens:-600000.,zernike:[((2, 1), -2.0), ((2, 2), -25.5), ((2, 0), 10.5)], aperture: None']"
      ]
     },
     "execution_count": 48,
     "metadata": {},
     "output_type": "execute_result"
    }
   ],
   "source": [
    "client.send_reset_add_phase()\n",
    "client.send_correction(\"C:\\\\msys64\\\\home\\\\nilab\\\\projects\\\\NaCsSLM\\\\lib\\\\Na_Correction_Patterns\\\\CAL_LSH0803972_620nm.bmp\")\n",
    "client.send_fresnel_lens(np.array([-6.0e5]))\n",
    "client.send_zernike_poly(np.array([[2,1,-2],[2,2,-25.5],[2,0,10.5]]))\n",
    "client.send_project()\n",
    "client.send_get_current_phase_info()"
   ]
  },
  {
   "cell_type": "markdown",
   "id": "713f15f8",
   "metadata": {},
   "source": [
    "## 2/21"
   ]
  },
  {
   "cell_type": "code",
   "execution_count": 21,
   "id": "b0f39ebe",
   "metadata": {},
   "outputs": [
    {
     "name": "stdout",
     "output_type": "stream",
     "text": [
      "20250224_094614\n"
     ]
    },
    {
     "data": {
      "text/plain": [
       "['base: C:\\\\msys64\\\\home\\\\nilab\\\\projects\\\\NaCsSLM\\\\lib\\\\Na_pattern\\\\20250117_1759192x10Na_spacing10 additional: file_correction:C:\\\\msys64\\\\home\\\\nilab\\\\projects\\\\NaCsSLM\\\\lib\\\\Na_Correction_Patterns\\\\CAL_LSH0803972_620nm.bmp,fresnel_lens:-600000.,zernike:[((2, 1), -2.0), ((2, 2), -21.5), ((2, 0), 13.5)], aperture: None']"
      ]
     },
     "execution_count": 21,
     "metadata": {},
     "output_type": "execute_result"
    }
   ],
   "source": [
    "client.send_get_current_phase_info()"
   ]
  },
  {
   "cell_type": "code",
   "execution_count": 15,
   "id": "bdfb5b0e",
   "metadata": {},
   "outputs": [
    {
     "name": "stdout",
     "output_type": "stream",
     "text": [
      "20250221_175801\n",
      "20250221_175802\n",
      "20250221_175802\n"
     ]
    },
    {
     "data": {
      "text/plain": [
       "['ok']"
      ]
     },
     "execution_count": 15,
     "metadata": {},
     "output_type": "execute_result"
    }
   ],
   "source": [
    "client.load_and_project(\"C:\\\\msys64\\\\home\\\\nilab\\\\projects\\\\NaCsSLM\\\\lib\\\\Na_pattern\\\\20250117_1759192x10Na_spacing10\")\n",
    "client.send_project()"
   ]
  },
  {
   "cell_type": "code",
   "execution_count": 18,
   "id": "b842c7f8",
   "metadata": {},
   "outputs": [
    {
     "name": "stdout",
     "output_type": "stream",
     "text": [
      "20250221_175830\n",
      "20250221_175830\n",
      "20250221_175830\n",
      "20250221_175830\n",
      "20250221_175830\n",
      "20250221_175830\n"
     ]
    },
    {
     "data": {
      "text/plain": [
       "['base: C:\\\\msys64\\\\home\\\\nilab\\\\projects\\\\NaCsSLM\\\\lib\\\\Na_pattern\\\\20250117_1759192x10Na_spacing10 additional: file_correction:C:\\\\msys64\\\\home\\\\nilab\\\\projects\\\\NaCsSLM\\\\lib\\\\Na_Correction_Patterns\\\\CAL_LSH0803972_620nm.bmp,fresnel_lens:-600000.,zernike:[((2, 1), -2.0), ((2, 2), -21.5), ((2, 0), 13.5)], aperture: None']"
      ]
     },
     "execution_count": 18,
     "metadata": {},
     "output_type": "execute_result"
    }
   ],
   "source": [
    "client.send_reset_add_phase()\n",
    "client.send_correction(\"C:\\\\msys64\\\\home\\\\nilab\\\\projects\\\\NaCsSLM\\\\lib\\\\Na_Correction_Patterns\\\\CAL_LSH0803972_620nm.bmp\")\n",
    "client.send_fresnel_lens(np.array([-6.0e5]))\n",
    "client.send_zernike_poly(np.array([[2,1,-2],[2,2,-21.5],[2,0,13.5]]))\n",
    "client.send_project()\n",
    "client.send_get_current_phase_info()"
   ]
  },
  {
   "cell_type": "code",
   "execution_count": 20,
   "id": "83f4609a",
   "metadata": {},
   "outputs": [
    {
     "name": "stdout",
     "output_type": "stream",
     "text": [
      "20250224_094606\n",
      "20250224_094606\n"
     ]
    }
   ],
   "source": [
    "client.save_config(\"C:\\\\experiment-control\\\\matlab_new\\\\NaCsSLM\\\\lib\\\\Na_config\\\\20250224_2x10array_widespacing.yml\")"
   ]
  },
  {
   "cell_type": "code",
   "execution_count": 14,
   "id": "06667c41",
   "metadata": {},
   "outputs": [
    {
     "name": "stdout",
     "output_type": "stream",
     "text": [
      "20250221_175759\n",
      "20250221_175759\n",
      "20250221_175759\n",
      "20250221_175759\n",
      "20250221_175759\n"
     ]
    },
    {
     "data": {
      "text/plain": [
       "['ok']"
      ]
     },
     "execution_count": 14,
     "metadata": {},
     "output_type": "execute_result"
    }
   ],
   "source": [
    "client.load_config(\"C:\\\\experiment-control\\\\matlab_new\\\\NaCsSLM\\\\lib\\\\Na_config\\\\20250221_4x10array.yml\")\n",
    "client.send_project()"
   ]
  },
  {
   "cell_type": "markdown",
   "id": "4b287db1",
   "metadata": {},
   "source": [
    "## 2/13 -- Continued"
   ]
  },
  {
   "cell_type": "code",
   "execution_count": 4,
   "id": "283b6773",
   "metadata": {},
   "outputs": [
    {
     "name": "stdout",
     "output_type": "stream",
     "text": [
      "20250213_105938\n",
      "20250213_105938\n",
      "20250213_105938\n"
     ]
    },
    {
     "data": {
      "text/plain": [
       "['ok']"
      ]
     },
     "execution_count": 4,
     "metadata": {},
     "output_type": "execute_result"
    }
   ],
   "source": [
    "client.load_and_project(\"C:\\\\msys64\\\\home\\\\nilab\\\\projects\\\\NaCsSLM\\\\lib\\\\Na_pattern\\\\20250211_1336204x10Na_spacing7_gain1p0_rd3\")\n",
    "client.send_project()"
   ]
  },
  {
   "cell_type": "code",
   "execution_count": 5,
   "id": "96175234",
   "metadata": {},
   "outputs": [
    {
     "name": "stdout",
     "output_type": "stream",
     "text": [
      "20250213_105947\n",
      "20250213_105947\n",
      "20250213_105947\n",
      "20250213_105947\n",
      "20250213_105947\n",
      "20250213_105947\n"
     ]
    },
    {
     "data": {
      "text/plain": [
       "['base: C:\\\\msys64\\\\home\\\\nilab\\\\projects\\\\NaCsSLM\\\\lib\\\\Na_pattern\\\\20250211_1336204x10Na_spacing7_gain1p0_rd3 additional: file_correction:C:\\\\msys64\\\\home\\\\nilab\\\\projects\\\\NaCsSLM\\\\lib\\\\Na_Correction_Patterns\\\\CAL_LSH0803972_620nm.bmp,fresnel_lens:-600000.,zernike:[((2, 1), -2.0), ((2, 2), -21.5), ((2, 0), 13.5)], aperture: None']"
      ]
     },
     "execution_count": 5,
     "metadata": {},
     "output_type": "execute_result"
    }
   ],
   "source": [
    "client.send_reset_add_phase()\n",
    "client.send_correction(\"C:\\\\msys64\\\\home\\\\nilab\\\\projects\\\\NaCsSLM\\\\lib\\\\Na_Correction_Patterns\\\\CAL_LSH0803972_620nm.bmp\")\n",
    "client.send_fresnel_lens(np.array([-6.0e5]))\n",
    "client.send_zernike_poly(np.array([[2,1,-2],[2,2,-21.5],[2,0,13.5]]))\n",
    "client.send_project()\n",
    "client.send_get_current_phase_info()"
   ]
  },
  {
   "cell_type": "markdown",
   "id": "553d066c",
   "metadata": {},
   "source": [
    "## 2/10 -- Feedback"
   ]
  },
  {
   "cell_type": "code",
   "execution_count": 6,
   "id": "a144d189",
   "metadata": {},
   "outputs": [
    {
     "data": {
      "text/plain": [
       "array([[379.5, 386.5, 393.5, 400.5, 379.5, 386.5, 393.5, 400.5, 379.5,\n",
       "        386.5, 393.5, 400.5, 379.5, 386.5, 393.5, 400.5, 379.5, 386.5,\n",
       "        393.5, 400.5, 379.5, 386.5, 393.5, 400.5, 379.5, 386.5, 393.5,\n",
       "        400.5, 379.5, 386.5, 393.5, 400.5, 379.5, 386.5, 393.5, 400.5,\n",
       "        379.5, 386.5, 393.5, 400.5],\n",
       "       [399. , 399. , 399. , 399. , 389. , 389. , 389. , 389. , 379. ,\n",
       "        379. , 379. , 379. , 369. , 369. , 369. , 369. , 359. , 359. ,\n",
       "        359. , 359. , 349. , 349. , 349. , 349. , 339. , 339. , 339. ,\n",
       "        339. , 329. , 329. , 329. , 329. , 319. , 319. , 319. , 319. ,\n",
       "        309. , 309. , 309. , 309. ]])"
      ]
     },
     "execution_count": 6,
     "metadata": {},
     "output_type": "execute_result"
    }
   ],
   "source": [
    "targets"
   ]
  },
  {
   "cell_type": "code",
   "execution_count": 41,
   "id": "8adb362f",
   "metadata": {},
   "outputs": [
    {
     "data": {
      "text/plain": [
       "array([0.97644, 1.0189 , 1.0496 , 1.0154 , 1.0207 , 1.032  , 1.0164 ,\n",
       "       1.0154 , 1.0228 , 0.9948 , 1.0002 , 1.0082 , 0.95676, 0.99523,\n",
       "       0.98646, 1.057  , 0.99643, 0.98909, 0.9952 , 1.0232 , 1.0899 ,\n",
       "       1.0154 , 1.0379 , 0.99166, 1.0218 , 0.96617, 0.991  , 1.0057 ,\n",
       "       1.0162 , 1.0441 , 1.0011 , 1.0379 , 0.97589, 0.97424, 0.98362,\n",
       "       1.0043 , 0.95266, 0.95116, 0.98258, 0.94   ])"
      ]
     },
     "execution_count": 41,
     "metadata": {},
     "output_type": "execute_result"
    }
   ],
   "source": [
    "target_amps = np.array([0.97644,1.0189,1.0496,1.0154,1.0207,1.032,1.0164,1.0154,1.0228,0.9948,1.0002,1.0082,0.95676,0.99523,0.98646,1.057,0.99643,0.98909,0.9952,1.0232,1.0899,1.0154,1.0379,0.99166,1.0218,0.96617,0.991,1.0057,1.0162,1.0441,1.0011,1.0379,0.97589,0.97424,0.98362,1.0043,0.95266,0.95116,0.98258,0.94])\n",
    "target_amps"
   ]
  },
  {
   "cell_type": "code",
   "execution_count": 42,
   "id": "d38e6426",
   "metadata": {},
   "outputs": [
    {
     "name": "stdout",
     "output_type": "stream",
     "text": [
      "20250211_133520\n",
      "20250211_133522\n",
      "20250211_133522\n",
      "20250211_133523\n"
     ]
    },
    {
     "data": {
      "text/plain": [
       "('C:\\\\msys64\\\\home\\\\nilab\\\\projects\\\\NaCsSLM\\\\lib\\\\Na_pattern\\\\20250211_1336204x10Na_spacing7_gain1p0_rd3_config.yml',\n",
       " 'C:\\\\msys64\\\\home\\\\nilab\\\\projects\\\\NaCsSLM\\\\lib\\\\Na_pattern\\\\20250211_1336204x10Na_spacing7_gain1p0_rd3_data.npz',\n",
       " ['ok'],\n",
       " ['ok'])"
      ]
     },
     "execution_count": 42,
     "metadata": {},
     "output_type": "execute_result"
    }
   ],
   "source": [
    "k_array = andor_to_k(targets)\n",
    "# target_amps[0] = target_amps[0]*1.5\n",
    "# target_amps[1] = target_amps[1]/1.5\n",
    "# target_amps[8:10] = target_amps[32:34]*1.1\n",
    "# target_amps[32:34] = target_amps[32:34]*0.9\n",
    "target_file_name = \"4x10Na_spacing7_gain1p0_rd3\"\n",
    "client.calculate_save_and_project(k_array, target_amps, 20, \"C:\\\\msys64\\\\home\\\\nilab\\\\projects\\\\NaCsSLM\\\\lib\\\\Na_pattern\",target_file_name,guess_phase_path = 'C:\\\\msys64\\\\home\\\\nilab\\\\projects\\\\NaCsSLM\\\\lib\\\\Na_pattern\\\\20250211_1304144x10Na_spacing7_gain1p0_rd2')"
   ]
  },
  {
   "cell_type": "code",
   "execution_count": 40,
   "id": "ef123986",
   "metadata": {},
   "outputs": [
    {
     "name": "stdout",
     "output_type": "stream",
     "text": [
      "20250211_130319\n"
     ]
    },
    {
     "data": {
      "text/plain": [
       "['base: C:\\\\msys64\\\\home\\\\nilab\\\\projects\\\\NaCsSLM\\\\lib\\\\Na_pattern\\\\20250211_1304144x10Na_spacing7_gain1p0_rd2 additional: file_correction:C:\\\\msys64\\\\home\\\\nilab\\\\projects\\\\NaCsSLM\\\\lib\\\\Na_Correction_Patterns\\\\CAL_LSH0803972_620nm.bmp,fresnel_lens:-600000.,zernike:[((2, 1), -2.0), ((2, 2), -21.5), ((2, 0), 13.5)], aperture: None']"
      ]
     },
     "execution_count": 40,
     "metadata": {},
     "output_type": "execute_result"
    }
   ],
   "source": [
    "client.send_get_current_phase_info()"
   ]
  },
  {
   "cell_type": "markdown",
   "id": "716e3fe1",
   "metadata": {},
   "source": [
    "## 1/17"
   ]
  },
  {
   "cell_type": "code",
   "execution_count": 12,
   "id": "cf75d2a1",
   "metadata": {},
   "outputs": [
    {
     "name": "stdout",
     "output_type": "stream",
     "text": [
      "20250117_103656\n",
      "20250117_103656\n",
      "20250117_103657\n"
     ]
    },
    {
     "data": {
      "text/plain": [
       "['ok']"
      ]
     },
     "execution_count": 12,
     "metadata": {},
     "output_type": "execute_result"
    }
   ],
   "source": [
    "client.load_and_project(\"C:\\\\msys64\\\\home\\\\nilab\\\\projects\\\\NaCsSLM\\\\lib\\\\Na_pattern\\\\20250115_16491410x1Na_horizontal_pairs_rd2\")\n",
    "client.send_project()"
   ]
  },
  {
   "cell_type": "code",
   "execution_count": 3,
   "id": "d3ca2a5a",
   "metadata": {},
   "outputs": [
    {
     "name": "stdout",
     "output_type": "stream",
     "text": [
      "20250203_122247\n",
      "20250203_122247\n",
      "20250203_122247\n"
     ]
    },
    {
     "data": {
      "text/plain": [
       "['ok']"
      ]
     },
     "execution_count": 3,
     "metadata": {},
     "output_type": "execute_result"
    }
   ],
   "source": [
    "client.load_and_project(\"C:\\\\msys64\\\\home\\\\nilab\\\\projects\\\\NaCsSLM\\\\lib\\\\Na_pattern\\\\20250117_1759192x10Na_spacing10\")\n",
    "client.send_project()"
   ]
  },
  {
   "cell_type": "code",
   "execution_count": 8,
   "id": "259a5c65",
   "metadata": {},
   "outputs": [
    {
     "name": "stdout",
     "output_type": "stream",
     "text": [
      "20250218_161620\n",
      "20250218_161620\n",
      "20250218_161620\n",
      "20250218_161620\n",
      "20250218_161620\n",
      "20250218_161620\n"
     ]
    },
    {
     "data": {
      "text/plain": [
       "['base: C:\\\\msys64\\\\home\\\\nilab\\\\projects\\\\NaCsSLM\\\\lib\\\\Na_pattern\\\\20250211_1336204x10Na_spacing7_gain1p0_rd3 additional: file_correction:C:\\\\msys64\\\\home\\\\nilab\\\\projects\\\\NaCsSLM\\\\lib\\\\Na_Correction_Patterns\\\\CAL_LSH0803972_620nm.bmp,fresnel_lens:-600000.,zernike:[((2, 1), -2.0), ((2, 2), -21.5), ((2, 0), 13.5)], aperture: None']"
      ]
     },
     "execution_count": 8,
     "metadata": {},
     "output_type": "execute_result"
    }
   ],
   "source": [
    "client.send_reset_add_phase()\n",
    "client.send_correction(\"C:\\\\msys64\\\\home\\\\nilab\\\\projects\\\\NaCsSLM\\\\lib\\\\Na_Correction_Patterns\\\\CAL_LSH0803972_620nm.bmp\")\n",
    "client.send_fresnel_lens(np.array([-6.0e5]))\n",
    "client.send_zernike_poly(np.array([[2,1,-2],[2,2,-21.5],[2,0,13.5]]))\n",
    "client.send_project()\n",
    "client.send_get_current_phase_info()"
   ]
  },
  {
   "cell_type": "code",
   "execution_count": 4,
   "id": "7b5a7ffc",
   "metadata": {},
   "outputs": [
    {
     "name": "stdout",
     "output_type": "stream",
     "text": [
      "[[379.5 386.5 393.5 400.5 379.5 386.5 393.5 400.5 379.5 386.5 393.5 400.5\n",
      "  379.5 386.5 393.5 400.5 379.5 386.5 393.5 400.5 379.5 386.5 393.5 400.5\n",
      "  379.5 386.5 393.5 400.5 379.5 386.5 393.5 400.5 379.5 386.5 393.5 400.5\n",
      "  379.5 386.5 393.5 400.5]\n",
      " [399.  399.  399.  399.  389.  389.  389.  389.  379.  379.  379.  379.\n",
      "  369.  369.  369.  369.  359.  359.  359.  359.  349.  349.  349.  349.\n",
      "  339.  339.  339.  339.  329.  329.  329.  329.  319.  319.  319.  319.\n",
      "  309.  309.  309.  309. ]]\n",
      "[[-62 -62 -62 -62 -52 -52 -52 -52 -42 -42 -42 -42 -32 -32 -32 -32 -22 -22  -22 -22 -12 -12 -12 -12  -2  -2  -2  -2   8   8   8   8  18  18  18  18   28  28  28  28] [ 10  18  24  32  10  18  24  32  10  18  24  32  10  18  24  32  10  18   24  32  10  18  24  32  10  18  24  32  10  18  24  32  10  18  24  32   10  18  24  32]]\n"
     ]
    }
   ],
   "source": [
    "## 1/9/25  1row for calibration\n",
    "#11/11\n",
    "\n",
    "def andor_to_k(x):\n",
    "    A = np.array([[-0.0704, 2.340], [2.4303, 0.1019]])\n",
    "    b = np.array([[343.19], [57.604]])\n",
    "    targets = np.matmul(A,x)+b\n",
    "    return targets\n",
    "\n",
    "def k_to_andor(k):\n",
    "    A = np.array([[-0.0704, 2.340], [2.4303, 0.1019]])\n",
    "    b = np.array([[343.19], [57.604]])\n",
    "    invA = np.linalg.inv(A)\n",
    "    targets = np.matmul(invA, k - b)\n",
    "    return targets\n",
    "targets, target_amps = utils.gen_square_targets([4,10], [7,10], 0, [366-17+7+11+16+7,349+5])\n",
    "print(targets)\n",
    "\n",
    "def andor_to_img(targets, center):\n",
    "    x_array = targets\n",
    "    ntargets = x_array.shape[1]\n",
    "    firstcoord_center = center[0]\n",
    "    secondcoord_center = center[1]\n",
    "    #subtract off center and reflect second coord, then round and cast to int\n",
    "    x_array_cam = np.round((x_array - np.array([np.ones((ntargets))*firstcoord_center,np.ones((ntargets))*secondcoord_center]))*np.array([[1],[-1]])).astype(int)\n",
    "    x_array_cam[[0, 1]] = x_array_cam[[1, 0]]\n",
    "    return x_array_cam\n",
    "\n",
    "print(str(andor_to_img(targets, [369, 337])).replace(\"\\n\", \"\"))"
   ]
  },
  {
   "cell_type": "code",
   "execution_count": 74,
   "id": "5b669742",
   "metadata": {},
   "outputs": [
    {
     "name": "stdout",
     "output_type": "stream",
     "text": [
      "[2.52       1.82       1.68       1.694      1.71111111 1.26666667\n",
      " 1.2        1.21       1.62222222 1.72666667 1.2        1.21\n",
      " 1.53333333 1.2        1.2        1.21       1.44444444 1.16666667\n",
      " 1.2        1.21       1.35555556 1.13333333 1.2        1.21\n",
      " 1.26666667 1.1        1.2        1.21       1.17777778 1.06666667\n",
      " 1.2        1.21       1.08888889 1.03333333 1.2        1.21\n",
      " 1.         1.         1.2        1.21      ]\n"
     ]
    },
    {
     "data": {
      "image/png": "[encoded data removed]",
      "text/plain": [
       "<Figure size 640x480 with 1 Axes>"
      ]
     },
     "metadata": {},
     "output_type": "display_data"
    }
   ],
   "source": [
    "from matplotlib import pyplot as plt\n",
    "# test1 = np.tile(np.linspace(1.2,1,4),10)\n",
    "# test2 = np.repeat(np.linspace(2,1.4,10),4)\n",
    "# plt.imshow(np.transpose(np.reshape(test1*test2,(10,4))))\n",
    "row1 = np.linspace(1.8,1,10)\n",
    "row2 = np.linspace(1.3,1,10)\n",
    "row3 = np.linspace(1.2,1.2,10)\n",
    "row4 = np.linspace(1.1,1.1,10)*1.1\n",
    "test = np.concatenate(np.transpose(np.array([row1,row2,row3,row4])))\n",
    "lowloadingsiteindex = [1,2,3,4,10]\n",
    "for i in lowloadingsiteindex:\n",
    "#     print(target_amps[i-1])\n",
    "    test[i-1] = test[i-1]*1.4\n",
    "plt.imshow(np.transpose(np.reshape(test,(10,4))))\n",
    "\n",
    "print(test)"
   ]
  },
  {
   "cell_type": "code",
   "execution_count": 75,
   "id": "db127ba0",
   "metadata": {},
   "outputs": [
    {
     "data": {
      "text/plain": [
       "array([1.92744053, 1.39204038, 1.28496035, 1.29566836, 1.30875592,\n",
       "       0.96881932, 0.91782882, 0.9254774 , 1.2407686 , 1.3206537 ,\n",
       "       0.91782882, 0.9254774 , 1.17278128, 0.91782882, 0.91782882,\n",
       "       0.9254774 , 1.10479396, 0.89233358, 0.91782882, 0.9254774 ,\n",
       "       1.03680664, 0.86683833, 0.91782882, 0.9254774 , 0.96881932,\n",
       "       0.84134309, 0.91782882, 0.9254774 , 0.90083199, 0.81584784,\n",
       "       0.91782882, 0.9254774 , 0.83284467, 0.7903526 , 0.91782882,\n",
       "       0.9254774 , 0.76485735, 0.76485735, 0.91782882, 0.9254774 ])"
      ]
     },
     "execution_count": 75,
     "metadata": {},
     "output_type": "execute_result"
    }
   ],
   "source": [
    "target_amps =test/np.mean(test)\n",
    "target_amps"
   ]
  },
  {
   "cell_type": "code",
   "execution_count": 76,
   "id": "f20b6dc6",
   "metadata": {},
   "outputs": [
    {
     "name": "stdout",
     "output_type": "stream",
     "text": [
      "20250208_210502\n",
      "20250208_210504\n",
      "20250208_210504\n",
      "20250208_210504\n"
     ]
    },
    {
     "data": {
      "text/plain": [
       "('C:\\\\msys64\\\\home\\\\nilab\\\\projects\\\\NaCsSLM\\\\lib\\\\Na_pattern\\\\20250208_2106134x10Na_spacing7_config.yml',\n",
       " 'C:\\\\msys64\\\\home\\\\nilab\\\\projects\\\\NaCsSLM\\\\lib\\\\Na_pattern\\\\20250208_2106134x10Na_spacing7_data.npz',\n",
       " ['ok'],\n",
       " ['ok'])"
      ]
     },
     "execution_count": 76,
     "metadata": {},
     "output_type": "execute_result"
    }
   ],
   "source": [
    "k_array = andor_to_k(targets)\n",
    "# target_amps[0] = target_amps[0]*1.5\n",
    "# target_amps[1] = target_amps[1]/1.5\n",
    "# target_amps[8:10] = target_amps[32:34]*1.1\n",
    "# target_amps[32:34] = target_amps[32:34]*0.9\n",
    "target_file_name = \"4x10Na_spacing7\"\n",
    "client.calculate_save_and_project(k_array, target_amps, 20, \"C:\\\\msys64\\\\home\\\\nilab\\\\projects\\\\NaCsSLM\\\\lib\\\\Na_pattern\",target_file_name,guess_phase_path = 'C:\\\\msys64\\\\home\\\\nilab\\\\projects\\\\NaCsSLM\\\\lib\\\\Na_pattern\\\\20250207_1825014x10Na_spacing7')"
   ]
  },
  {
   "cell_type": "code",
   "execution_count": 19,
   "id": "4745f780",
   "metadata": {},
   "outputs": [
    {
     "name": "stdout",
     "output_type": "stream",
     "text": [
      "20250207_154401\n"
     ]
    },
    {
     "data": {
      "text/plain": [
       "['base: C:\\\\msys64\\\\home\\\\nilab\\\\projects\\\\NaCsSLM\\\\lib\\\\Na_pattern\\\\20250207_1444554x10Na_spacing7 additional: file_correction:C:\\\\msys64\\\\home\\\\nilab\\\\projects\\\\NaCsSLM\\\\lib\\\\Na_Correction_Patterns\\\\CAL_LSH0803972_620nm.bmp,fresnel_lens:-600000.,zernike:[((2, 1), -2.0), ((2, 2), -21.5), ((2, 0), 13.5)], aperture: None']"
      ]
     },
     "execution_count": 19,
     "metadata": {},
     "output_type": "execute_result"
    }
   ],
   "source": [
    "client.send_get_current_phase_info()"
   ]
  },
  {
   "cell_type": "markdown",
   "id": "9ed4240e",
   "metadata": {},
   "source": [
    "## 1/15"
   ]
  },
  {
   "cell_type": "code",
   "execution_count": 2,
   "id": "aa57c6e4",
   "metadata": {
    "scrolled": true
   },
   "outputs": [
    {
     "name": "stdout",
     "output_type": "stream",
     "text": [
      "[[371. 371. 371. 371. 371. 371. 371. 371. 371. 371.]\n",
      " [431. 409. 387. 365. 343. 321. 299. 277. 255. 233.]]\n",
      "[[-94 -72 -50 -28  -6  16  38  60  82 104] [  2   2   2   2   2   2   2   2   2   2]]\n"
     ]
    }
   ],
   "source": [
    "## 1/9/25  1row for calibration\n",
    "#11/11\n",
    "\n",
    "def andor_to_k(x):\n",
    "    A = np.array([[-0.0704, 2.340], [2.4303, 0.1019]])\n",
    "    b = np.array([[343.19], [57.604]])\n",
    "    targets = np.matmul(A,x)+b\n",
    "    return targets\n",
    "\n",
    "def k_to_andor(k):\n",
    "    A = np.array([[-0.0704, 2.340], [2.4303, 0.1019]])\n",
    "    b = np.array([[343.19], [57.604]])\n",
    "    invA = np.linalg.inv(A)\n",
    "    targets = np.matmul(invA, k - b)\n",
    "    return targets\n",
    "targets, target_amps = utils.gen_square_targets([1,10], [22,22], 0, [365+6,340-8])\n",
    "print(targets)\n",
    "\n",
    "def andor_to_img(targets, center):\n",
    "    x_array = targets\n",
    "    ntargets = x_array.shape[1]\n",
    "    firstcoord_center = center[0]\n",
    "    secondcoord_center = center[1]\n",
    "    #subtract off center and reflect second coord, then round and cast to int\n",
    "    x_array_cam = np.round((x_array - np.array([np.ones((ntargets))*firstcoord_center,np.ones((ntargets))*secondcoord_center]))*np.array([[1],[-1]])).astype(int)\n",
    "    x_array_cam[[0, 1]] = x_array_cam[[1, 0]]\n",
    "    return x_array_cam\n",
    "\n",
    "print(str(andor_to_img(targets, [369, 337])).replace(\"\\n\", \"\"))"
   ]
  },
  {
   "cell_type": "code",
   "execution_count": 6,
   "id": "f3c5416f",
   "metadata": {},
   "outputs": [],
   "source": [
    "target_amps[0] = 1.1\n",
    "target_amps[1] = 1.1\n",
    "target_amps[2] = 1.1\n",
    "target_amps[6] = 0.9\n",
    "target_amps[7] = 0.9\n",
    "target_amps[8] = 0.85\n",
    "target_amps[9] = 0.8"
   ]
  },
  {
   "cell_type": "code",
   "execution_count": 7,
   "id": "1d98cc22",
   "metadata": {},
   "outputs": [
    {
     "data": {
      "text/plain": [
       "array([1.1 , 1.1 , 1.1 , 1.  , 1.  , 1.  , 0.9 , 0.9 , 0.85, 0.8 ])"
      ]
     },
     "execution_count": 7,
     "metadata": {},
     "output_type": "execute_result"
    }
   ],
   "source": [
    "target_amps"
   ]
  },
  {
   "cell_type": "code",
   "execution_count": 8,
   "id": "255ec2f8",
   "metadata": {},
   "outputs": [
    {
     "name": "stdout",
     "output_type": "stream",
     "text": [
      "20250115_164814\n",
      "20250115_164817\n",
      "20250115_164817\n",
      "20250115_164817\n"
     ]
    },
    {
     "data": {
      "text/plain": [
       "('C:\\\\msys64\\\\home\\\\nilab\\\\projects\\\\NaCsSLM\\\\lib\\\\Na_pattern\\\\20250115_16491410x1Na_horizontal_pairs_rd2_config.yml',\n",
       " 'C:\\\\msys64\\\\home\\\\nilab\\\\projects\\\\NaCsSLM\\\\lib\\\\Na_pattern\\\\20250115_16491410x1Na_horizontal_pairs_rd2_data.npz',\n",
       " ['ok'],\n",
       " ['ok'])"
      ]
     },
     "execution_count": 8,
     "metadata": {},
     "output_type": "execute_result"
    }
   ],
   "source": [
    "k_array = andor_to_k(targets)\n",
    "\n",
    "target_file_name = \"10x1Na_horizontal_pairs_rd2\"\n",
    "client.calculate_save_and_project(k_array, target_amps, 20, \"C:\\\\msys64\\\\home\\\\nilab\\\\projects\\\\NaCsSLM\\\\lib\\\\Na_pattern\",target_file_name, \"C:\\\\msys64\\\\home\\\\nilab\\\\projects\\\\NaCsSLM\\\\lib\\\\Na_pattern\\\\20250115_16190710x1Na_horizontal_pairs_rd1\")"
   ]
  },
  {
   "cell_type": "code",
   "execution_count": null,
   "id": "3183a26d",
   "metadata": {},
   "outputs": [],
   "source": []
  },
  {
   "cell_type": "code",
   "execution_count": 15,
   "id": "ede7aaf2",
   "metadata": {},
   "outputs": [],
   "source": [
    "## 1/14 tilt zernike"
   ]
  },
  {
   "cell_type": "code",
   "execution_count": 11,
   "id": "4201808a",
   "metadata": {},
   "outputs": [
    {
     "name": "stdout",
     "output_type": "stream",
     "text": [
      "20250117_103610\n",
      "20250117_103610\n",
      "20250117_103610\n",
      "20250117_103610\n",
      "20250117_103611\n",
      "20250117_103611\n"
     ]
    },
    {
     "data": {
      "text/plain": [
       "['base:  additional: file_correction:C:\\\\msys64\\\\home\\\\nilab\\\\projects\\\\NaCsSLM\\\\lib\\\\Na_Correction_Patterns\\\\CAL_LSH0803972_620nm.bmp,fresnel_lens:-600000.,zernike:[((2, 1), 2.0), ((2, 2), -27.0), ((2, 0), 9.5), ((1, 0), 0.0)], aperture: None']"
      ]
     },
     "execution_count": 11,
     "metadata": {},
     "output_type": "execute_result"
    }
   ],
   "source": [
    "client.send_reset_add_phase()\n",
    "client.send_correction(\"C:\\\\msys64\\\\home\\\\nilab\\\\projects\\\\NaCsSLM\\\\lib\\\\Na_Correction_Patterns\\\\CAL_LSH0803972_620nm.bmp\")\n",
    "client.send_fresnel_lens(np.array([-6.0e5]))\n",
    "client.send_zernike_poly(np.array([[2,1,2],[2,2,-27],[2,0,9.5],[1,0,0]]))\n",
    "client.send_project()\n",
    "client.send_get_current_phase_info()"
   ]
  },
  {
   "cell_type": "code",
   "execution_count": 13,
   "id": "084436ef",
   "metadata": {},
   "outputs": [
    {
     "name": "stdout",
     "output_type": "stream",
     "text": [
      "20250110_150346\n",
      "20250110_150349\n",
      "20250110_150349\n",
      "20250110_150349\n"
     ]
    },
    {
     "data": {
      "text/plain": [
       "('C:\\\\msys64\\\\home\\\\nilab\\\\projects\\\\NaCsSLM\\\\lib\\\\Na_pattern\\\\20250110_15050910x1_Na_iteration0_config.yml',\n",
       " 'C:\\\\msys64\\\\home\\\\nilab\\\\projects\\\\NaCsSLM\\\\lib\\\\Na_pattern\\\\20250110_15050910x1_Na_iteration0_data.npz',\n",
       " ['ok'],\n",
       " ['ok'])"
      ]
     },
     "execution_count": 13,
     "metadata": {},
     "output_type": "execute_result"
    }
   ],
   "source": [
    "#iteration 0\n",
    "targets, target_amps = utils.gen_square_targets([1,10], [12,12], 0, [365,340])\n",
    "\n",
    "k_array = andor_to_k(targets)\n",
    "\n",
    "target_file_name = \"10x1_Na_iteration0\"\n",
    "client.calculate_save_and_project(k_array, target_amps, 20, \"C:\\\\msys64\\\\home\\\\nilab\\\\projects\\\\NaCsSLM\\\\lib\\\\Na_pattern\", target_file_name)"
   ]
  },
  {
   "cell_type": "code",
   "execution_count": 11,
   "id": "09edd151",
   "metadata": {},
   "outputs": [
    {
     "name": "stdout",
     "output_type": "stream",
     "text": [
      "20250110_144738\n",
      "20250110_144740\n",
      "20250110_144740\n",
      "20250110_144741\n"
     ]
    },
    {
     "data": {
      "text/plain": [
       "('C:\\\\msys64\\\\home\\\\nilab\\\\projects\\\\NaCsSLM\\\\lib\\\\Na_pattern\\\\20250110_14490110x1Na_iteration2_config.yml',\n",
       " 'C:\\\\msys64\\\\home\\\\nilab\\\\projects\\\\NaCsSLM\\\\lib\\\\Na_pattern\\\\20250110_14490110x1Na_iteration2_data.npz',\n",
       " ['ok'],\n",
       " ['ok'])"
      ]
     },
     "execution_count": 11,
     "metadata": {},
     "output_type": "execute_result"
    }
   ],
   "source": [
    "#iteration 2\n",
    "measured_coord = np.transpose(np.array([[365.066, 396.139],\n",
    "       [364.244, 383.225],\n",
    "       [365.058, 370.789],\n",
    "       [365.167, 358.500],\n",
    "       [365.253, 347.102],\n",
    "       [365.826, 335.684],\n",
    "       [365.891, 322.685],\n",
    "       [366.432, 310.884],\n",
    "       [366.050, 298.502],\n",
    "       [364.977, 287.059]])\n",
    "                             )                              \n",
    "\n",
    "\n",
    "offset = new_target - measured_coord # this is already a negative feedback \n",
    "gain = 0.2\n",
    "new_target2 = new_target + offset*gain\n",
    "k_array = andor_to_k(new_target2)\n",
    "new_target2\n",
    "target_file_name = \"10x1Na_iteration2\"\n",
    "client.calculate_save_and_project(k_array, target_amps, 20, \"C:\\\\msys64\\\\home\\\\nilab\\\\projects\\\\NaCsSLM\\\\lib\\\\Na_pattern\", target_file_name)"
   ]
  },
  {
   "cell_type": "code",
   "execution_count": 12,
   "id": "6e4b2c98",
   "metadata": {},
   "outputs": [
    {
     "data": {
      "text/plain": [
       "array([[365.1128, 365.1572, 366.0468, 365.7166, 365.3358, 364.9272,\n",
       "        364.7786, 364.5096, 364.4684, 365.5266],\n",
       "       [393.703 , 382.0502, 369.2194, 357.6696, 344.8748, 332.5952,\n",
       "        320.6354, 308.8992, 296.3528, 283.2166]])"
      ]
     },
     "execution_count": 12,
     "metadata": {},
     "output_type": "execute_result"
    }
   ],
   "source": [
    "new_target2"
   ]
  },
  {
   "cell_type": "code",
   "execution_count": 8,
   "id": "61adb71e",
   "metadata": {},
   "outputs": [
    {
     "name": "stdout",
     "output_type": "stream",
     "text": [
      "20250110_142818\n",
      "20250110_142820\n",
      "20250110_142820\n",
      "20250110_142821\n"
     ]
    },
    {
     "data": {
      "text/plain": [
       "('C:\\\\msys64\\\\home\\\\nilab\\\\projects\\\\NaCsSLM\\\\lib\\\\Na_pattern\\\\20250110_14294110x1Na_iteration1_config.yml',\n",
       " 'C:\\\\msys64\\\\home\\\\nilab\\\\projects\\\\NaCsSLM\\\\lib\\\\Na_pattern\\\\20250110_14294110x1Na_iteration1_data.npz',\n",
       " ['ok'],\n",
       " ['ok'])"
      ]
     },
     "execution_count": 8,
     "metadata": {},
     "output_type": "execute_result"
    }
   ],
   "source": [
    "#iteration 1\n",
    "measured_coord = np.transpose(np.array([[364.895, 393.891],\n",
    "       [364.995, 381.754],\n",
    "       [364.118, 370.519],\n",
    "       [364.375, 358.192],\n",
    "       [364.678, 346.754],\n",
    "       [364.923, 334.890],\n",
    "       [365.036, 323.023],\n",
    "       [365.170, 310.770],\n",
    "       [365.268, 299.289],\n",
    "       [364.565, 288.143]]\n",
    "))\n",
    "offset = targets - measured_coord # this is already a negative feedback \n",
    "\n",
    "new_target = targets + offset\n",
    "k_array = andor_to_k(new_target)\n",
    "\n",
    "target_file_name = \"10x1Na_iteration1\"\n",
    "client.calculate_save_and_project(k_array, target_amps, 20, \"C:\\\\msys64\\\\home\\\\nilab\\\\projects\\\\NaCsSLM\\\\lib\\\\Na_pattern\", target_file_name)"
   ]
  },
  {
   "cell_type": "code",
   "execution_count": 9,
   "id": "3eb11cb9",
   "metadata": {},
   "outputs": [
    {
     "data": {
      "text/plain": [
       "array([[365.105, 365.005, 365.882, 365.625, 365.322, 365.077, 364.964,\n",
       "        364.83 , 364.732, 365.435],\n",
       "       [394.109, 382.246, 369.481, 357.808, 345.246, 333.11 , 320.977,\n",
       "        309.23 , 296.711, 283.857]])"
      ]
     },
     "execution_count": 9,
     "metadata": {},
     "output_type": "execute_result"
    }
   ],
   "source": [
    "new_target"
   ]
  },
  {
   "cell_type": "code",
   "execution_count": 5,
   "id": "a046d8fa",
   "metadata": {},
   "outputs": [
    {
     "name": "stdout",
     "output_type": "stream",
     "text": [
      "[[365. 365. 365. 365. 365. 365. 365. 365. 365. 365.]\n",
      " [394. 382. 370. 358. 346. 334. 322. 310. 298. 286.]]\n",
      "[[-57 -45 -33 -21  -9   3  15  27  39  51] [ -4  -4  -4  -4  -4  -4  -4  -4  -4  -4]]\n"
     ]
    }
   ],
   "source": [
    "## 1/9/25  1row for calibration\n",
    "#11/11\n",
    "\n",
    "def andor_to_k(x):\n",
    "    A = np.array([[-0.0704, 2.340], [2.4303, 0.1019]])\n",
    "    b = np.array([[343.19], [57.604]])\n",
    "    targets = np.matmul(A,x)+b\n",
    "    return targets\n",
    "\n",
    "def k_to_andor(k):\n",
    "    A = np.array([[-0.0704, 2.340], [2.4303, 0.1019]])\n",
    "    b = np.array([[343.19], [57.604]])\n",
    "    invA = np.linalg.inv(A)\n",
    "    targets = np.matmul(invA, k - b)\n",
    "    return targets\n",
    "targets, target_amps = utils.gen_square_targets([1,10], [12,12], 0, [365,340])\n",
    "print(targets)\n",
    "\n",
    "def andor_to_img(targets, center):\n",
    "    x_array = targets\n",
    "    ntargets = x_array.shape[1]\n",
    "    firstcoord_center = center[0]\n",
    "    secondcoord_center = center[1]\n",
    "    #subtract off center and reflect second coord, then round and cast to int\n",
    "    x_array_cam = np.round((x_array - np.array([np.ones((ntargets))*firstcoord_center,np.ones((ntargets))*secondcoord_center]))*np.array([[1],[-1]])).astype(int)\n",
    "    x_array_cam[[0, 1]] = x_array_cam[[1, 0]]\n",
    "    return x_array_cam\n",
    "\n",
    "print(str(andor_to_img(targets, [369, 337])).replace(\"\\n\", \"\"))"
   ]
  },
  {
   "cell_type": "code",
   "execution_count": 8,
   "id": "139099cc",
   "metadata": {},
   "outputs": [
    {
     "name": "stdout",
     "output_type": "stream",
     "text": [
      "20250109_160844\n",
      "20250109_160846\n",
      "20250109_160847\n",
      "20250109_160847\n"
     ]
    },
    {
     "data": {
      "text/plain": [
       "('C:\\\\msys64\\\\home\\\\nilab\\\\projects\\\\NaCsSLM\\\\lib\\\\Na_pattern\\\\20250109_16093410x1_Na_alignment_config.yml',\n",
       " 'C:\\\\msys64\\\\home\\\\nilab\\\\projects\\\\NaCsSLM\\\\lib\\\\Na_pattern\\\\20250109_16093410x1_Na_alignment_data.npz',\n",
       " ['ok'],\n",
       " ['ok'])"
      ]
     },
     "execution_count": 8,
     "metadata": {},
     "output_type": "execute_result"
    }
   ],
   "source": [
    "k_array = andor_to_k(targets)\n",
    "\n",
    "target_file_name = \"10x1_Na_alignment\"\n",
    "client.calculate_save_and_project(k_array, target_amps, 20, \"C:\\\\msys64\\\\home\\\\nilab\\\\projects\\\\NaCsSLM\\\\lib\\\\Na_pattern\", target_file_name)"
   ]
  },
  {
   "cell_type": "code",
   "execution_count": 3,
   "id": "1c46e771",
   "metadata": {},
   "outputs": [
    {
     "data": {
      "text/plain": [
       "(array([[365., 365., 365., 365., 365., 365., 365., 365., 365., 365.],\n",
       "        [394., 382., 370., 358., 346., 334., 322., 310., 298., 286.]]),\n",
       " array([1., 1., 1., 1., 1., 1., 1., 1., 1., 1.]))"
      ]
     },
     "execution_count": 3,
     "metadata": {},
     "output_type": "execute_result"
    }
   ],
   "source": [
    "utils.gen_square_targets([1,10], [12,12], 0, [365,340])"
   ]
  },
  {
   "cell_type": "code",
   "execution_count": 9,
   "id": "cb52c870",
   "metadata": {},
   "outputs": [
    {
     "name": "stdout",
     "output_type": "stream",
     "text": [
      "20250115_182633\n"
     ]
    },
    {
     "data": {
      "text/plain": [
       "['base: C:\\\\msys64\\\\home\\\\nilab\\\\projects\\\\NaCsSLM\\\\lib\\\\Na_pattern\\\\20250115_16491410x1Na_horizontal_pairs_rd2 additional: file_correction:C:\\\\msys64\\\\home\\\\nilab\\\\projects\\\\NaCsSLM\\\\lib\\\\Na_Correction_Patterns\\\\CAL_LSH0803972_620nm.bmp,fresnel_lens:-600000.,zernike:[((2, 1), 2.0), ((2, 2), -27.0), ((2, 0), 9.5), ((1, 0), 10.0)], aperture: None']"
      ]
     },
     "execution_count": 9,
     "metadata": {},
     "output_type": "execute_result"
    }
   ],
   "source": [
    "client.send_get_current_phase_info()\n"
   ]
  },
  {
   "cell_type": "code",
   "execution_count": 107,
   "id": "353970ff",
   "metadata": {},
   "outputs": [
    {
     "name": "stdout",
     "output_type": "stream",
     "text": [
      "20241216_132413\n"
     ]
    },
    {
     "data": {
      "text/plain": [
       "['ok']"
      ]
     },
     "execution_count": 107,
     "metadata": {},
     "output_type": "execute_result"
    }
   ],
   "source": [
    "client.send_reset_pattern()"
   ]
  },
  {
   "cell_type": "code",
   "execution_count": 124,
   "id": "e13c8e2a",
   "metadata": {},
   "outputs": [
    {
     "name": "stdout",
     "output_type": "stream",
     "text": [
      "20241217_152502\n",
      "20241217_152503\n",
      "20241217_152503\n"
     ]
    },
    {
     "data": {
      "text/plain": [
       "['ok']"
      ]
     },
     "execution_count": 124,
     "metadata": {},
     "output_type": "execute_result"
    }
   ],
   "source": [
    "client.load_and_project(\"C:\\\\msys64\\\\home\\\\nilab\\\\projects\\\\NaCsSLM\\\\lib\\\\Na_pattern\\\\20241213_11080710x2_Na_alignment\")\n",
    "client.send_project()"
   ]
  },
  {
   "cell_type": "code",
   "execution_count": 108,
   "id": "8a52ec56",
   "metadata": {},
   "outputs": [
    {
     "name": "stdout",
     "output_type": "stream",
     "text": [
      "20241216_132417\n",
      "20241216_132417\n",
      "20241216_132417\n"
     ]
    },
    {
     "data": {
      "text/plain": [
       "['ok']"
      ]
     },
     "execution_count": 108,
     "metadata": {},
     "output_type": "execute_result"
    }
   ],
   "source": [
    "#C:\\\\msys64\\\\home\\\\nilab\\\\projects\\\\NaCsSLM\\\\lib\\\\Na_pattern\\\\20241113_13562910x1\n",
    "client.load_and_project(\"C:\\\\msys64\\\\home\\\\nilab\\\\projects\\\\NaCsSLM\\\\lib\\\\Na_pattern\\\\20241212_13480810x1_Na_far-1\")\n",
    "client.send_project()\n"
   ]
  },
  {
   "cell_type": "code",
   "execution_count": 22,
   "id": "76ba25ce",
   "metadata": {},
   "outputs": [
    {
     "name": "stdout",
     "output_type": "stream",
     "text": [
      "20250114_134021\n"
     ]
    },
    {
     "data": {
      "text/plain": [
       "['base: C:\\\\msys64\\\\home\\\\nilab\\\\projects\\\\NaCsSLM\\\\lib\\\\Na_pattern\\\\20250110_15050910x1_Na_iteration0 additional: file_correction:C:\\\\msys64\\\\home\\\\nilab\\\\projects\\\\NaCsSLM\\\\lib\\\\Na_Correction_Patterns\\\\CAL_LSH0803972_620nm.bmp,fresnel_lens:-600000.,zernike:[((2, 1), 2.0), ((2, 2), -27.0), ((2, 0), 9.5), ((1, 0), 5.0)], aperture: None']"
      ]
     },
     "execution_count": 22,
     "metadata": {},
     "output_type": "execute_result"
    }
   ],
   "source": [
    "client.send_get_current_phase_info()"
   ]
  },
  {
   "cell_type": "markdown",
   "id": "9b7c8728",
   "metadata": {},
   "source": [
    "## 12/19 -- defocus Zernike"
   ]
  },
  {
   "cell_type": "code",
   "execution_count": 149,
   "id": "147996e7",
   "metadata": {},
   "outputs": [
    {
     "name": "stdout",
     "output_type": "stream",
     "text": [
      "20241220_150340\n",
      "20241220_150340\n",
      "20241220_150340\n",
      "20241220_150340\n",
      "20241220_150341\n",
      "20241220_150341\n"
     ]
    },
    {
     "data": {
      "text/plain": [
       "['base: C:\\\\msys64\\\\home\\\\nilab\\\\projects\\\\NaCsSLM\\\\lib\\\\Na_pattern\\\\20241213_11080710x2_Na_alignment additional: file_correction:C:\\\\msys64\\\\home\\\\nilab\\\\projects\\\\NaCsSLM\\\\lib\\\\Na_Correction_Patterns\\\\CAL_LSH0803972_620nm.bmp,fresnel_lens:-600000.,zernike:[((2, 1), 2.0), ((2, 2), -27.0), ((2, 0), 9.5)], aperture: None']"
      ]
     },
     "execution_count": 149,
     "metadata": {},
     "output_type": "execute_result"
    }
   ],
   "source": [
    "client.send_reset_add_phase()\n",
    "client.send_correction(\"C:\\\\msys64\\\\home\\\\nilab\\\\projects\\\\NaCsSLM\\\\lib\\\\Na_Correction_Patterns\\\\CAL_LSH0803972_620nm.bmp\")\n",
    "client.send_fresnel_lens(np.array([-6.0e5]))\n",
    "client.send_zernike_poly(np.array([[2,1,2],[2,2,-27],[2,0,9.5]]))\n",
    "client.send_project()\n",
    "client.send_get_current_phase_info()"
   ]
  },
  {
   "cell_type": "code",
   "execution_count": 2,
   "id": "199fdd09",
   "metadata": {},
   "outputs": [
    {
     "name": "stdout",
     "output_type": "stream",
     "text": [
      "20241230_172051\n"
     ]
    },
    {
     "data": {
      "text/plain": [
       "['base: C:\\\\msys64\\\\home\\\\nilab\\\\projects\\\\NaCsSLM\\\\lib\\\\Na_pattern\\\\20241213_11080710x2_Na_alignment additional: file_correction:C:\\\\msys64\\\\home\\\\nilab\\\\projects\\\\NaCsSLM\\\\lib\\\\Na_Correction_Patterns\\\\CAL_LSH0803972_620nm.bmp,fresnel_lens:-600000.,zernike:[((2, 1), 2.0), ((2, 2), -27.0), ((2, 0), 9.5)], aperture: None']"
      ]
     },
     "execution_count": 2,
     "metadata": {},
     "output_type": "execute_result"
    }
   ],
   "source": [
    "client.send_get_current_phase_info()"
   ]
  },
  {
   "cell_type": "markdown",
   "id": "597293bc",
   "metadata": {},
   "source": [
    "## 12/13 -- two-row pattern for alignment"
   ]
  },
  {
   "cell_type": "code",
   "execution_count": 105,
   "id": "c8e0a73d",
   "metadata": {},
   "outputs": [
    {
     "name": "stdout",
     "output_type": "stream",
     "text": [
      "[[359. 371. 359. 371. 359. 371. 359. 371. 359. 371. 359. 371. 359. 371.\n",
      "  359. 371. 359. 371. 359. 371.]\n",
      " [394. 394. 382. 382. 370. 370. 358. 358. 346. 346. 334. 334. 322. 322.\n",
      "  310. 310. 298. 298. 286. 286.]]\n",
      "[[-57 -57 -45 -45 -33 -33 -21 -21  -9  -9   3   3  15  15  27  27  39  39   51  51] [-10   2 -10   2 -10   2 -10   2 -10   2 -10   2 -10   2 -10   2 -10   2  -10   2]]\n"
     ]
    }
   ],
   "source": [
    "#11/11\n",
    "\n",
    "def andor_to_k(x):\n",
    "    A = np.array([[-0.0704, 2.340], [2.4303, 0.1019]])\n",
    "    b = np.array([[343.19], [57.604]])\n",
    "    targets = np.matmul(A,x)+b\n",
    "    return targets\n",
    "\n",
    "def k_to_andor(k):\n",
    "    A = np.array([[-0.0704, 2.340], [2.4303, 0.1019]])\n",
    "    b = np.array([[343.19], [57.604]])\n",
    "    invA = np.linalg.inv(A)\n",
    "    targets = np.matmul(invA, k - b)\n",
    "    return targets\n",
    "targets, target_amps = utils.gen_square_targets([2,10], [12,12], 0, [365,340])\n",
    "print(targets)\n",
    "\n",
    "def andor_to_img(targets, center):\n",
    "    x_array = targets\n",
    "    ntargets = x_array.shape[1]\n",
    "    firstcoord_center = center[0]\n",
    "    secondcoord_center = center[1]\n",
    "    #subtract off center and reflect second coord, then round and cast to int\n",
    "    x_array_cam = np.round((x_array - np.array([np.ones((ntargets))*firstcoord_center,np.ones((ntargets))*secondcoord_center]))*np.array([[1],[-1]])).astype(int)\n",
    "    x_array_cam[[0, 1]] = x_array_cam[[1, 0]]\n",
    "    return x_array_cam\n",
    "\n",
    "print(str(andor_to_img(targets, [369, 337])).replace(\"\\n\", \"\"))"
   ]
  },
  {
   "cell_type": "code",
   "execution_count": 106,
   "id": "f2493a83",
   "metadata": {},
   "outputs": [
    {
     "name": "stdout",
     "output_type": "stream",
     "text": [
      "20241213_110701\n",
      "20241213_110703\n",
      "20241213_110703\n",
      "20241213_110704\n"
     ]
    },
    {
     "data": {
      "text/plain": [
       "('C:\\\\msys64\\\\home\\\\nilab\\\\projects\\\\NaCsSLM\\\\lib\\\\Na_pattern\\\\20241213_11080710x2_Na_alignment_config.yml',\n",
       " 'C:\\\\msys64\\\\home\\\\nilab\\\\projects\\\\NaCsSLM\\\\lib\\\\Na_pattern\\\\20241213_11080710x2_Na_alignment_data.npz',\n",
       " ['ok'],\n",
       " ['ok'])"
      ]
     },
     "execution_count": 106,
     "metadata": {},
     "output_type": "execute_result"
    }
   ],
   "source": [
    "k_array = andor_to_k(targets)\n",
    "\n",
    "target_file_name = \"10x2_Na_alignment\"\n",
    "client.calculate_save_and_project(k_array, target_amps, 20, \"C:\\\\msys64\\\\home\\\\nilab\\\\projects\\\\NaCsSLM\\\\lib\\\\Na_pattern\", target_file_name)"
   ]
  },
  {
   "cell_type": "markdown",
   "id": "72937675",
   "metadata": {},
   "source": [
    "## 12/12 -- Search for double excitation resonance"
   ]
  },
  {
   "cell_type": "code",
   "execution_count": 121,
   "id": "22a63d3b",
   "metadata": {},
   "outputs": [
    {
     "name": "stdout",
     "output_type": "stream",
     "text": [
      "[[364. 364. 364. 364. 364. 364. 364. 364. 364. 364.]\n",
      " [394. 382. 370. 358. 346. 334. 322. 310. 298. 286.]]\n",
      "[[-57 -45 -33 -21  -9   3  15  27  39  51] [ -5  -5  -5  -5  -5  -5  -5  -5  -5  -5]]\n"
     ]
    }
   ],
   "source": [
    "#11/13\n",
    "def andor_to_k(x):\n",
    "    A = np.array([[-0.0704, 2.340], [2.4303, 0.1019]])\n",
    "    b = np.array([[343.19], [57.604]])\n",
    "    targets = np.matmul(A,x)+b\n",
    "    return targets\n",
    "\n",
    "def k_to_andor(k):\n",
    "    A = np.array([[-0.0704, 2.340], [2.4303, 0.1019]])\n",
    "    b = np.array([[343.19], [57.604]])\n",
    "    invA = np.linalg.inv(A)\n",
    "    targets = np.matmul(invA, k - b)\n",
    "    return targets\n",
    "targets, target_amps = utils.gen_square_targets([1,10], [6,12], 0, [364,340])\n",
    "print(targets)\n",
    "\n",
    "def andor_to_img(targets, center):\n",
    "    x_array = targets\n",
    "    ntargets = x_array.shape[1]\n",
    "    firstcoord_center = center[0]\n",
    "    secondcoord_center = center[1]\n",
    "    #subtract off center and reflect second coord, then round and cast to int\n",
    "    x_array_cam = np.round((x_array - np.array([np.ones((ntargets))*firstcoord_center,np.ones((ntargets))*secondcoord_center]))*np.array([[1],[-1]])).astype(int)\n",
    "    x_array_cam[[0, 1]] = x_array_cam[[1, 0]]\n",
    "    return x_array_cam\n",
    "\n",
    "print(str(andor_to_img(targets, [369, 337])).replace(\"\\n\", \"\"))"
   ]
  },
  {
   "cell_type": "code",
   "execution_count": 122,
   "id": "0faf60a5",
   "metadata": {},
   "outputs": [
    {
     "name": "stdout",
     "output_type": "stream",
     "text": [
      "20241216_191546\n",
      "20241216_191548\n",
      "20241216_191548\n",
      "20241216_191549\n"
     ]
    },
    {
     "data": {
      "text/plain": [
       "('C:\\\\msys64\\\\home\\\\nilab\\\\projects\\\\NaCsSLM\\\\lib\\\\Na_pattern\\\\20241216_19163710x1_Na_far-6_config.yml',\n",
       " 'C:\\\\msys64\\\\home\\\\nilab\\\\projects\\\\NaCsSLM\\\\lib\\\\Na_pattern\\\\20241216_19163710x1_Na_far-6_data.npz',\n",
       " ['ok'],\n",
       " ['ok'])"
      ]
     },
     "execution_count": 122,
     "metadata": {},
     "output_type": "execute_result"
    }
   ],
   "source": [
    "k_array = andor_to_k(targets)\n",
    "\n",
    "target_file_name = \"10x1_Na_far-6\"\n",
    "client.calculate_save_and_project(k_array, target_amps, 20, \"C:\\\\msys64\\\\home\\\\nilab\\\\projects\\\\NaCsSLM\\\\lib\\\\Na_pattern\", target_file_name)"
   ]
  },
  {
   "cell_type": "markdown",
   "id": "2092400a",
   "metadata": {},
   "source": [
    "## 11/13 -- Dual-species interactions"
   ]
  },
  {
   "cell_type": "code",
   "execution_count": 93,
   "id": "9fceda96",
   "metadata": {},
   "outputs": [
    {
     "name": "stdout",
     "output_type": "stream",
     "text": [
      "[[366. 366. 366. 366. 366. 366. 366. 366. 366. 366.]\n",
      " [391. 379. 367. 355. 343. 331. 319. 307. 295. 283.]]\n",
      "[[-54 -42 -30 -18  -6   6  18  30  42  54] [ -3  -3  -3  -3  -3  -3  -3  -3  -3  -3]]\n"
     ]
    }
   ],
   "source": [
    "#11/13\n",
    "def andor_to_k(x):\n",
    "    A = np.array([[-0.0704, 2.340], [2.4303, 0.1019]])\n",
    "    b = np.array([[343.19], [57.604]])\n",
    "    targets = np.matmul(A,x)+b\n",
    "    return targets\n",
    "\n",
    "def k_to_andor(k):\n",
    "    A = np.array([[-0.0704, 2.340], [2.4303, 0.1019]])\n",
    "    b = np.array([[343.19], [57.604]])\n",
    "    invA = np.linalg.inv(A)\n",
    "    targets = np.matmul(invA, k - b)\n",
    "    return targets\n",
    "targets, target_amps = utils.gen_square_targets([1,10], [6,12], 0, [366,337])\n",
    "print(targets)\n",
    "\n",
    "def andor_to_img(targets, center):\n",
    "    x_array = targets\n",
    "    ntargets = x_array.shape[1]\n",
    "    firstcoord_center = center[0]\n",
    "    secondcoord_center = center[1]\n",
    "    #subtract off center and reflect second coord, then round and cast to int\n",
    "    x_array_cam = np.round((x_array - np.array([np.ones((ntargets))*firstcoord_center,np.ones((ntargets))*secondcoord_center]))*np.array([[1],[-1]])).astype(int)\n",
    "    x_array_cam[[0, 1]] = x_array_cam[[1, 0]]\n",
    "    return x_array_cam\n",
    "\n",
    "print(str(andor_to_img(targets, [369, 337])).replace(\"\\n\", \"\"))"
   ]
  },
  {
   "cell_type": "code",
   "execution_count": 12,
   "id": "912c74ff",
   "metadata": {},
   "outputs": [
    {
     "name": "stdout",
     "output_type": "stream",
     "text": [
      "20241113_135606\n",
      "20241113_135608\n",
      "20241113_135608\n",
      "20241113_135609\n"
     ]
    },
    {
     "data": {
      "text/plain": [
       "('C:\\\\msys64\\\\home\\\\nilab\\\\projects\\\\NaCsSLM\\\\lib\\\\Na_pattern\\\\20241113_13562910x1_Na_config.yml',\n",
       " 'C:\\\\msys64\\\\home\\\\nilab\\\\projects\\\\NaCsSLM\\\\lib\\\\Na_pattern\\\\20241113_13562910x1_Na_data.npz',\n",
       " ['ok'],\n",
       " ['ok'])"
      ]
     },
     "execution_count": 12,
     "metadata": {},
     "output_type": "execute_result"
    }
   ],
   "source": [
    "k_array = andor_to_k(targets)\n",
    "\n",
    "target_file_name = \"10x1_Na\"\n",
    "client.calculate_save_and_project(k_array, target_amps, 20, \"C:\\\\msys64\\\\home\\\\nilab\\\\projects\\\\NaCsSLM\\\\lib\\\\Na_pattern\", target_file_name)"
   ]
  },
  {
   "cell_type": "markdown",
   "id": "3be6a90f",
   "metadata": {},
   "source": [
    "## 11/11 -- Single-species pairwise interactions"
   ]
  },
  {
   "cell_type": "code",
   "execution_count": 2,
   "id": "08988b95",
   "metadata": {},
   "outputs": [
    {
     "name": "stdout",
     "output_type": "stream",
     "text": [
      "[[363. 369. 363. 369. 363. 369. 363. 369. 363. 369. 363. 369. 363. 369.\n",
      "  363. 369. 363. 369. 363. 369.]\n",
      " [391. 391. 379. 379. 367. 367. 355. 355. 343. 343. 331. 331. 319. 319.\n",
      "  307. 307. 295. 295. 283. 283.]]\n",
      "[[-54 -54 -42 -42 -30 -30 -18 -18  -6  -6   6   6  18  18  30  30  42  42   54  54] [ -6   0  -6   0  -6   0  -6   0  -6   0  -6   0  -6   0  -6   0  -6   0   -6   0]]\n"
     ]
    }
   ],
   "source": [
    "#11/11\n",
    "\n",
    "def andor_to_k(x):\n",
    "    A = np.array([[-0.0704, 2.340], [2.4303, 0.1019]])\n",
    "    b = np.array([[343.19], [57.604]])\n",
    "    targets = np.matmul(A,x)+b\n",
    "    return targets\n",
    "\n",
    "def k_to_andor(k):\n",
    "    A = np.array([[-0.0704, 2.340], [2.4303, 0.1019]])\n",
    "    b = np.array([[343.19], [57.604]])\n",
    "    invA = np.linalg.inv(A)\n",
    "    targets = np.matmul(invA, k - b)\n",
    "    return targets\n",
    "targets, target_amps = utils.gen_square_targets([2,10], [6,12], 0, [366,337])\n",
    "print(targets)\n",
    "\n",
    "def andor_to_img(targets, center):\n",
    "    x_array = targets\n",
    "    ntargets = x_array.shape[1]\n",
    "    firstcoord_center = center[0]\n",
    "    secondcoord_center = center[1]\n",
    "    #subtract off center and reflect second coord, then round and cast to int\n",
    "    x_array_cam = np.round((x_array - np.array([np.ones((ntargets))*firstcoord_center,np.ones((ntargets))*secondcoord_center]))*np.array([[1],[-1]])).astype(int)\n",
    "    x_array_cam[[0, 1]] = x_array_cam[[1, 0]]\n",
    "    return x_array_cam\n",
    "\n",
    "print(str(andor_to_img(targets, [369, 337])).replace(\"\\n\", \"\"))"
   ]
  },
  {
   "cell_type": "code",
   "execution_count": 3,
   "id": "0ad129d3",
   "metadata": {},
   "outputs": [
    {
     "name": "stdout",
     "output_type": "stream",
     "text": [
      "20241111_155043\n",
      "20241111_155046\n",
      "20241111_155046\n",
      "20241111_155046\n"
     ]
    },
    {
     "data": {
      "text/plain": [
       "('C:\\\\msys64\\\\home\\\\nilab\\\\projects\\\\NaCsSLM\\\\lib\\\\Na_pattern\\\\20241111_15510410x2_Na_pairs_config.yml',\n",
       " 'C:\\\\msys64\\\\home\\\\nilab\\\\projects\\\\NaCsSLM\\\\lib\\\\Na_pattern\\\\20241111_15510410x2_Na_pairs_data.npz',\n",
       " ['ok'],\n",
       " ['ok'])"
      ]
     },
     "execution_count": 3,
     "metadata": {},
     "output_type": "execute_result"
    }
   ],
   "source": [
    "k_array = andor_to_k(targets)\n",
    "\n",
    "target_file_name = \"10x2_Na_pairs\"\n",
    "client.calculate_save_and_project(k_array, target_amps, 20, \"C:\\\\msys64\\\\home\\\\nilab\\\\projects\\\\NaCsSLM\\\\lib\\\\Na_pattern\", target_file_name)"
   ]
  },
  {
   "cell_type": "code",
   "execution_count": 3,
   "id": "c057d014",
   "metadata": {},
   "outputs": [
    {
     "name": "stdout",
     "output_type": "stream",
     "text": [
      "20241205_112101\n",
      "20241205_112101\n",
      "20241205_112102\n",
      "20241205_112102\n",
      "20241205_112102\n"
     ]
    },
    {
     "data": {
      "text/plain": [
       "['ok']"
      ]
     },
     "execution_count": 3,
     "metadata": {},
     "output_type": "execute_result"
    }
   ],
   "source": [
    "client.load_config(\"C:\\\\experiment-control\\\\matlab_new\\\\NaCsSLM\\\\lib\\\\Na_config\\\\20241111_10x2_pairs.yml\")\n",
    "client.send_project()\n"
   ]
  },
  {
   "cell_type": "code",
   "execution_count": 125,
   "id": "086e9b42",
   "metadata": {},
   "outputs": [
    {
     "name": "stdout",
     "output_type": "stream",
     "text": [
      "20241219_134341\n"
     ]
    },
    {
     "data": {
      "text/plain": [
       "['base: C:\\\\msys64\\\\home\\\\nilab\\\\projects\\\\NaCsSLM\\\\lib\\\\Na_pattern\\\\20241213_11080710x2_Na_alignment additional: file_correction:C:\\\\msys64\\\\home\\\\nilab\\\\projects\\\\NaCsSLM\\\\lib\\\\Na_Correction_Patterns\\\\CAL_LSH0803972_620nm.bmp,fresnel_lens:-600000.,zernike:[((2, 1), -5.0), ((2, 2), -27.0), ((2, 0), 9.5)], aperture: None']"
      ]
     },
     "execution_count": 125,
     "metadata": {},
     "output_type": "execute_result"
    }
   ],
   "source": [
    "client.send_get_current_phase_info()"
   ]
  },
  {
   "cell_type": "code",
   "execution_count": 78,
   "id": "c8ec3bf7",
   "metadata": {},
   "outputs": [
    {
     "name": "stdout",
     "output_type": "stream",
     "text": [
      "20241211_172324\n",
      "20241211_172324\n",
      "20241211_172324\n",
      "20241211_172324\n",
      "20241211_172324\n",
      "20241211_172325\n",
      "20241211_172325\n"
     ]
    },
    {
     "data": {
      "text/plain": [
       "['base: C:\\\\msys64\\\\home\\\\nilab\\\\projects\\\\NaCsSLM\\\\lib\\\\Na_pattern\\\\20241011_16511013x8_big additional: file_correction:C:\\\\msys64\\\\home\\\\nilab\\\\projects\\\\NaCsSLM\\\\lib\\\\Na_Correction_Patterns\\\\CAL_LSH0803972_620nm.bmp,fresnel_lens:-600000.,zernike:[((2, 1), -1.0), ((2, 2), -28.0), ((2, 0), 3.5)], aperture: None']"
      ]
     },
     "execution_count": 78,
     "metadata": {},
     "output_type": "execute_result"
    }
   ],
   "source": [
    "client.send_reset_add_phase()\n",
    "#client.load_config(\"C:\\\\experiment-control\\\\matlab_new\\\\NaCsSLM\\lib\\\\Na_config\\\\20241003_zigzag.yml\")\n",
    "client.load_config(\"C:\\\\experiment-control\\\\matlab_new\\\\NaCsSLM\\\\lib\\\\Na_config\\\\20241011_bigarray.yml\")\n",
    "client.send_project()\n",
    "client.send_get_current_phase_info()"
   ]
  },
  {
   "cell_type": "code",
   "execution_count": 6,
   "id": "e46aa77a",
   "metadata": {},
   "outputs": [
    {
     "name": "stdout",
     "output_type": "stream",
     "text": [
      "20241007_101806\n",
      "20241007_101806\n"
     ]
    },
    {
     "data": {
      "text/plain": [
       "['ok']"
      ]
     },
     "execution_count": 6,
     "metadata": {},
     "output_type": "execute_result"
    }
   ],
   "source": [
    "client.send_reset_add_phase()\n",
    "client.send_project()\n"
   ]
  },
  {
   "cell_type": "code",
   "execution_count": 13,
   "id": "562b6490",
   "metadata": {},
   "outputs": [
    {
     "name": "stdout",
     "output_type": "stream",
     "text": [
      "20241111_154641\n"
     ]
    },
    {
     "data": {
      "text/plain": [
       "['base: C:\\\\msys64\\\\home\\\\nilab\\\\projects\\\\NaCsSLM\\\\lib\\\\Na_pattern\\\\20241111_15333710x2_Na_pairs additional: file_correction:C:\\\\msys64\\\\home\\\\nilab\\\\projects\\\\NaCsSLM\\\\lib\\\\Na_Correction_Patterns\\\\CAL_LSH0803972_620nm.bmp,fresnel_lens:-600000.,zernike:[((2, 1), -5.0), ((2, 2), -27.0), ((2, 0), 9.5)], aperture: None']"
      ]
     },
     "execution_count": 13,
     "metadata": {},
     "output_type": "execute_result"
    }
   ],
   "source": [
    "client.send_get_current_phase_info()"
   ]
  },
  {
   "cell_type": "code",
   "execution_count": 82,
   "id": "f2618470",
   "metadata": {},
   "outputs": [
    {
     "name": "stdout",
     "output_type": "stream",
     "text": [
      "20241211_172535\n",
      "20241211_172535\n"
     ]
    }
   ],
   "source": [
    "client.save_config(\"C:\\\\experiment-control\\\\matlab_new\\\\NaCsSLM\\\\lib\\\\Na_config\\\\20241211_1x10array_top5.yml\")"
   ]
  },
  {
   "cell_type": "code",
   "execution_count": 10,
   "id": "2f503a9c",
   "metadata": {},
   "outputs": [
    {
     "name": "stdout",
     "output_type": "stream",
     "text": [
      "20241007_102040\n",
      "20241007_102040\n",
      "20241007_102040\n"
     ]
    },
    {
     "data": {
      "text/plain": [
       "['ok']"
      ]
     },
     "execution_count": 10,
     "metadata": {},
     "output_type": "execute_result"
    }
   ],
   "source": [
    "#20240820_11534620x1zigzag_feedback6_rditeration5_data\n",
    "client.load_and_project(\"C:\\\\msys64\\\\home\\\\nilab\\\\projects\\\\NaCsSLM\\\\lib\\\\Na_pattern\\\\\")\n",
    "client.send_project()"
   ]
  },
  {
   "cell_type": "code",
   "execution_count": 15,
   "id": "155a3d4f",
   "metadata": {},
   "outputs": [
    {
     "name": "stdout",
     "output_type": "stream",
     "text": [
      "20241007_103212\n",
      "20241007_103213\n",
      "20241007_103213\n"
     ]
    },
    {
     "data": {
      "text/plain": [
       "['ok']"
      ]
     },
     "execution_count": 15,
     "metadata": {},
     "output_type": "execute_result"
    }
   ],
   "source": [
    "client.load_and_project(\"C:\\\\msys64\\\\home\\\\nilab\\\\projects\\\\NaCsSLM\\\\lib\\\\Na_pattern\\\\20240820_11534620x1zigzag_feedback6_rditeration5\")\n",
    "client.send_project()"
   ]
  },
  {
   "cell_type": "code",
   "execution_count": 17,
   "id": "446b4405",
   "metadata": {},
   "outputs": [
    {
     "name": "stdout",
     "output_type": "stream",
     "text": [
      "20241007_103242\n",
      "20241007_103243\n",
      "20241007_103243\n"
     ]
    },
    {
     "data": {
      "text/plain": [
       "['ok']"
      ]
     },
     "execution_count": 17,
     "metadata": {},
     "output_type": "execute_result"
    }
   ],
   "source": [
    "client.load_and_project(\"C:\\\\msys64\\\\home\\\\nilab\\\\projects\\\\NaCsSLM\\\\lib\\\\Na_pattern\\\\20241004_23234220x1zigzag_feedback7_rditeration5\")\n",
    "client.send_project()"
   ]
  },
  {
   "cell_type": "code",
   "execution_count": 8,
   "id": "6fb2c5e2",
   "metadata": {},
   "outputs": [
    {
     "name": "stdout",
     "output_type": "stream",
     "text": [
      "20240626_133145\n",
      "20240626_133146\n",
      "20240626_133146\n"
     ]
    },
    {
     "data": {
      "text/plain": [
       "['ok']"
      ]
     },
     "execution_count": 8,
     "metadata": {},
     "output_type": "execute_result"
    }
   ],
   "source": [
    "client.load_and_project(\"C:\\\\msys64\\\\home\\\\nilab\\\\projects\\\\NaCsSLM\\\\lib\\\\Na_pattern\\\\20240528_1357073x1_horizontal_test\")\n",
    "client.send_project()"
   ]
  },
  {
   "cell_type": "code",
   "execution_count": 14,
   "id": "f068a598",
   "metadata": {},
   "outputs": [
    {
     "name": "stdout",
     "output_type": "stream",
     "text": [
      "20241111_154916\n",
      "20241111_154916\n"
     ]
    },
    {
     "data": {
      "text/plain": [
       "['ok']"
      ]
     },
     "execution_count": 14,
     "metadata": {},
     "output_type": "execute_result"
    }
   ],
   "source": [
    "# client.load_and_project(\"C:\\\\msys64\\\\home\\\\nilab\\\\projects\\\\NaCsSLM\\\\lib\\\\Na_pattern\\\\202405281\")\n",
    "# client.send_project()\n",
    "client.send_reset_pattern()\n",
    "client.send_reset_add_phase()\n",
    "\n",
    "client.send_project()"
   ]
  },
  {
   "cell_type": "code",
   "execution_count": 79,
   "id": "2e019bb4",
   "metadata": {},
   "outputs": [
    {
     "name": "stdout",
     "output_type": "stream",
     "text": [
      "20241211_172349\n",
      "20241211_172349\n",
      "20241211_172349\n",
      "20241211_172349\n",
      "20241211_172349\n",
      "20241211_172349\n"
     ]
    },
    {
     "data": {
      "text/plain": [
       "['base: C:\\\\msys64\\\\home\\\\nilab\\\\projects\\\\NaCsSLM\\\\lib\\\\Na_pattern\\\\20241011_16511013x8_big additional: file_correction:C:\\\\msys64\\\\home\\\\nilab\\\\projects\\\\NaCsSLM\\\\lib\\\\Na_Correction_Patterns\\\\CAL_LSH0803972_620nm.bmp,fresnel_lens:-600000.,zernike:[((2, 1), -5.0), ((2, 2), -27.0), ((2, 0), 9.5)], aperture: None']"
      ]
     },
     "execution_count": 79,
     "metadata": {},
     "output_type": "execute_result"
    }
   ],
   "source": [
    "client.send_reset_add_phase()\n",
    "client.send_correction(\"C:\\\\msys64\\\\home\\\\nilab\\\\projects\\\\NaCsSLM\\\\lib\\\\Na_Correction_Patterns\\\\CAL_LSH0803972_620nm.bmp\")\n",
    "client.send_fresnel_lens(np.array([-6.0e5]))\n",
    "client.send_zernike_poly(np.array([[2,1,-5],[2,2,-27],[2,0,9.5]]))\n",
    "client.send_project()\n",
    "client.send_get_current_phase_info()"
   ]
  },
  {
   "cell_type": "code",
   "execution_count": 39,
   "id": "9108049b",
   "metadata": {},
   "outputs": [
    {
     "name": "stdout",
     "output_type": "stream",
     "text": [
      "20241020_175414\n"
     ]
    },
    {
     "data": {
      "text/plain": [
       "['base: C:\\\\msys64\\\\home\\\\nilab\\\\projects\\\\NaCsSLM\\\\lib\\\\Na_pattern\\\\20241014_19574613x8_bigiteration5 additional: file_correction:C:\\\\msys64\\\\home\\\\nilab\\\\projects\\\\NaCsSLM\\\\lib\\\\Na_Correction_Patterns\\\\CAL_LSH0803972_620nm.bmp,fresnel_lens:-600000.,zernike:[((2, 1), -2.0), ((2, 2), -27.0), ((2, 0), 9.5)], aperture: None']"
      ]
     },
     "execution_count": 39,
     "metadata": {},
     "output_type": "execute_result"
    }
   ],
   "source": [
    "client.send_get_current_phase_info()"
   ]
  },
  {
   "cell_type": "code",
   "execution_count": null,
   "id": "44a61d26",
   "metadata": {},
   "outputs": [],
   "source": [
    "client.send_reset_add_phase()\n",
    "client.send_correction(\"C:\\\\msys64\\\\home\\\\nilab\\\\projects\\\\NaCsSLM\\\\lib\\\\Na_Correction_Patterns\\\\CAL_LSH0803972_620nm.bmp\")\n",
    "client.send_fresnel_lens(np.array([-6.0e5]))\n",
    "client.send_zernike_poly(np.array([[2,1,-13],[2,2,-5],[2,0,5]]))\n",
    "\n",
    "# notice = client.send_zernike_poly(np.array([[2,2,-22],[2,0,-2],[2,1,-6]]))\n",
    "\n",
    "client.send_project()\n",
    "client.send_get_current_phase_info()"
   ]
  },
  {
   "cell_type": "code",
   "execution_count": 12,
   "id": "48fdd37e",
   "metadata": {},
   "outputs": [
    {
     "name": "stdout",
     "output_type": "stream",
     "text": [
      "20241011_164139\n"
     ]
    },
    {
     "data": {
      "text/plain": [
       "['base: C:\\\\msys64\\\\home\\\\nilab\\\\projects\\\\NaCsSLM\\\\lib\\\\Na_pattern\\\\20241004_23234220x1zigzag_feedback7_rditeration5 additional: file_correction:C:\\\\msys64\\\\home\\\\nilab\\\\projects\\\\NaCsSLM\\\\lib\\\\Na_Correction_Patterns\\\\CAL_LSH0803972_620nm.bmp,fresnel_lens:-600000.,zernike:[((2, 1), -1.0), ((2, 2), -28.0), ((2, 0), 3.5)], aperture: None']"
      ]
     },
     "execution_count": 12,
     "metadata": {},
     "output_type": "execute_result"
    }
   ],
   "source": [
    "client.send_get_current_phase_info()"
   ]
  },
  {
   "cell_type": "code",
   "execution_count": null,
   "id": "d7f7ee13",
   "metadata": {},
   "outputs": [],
   "source": []
  },
  {
   "cell_type": "code",
   "execution_count": 116,
   "id": "54fe1900",
   "metadata": {},
   "outputs": [],
   "source": [
    "ntargets = 2\n",
    "targets = np.zeros((2, ntargets))\n",
    "# targets[0,:] = np.array([1002,1024,1046,1068])# x coordinates\n",
    "# targets[1,:] = np.array([1011,1011,1011,1011]) # y coordinates\n",
    "targets[0,:] = np.array([1002,1024])# x coordinates\n",
    "targets[1,:] = np.array([1011,1011]) # y coordinates\n",
    "target_amps = np.array([[1., 1]])# the same order in box"
   ]
  },
  {
   "cell_type": "code",
   "execution_count": 117,
   "id": "7a61f126",
   "metadata": {},
   "outputs": [
    {
     "name": "stdout",
     "output_type": "stream",
     "text": [
      "20240528_165236\n",
      "20240528_165239\n",
      "20240528_165239\n",
      "20240528_165239\n"
     ]
    },
    {
     "data": {
      "text/plain": [
       "('C:\\\\msys64\\\\home\\\\nilab\\\\projects\\\\NaCsSLM\\\\lib\\\\Na_pattern\\\\20240528_1652352x1_horizontal_test_config.yml',\n",
       " 'C:\\\\msys64\\\\home\\\\nilab\\\\projects\\\\NaCsSLM\\\\lib\\\\Na_pattern\\\\20240528_1652352x1_horizontal_test_data.npz',\n",
       " ['ok'],\n",
       " ['ok'])"
      ]
     },
     "execution_count": 117,
     "metadata": {},
     "output_type": "execute_result"
    }
   ],
   "source": [
    "target_file_name = \"2x1_horizontal_test\"\n",
    "client.calculate_save_and_project(targets, target_amps, 20, \"C:\\\\msys64\\\\home\\\\nilab\\\\projects\\\\NaCsSLM\\\\lib\\\\Na_pattern\", target_file_name)\n"
   ]
  },
  {
   "cell_type": "markdown",
   "id": "534c136f",
   "metadata": {},
   "source": [
    "7/15 "
   ]
  },
  {
   "cell_type": "code",
   "execution_count": 7,
   "id": "5af373ba",
   "metadata": {},
   "outputs": [
    {
     "data": {
      "text/plain": [
       "array([[375.53323685, 374.99636306, 374.45948928, 373.92261549,\n",
       "        373.38574171, 372.84886793, 372.31199414, 371.77512036,\n",
       "        371.23824657, 370.70137279, 383.48386868, 382.9469949 ,\n",
       "        382.41012111, 381.87324733, 381.33637354, 380.79949976,\n",
       "        380.26262598, 379.72575219, 379.18887841, 378.65200462],\n",
       "       [193.69552986, 206.49989058, 219.3042513 , 232.10861202,\n",
       "        244.91297274, 257.71733346, 270.52169418, 283.3260549 ,\n",
       "        296.13041562, 308.93477634, 200.34498477, 213.14934549,\n",
       "        225.95370621, 238.75806693, 251.56242765, 264.36678837,\n",
       "        277.17114909, 289.97550981, 302.77987053, 315.58423125]])"
      ]
     },
     "execution_count": 7,
     "metadata": {},
     "output_type": "execute_result"
    }
   ],
   "source": [
    "k_coordinate = np.array([[ 770.,  800.,  830.,  860.,  890.,  920.,  950.,  980., 1010.,\n",
    "        1040.,  785.,  815.,  845.,  875.,  905.,  935.,  965.,  995.,\n",
    "        1025., 1055.],\n",
    "       [ 990.,  990.,  990.,  990.,  990.,  990.,  990.,  990.,  990.,\n",
    "         990., 1010., 1010., 1010., 1010., 1010., 1010., 1010., 1010.,\n",
    "        1010., 1010.]])\n",
    "k_to_andor(k_coordinate)"
   ]
  },
  {
   "cell_type": "markdown",
   "id": "4a7dcb31",
   "metadata": {},
   "source": [
    "# BIG ARRAY"
   ]
  },
  {
   "cell_type": "code",
   "execution_count": 7,
   "id": "195d0f4b",
   "metadata": {},
   "outputs": [],
   "source": [
    "# 7_13_24\n",
    "def andor_to_k(x):\n",
    "    A = np.array([[-0.0704, 2.340], [2.4303, 0.1019]])\n",
    "    b = np.array([[343.19], [57.604]])\n",
    "    targets = np.matmul(A,x)+b\n",
    "    return targets\n",
    "\n",
    "def k_to_andor(k):\n",
    "    A = np.array([[-0.0704, 2.340], [2.4303, 0.1019]])\n",
    "    b = np.array([[343.19], [57.604]])\n",
    "    invA = np.linalg.inv(A)\n",
    "    targets = np.matmul(invA, k - b)\n",
    "    return targets"
   ]
  },
  {
   "cell_type": "code",
   "execution_count": 43,
   "id": "75199be2",
   "metadata": {},
   "outputs": [
    {
     "name": "stdout",
     "output_type": "stream",
     "text": [
      "[[320.5 335.5 350.5 365.5 380.5 395.5 410.5 425.5 320.5 335.5 350.5 365.5\n",
      "  380.5 395.5 410.5 425.5 320.5 335.5 350.5 365.5 380.5 395.5 410.5 425.5\n",
      "  320.5 335.5 350.5 365.5 380.5 395.5 410.5 425.5 320.5 335.5 350.5 365.5\n",
      "  380.5 395.5 410.5 425.5 320.5 335.5 350.5 365.5 380.5 395.5 410.5 425.5\n",
      "  320.5 335.5 350.5 365.5 380.5 395.5 410.5 425.5 320.5 335.5 350.5 365.5\n",
      "  380.5 395.5 410.5 425.5 320.5 335.5 350.5 365.5 380.5 395.5 410.5 425.5\n",
      "  320.5 335.5 350.5 365.5 380.5 395.5 410.5 425.5 320.5 335.5 350.5 365.5\n",
      "  380.5 395.5 410.5 425.5 320.5 335.5 350.5 365.5 380.5 395.5 410.5 425.5\n",
      "  320.5 335.5 350.5 365.5 380.5 395.5 410.5 425.5]\n",
      " [428.  428.  428.  428.  428.  428.  428.  428.  413.  413.  413.  413.\n",
      "  413.  413.  413.  413.  398.  398.  398.  398.  398.  398.  398.  398.\n",
      "  383.  383.  383.  383.  383.  383.  383.  383.  368.  368.  368.  368.\n",
      "  368.  368.  368.  368.  353.  353.  353.  353.  353.  353.  353.  353.\n",
      "  338.  338.  338.  338.  338.  338.  338.  338.  323.  323.  323.  323.\n",
      "  323.  323.  323.  323.  308.  308.  308.  308.  308.  308.  308.  308.\n",
      "  293.  293.  293.  293.  293.  293.  293.  293.  278.  278.  278.  278.\n",
      "  278.  278.  278.  278.  263.  263.  263.  263.  263.  263.  263.  263.\n",
      "  248.  248.  248.  248.  248.  248.  248.  248. ]]\n"
     ]
    }
   ],
   "source": [
    "targets, target_amps = utils.gen_square_targets([8,13], [15, 15], 0, [373,338])\n",
    "print(targets)"
   ]
  },
  {
   "cell_type": "code",
   "execution_count": 44,
   "id": "ef7915c9",
   "metadata": {},
   "outputs": [
    {
     "data": {
      "text/plain": [
       "array([[1322.1468 , 1321.0908 , 1320.0348 , 1318.9788 , 1317.9228 ,\n",
       "        1316.8668 , 1315.8108 , 1314.7548 , 1287.0468 , 1285.9908 ,\n",
       "        1284.9348 , 1283.8788 , 1282.8228 , 1281.7668 , 1280.7108 ,\n",
       "        1279.6548 , 1251.9468 , 1250.8908 , 1249.8348 , 1248.7788 ,\n",
       "        1247.7228 , 1246.6668 , 1245.6108 , 1244.5548 , 1216.8468 ,\n",
       "        1215.7908 , 1214.7348 , 1213.6788 , 1212.6228 , 1211.5668 ,\n",
       "        1210.5108 , 1209.4548 , 1181.7468 , 1180.6908 , 1179.6348 ,\n",
       "        1178.5788 , 1177.5228 , 1176.4668 , 1175.4108 , 1174.3548 ,\n",
       "        1146.6468 , 1145.5908 , 1144.5348 , 1143.4788 , 1142.4228 ,\n",
       "        1141.3668 , 1140.3108 , 1139.2548 , 1111.5468 , 1110.4908 ,\n",
       "        1109.4348 , 1108.3788 , 1107.3228 , 1106.2668 , 1105.2108 ,\n",
       "        1104.1548 , 1076.4468 , 1075.3908 , 1074.3348 , 1073.2788 ,\n",
       "        1072.2228 , 1071.1668 , 1070.1108 , 1069.0548 , 1041.3468 ,\n",
       "        1040.2908 , 1039.2348 , 1038.1788 , 1037.1228 , 1036.0668 ,\n",
       "        1035.0108 , 1033.9548 , 1006.2468 , 1005.1908 , 1004.1348 ,\n",
       "        1003.0788 , 1002.0228 , 1000.9668 ,  999.9108 ,  998.8548 ,\n",
       "         971.1468 ,  970.0908 ,  969.0348 ,  967.9788 ,  966.9228 ,\n",
       "         965.8668 ,  964.8108 ,  963.7548 ,  936.0468 ,  934.9908 ,\n",
       "         933.9348 ,  932.8788 ,  931.8228 ,  930.7668 ,  929.7108 ,\n",
       "         928.6548 ,  900.9468 ,  899.8908 ,  898.8348 ,  897.7788 ,\n",
       "         896.7228 ,  895.6668 ,  894.6108 ,  893.5548 ],\n",
       "       [ 880.12835,  916.58285,  953.03735,  989.49185, 1025.94635,\n",
       "        1062.40085, 1098.85535, 1135.30985,  878.59985,  915.05435,\n",
       "         951.50885,  987.96335, 1024.41785, 1060.87235, 1097.32685,\n",
       "        1133.78135,  877.07135,  913.52585,  949.98035,  986.43485,\n",
       "        1022.88935, 1059.34385, 1095.79835, 1132.25285,  875.54285,\n",
       "         911.99735,  948.45185,  984.90635, 1021.36085, 1057.81535,\n",
       "        1094.26985, 1130.72435,  874.01435,  910.46885,  946.92335,\n",
       "         983.37785, 1019.83235, 1056.28685, 1092.74135, 1129.19585,\n",
       "         872.48585,  908.94035,  945.39485,  981.84935, 1018.30385,\n",
       "        1054.75835, 1091.21285, 1127.66735,  870.95735,  907.41185,\n",
       "         943.86635,  980.32085, 1016.77535, 1053.22985, 1089.68435,\n",
       "        1126.13885,  869.42885,  905.88335,  942.33785,  978.79235,\n",
       "        1015.24685, 1051.70135, 1088.15585, 1124.61035,  867.90035,\n",
       "         904.35485,  940.80935,  977.26385, 1013.71835, 1050.17285,\n",
       "        1086.62735, 1123.08185,  866.37185,  902.82635,  939.28085,\n",
       "         975.73535, 1012.18985, 1048.64435, 1085.09885, 1121.55335,\n",
       "         864.84335,  901.29785,  937.75235,  974.20685, 1010.66135,\n",
       "        1047.11585, 1083.57035, 1120.02485,  863.31485,  899.76935,\n",
       "         936.22385,  972.67835, 1009.13285, 1045.58735, 1082.04185,\n",
       "        1118.49635,  861.78635,  898.24085,  934.69535,  971.14985,\n",
       "        1007.60435, 1044.05885, 1080.51335, 1116.96785]])"
      ]
     },
     "execution_count": 44,
     "metadata": {},
     "output_type": "execute_result"
    }
   ],
   "source": [
    "k_array = andor_to_k(targets)\n",
    "k_array"
   ]
  },
  {
   "cell_type": "code",
   "execution_count": 45,
   "id": "61dbfd81",
   "metadata": {},
   "outputs": [
    {
     "name": "stdout",
     "output_type": "stream",
     "text": [
      "20241029_174708\n",
      "20241029_174711\n",
      "20241029_174711\n",
      "20241029_174711\n"
     ]
    },
    {
     "data": {
      "text/plain": [
       "('C:\\\\msys64\\\\home\\\\nilab\\\\projects\\\\NaCsSLM\\\\lib\\\\Na_pattern\\\\20241029_17473313x8_big_config.yml',\n",
       " 'C:\\\\msys64\\\\home\\\\nilab\\\\projects\\\\NaCsSLM\\\\lib\\\\Na_pattern\\\\20241029_17473313x8_big_data.npz',\n",
       " ['ok'],\n",
       " ['ok'])"
      ]
     },
     "execution_count": 45,
     "metadata": {},
     "output_type": "execute_result"
    }
   ],
   "source": [
    "target_file_name = \"13x8_big\"\n",
    "#[_,targetname,_,_] = client.calculate_save_and_project(targets, target_amps, 20, \"C:\\\\msys64\\\\home\\\\nilab\\\\projects\\\\NaCsSLM\\\\lib\\\\Na_pattern\", target_file_name)\n",
    "client.calculate_save_and_project(k_array, target_amps, 20, \"C:\\\\msys64\\\\home\\\\nilab\\\\projects\\\\NaCsSLM\\\\lib\\\\Na_pattern\", target_file_name)"
   ]
  },
  {
   "cell_type": "code",
   "execution_count": 47,
   "id": "b0ecc716",
   "metadata": {},
   "outputs": [
    {
     "name": "stdout",
     "output_type": "stream",
     "text": [
      "20241029_180016\n"
     ]
    },
    {
     "data": {
      "text/plain": [
       "['base: C:\\\\msys64\\\\home\\\\nilab\\\\projects\\\\NaCsSLM\\\\lib\\\\Na_pattern\\\\20241029_17473313x8_big additional: file_correction:C:\\\\msys64\\\\home\\\\nilab\\\\projects\\\\NaCsSLM\\\\lib\\\\Na_Correction_Patterns\\\\CAL_LSH0803972_620nm.bmp,fresnel_lens:-600000.,zernike:[((2, 1), 20.0), ((2, 2), -27.0), ((2, 0), 9.5)], aperture: None']"
      ]
     },
     "execution_count": 47,
     "metadata": {},
     "output_type": "execute_result"
    }
   ],
   "source": [
    "client.send_get_current_phase_info()"
   ]
  },
  {
   "cell_type": "code",
   "execution_count": 48,
   "id": "4f053ef6",
   "metadata": {},
   "outputs": [
    {
     "name": "stdout",
     "output_type": "stream",
     "text": [
      "20241029_180122\n",
      "20241029_180122\n",
      "20241029_180122\n",
      "20241029_180122\n",
      "20241029_180123\n",
      "20241029_180123\n"
     ]
    },
    {
     "data": {
      "text/plain": [
       "['base: C:\\\\msys64\\\\home\\\\nilab\\\\projects\\\\NaCsSLM\\\\lib\\\\Na_pattern\\\\20241029_17473313x8_big additional: file_correction:C:\\\\msys64\\\\home\\\\nilab\\\\projects\\\\NaCsSLM\\\\lib\\\\Na_Correction_Patterns\\\\CAL_LSH0803972_620nm.bmp,fresnel_lens:-600000.,zernike:[((2, 1), -5.0), ((2, 2), -27.0), ((2, 0), 9.5)], aperture: None']"
      ]
     },
     "execution_count": 48,
     "metadata": {},
     "output_type": "execute_result"
    }
   ],
   "source": [
    "client.send_reset_add_phase()\n",
    "client.send_correction(\"C:\\\\msys64\\\\home\\\\nilab\\\\projects\\\\NaCsSLM\\\\lib\\\\Na_Correction_Patterns\\\\CAL_LSH0803972_620nm.bmp\")\n",
    "client.send_fresnel_lens(np.array([-6.0e5]))\n",
    "client.send_zernike_poly(np.array([[2,1,-5],[2,2,-27],[2,0,9.5]]))\n",
    "\n",
    "# notice = client.send_zernike_poly(np.array([[2,2,-22],[2,0,-2],[2,1,-6]]))\n",
    "\n",
    "client.send_project()\n",
    "client.send_get_current_phase_info()"
   ]
  },
  {
   "cell_type": "code",
   "execution_count": 32,
   "id": "20378531",
   "metadata": {},
   "outputs": [
    {
     "name": "stdout",
     "output_type": "stream",
     "text": [
      "20241011_184741\n",
      "20241011_184741\n"
     ]
    }
   ],
   "source": [
    "client.save_config(\"C:\\\\experiment-control\\\\matlab_new\\\\NaCsSLM\\\\lib\\\\Na_config\\\\20241011_bigarray.yml\")"
   ]
  },
  {
   "cell_type": "code",
   "execution_count": 27,
   "id": "c2c94d9f",
   "metadata": {},
   "outputs": [
    {
     "name": "stdout",
     "output_type": "stream",
     "text": [
      "[[-90 -90 -90 -90 -90 -90 -90 -90 -75 -75 -75 -75 -75 -75 -75 -75 -60 -60  -60 -60 -60 -60 -60 -60 -45 -45 -45 -45 -45 -45 -45 -45 -30 -30 -30 -30  -30 -30 -30 -30 -15 -15 -15 -15 -15 -15 -15 -15   0   0   0   0   0   0    0   0  15  15  15  15  15  15  15  15  30  30  30  30  30  30  30  30   45  45  45  45  45  45  45  45  60  60  60  60  60  60  60  60  75  75   75  75  75  75  75  75  90  90  90  90  90  90  90  90] [-52 -38 -22  -8   8  22  38  52 -52 -38 -22  -8   8  22  38  52 -52 -38  -22  -8   8  22  38  52 -52 -38 -22  -8   8  22  38  52 -52 -38 -22  -8    8  22  38  52 -52 -38 -22  -8   8  22  38  52 -52 -38 -22  -8   8  22   38  52 -52 -38 -22  -8   8  22  38  52 -52 -38 -22  -8   8  22  38  52  -52 -38 -22  -8   8  22  38  52 -52 -38 -22  -8   8  22  38  52 -52 -38  -22  -8   8  22  38  52 -52 -38 -22  -8   8  22  38  52]]\n"
     ]
    }
   ],
   "source": [
    "def andor_to_img(targets, center):\n",
    "    x_array = targets\n",
    "    ntargets = x_array.shape[1]\n",
    "    firstcoord_center = center[0]\n",
    "    secondcoord_center = center[1]\n",
    "    #subtract off center and reflect second coord, then round and cast to int\n",
    "    x_array_cam = np.round((x_array - np.array([np.ones((ntargets))*firstcoord_center,np.ones((ntargets))*secondcoord_center]))*np.array([[1],[-1]])).astype(int)\n",
    "    x_array_cam[[0, 1]] = x_array_cam[[1, 0]]\n",
    "    return x_array_cam\n",
    "\n",
    "print(str(andor_to_img(targets, [369, 337])).replace(\"\\n\", \"\"))"
   ]
  },
  {
   "cell_type": "markdown",
   "id": "ba78b38f",
   "metadata": {},
   "source": [
    "# 7/18 "
   ]
  },
  {
   "cell_type": "code",
   "execution_count": 67,
   "id": "f80b0cef",
   "metadata": {},
   "outputs": [
    {
     "data": {
      "text/plain": [
       "array([[380.01143508, 379.61772764, 379.22402019, 378.83031275],\n",
       "       [292.9755577 , 302.36542223, 311.75528676, 321.14515129]])"
      ]
     },
     "execution_count": 67,
     "metadata": {},
     "output_type": "execute_result"
    }
   ],
   "source": [
    "kcoords = np.array([[1002., 1024., 1046., 1068.],\n",
    "       [1011., 1011., 1011., 1011.]])\n",
    "A\n",
    "k_to_andor(kcoords)"
   ]
  },
  {
   "cell_type": "code",
   "execution_count": null,
   "id": "ff71f822",
   "metadata": {},
   "outputs": [],
   "source": []
  },
  {
   "cell_type": "markdown",
   "id": "ac621658",
   "metadata": {},
   "source": [
    "# 7/13 - Promotional Pattern"
   ]
  },
  {
   "cell_type": "code",
   "execution_count": 5,
   "id": "ea20d757",
   "metadata": {},
   "outputs": [],
   "source": [
    "# 7_13_24\n",
    "def andor_to_k(x):\n",
    "    A = np.array([[-0.0704, 2.340], [2.4303, 0.1019]])\n",
    "    b = np.array([[343.19], [57.604]])\n",
    "    targets = np.matmul(A,x)+b\n",
    "    return targets\n",
    "\n",
    "def k_to_andor(k):\n",
    "    A = np.array([[-0.0704, 2.340], [2.4303, 0.1019]])\n",
    "    b = np.array([[343.19], [57.604]])\n",
    "    invA = np.linalg.inv(A)\n",
    "    targets = np.matmul(invA, k - b)\n",
    "    return targets"
   ]
  },
  {
   "cell_type": "code",
   "execution_count": 5,
   "id": "b2d239bd",
   "metadata": {},
   "outputs": [
    {
     "name": "stdout",
     "output_type": "stream",
     "text": [
      "[[334. 344. 354. 364. 374. 384. 394. 404. 334. 344. 354. 364. 374. 384.\n",
      "  394. 404. 334. 344. 354. 364. 374. 384. 394. 404. 334. 344. 354. 364.\n",
      "  374. 384. 394. 404. 334. 344. 354. 364. 374. 384. 394. 404. 334. 344.\n",
      "  354. 364. 374. 384. 394. 404. 334. 344. 354. 364. 374. 384. 394. 404.\n",
      "  334. 344. 354. 364. 374. 384. 394. 404.]\n",
      " [292. 292. 292. 292. 292. 292. 292. 292. 282. 282. 282. 282. 282. 282.\n",
      "  282. 282. 272. 272. 272. 272. 272. 272. 272. 272. 262. 262. 262. 262.\n",
      "  262. 262. 262. 262. 252. 252. 252. 252. 252. 252. 252. 252. 242. 242.\n",
      "  242. 242. 242. 242. 242. 242. 232. 232. 232. 232. 232. 232. 232. 232.\n",
      "  222. 222. 222. 222. 222. 222. 222. 222.]]\n",
      "[[-35 -35 -35 -35 -35 -35 -35 -35 -25 -25 -25 -25 -25 -25 -25 -25 -15 -15  -15 -15 -15 -15 -15 -15  -5  -5  -5  -5  -5  -5  -5  -5   5   5   5   5    5   5   5   5  15  15  15  15  15  15  15  15  25  25  25  25  25  25   25  25  35  35  35  35  35  35  35  35] [-35 -25 -15  -5   5  15  25  35 -35 -25 -15  -5   5  15  25  35 -35 -25  -15  -5   5  15  25  35 -35 -25 -15  -5   5  15  25  35 -35 -25 -15  -5    5  15  25  35 -35 -25 -15  -5   5  15  25  35 -35 -25 -15  -5   5  15   25  35 -35 -25 -15  -5   5  15  25  35]]\n"
     ]
    }
   ],
   "source": [
    "#\n",
    "# 1     41 45\n",
    "# 2     42 46\n",
    "# 3     43 47\n",
    "# 4     44 48\n",
    "targets, target_amps = utils.gen_square_targets([8,8], [10, 10], 0, [369,257])\n",
    "print(targets)\n",
    "\n",
    "def andor_to_img(targets, center):\n",
    "    x_array = targets\n",
    "    ntargets = x_array.shape[1]\n",
    "    firstcoord_center = center[0]\n",
    "    secondcoord_center = center[1]\n",
    "    #subtract off center and reflect second coord, then round and cast to int\n",
    "    x_array_cam = np.round((x_array - np.array([np.ones((ntargets))*firstcoord_center,np.ones((ntargets))*secondcoord_center]))*np.array([[1],[-1]])).astype(int)\n",
    "    x_array_cam[[0, 1]] = x_array_cam[[1, 0]]\n",
    "    return x_array_cam\n",
    "\n",
    "print(str(andor_to_img(targets, [369, 257])).replace(\"\\n\", \"\"))"
   ]
  },
  {
   "cell_type": "code",
   "execution_count": 6,
   "id": "6baaf335",
   "metadata": {},
   "outputs": [
    {
     "data": {
      "text/plain": [
       "array([[1002.9564, 1002.2524, 1001.5484, 1000.8444, 1000.1404,  999.4364,\n",
       "         998.7324,  998.0284,  979.5564,  978.8524,  978.1484,  977.4444,\n",
       "         976.7404,  976.0364,  975.3324,  974.6284,  956.1564,  955.4524,\n",
       "         954.7484,  954.0444,  953.3404,  952.6364,  951.9324,  951.2284,\n",
       "         932.7564,  932.0524,  931.3484,  930.6444,  929.9404,  929.2364,\n",
       "         928.5324,  927.8284,  909.3564,  908.6524,  907.9484,  907.2444,\n",
       "         906.5404,  905.8364,  905.1324,  904.4284,  885.9564,  885.2524,\n",
       "         884.5484,  883.8444,  883.1404,  882.4364,  881.7324,  881.0284,\n",
       "         862.5564,  861.8524,  861.1484,  860.4444,  859.7404,  859.0364,\n",
       "         858.3324,  857.6284,  839.1564,  838.4524,  837.7484,  837.0444,\n",
       "         836.3404,  835.6364,  834.9324,  834.2284],\n",
       "       [ 899.079 ,  923.382 ,  947.685 ,  971.988 ,  996.291 , 1020.594 ,\n",
       "        1044.897 , 1069.2   ,  898.06  ,  922.363 ,  946.666 ,  970.969 ,\n",
       "         995.272 , 1019.575 , 1043.878 , 1068.181 ,  897.041 ,  921.344 ,\n",
       "         945.647 ,  969.95  ,  994.253 , 1018.556 , 1042.859 , 1067.162 ,\n",
       "         896.022 ,  920.325 ,  944.628 ,  968.931 ,  993.234 , 1017.537 ,\n",
       "        1041.84  , 1066.143 ,  895.003 ,  919.306 ,  943.609 ,  967.912 ,\n",
       "         992.215 , 1016.518 , 1040.821 , 1065.124 ,  893.984 ,  918.287 ,\n",
       "         942.59  ,  966.893 ,  991.196 , 1015.499 , 1039.802 , 1064.105 ,\n",
       "         892.965 ,  917.268 ,  941.571 ,  965.874 ,  990.177 , 1014.48  ,\n",
       "        1038.783 , 1063.086 ,  891.946 ,  916.249 ,  940.552 ,  964.855 ,\n",
       "         989.158 , 1013.461 , 1037.764 , 1062.067 ]])"
      ]
     },
     "execution_count": 6,
     "metadata": {},
     "output_type": "execute_result"
    }
   ],
   "source": [
    "k_array = andor_to_k(targets)\n",
    "k_array"
   ]
  },
  {
   "cell_type": "code",
   "execution_count": 7,
   "id": "4f80e1a5",
   "metadata": {},
   "outputs": [
    {
     "name": "stdout",
     "output_type": "stream",
     "text": [
      "20240713_150106\n",
      "20240713_150108\n",
      "20240713_150108\n",
      "20240713_150109\n"
     ]
    },
    {
     "data": {
      "text/plain": [
       "('C:\\\\msys64\\\\home\\\\nilab\\\\projects\\\\NaCsSLM\\\\lib\\\\Na_pattern\\\\20240713_1501008x8_config.yml',\n",
       " 'C:\\\\msys64\\\\home\\\\nilab\\\\projects\\\\NaCsSLM\\\\lib\\\\Na_pattern\\\\20240713_1501008x8_data.npz',\n",
       " ['ok'],\n",
       " ['ok'])"
      ]
     },
     "execution_count": 7,
     "metadata": {},
     "output_type": "execute_result"
    }
   ],
   "source": [
    "ntargets = targets.shape[1]\n",
    "target_file_name = \"8x8\"\n",
    "#[_,targetname,_,_] = client.calculate_save_and_project(targets, target_amps, 20, \"C:\\\\msys64\\\\home\\\\nilab\\\\projects\\\\NaCsSLM\\\\lib\\\\Na_pattern\", target_file_name)\n",
    "client.calculate_save_and_project(k_array, target_amps, 20, \"C:\\\\msys64\\\\home\\\\nilab\\\\projects\\\\NaCsSLM\\\\lib\\\\Na_pattern\", target_file_name)"
   ]
  },
  {
   "cell_type": "markdown",
   "id": "415801b0",
   "metadata": {},
   "source": [
    "# 7/3 - Calibration"
   ]
  },
  {
   "cell_type": "code",
   "execution_count": 9,
   "id": "4e660cf5",
   "metadata": {},
   "outputs": [],
   "source": [
    "# 6_21_24\n",
    "def andor_to_k(x):\n",
    "    A = np.array([[-0.0704, 2.340], [2.4303, 0.1019]])\n",
    "    b = np.array([[343.19], [57.604]])\n",
    "    targets = np.matmul(A,x)+b\n",
    "    return targets\n",
    "\n",
    "def k_to_andor(k):\n",
    "    A = np.array([[-0.0704, 2.340], [2.4303, 0.1019]])\n",
    "    b = np.array([[343.19], [57.604]])\n",
    "    invA = np.linalg.inv(A)\n",
    "    targets = np.matmul(invA, k - b)\n",
    "    return targets"
   ]
  },
  {
   "cell_type": "code",
   "execution_count": 18,
   "id": "567713d9",
   "metadata": {},
   "outputs": [
    {
     "name": "stdout",
     "output_type": "stream",
     "text": [
      "[[329. 349. 369. 389. 409. 329. 349. 369. 389. 409. 329. 349. 369. 389.\n",
      "  409. 329. 349. 369. 389. 409. 329. 349. 369. 389. 409. 329. 349. 369.\n",
      "  389. 409. 329. 349. 369. 389. 409. 329. 349. 369. 389. 409. 329. 349.\n",
      "  369. 389. 409. 329. 349. 369. 389. 409. 329. 349. 369. 389. 409. 329.\n",
      "  349. 369. 389. 409.]\n",
      " [312. 312. 312. 312. 312. 302. 302. 302. 302. 302. 292. 292. 292. 292.\n",
      "  292. 282. 282. 282. 282. 282. 272. 272. 272. 272. 272. 262. 262. 262.\n",
      "  262. 262. 252. 252. 252. 252. 252. 242. 242. 242. 242. 242. 232. 232.\n",
      "  232. 232. 232. 222. 222. 222. 222. 222. 212. 212. 212. 212. 212. 202.\n",
      "  202. 202. 202. 202.]]\n",
      "[[-55 -55 -55 -55 -55 -45 -45 -45 -45 -45 -35 -35 -35 -35 -35 -25 -25 -25  -25 -25 -15 -15 -15 -15 -15  -5  -5  -5  -5  -5   5   5   5   5   5  15   15  15  15  15  25  25  25  25  25  35  35  35  35  35  45  45  45  45   45  55  55  55  55  55] [-40 -20   0  20  40 -40 -20   0  20  40 -40 -20   0  20  40 -40 -20   0   20  40 -40 -20   0  20  40 -40 -20   0  20  40 -40 -20   0  20  40 -40  -20   0  20  40 -40 -20   0  20  40 -40 -20   0  20  40 -40 -20   0  20   40 -40 -20   0  20  40]]\n"
     ]
    }
   ],
   "source": [
    "#\n",
    "# 1     51 56\n",
    "# 2     52 57\n",
    "# 3     53 58\n",
    "# 4     54 59\n",
    "# 5     55 60\n",
    "targets, target_amps = utils.gen_square_targets([5,12], [20, 10], 0, [369,257])\n",
    "print(targets)\n",
    "\n",
    "def andor_to_img(targets, center):\n",
    "    x_array = targets\n",
    "    ntargets = x_array.shape[1]\n",
    "    firstcoord_center = center[0]\n",
    "    secondcoord_center = center[1]\n",
    "    #subtract off center and reflect second coord, then round and cast to int\n",
    "    x_array_cam = np.round((x_array - np.array([np.ones((ntargets))*firstcoord_center,np.ones((ntargets))*secondcoord_center]))*np.array([[1],[-1]])).astype(int)\n",
    "    x_array_cam[[0, 1]] = x_array_cam[[1, 0]]\n",
    "    return x_array_cam\n",
    "\n",
    "print(str(andor_to_img(targets, [369, 257])).replace(\"\\n\", \"\"))"
   ]
  },
  {
   "cell_type": "code",
   "execution_count": 19,
   "id": "5af21d10",
   "metadata": {},
   "outputs": [
    {
     "data": {
      "text/plain": [
       "array([[1050.1084, 1048.7004, 1047.2924, 1045.8844, 1044.4764, 1026.7084,\n",
       "        1025.3004, 1023.8924, 1022.4844, 1021.0764, 1003.3084, 1001.9004,\n",
       "        1000.4924,  999.0844,  997.6764,  979.9084,  978.5004,  977.0924,\n",
       "         975.6844,  974.2764,  956.5084,  955.1004,  953.6924,  952.2844,\n",
       "         950.8764,  933.1084,  931.7004,  930.2924,  928.8844,  927.4764,\n",
       "         909.7084,  908.3004,  906.8924,  905.4844,  904.0764,  886.3084,\n",
       "         884.9004,  883.4924,  882.0844,  880.6764,  862.9084,  861.5004,\n",
       "         860.0924,  858.6844,  857.2764,  839.5084,  838.1004,  836.6924,\n",
       "         835.2844,  833.8764,  816.1084,  814.7004,  813.2924,  811.8844,\n",
       "         810.4764,  792.7084,  791.3004,  789.8924,  788.4844,  787.0764],\n",
       "       [ 888.9655,  937.5715,  986.1775, 1034.7835, 1083.3895,  887.9465,\n",
       "         936.5525,  985.1585, 1033.7645, 1082.3705,  886.9275,  935.5335,\n",
       "         984.1395, 1032.7455, 1081.3515,  885.9085,  934.5145,  983.1205,\n",
       "        1031.7265, 1080.3325,  884.8895,  933.4955,  982.1015, 1030.7075,\n",
       "        1079.3135,  883.8705,  932.4765,  981.0825, 1029.6885, 1078.2945,\n",
       "         882.8515,  931.4575,  980.0635, 1028.6695, 1077.2755,  881.8325,\n",
       "         930.4385,  979.0445, 1027.6505, 1076.2565,  880.8135,  929.4195,\n",
       "         978.0255, 1026.6315, 1075.2375,  879.7945,  928.4005,  977.0065,\n",
       "        1025.6125, 1074.2185,  878.7755,  927.3815,  975.9875, 1024.5935,\n",
       "        1073.1995,  877.7565,  926.3625,  974.9685, 1023.5745, 1072.1805]])"
      ]
     },
     "execution_count": 19,
     "metadata": {},
     "output_type": "execute_result"
    }
   ],
   "source": [
    "k_array = andor_to_k(targets)\n",
    "k_array"
   ]
  },
  {
   "cell_type": "code",
   "execution_count": 20,
   "id": "32dd560e",
   "metadata": {},
   "outputs": [
    {
     "name": "stdout",
     "output_type": "stream",
     "text": [
      "20240703_144140\n",
      "20240703_144142\n",
      "20240703_144142\n",
      "20240703_144143\n"
     ]
    },
    {
     "data": {
      "text/plain": [
       "('C:\\\\msys64\\\\home\\\\nilab\\\\projects\\\\NaCsSLM\\\\lib\\\\Na_pattern\\\\20240703_144139calib_rows_config.yml',\n",
       " 'C:\\\\msys64\\\\home\\\\nilab\\\\projects\\\\NaCsSLM\\\\lib\\\\Na_pattern\\\\20240703_144139calib_rows_data.npz',\n",
       " ['ok'],\n",
       " ['ok'])"
      ]
     },
     "execution_count": 20,
     "metadata": {},
     "output_type": "execute_result"
    }
   ],
   "source": [
    "ntargets = targets.shape[1]\n",
    "\n",
    "target_file_name = \"calib_rows\"\n",
    "#[_,targetname,_,_] = client.calculate_save_and_project(targets, target_amps, 20, \"C:\\\\msys64\\\\home\\\\nilab\\\\projects\\\\NaCsSLM\\\\lib\\\\Na_pattern\", target_file_name)\n",
    "client.calculate_save_and_project(k_array, target_amps, 20, \"C:\\\\msys64\\\\home\\\\nilab\\\\projects\\\\NaCsSLM\\\\lib\\\\Na_pattern\", target_file_name)"
   ]
  },
  {
   "cell_type": "code",
   "execution_count": 70,
   "id": "5c2fabfc",
   "metadata": {},
   "outputs": [
    {
     "name": "stdout",
     "output_type": "stream",
     "text": [
      "20240718_181437\n",
      "20240718_181437\n",
      "20240718_181438\n",
      "20240718_181438\n",
      "20240718_181438\n",
      "20240718_181438\n"
     ]
    },
    {
     "data": {
      "text/plain": [
       "['ok']"
      ]
     },
     "execution_count": 70,
     "metadata": {},
     "output_type": "execute_result"
    }
   ],
   "source": [
    "client.send_reset_add_phase()\n",
    "client.load_config(\"C:\\\\experiment-control\\\\matlab_new\\\\NaCsSLM\\\\lib\\\\Na_config\\\\20200429_1x4horizontal_rd6.yml\")\n",
    "client.send_project()"
   ]
  },
  {
   "cell_type": "code",
   "execution_count": 13,
   "id": "f5f4d706",
   "metadata": {},
   "outputs": [
    {
     "name": "stdout",
     "output_type": "stream",
     "text": [
      "20240703_135555\n"
     ]
    },
    {
     "data": {
      "text/plain": [
       "['ok']"
      ]
     },
     "execution_count": 13,
     "metadata": {},
     "output_type": "execute_result"
    }
   ],
   "source": [
    "client.send_project()"
   ]
  },
  {
   "cell_type": "code",
   "execution_count": 69,
   "id": "128858f2",
   "metadata": {},
   "outputs": [
    {
     "name": "stdout",
     "output_type": "stream",
     "text": [
      "20240718_174326\n"
     ]
    },
    {
     "data": {
      "text/plain": [
       "['base: C:\\\\msys64\\\\home\\\\nilab\\\\projects\\\\NaCsSLM\\\\lib\\\\Na_pattern\\\\20240717_08470520x1zigzag_feedback4_rditeration20 additional: file_correction:C:\\\\msys64\\\\home\\\\nilab\\\\projects\\\\NaCsSLM\\\\lib\\\\Na_Correction_Patterns\\\\CAL_LSH0803972_620nm.bmp,fresnel_lens:-600000.,zernike:[((2, 1), -1.0), ((2, 2), -28.0), ((2, 0), 3.5)], aperture: [500. 500.]']"
      ]
     },
     "execution_count": 69,
     "metadata": {},
     "output_type": "execute_result"
    }
   ],
   "source": [
    "client.send_get_current_phase_info()"
   ]
  },
  {
   "cell_type": "markdown",
   "id": "a1603d16",
   "metadata": {},
   "source": [
    "## 6/26 - Shifted ZigZag"
   ]
  },
  {
   "cell_type": "code",
   "execution_count": 21,
   "id": "a385ae5d",
   "metadata": {},
   "outputs": [],
   "source": [
    "# 20 x 1 array shifted to the right\n",
    "ntargets = 20\n",
    "targets = np.zeros((2, ntargets))\n",
    "targets[0,:] = np.ones(20)*(-40) + np.array([810,825,840,855,870,885,900,915,930,945,960,975,990,1005,1020,1035,1050, 1065, 1080, 1095])# x coordinates\n",
    "targets[1,:] = np.ones(20)*(-20)+ np.array([1010,1030,1010,1030,1010,1030,1010,1030, 1010, 1030,1010,1030,1010,1030,1010,1030,1010,1030, 1010, 1030]) # y coordinates\n",
    "\n",
    "target_amps = np.array([1, 1, 1, 1,1,1,1,1, 1, 1,1,1,1,1,1,1,1,1,1,1])"
   ]
  },
  {
   "cell_type": "code",
   "execution_count": 22,
   "id": "30eeb91b",
   "metadata": {},
   "outputs": [
    {
     "data": {
      "text/plain": [
       "(2, 20)"
      ]
     },
     "execution_count": 22,
     "metadata": {},
     "output_type": "execute_result"
    }
   ],
   "source": [
    "targets.shape"
   ]
  },
  {
   "cell_type": "code",
   "execution_count": 23,
   "id": "56220108",
   "metadata": {},
   "outputs": [
    {
     "name": "stdout",
     "output_type": "stream",
     "text": [
      "20240626_135226\n",
      "20240626_135228\n",
      "20240626_135228\n",
      "20240626_135229\n"
     ]
    },
    {
     "data": {
      "text/plain": [
       "('C:\\\\msys64\\\\home\\\\nilab\\\\projects\\\\NaCsSLM\\\\lib\\\\Na_pattern\\\\20240626_13522520x1_zigzag_shift_config.yml',\n",
       " 'C:\\\\msys64\\\\home\\\\nilab\\\\projects\\\\NaCsSLM\\\\lib\\\\Na_pattern\\\\20240626_13522520x1_zigzag_shift_data.npz',\n",
       " ['ok'],\n",
       " ['ok'])"
      ]
     },
     "execution_count": 23,
     "metadata": {},
     "output_type": "execute_result"
    }
   ],
   "source": [
    "target_file_name = \"20x1_zigzag_shift\"\n",
    "#[_,targetname,_,_] = client.calculate_save_and_project(targets, target_amps, 20, \"C:\\\\msys64\\\\home\\\\nilab\\\\projects\\\\NaCsSLM\\\\lib\\\\Na_pattern\", target_file_name)\n",
    "client.calculate_save_and_project(targets, target_amps, 20, \"C:\\\\msys64\\\\home\\\\nilab\\\\projects\\\\NaCsSLM\\\\lib\\\\Na_pattern\", target_file_name)"
   ]
  },
  {
   "cell_type": "code",
   "execution_count": 25,
   "id": "8a506ed9",
   "metadata": {},
   "outputs": [
    {
     "name": "stdout",
     "output_type": "stream",
     "text": [
      "20240626_162340\n"
     ]
    },
    {
     "data": {
      "text/plain": [
       "['base: C:\\\\msys64\\\\home\\\\nilab\\\\projects\\\\NaCsSLM\\\\lib\\\\Na_pattern\\\\20240626_13522520x1_zigzag_shift additional: fresnel_lens:-600000.,file_correction:C:\\\\msys64\\\\home\\\\nilab\\\\projects\\\\NaCsSLM\\\\lib\\\\Na_Correction_Patterns\\\\CAL_LSH0803972_620nm.bmp,zernike:[((2, 1), -3.0), ((2, 2), -31.0), ((2, 0), 0.0)], aperture: [500. 500.]']"
      ]
     },
     "execution_count": 25,
     "metadata": {},
     "output_type": "execute_result"
    }
   ],
   "source": [
    "client.send_get_current_phase_info()"
   ]
  },
  {
   "cell_type": "code",
   "execution_count": null,
   "id": "5b0523c4",
   "metadata": {},
   "outputs": [],
   "source": [
    "client.send_pattern('C:\\\\msys64\\\\home\\\\nilab\\\\projects\\\\NaCsSLM\\\\lib\\\\Na_pattern\\\\20240626_13522520x1_zigzag_shift')\n",
    "client.send_project()"
   ]
  },
  {
   "cell_type": "markdown",
   "id": "e28572a5",
   "metadata": {},
   "source": [
    "## 6/25 - ZigZag"
   ]
  },
  {
   "cell_type": "code",
   "execution_count": 213,
   "id": "72e912cd",
   "metadata": {},
   "outputs": [
    {
     "data": {
      "text/plain": [
       "array([30., 30., 30., 30., 30., 30., 30., 30., 30., 30., 30., 30., 30.,\n",
       "       30., 30., 30., 30., 30., 30., 30.])"
      ]
     },
     "execution_count": 213,
     "metadata": {},
     "output_type": "execute_result"
    }
   ],
   "source": [
    "np.ones(20)*30"
   ]
  },
  {
   "cell_type": "code",
   "execution_count": 269,
   "id": "39c6eae6",
   "metadata": {},
   "outputs": [],
   "source": [
    "# 20 x 1 array\n",
    "ntargets = 20\n",
    "targets = np.zeros((2, ntargets))\n",
    "targets[0,:] = np.ones(20)*(-40) + np.array([930, 945, 960, 975, 990, 1005, 1020, 1035, 1050, 1065,   1080, 1095, 1110, 1125, 1140, 1155, 1170, 1185, 1200, 1215])# x coordinates\n",
    "targets[1,:] = np.ones(20)*(-20)+ np.array([1010,1030,1010,1030,1010,1030,1010,1030, 1010, 1030,1010,1030,1010,1030,1010,1030,1010,1030, 1010, 1030]) # y coordinates\n",
    "\n",
    "target_amps = np.array([1, 1, 1, 1,1,1,1,1, 1, 1,1.01,1.02,1.03,1.04,1.05,1.06,1.07,1.08,1.09,1.1])"
   ]
  },
  {
   "cell_type": "code",
   "execution_count": 270,
   "id": "6cb01fda",
   "metadata": {},
   "outputs": [
    {
     "name": "stdout",
     "output_type": "stream",
     "text": [
      "20240626_122649\n",
      "20240626_122652\n",
      "20240626_122652\n",
      "20240626_122652\n"
     ]
    },
    {
     "data": {
      "text/plain": [
       "('C:\\\\msys64\\\\home\\\\nilab\\\\projects\\\\NaCsSLM\\\\lib\\\\Na_pattern\\\\20240626_12264820x1_zigzag_uniformitytweak_rd2_config.yml',\n",
       " 'C:\\\\msys64\\\\home\\\\nilab\\\\projects\\\\NaCsSLM\\\\lib\\\\Na_pattern\\\\20240626_12264820x1_zigzag_uniformitytweak_rd2_data.npz',\n",
       " ['ok'],\n",
       " ['ok'])"
      ]
     },
     "execution_count": 270,
     "metadata": {},
     "output_type": "execute_result"
    }
   ],
   "source": [
    "target_file_name = \"20x1_zigzag_uniformitytweak_rd2\"\n",
    "old_guess = \"C:\\\\msys64\\\\home\\\\nilab\\\\projects\\\\NaCsSLM\\\\lib\\\\Na_pattern\\\\20240625_18433520x1_zigzag_uniformitytweak\"\n",
    "#[_,targetname,_,_] = client.calculate_save_and_project(targets, target_amps, 20, \"C:\\\\msys64\\\\home\\\\nilab\\\\projects\\\\NaCsSLM\\\\lib\\\\Na_pattern\", target_file_name)\n",
    "client.calculate_save_and_project(targets, target_amps, 20, \"C:\\\\msys64\\\\home\\\\nilab\\\\projects\\\\NaCsSLM\\\\lib\\\\Na_pattern\", target_file_name, old_guess)"
   ]
  },
  {
   "cell_type": "code",
   "execution_count": 56,
   "id": "5ca8d7db",
   "metadata": {},
   "outputs": [
    {
     "name": "stdout",
     "output_type": "stream",
     "text": [
      "20240716_152334\n",
      "20240716_152335\n",
      "20240716_152335\n",
      "20240716_152335\n",
      "20240716_152335\n",
      "20240716_152336\n"
     ]
    },
    {
     "data": {
      "text/plain": [
       "['ok']"
      ]
     },
     "execution_count": 56,
     "metadata": {},
     "output_type": "execute_result"
    }
   ],
   "source": [
    "#Recreate correction pattern\n",
    "client.send_reset_add_phase()\n",
    "client.send_use_aperture(np.array([500]))\n",
    "client.send_fresnel_lens(np.array([-6e5])) #seems to be good correction for Na SLM\n",
    "client.send_correction(\"C:\\\\msys64\\\\home\\\\nilab\\\\projects\\\\NaCsSLM\\\\lib\\\\Na_Correction_Patterns\\\\CAL_LSH0803972_620nm.bmp\")\n",
    "notice = client.send_zernike_poly(np.array([[2,1,-1],[2,2,-28],[2,0,3.5]]))\n",
    "#print(notice)\n",
    "# notice = client.send_zernike_poly(np.array([[2,1,1]]))\n",
    "client.send_project()\n"
   ]
  },
  {
   "cell_type": "code",
   "execution_count": 61,
   "id": "a985df8a",
   "metadata": {},
   "outputs": [
    {
     "name": "stdout",
     "output_type": "stream",
     "text": [
      "20240718_143711\n"
     ]
    },
    {
     "data": {
      "text/plain": [
       "['base: C:\\\\msys64\\\\home\\\\nilab\\\\projects\\\\NaCsSLM\\\\lib\\\\Na_pattern\\\\20240717_08470520x1zigzag_feedback4_rditeration20 additional: fresnel_lens:-600000.,file_correction:C:\\\\msys64\\\\home\\\\nilab\\\\projects\\\\NaCsSLM\\\\lib\\\\Na_Correction_Patterns\\\\CAL_LSH0803972_620nm.bmp,zernike:[((2, 1), -1.0), ((2, 2), -28.0), ((2, 0), 3.5)], aperture: [500. 500.]']"
      ]
     },
     "execution_count": 61,
     "metadata": {},
     "output_type": "execute_result"
    }
   ],
   "source": [
    "client.send_get_current_phase_info()"
   ]
  },
  {
   "cell_type": "code",
   "execution_count": 249,
   "id": "f0c82e55",
   "metadata": {},
   "outputs": [
    {
     "data": {
      "text/plain": [
       "6.0"
      ]
     },
     "execution_count": 249,
     "metadata": {},
     "output_type": "execute_result"
    }
   ],
   "source": [
    "120/20"
   ]
  },
  {
   "cell_type": "code",
   "execution_count": null,
   "id": "262c57d6",
   "metadata": {},
   "outputs": [],
   "source": []
  },
  {
   "cell_type": "markdown",
   "id": "1b4a6873",
   "metadata": {},
   "source": [
    "# 6/21 - Patterns patterns patterns"
   ]
  },
  {
   "cell_type": "code",
   "execution_count": 94,
   "id": "f6a9d9d1",
   "metadata": {},
   "outputs": [],
   "source": [
    "# 10 x 1 array\n",
    "ntargets = 10\n",
    "targets = np.zeros((2, ntargets))\n",
    "targets[0,:] = np.array([930, 950, 970, 990, 1010, 1030, 1050, 1070, 1090, 1110])# x coordinates\n",
    "targets[1,:] = np.array([1050,1050,1050,1050,1050,1050,1050,1050, 1050, 1050]) # y coordinates\n",
    "\n",
    "target_amps = np.array([1, 1, 1, 1,1,1,1,1, 1, 1])"
   ]
  },
  {
   "cell_type": "code",
   "execution_count": 95,
   "id": "154923f3",
   "metadata": {},
   "outputs": [
    {
     "name": "stdout",
     "output_type": "stream",
     "text": [
      "20240621_111656\n",
      "20240621_111659\n",
      "20240621_111659\n",
      "20240621_111659\n"
     ]
    },
    {
     "data": {
      "text/plain": [
       "('C:\\\\msys64\\\\home\\\\nilab\\\\projects\\\\NaCsSLM\\\\lib\\\\Na_pattern\\\\20240621_11164310x1_horizontal_offset_config.yml',\n",
       " 'C:\\\\msys64\\\\home\\\\nilab\\\\projects\\\\NaCsSLM\\\\lib\\\\Na_pattern\\\\20240621_11164310x1_horizontal_offset_data.npz',\n",
       " ['ok'],\n",
       " ['ok'])"
      ]
     },
     "execution_count": 95,
     "metadata": {},
     "output_type": "execute_result"
    }
   ],
   "source": [
    "target_file_name = \"10x1_horizontal_offset\"\n",
    "#[_,targetname,_,_] = client.calculate_save_and_project(targets, target_amps, 20, \"C:\\\\msys64\\\\home\\\\nilab\\\\projects\\\\NaCsSLM\\\\lib\\\\Na_pattern\", target_file_name)\n",
    "client.calculate_save_and_project(targets, target_amps, 20, \"C:\\\\msys64\\\\home\\\\nilab\\\\projects\\\\NaCsSLM\\\\lib\\\\Na_pattern\", target_file_name)"
   ]
  },
  {
   "cell_type": "code",
   "execution_count": 118,
   "id": "3cfbcc2d",
   "metadata": {},
   "outputs": [],
   "source": [
    "# 10 x 1 array\n",
    "ntargets = 1\n",
    "targets = np.zeros((2, ntargets))\n",
    "targets[0,:] = np.array([1050])# x coordinates\n",
    "targets[1,:] = np.array([910]) # y coordinates\n",
    "\n",
    "target_amps = np.array([1])"
   ]
  },
  {
   "cell_type": "code",
   "execution_count": 119,
   "id": "71f660f0",
   "metadata": {},
   "outputs": [
    {
     "name": "stdout",
     "output_type": "stream",
     "text": [
      "20240621_135332\n",
      "20240621_135334\n",
      "20240621_135334\n",
      "20240621_135335\n"
     ]
    },
    {
     "data": {
      "text/plain": [
       "('C:\\\\msys64\\\\home\\\\nilab\\\\projects\\\\NaCsSLM\\\\lib\\\\Na_pattern\\\\20240621_1353181x1_1050_910_config.yml',\n",
       " 'C:\\\\msys64\\\\home\\\\nilab\\\\projects\\\\NaCsSLM\\\\lib\\\\Na_pattern\\\\20240621_1353181x1_1050_910_data.npz',\n",
       " ['ok'],\n",
       " ['ok'])"
      ]
     },
     "execution_count": 119,
     "metadata": {},
     "output_type": "execute_result"
    }
   ],
   "source": [
    "target_file_name = \"1x1_1050_910\"\n",
    "#[_,targetname,_,_] = client.calculate_save_and_project(targets, target_amps, 20, \"C:\\\\msys64\\\\home\\\\nilab\\\\projects\\\\NaCsSLM\\\\lib\\\\Na_pattern\", target_file_name)\n",
    "client.calculate_save_and_project(targets, target_amps, 20, \"C:\\\\msys64\\\\home\\\\nilab\\\\projects\\\\NaCsSLM\\\\lib\\\\Na_pattern\", target_file_name)"
   ]
  },
  {
   "cell_type": "code",
   "execution_count": 98,
   "id": "34c14333",
   "metadata": {},
   "outputs": [
    {
     "name": "stdout",
     "output_type": "stream",
     "text": [
      "20240621_113723\n",
      "20240621_113723\n"
     ]
    },
    {
     "data": {
      "text/plain": [
       "['ok']"
      ]
     },
     "execution_count": 98,
     "metadata": {},
     "output_type": "execute_result"
    }
   ],
   "source": [
    "client.send_pattern('C:\\\\msys64\\\\home\\\\nilab\\\\projects\\\\NaCsSLM\\\\lib\\\\Na_pattern\\\\20240621_11164310x1_horizontal_offset')\n",
    "client.send_project()"
   ]
  },
  {
   "cell_type": "code",
   "execution_count": 103,
   "id": "90122bba",
   "metadata": {},
   "outputs": [],
   "source": [
    "# 1 x 10 array\n",
    "ntargets = 10\n",
    "targets = np.zeros((2, ntargets))\n",
    "targets[0,:] = np.array([1050,1050,1050,1050,1050,1050,1050,1050, 1050, 1050]) # x coordinates\n",
    "targets[1,:] = np.array([910, 930, 950, 970, 990, 1010, 1030, 1050, 1070, 1090])# y coordinates\n",
    "\n",
    "\n",
    "target_amps = np.array([1, 1, 1, 1,1,1,1,1, 1, 1])"
   ]
  },
  {
   "cell_type": "code",
   "execution_count": 104,
   "id": "8775aadc",
   "metadata": {},
   "outputs": [
    {
     "name": "stdout",
     "output_type": "stream",
     "text": [
      "20240621_115345\n",
      "20240621_115347\n",
      "20240621_115347\n",
      "20240621_115348\n"
     ]
    },
    {
     "data": {
      "text/plain": [
       "('C:\\\\msys64\\\\home\\\\nilab\\\\projects\\\\NaCsSLM\\\\lib\\\\Na_pattern\\\\20240621_1153311x10_vertical_offset_config.yml',\n",
       " 'C:\\\\msys64\\\\home\\\\nilab\\\\projects\\\\NaCsSLM\\\\lib\\\\Na_pattern\\\\20240621_1153311x10_vertical_offset_data.npz',\n",
       " ['ok'],\n",
       " ['ok'])"
      ]
     },
     "execution_count": 104,
     "metadata": {},
     "output_type": "execute_result"
    }
   ],
   "source": [
    "target_file_name = \"1x10_vertical_offset\"\n",
    "#[_,targetname,_,_] = client.calculate_save_and_project(targets, target_amps, 20, \"C:\\\\msys64\\\\home\\\\nilab\\\\projects\\\\NaCsSLM\\\\lib\\\\Na_pattern\", target_file_name)\n",
    "client.calculate_save_and_project(targets, target_amps, 20, \"C:\\\\msys64\\\\home\\\\nilab\\\\projects\\\\NaCsSLM\\\\lib\\\\Na_pattern\", target_file_name)"
   ]
  },
  {
   "cell_type": "code",
   "execution_count": 134,
   "id": "fbf144a6",
   "metadata": {},
   "outputs": [],
   "source": [
    "# 6_21_24\n",
    "def andor_to_k(x):\n",
    "    A = np.array([[-0.0704, 2.340], [2.4303, 0.1019]])\n",
    "    b = np.array([[343.19], [57.604]])\n",
    "    targets = np.matmul(A,x)+b\n",
    "    return targets\n",
    "\n",
    "def k_to_andor(k):\n",
    "    A = np.array([[-0.0704, 2.340], [2.4303, 0.1019]])\n",
    "    b = np.array([[343.19], [57.604]])\n",
    "    invA = np.linalg.inv(A)\n",
    "    targets = np.matmul(invA, k - b)\n",
    "    return targets"
   ]
  },
  {
   "cell_type": "code",
   "execution_count": 167,
   "id": "1673d17b",
   "metadata": {},
   "outputs": [],
   "source": [
    "side_length = [3,9] #num columns, num rows\n",
    "pixel_spacing = [10,10]\n",
    "rot_angle = 0\n",
    "#offset = [-1,30]\n",
    "offset = [344, 299]\n",
    "#offset = [0,0]\n",
    "[camera_array,target_amps] = utils.gen_square_targets(side_length, pixel_spacing, rot_angle, offset)"
   ]
  },
  {
   "cell_type": "code",
   "execution_count": 168,
   "id": "a849db6f",
   "metadata": {},
   "outputs": [
    {
     "data": {
      "text/plain": [
       "array([[334., 344., 354., 334., 344., 354., 334., 344., 354., 334., 344.,\n",
       "        354., 334., 344., 354., 334., 344., 354., 334., 344., 354., 334.,\n",
       "        344., 354., 334., 344., 354.],\n",
       "       [339., 339., 339., 329., 329., 329., 319., 319., 319., 309., 309.,\n",
       "        309., 299., 299., 299., 289., 289., 289., 279., 279., 279., 269.,\n",
       "        269., 269., 259., 259., 259.]])"
      ]
     },
     "execution_count": 168,
     "metadata": {},
     "output_type": "execute_result"
    }
   ],
   "source": [
    "camera_array"
   ]
  },
  {
   "cell_type": "code",
   "execution_count": 169,
   "id": "49dc7050",
   "metadata": {},
   "outputs": [
    {
     "data": {
      "text/plain": [
       "array([[1112.9364, 1112.2324, 1111.5284, 1089.5364, 1088.8324, 1088.1284,\n",
       "        1066.1364, 1065.4324, 1064.7284, 1042.7364, 1042.0324, 1041.3284,\n",
       "        1019.3364, 1018.6324, 1017.9284,  995.9364,  995.2324,  994.5284,\n",
       "         972.5364,  971.8324,  971.1284,  949.1364,  948.4324,  947.7284,\n",
       "         925.7364,  925.0324,  924.3284],\n",
       "       [ 903.8683,  928.1713,  952.4743,  902.8493,  927.1523,  951.4553,\n",
       "         901.8303,  926.1333,  950.4363,  900.8113,  925.1143,  949.4173,\n",
       "         899.7923,  924.0953,  948.3983,  898.7733,  923.0763,  947.3793,\n",
       "         897.7543,  922.0573,  946.3603,  896.7353,  921.0383,  945.3413,\n",
       "         895.7163,  920.0193,  944.3223]])"
      ]
     },
     "execution_count": 169,
     "metadata": {},
     "output_type": "execute_result"
    }
   ],
   "source": [
    "k_array = andor_to_k(camera_array)\n",
    "k_array"
   ]
  },
  {
   "cell_type": "code",
   "execution_count": 170,
   "id": "5ccb29cd",
   "metadata": {},
   "outputs": [
    {
     "data": {
      "text/plain": [
       "array([[1035.5924],\n",
       "       [ 985.668 ]])"
      ]
     },
     "execution_count": 170,
     "metadata": {},
     "output_type": "execute_result"
    }
   ],
   "source": [
    "andor_to_k(np.array([[369], [307]]))"
   ]
  },
  {
   "cell_type": "code",
   "execution_count": 171,
   "id": "6af94207",
   "metadata": {},
   "outputs": [
    {
     "name": "stdout",
     "output_type": "stream",
     "text": [
      "20240621_180359\n",
      "20240621_180402\n",
      "20240621_180402\n",
      "20240621_180402\n"
     ]
    },
    {
     "data": {
      "text/plain": [
       "('C:\\\\msys64\\\\home\\\\nilab\\\\projects\\\\NaCsSLM\\\\lib\\\\Na_pattern\\\\20240621_1803593x9_vertical_offset_config.yml',\n",
       " 'C:\\\\msys64\\\\home\\\\nilab\\\\projects\\\\NaCsSLM\\\\lib\\\\Na_pattern\\\\20240621_1803593x9_vertical_offset_data.npz',\n",
       " ['ok'],\n",
       " ['ok'])"
      ]
     },
     "execution_count": 171,
     "metadata": {},
     "output_type": "execute_result"
    }
   ],
   "source": [
    "target_file_name = \"3x9_vertical_offset\"\n",
    "#[_,targetname,_,_] = client.calculate_save_and_project(targets, target_amps, 20, \"C:\\\\msys64\\\\home\\\\nilab\\\\projects\\\\NaCsSLM\\\\lib\\\\Na_pattern\", target_file_name)\n",
    "client.calculate_save_and_project(k_array, target_amps, 20, \"C:\\\\msys64\\\\home\\\\nilab\\\\projects\\\\NaCsSLM\\\\lib\\\\Na_pattern\", target_file_name)"
   ]
  },
  {
   "cell_type": "code",
   "execution_count": 147,
   "id": "4cd15457",
   "metadata": {},
   "outputs": [
    {
     "name": "stdout",
     "output_type": "stream",
     "text": [
      "20240621_151258\n",
      "20240621_151300\n",
      "20240621_151300\n",
      "20240621_151301\n"
     ]
    },
    {
     "data": {
      "text/plain": [
       "('C:\\\\msys64\\\\home\\\\nilab\\\\projects\\\\NaCsSLM\\\\lib\\\\Na_pattern\\\\20240621_151257ELQ_E_config.yml',\n",
       " 'C:\\\\msys64\\\\home\\\\nilab\\\\projects\\\\NaCsSLM\\\\lib\\\\Na_pattern\\\\20240621_151257ELQ_E_data.npz',\n",
       " ['ok'],\n",
       " ['ok'])"
      ]
     },
     "execution_count": 147,
     "metadata": {},
     "output_type": "execute_result"
    }
   ],
   "source": [
    "# ELQ\n",
    "# E\n",
    "# Cs Na Cs\n",
    "# Na\n",
    "# Cs Na Cs\n",
    "# Na\n",
    "# Cs Na Cs\n",
    "\n",
    "# targets in andor space\n",
    "# top left corner (319, 357)\n",
    "ntargets = 5\n",
    "targets = np.zeros((2, ntargets))\n",
    "targets[0,:] = np.array([335, 340, 345, 350, 355]) # x coordinates\n",
    "targets[1,:] = np.array([340, 345, 340, 345, 340])# y coordinates\n",
    "\n",
    "target_amps = np.array([1, 1, 1, 1,1])\n",
    "\n",
    "k_array = andor_to_k(targets)\n",
    "\n",
    "target_file_name = \"ELQ_E\"\n",
    "#[_,targetname,_,_] = client.calculate_save_and_project(targets, target_amps, 20, \"C:\\\\msys64\\\\home\\\\nilab\\\\projects\\\\NaCsSLM\\\\lib\\\\Na_pattern\", target_file_name)\n",
    "client.calculate_save_and_project(k_array, target_amps, 20, \"C:\\\\msys64\\\\home\\\\nilab\\\\projects\\\\NaCsSLM\\\\lib\\\\Na_pattern\", target_file_name)"
   ]
  },
  {
   "cell_type": "markdown",
   "id": "e80106eb",
   "metadata": {},
   "source": [
    "## 6/20 - Offset 4 atom pattern"
   ]
  },
  {
   "cell_type": "code",
   "execution_count": 73,
   "id": "efc03f3a",
   "metadata": {},
   "outputs": [],
   "source": [
    "ntargets = 8\n",
    "targets = np.zeros((2, ntargets))\n",
    "targets[0,:] = np.array([970,1000,1030,1060,970,1000,1030,1060])# x coordinates\n",
    "targets[1,:] = np.array([1070,1070,1070,1070,1050,1050,1050,1050]) # y coordinates\n",
    "\n",
    "target_amps = np.array([1, 1, 1, 1,1,1,1,1])"
   ]
  },
  {
   "cell_type": "code",
   "execution_count": 74,
   "id": "f1d92748",
   "metadata": {},
   "outputs": [
    {
     "name": "stdout",
     "output_type": "stream",
     "text": [
      "20240620_142616\n",
      "20240620_142619\n",
      "20240620_142619\n",
      "20240620_142619\n"
     ]
    },
    {
     "data": {
      "text/plain": [
       "('C:\\\\msys64\\\\home\\\\nilab\\\\projects\\\\NaCsSLM\\\\lib\\\\Na_pattern\\\\20240620_1426068x1_horizontal_offset_config.yml',\n",
       " 'C:\\\\msys64\\\\home\\\\nilab\\\\projects\\\\NaCsSLM\\\\lib\\\\Na_pattern\\\\20240620_1426068x1_horizontal_offset_data.npz',\n",
       " ['ok'],\n",
       " ['ok'])"
      ]
     },
     "execution_count": 74,
     "metadata": {},
     "output_type": "execute_result"
    }
   ],
   "source": [
    "target_file_name = \"8x1_horizontal_offset\"\n",
    "#[_,targetname,_,_] = client.calculate_save_and_project(targets, target_amps, 20, \"C:\\\\msys64\\\\home\\\\nilab\\\\projects\\\\NaCsSLM\\\\lib\\\\Na_pattern\", target_file_name)\n",
    "client.calculate_save_and_project(targets, target_amps, 20, \"C:\\\\msys64\\\\home\\\\nilab\\\\projects\\\\NaCsSLM\\\\lib\\\\Na_pattern\", target_file_name)"
   ]
  },
  {
   "cell_type": "code",
   "execution_count": 204,
   "id": "ea1f6dce",
   "metadata": {},
   "outputs": [
    {
     "name": "stdout",
     "output_type": "stream",
     "text": [
      "20240625_145054\n",
      "20240625_145055\n",
      "20240625_145056\n",
      "20240625_145056\n",
      "20240625_145056\n",
      "20240625_145056\n"
     ]
    },
    {
     "data": {
      "text/plain": [
       "['ok']"
      ]
     },
     "execution_count": 204,
     "metadata": {},
     "output_type": "execute_result"
    }
   ],
   "source": [
    "#Recreate correction pattern\n",
    "client.send_reset_add_phase()\n",
    "client.send_use_aperture(np.array([500]))\n",
    "client.send_fresnel_lens(np.array([-6e5])) #seems to be good correction for Na SLM\n",
    "client.send_correction(\"C:\\\\msys64\\\\home\\\\nilab\\\\projects\\\\NaCsSLM\\\\lib\\\\Na_Correction_Patterns\\\\CAL_LSH0803972_620nm.bmp\")\n",
    "notice = client.send_zernike_poly(np.array([[2,1,3],[2,2,-25],[2,0,0]]))\n",
    "#print(notice)\n",
    "# notice = client.send_zernike_poly(np.array([[2,1,1]]))\n",
    "client.send_project()\n"
   ]
  },
  {
   "cell_type": "code",
   "execution_count": 192,
   "id": "694267d9",
   "metadata": {},
   "outputs": [
    {
     "name": "stdout",
     "output_type": "stream",
     "text": [
      "20240625_134454\n"
     ]
    },
    {
     "data": {
      "text/plain": [
       "['base: C:\\\\msys64\\\\home\\\\nilab\\\\projects\\\\NaCsSLM\\\\lib\\\\Na_pattern\\\\20240621_1803593x9_vertical_offset additional: fresnel_lens:-600000.,file_correction:C:\\\\msys64\\\\home\\\\nilab\\\\projects\\\\NaCsSLM\\\\lib\\\\Na_Correction_Patterns\\\\CAL_LSH0803972_620nm.bmp,zernike:[((2, 1), -3.0), ((2, 2), -25.0), ((2, 0), 0.0)], aperture: [500. 500.]']"
      ]
     },
     "execution_count": 192,
     "metadata": {},
     "output_type": "execute_result"
    }
   ],
   "source": [
    "client.send_get_current_phase_info()"
   ]
  },
  {
   "cell_type": "markdown",
   "id": "ce22b9f7",
   "metadata": {},
   "source": [
    "## 5/31 - 4 atom pattern"
   ]
  },
  {
   "cell_type": "code",
   "execution_count": 54,
   "id": "7f4ef06d",
   "metadata": {},
   "outputs": [],
   "source": [
    "ntargets = 4\n",
    "targets = np.zeros((2, ntargets))\n",
    "targets[0,:] = np.array([1002,1024,1046,1068])# x coordinates\n",
    "targets[1,:] = np.array([1011,1011,1011,1011]) # y coordinates\n",
    "\n",
    "target_amps = np.array([.95, 1, 1.1, 1])"
   ]
  },
  {
   "cell_type": "code",
   "execution_count": 55,
   "id": "690bcb5c",
   "metadata": {},
   "outputs": [
    {
     "name": "stdout",
     "output_type": "stream",
     "text": [
      "20240531_114406\n",
      "20240531_114408\n",
      "20240531_114408\n",
      "20240531_114409\n",
      "20240531_114428\n",
      "20240531_114430\n",
      "20240531_114430\n",
      "20240531_114431\n"
     ]
    },
    {
     "data": {
      "text/plain": [
       "('C:\\\\msys64\\\\home\\\\nilab\\\\projects\\\\NaCsSLM\\\\lib\\\\Na_pattern\\\\20240531_1144224x1_horizontal_rd3_config.yml',\n",
       " 'C:\\\\msys64\\\\home\\\\nilab\\\\projects\\\\NaCsSLM\\\\lib\\\\Na_pattern\\\\20240531_1144224x1_horizontal_rd3_data.npz',\n",
       " ['ok'],\n",
       " ['ok'])"
      ]
     },
     "execution_count": 55,
     "metadata": {},
     "output_type": "execute_result"
    }
   ],
   "source": [
    "target_file_name = \"4x1_horizontal_rd3\"\n",
    "old_guess_file_name = \"C:\\\\msys64\\\\home\\\\nilab\\\\projects\\\\NaCsSLM\\\\lib\\\\Na_pattern\\\\20240531_1139194x1_horizontal_rd2\" #initial phase guess file name, need to remove _data.npz\n",
    "[_,targetname,_,_] = client.calculate_save_and_project(targets, target_amps, 20, \"C:\\\\msys64\\\\home\\\\nilab\\\\projects\\\\NaCsSLM\\\\lib\\\\Na_pattern\", target_file_name, old_guess_file_name)\n",
    "client.calculate_save_and_project(targets, target_amps, 20, \"C:\\\\msys64\\\\home\\\\nilab\\\\projects\\\\NaCsSLM\\\\lib\\\\Na_pattern\", target_file_name)"
   ]
  },
  {
   "cell_type": "code",
   "execution_count": 62,
   "id": "85b6efe9",
   "metadata": {},
   "outputs": [
    {
     "name": "stdout",
     "output_type": "stream",
     "text": [
      "20240531_120548\n"
     ]
    },
    {
     "data": {
      "text/plain": [
       "['base: C:\\\\msys64\\\\home\\\\nilab\\\\projects\\\\NaCsSLM\\\\lib\\\\Na_pattern\\\\20240531_1144224x1_horizontal_rd3 additional: fresnel_lens:-600000.,file_correction:C:\\\\msys64\\\\home\\\\nilab\\\\projects\\\\NaCsSLM\\\\lib\\\\Na_Correction_Patterns\\\\CAL_LSH0803972_620nm.bmp,zernike:[((2, 1), -12.0), ((2, 2), 0.0), ((2, 0), 0.0)], aperture: [500. 500.]']"
      ]
     },
     "execution_count": 62,
     "metadata": {},
     "output_type": "execute_result"
    }
   ],
   "source": [
    "client.send_get_current_phase_info()"
   ]
  },
  {
   "cell_type": "code",
   "execution_count": 3,
   "id": "4069bcd0",
   "metadata": {},
   "outputs": [
    {
     "name": "stdout",
     "output_type": "stream",
     "text": [
      "20240607_102823\n",
      "20240607_102825\n",
      "20240607_102825\n",
      "20240607_102825\n",
      "20240607_102825\n",
      "20240607_102825\n"
     ]
    },
    {
     "data": {
      "text/plain": [
       "['ok']"
      ]
     },
     "execution_count": 3,
     "metadata": {},
     "output_type": "execute_result"
    }
   ],
   "source": [
    "#Recreate correction pattern\n",
    "client.send_reset_add_phase()\n",
    "client.send_use_aperture(np.array([500]))\n",
    "client.send_fresnel_lens(np.array([-6e5])) #seems to be good correction for Na SLM\n",
    "client.send_correction(\"C:\\\\msys64\\\\home\\\\nilab\\\\projects\\\\NaCsSLM\\\\lib\\\\Na_Correction_Patterns\\\\CAL_LSH0803972_620nm.bmp\")\n",
    "notice = client.send_zernike_poly(np.array([[2,1,-12],[2,2,0],[2,0,0]]))\n",
    "#print(notice)\n",
    "# notice = client.send_zernike_poly(np.array([[2,1,1]]))\n",
    "client.send_project()\n"
   ]
  },
  {
   "cell_type": "code",
   "execution_count": null,
   "id": "bfa58cab",
   "metadata": {},
   "outputs": [],
   "source": []
  },
  {
   "cell_type": "markdown",
   "id": "1dc85283",
   "metadata": {},
   "source": [
    "## Default pattern configs -- do not touch"
   ]
  },
  {
   "cell_type": "markdown",
   "id": "8f5c9d12",
   "metadata": {},
   "source": [
    "Here is the config for our standard 4 atom column. Execute the cell below when resetting the SLM server to restore the usual config."
   ]
  },
  {
   "cell_type": "code",
   "execution_count": 2,
   "id": "08870758",
   "metadata": {},
   "outputs": [
    {
     "name": "stdout",
     "output_type": "stream",
     "text": [
      "20240424_141517\n",
      "20240424_141517\n",
      "20240424_141517\n",
      "20240424_141517\n",
      "20240424_141517\n",
      "20240424_141517\n"
     ]
    },
    {
     "data": {
      "text/plain": [
       "['base: C:\\\\msys64\\\\home\\\\nilab\\\\projects\\\\NaCsSLM\\\\lib\\\\Na_pattern\\\\20240324_1732214x1 additional: file_correction:C:\\\\msys64\\\\home\\\\nilab\\\\projects\\\\NaCsSLM\\\\lib\\\\Na_Correction_Patterns\\\\CAL_LSH0803972_620nm.bmp,fresnel_lens:-600000.,zernike:[((2, 1), -15.0), ((2, 2), -5.0), ((2, 0), 10.0)],']"
      ]
     },
     "execution_count": 2,
     "metadata": {},
     "output_type": "execute_result"
    }
   ],
   "source": [
    "client.load_config(\"C:\\\\msys64\\\\home\\\\Simulation Computer\\\\projects\\\\NaCsSLM\\\\lib\\\\Na_config\\\\20200402_1x4vertical.yml\")\n",
    "client.send_project()\n",
    "client.send_get_current_phase_info()"
   ]
  },
  {
   "cell_type": "markdown",
   "id": "38dec246",
   "metadata": {},
   "source": [
    "Use the next one to reset the pattern and additional phase and project."
   ]
  },
  {
   "cell_type": "code",
   "execution_count": 3,
   "id": "f4a6e0b5",
   "metadata": {},
   "outputs": [
    {
     "name": "stdout",
     "output_type": "stream",
     "text": [
      "20240517_102212\n",
      "20240517_102212\n",
      "20240517_102212\n"
     ]
    },
    {
     "data": {
      "text/plain": [
       "['ok']"
      ]
     },
     "execution_count": 3,
     "metadata": {},
     "output_type": "execute_result"
    }
   ],
   "source": [
    "client.send_reset_add_phase()\n",
    "client.send_reset_pattern()\n",
    "client.send_project()"
   ]
  },
  {
   "cell_type": "markdown",
   "id": "51cc8e02",
   "metadata": {},
   "source": [
    "Here is the config for our 4 atom row. Execute the cell below for this."
   ]
  },
  {
   "cell_type": "code",
   "execution_count": 59,
   "id": "b919d77b",
   "metadata": {},
   "outputs": [
    {
     "name": "stdout",
     "output_type": "stream",
     "text": [
      "20240517_145202\n",
      "20240517_145202\n",
      "20240517_145202\n",
      "20240517_145203\n",
      "20240517_145203\n",
      "20240517_145203\n"
     ]
    },
    {
     "data": {
      "text/plain": [
       "['base: C:\\\\msys64\\\\home\\\\nilab\\\\projects\\\\NaCsSLM\\\\lib\\\\Na_pattern\\\\20240402_1456194x1_vertical additional: file_correction:C:\\\\msys64\\\\home\\\\nilab\\\\projects\\\\NaCsSLM\\\\lib\\\\Na_Correction_Patterns\\\\CAL_LSH0803972_620nm.bmp,fresnel_lens:-600000.,zernike:[((2, 1), -35.0), ((2, 2), -50.0), ((2, 0), 10.0)],file_correction:C:\\\\msys64\\\\home\\\\nilab\\\\projects\\\\NaCsSLM\\\\lib\\\\Na_Correction_Patterns\\\\CAL_LSH0803972_620nm.bmp,fresnel_lens:-600000.,zernike:[((2, 1), -15.0), ((2, 2), -5.0), ((2, 0), 10.0)], aperture: None']"
      ]
     },
     "execution_count": 59,
     "metadata": {},
     "output_type": "execute_result"
    }
   ],
   "source": [
    "client.load_config(\"C:\\\\msys64\\\\home\\\\Simulation Computer\\\\projects\\\\NaCsSLM\\\\lib\\\\Na_config\\\\20200402_1x4horizontal.yml\")\n",
    "client.send_project()\n",
    "client.send_get_current_phase_info()"
   ]
  },
  {
   "cell_type": "code",
   "execution_count": 57,
   "id": "fbef5e36",
   "metadata": {},
   "outputs": [
    {
     "name": "stdout",
     "output_type": "stream",
     "text": [
      "20240517_144350\n",
      "20240517_144350\n"
     ]
    },
    {
     "data": {
      "text/plain": [
       "['ok']"
      ]
     },
     "execution_count": 57,
     "metadata": {},
     "output_type": "execute_result"
    }
   ],
   "source": [
    "client.send_reset_pattern()\n",
    "client.send_project()"
   ]
  },
  {
   "cell_type": "code",
   "execution_count": 79,
   "id": "3308d46c",
   "metadata": {},
   "outputs": [
    {
     "name": "stdout",
     "output_type": "stream",
     "text": [
      "20240507_172639\n",
      "20240507_172639\n",
      "20240507_172639\n",
      "20240507_172640\n",
      "20240507_172640\n",
      "20240507_172640\n"
     ]
    },
    {
     "data": {
      "text/plain": [
       "['base: C:\\\\msys64\\\\home\\\\nilab\\\\projects\\\\NaCsSLM\\\\lib\\\\Na_pattern\\\\20240426_1939034x1_horizontal_test_rd3 additional: file_correction:C:\\\\msys64\\\\home\\\\nilab\\\\projects\\\\NaCsSLM\\\\lib\\\\Na_Correction_Patterns\\\\CAL_LSH0803972_620nm.bmp,fresnel_lens:-600000.,zernike:[((2, 1), -15.0), ((2, 2), -5.0), ((2, 0), 10.0)],']"
      ]
     },
     "execution_count": 79,
     "metadata": {},
     "output_type": "execute_result"
    }
   ],
   "source": [
    "client.load_config(\"C:\\\\msys64\\\\home\\\\Simulation Computer\\\\projects\\\\NaCsSLM\\\\lib\\\\Na_config\\\\20200429_1x4horizontal.yml\")\n",
    "client.send_project()\n",
    "client.send_get_current_phase_info()"
   ]
  },
  {
   "cell_type": "code",
   "execution_count": 72,
   "id": "65e5148b",
   "metadata": {},
   "outputs": [
    {
     "name": "stdout",
     "output_type": "stream",
     "text": [
      "20240718_192212\n"
     ]
    },
    {
     "data": {
      "text/plain": [
       "['base: C:\\\\msys64\\\\home\\\\nilab\\\\projects\\\\NaCsSLM\\\\lib\\\\Na_pattern\\\\20240426_1714154x1_horizontal_test additional: file_correction:C:\\\\msys64\\\\home\\\\nilab\\\\projects\\\\NaCsSLM\\\\lib\\\\Na_Correction_Patterns\\\\CAL_LSH0803972_620nm.bmp,fresnel_lens:-600000.,zernike:[((2, 1), -15.0), ((2, 2), -5.0), ((2, 0), 10.0)], aperture: [500. 500.]']"
      ]
     },
     "execution_count": 72,
     "metadata": {},
     "output_type": "execute_result"
    }
   ],
   "source": [
    "# 3_18 \n",
    "#client.load_config(\"C:\\\\msys64\\\\home\\\\Simulation Computer\\\\projects\\\\NaCsSLM\\\\lib\\\\Na_config\\\\20200220_1x3_large_spacing_Andor20_2.yml\")\n",
    "client.send_get_current_phase_info()"
   ]
  },
  {
   "cell_type": "code",
   "execution_count": 2,
   "id": "f08434f8",
   "metadata": {},
   "outputs": [
    {
     "name": "stdout",
     "output_type": "stream",
     "text": [
      "Error in client function: Operation cannot be accomplished in current state\n"
     ]
    }
   ],
   "source": [
    "client.send_project()\n",
    "\n",
    "\n"
   ]
  },
  {
   "cell_type": "code",
   "execution_count": 43,
   "id": "97a81085",
   "metadata": {},
   "outputs": [
    {
     "name": "stdout",
     "output_type": "stream",
     "text": [
      "20240411_095358\n",
      "20240411_095358\n",
      "20240411_095358\n"
     ]
    },
    {
     "data": {
      "text/plain": [
       "['ok']"
      ]
     },
     "execution_count": 43,
     "metadata": {},
     "output_type": "execute_result"
    }
   ],
   "source": [
    "client.send_reset_add_phase()\n",
    "client.send_reset_pattern()\n",
    "client.send_project()"
   ]
  },
  {
   "cell_type": "code",
   "execution_count": 80,
   "id": "44687e7d",
   "metadata": {},
   "outputs": [
    {
     "name": "stdout",
     "output_type": "stream",
     "text": [
      "20241211_172424\n",
      "20241211_172424\n",
      "20241211_172424\n"
     ]
    },
    {
     "data": {
      "text/plain": [
       "['ok']"
      ]
     },
     "execution_count": 80,
     "metadata": {},
     "output_type": "execute_result"
    }
   ],
   "source": [
    "client.load_and_project(\"C:\\\\msys64\\\\home\\\\nilab\\\\projects\\\\NaCsSLM\\\\lib\\\\Na_pattern\\\\20241210_13525510x1_Na_1pxshift_top5\")\n",
    "client.send_project()"
   ]
  },
  {
   "cell_type": "code",
   "execution_count": 62,
   "id": "d98c161c",
   "metadata": {},
   "outputs": [
    {
     "name": "stdout",
     "output_type": "stream",
     "text": [
      "Error in client function: Operation cannot be accomplished in current state\n"
     ]
    }
   ],
   "source": [
    "client.send_offset(np.array([-1,0]))"
   ]
  },
  {
   "cell_type": "code",
   "execution_count": 61,
   "id": "6b80fd2c",
   "metadata": {},
   "outputs": [
    {
     "name": "stdout",
     "output_type": "stream",
     "text": [
      "20240319_222316\n"
     ]
    },
    {
     "data": {
      "text/plain": [
       "[None]"
      ]
     },
     "execution_count": 61,
     "metadata": {},
     "output_type": "execute_result"
    }
   ],
   "source": [
    "client.send_project()"
   ]
  },
  {
   "cell_type": "code",
   "execution_count": 358,
   "id": "984ad77b",
   "metadata": {},
   "outputs": [
    {
     "name": "stdout",
     "output_type": "stream",
     "text": [
      "20240527_172847\n",
      "20240527_172847\n",
      "20240527_172847\n",
      "20240527_172847\n"
     ]
    },
    {
     "data": {
      "text/plain": [
       "['ok']"
      ]
     },
     "execution_count": 358,
     "metadata": {},
     "output_type": "execute_result"
    }
   ],
   "source": []
  },
  {
   "cell_type": "markdown",
   "id": "67b58f41",
   "metadata": {},
   "source": [
    "# General feedback recipe"
   ]
  },
  {
   "cell_type": "markdown",
   "id": "4471bfc1",
   "metadata": {},
   "source": [
    "$\\textbf{Step 0}$: Populate the server_config yml file on the SLM computer and make sure it has the correct scan name and number of sequences."
   ]
  },
  {
   "cell_type": "markdown",
   "id": "bbfde3bd",
   "metadata": {},
   "source": [
    "$\\textbf{Step 1a}$: Initiate the feedback server on the tweezer computer (i.e. start the notebook titled feedback_server)."
   ]
  },
  {
   "cell_type": "markdown",
   "id": "af73d1d8",
   "metadata": {},
   "source": [
    "$\\textbf{Step 1b}$: Initiate the SLM server on the SLM computer."
   ]
  },
  {
   "cell_type": "markdown",
   "id": "7c4a4c02",
   "metadata": {},
   "source": [
    "$\\textbf{Step 2}$: Load the SLM hologram object: "
   ]
  },
  {
   "cell_type": "code",
   "execution_count": 78,
   "id": "1db6e99e",
   "metadata": {},
   "outputs": [
    {
     "name": "stdout",
     "output_type": "stream",
     "text": [
      "20240430_103449\n",
      "20240430_103449\n",
      "20240430_103449\n",
      "20240430_103449\n",
      "20240430_103449\n",
      "20240430_103450\n",
      "20240430_103450\n",
      "20240430_103450\n"
     ]
    },
    {
     "data": {
      "text/plain": [
       "['ok']"
      ]
     },
     "execution_count": 78,
     "metadata": {},
     "output_type": "execute_result"
    }
   ],
   "source": [
    "config_file_name = '20200429_1x4horizontal'\n",
    "target_file_name = '20240426_1939034x1_horizontal_test_rd3'\n",
    "\n",
    "#Clear any Zernikes there already\n",
    "client.send_reset_add_phase()\n",
    "client.send_project()\n",
    "\n",
    "#First actually load config file: Zernikes, pattern, etc., and send it to screen\n",
    "client.load_config(\"C:\\\\msys64\\\\home\\\\Simulation Computer\\\\projects\\\\NaCsSLM\\\\lib\\\\Na_config\\\\\" + config_file_name + \".yml\")\n",
    "client.send_project()\n",
    "\n",
    "#Now load the corresponding hologram object\n",
    "client.send_init_hologram(\"C:\\\\msys64\\\\home\\\\nilab\\\\projects\\\\NaCsSLM\\\\lib\\\\Na_pattern\\\\\" + target_file_name)"
   ]
  },
  {
   "cell_type": "markdown",
   "id": "03419791",
   "metadata": {},
   "source": [
    "$\\textbf{Step 3}$: Establish MATLAB communication to the feedback server by running AndorServer.get([path to communication yml]) in the active MATLAB instance."
   ]
  },
  {
   "cell_type": "markdown",
   "id": "4ce49cbd",
   "metadata": {},
   "source": [
    "$\\textbf{Step 4}$: Run send_perform_scan_feedback from the client python:"
   ]
  },
  {
   "cell_type": "code",
   "execution_count": 77,
   "id": "29344f0a",
   "metadata": {},
   "outputs": [
    {
     "name": "stdout",
     "output_type": "stream",
     "text": [
      "20240430_015659\n"
     ]
    },
    {
     "data": {
      "text/plain": [
       "['ok']"
      ]
     },
     "execution_count": 77,
     "metadata": {},
     "output_type": "execute_result"
    }
   ],
   "source": [
    "feedback_iterations = 5\n",
    "num_seqs = 1500\n",
    "client.send_perform_scan_feedback(feedback_iterations, num_seqs)"
   ]
  },
  {
   "cell_type": "markdown",
   "id": "9b6ad155",
   "metadata": {},
   "source": [
    "$\\textbf{Step 5}$: Run serv.handle_msg() in the active MATLAB instance to get the MATLAB going. "
   ]
  },
  {
   "cell_type": "markdown",
   "id": "6858afe0",
   "metadata": {},
   "source": [
    "# Feedback via WGS target"
   ]
  },
  {
   "cell_type": "markdown",
   "id": "13ae899c",
   "metadata": {},
   "source": [
    "Here we attempt to feed back on trap intensities by just asking WGS for a different target distribution. See notebook for 4/30 for details. We note that the site numbers are flipped here, so the order to be specified in target amplitudes is site 4-site 1. "
   ]
  },
  {
   "cell_type": "code",
   "execution_count": 161,
   "id": "02ef58a7",
   "metadata": {},
   "outputs": [],
   "source": [
    "ntargets = 1\n",
    "targets = np.zeros((2, ntargets))\n",
    "# targets[0,:] = np.array([1002,1024,1046,1068])# x coordinates\n",
    "# targets[1,:] = np.array([1011,1011,1011,1011]) # y coordinates\n",
    "\n",
    "targets[0,:] = np.array([1074])\n",
    "targets[1,:] = np.array([976])\n",
    "\n",
    "# target_amps = np.array([[0.48, 0.43, 0.53,0.59]])\n",
    "target_amps = np.array([1])"
   ]
  },
  {
   "cell_type": "code",
   "execution_count": 162,
   "id": "89f5f864",
   "metadata": {},
   "outputs": [
    {
     "name": "stdout",
     "output_type": "stream",
     "text": [
      "20240523_184451\n",
      "20240523_184453\n",
      "20240523_184453\n",
      "20240523_184453\n"
     ]
    },
    {
     "data": {
      "text/plain": [
       "('C:\\\\msys64\\\\home\\\\nilab\\\\projects\\\\NaCsSLM\\\\lib\\\\Na_pattern\\\\20240523_1844511074_976_config.yml',\n",
       " 'C:\\\\msys64\\\\home\\\\nilab\\\\projects\\\\NaCsSLM\\\\lib\\\\Na_pattern\\\\20240523_1844511074_976_data.npz',\n",
       " ['ok'],\n",
       " ['ok'])"
      ]
     },
     "execution_count": 162,
     "metadata": {},
     "output_type": "execute_result"
    }
   ],
   "source": [
    "target_file_name = \"1074_976\"#\"4x1_horizontal_test_rd4\"\n",
    "client.calculate_save_and_project(targets, target_amps, 20, \"C:\\\\msys64\\\\home\\\\nilab\\\\projects\\\\NaCsSLM\\\\lib\\\\Na_pattern\", target_file_name)\n"
   ]
  },
  {
   "cell_type": "markdown",
   "id": "9fb2baad",
   "metadata": {},
   "source": [
    "First we assume the Zernikes are all the same. To reload them I created a config file identical to the last one but just changed the pattern file."
   ]
  },
  {
   "cell_type": "code",
   "execution_count": 64,
   "id": "4ca03806",
   "metadata": {},
   "outputs": [
    {
     "name": "stdout",
     "output_type": "stream",
     "text": [
      "20240718_153154\n",
      "20240718_153155\n",
      "20240718_153155\n",
      "20240718_153155\n",
      "20240718_153155\n",
      "20240718_153155\n",
      "20240718_153155\n"
     ]
    },
    {
     "data": {
      "text/plain": [
       "['ok']"
      ]
     },
     "execution_count": 64,
     "metadata": {},
     "output_type": "execute_result"
    }
   ],
   "source": [
    "config_file_name = '20200429_1x4horizontal_rd6'\n",
    "\n",
    "#Clear any Zernikes there already\n",
    "client.send_reset_add_phase()\n",
    "client.send_project()\n",
    "\n",
    "#First actually load config file: Zernikes, pattern, etc., and send it to screen\n",
    "client.load_config(\"C:\\\\experiment-control\\\\matlab_new\\\\NaCsSLM\\\\lib\\\\Na_config\\\\\" + config_file_name + \".yml\")\n",
    "client.send_project()"
   ]
  },
  {
   "cell_type": "markdown",
   "id": "44ba6641",
   "metadata": {},
   "source": [
    "Next round:"
   ]
  },
  {
   "cell_type": "code",
   "execution_count": 86,
   "id": "64d3954d",
   "metadata": {},
   "outputs": [],
   "source": [
    "ntargets = 4\n",
    "targets = np.zeros((2, ntargets))\n",
    "targets[0,:] = np.array([1002,1024,1046,1068])# x coordinates\n",
    "targets[1,:] = np.array([1011,1011,1011,1011]) # y coordinates\n",
    "\n",
    "target_amps = np.array([[1, 1, 1, 1]])"
   ]
  },
  {
   "cell_type": "code",
   "execution_count": 87,
   "id": "72d8476f",
   "metadata": {},
   "outputs": [
    {
     "name": "stdout",
     "output_type": "stream",
     "text": [
      "20240430_113425\n",
      "20240430_113428\n",
      "20240430_113428\n",
      "20240430_113428\n"
     ]
    },
    {
     "data": {
      "text/plain": [
       "('C:\\\\msys64\\\\home\\\\nilab\\\\projects\\\\NaCsSLM\\\\lib\\\\Na_pattern\\\\20240430_1133434x1_horizontal_test_rd6_config.yml',\n",
       " 'C:\\\\msys64\\\\home\\\\nilab\\\\projects\\\\NaCsSLM\\\\lib\\\\Na_pattern\\\\20240430_1133434x1_horizontal_test_rd6_data.npz',\n",
       " ['ok'],\n",
       " ['ok'])"
      ]
     },
     "execution_count": 87,
     "metadata": {},
     "output_type": "execute_result"
    }
   ],
   "source": [
    "target_file_name = \"4x1_horizontal_test_rd6\"\n",
    "client.calculate_save_and_project(targets, target_amps, 20, \"C:\\\\msys64\\\\home\\\\nilab\\\\projects\\\\NaCsSLM\\\\lib\\\\Na_pattern\", target_file_name)\n"
   ]
  },
  {
   "cell_type": "code",
   "execution_count": 6,
   "id": "e5715b83",
   "metadata": {},
   "outputs": [
    {
     "name": "stdout",
     "output_type": "stream",
     "text": [
      "20240530_174346\n",
      "20240530_174346\n"
     ]
    },
    {
     "data": {
      "text/plain": [
       "['ok']"
      ]
     },
     "execution_count": 6,
     "metadata": {},
     "output_type": "execute_result"
    }
   ],
   "source": [
    "client.send_use_aperture(np.array([500]))\n",
    "client.send_project()"
   ]
  },
  {
   "cell_type": "code",
   "execution_count": 41,
   "id": "47cbcb88",
   "metadata": {},
   "outputs": [
    {
     "name": "stdout",
     "output_type": "stream",
     "text": [
      "20240522_132744\n",
      "20240522_132744\n",
      "20240522_132745\n",
      "20240522_132745\n",
      "20240522_132745\n",
      "20240522_132745\n",
      "20240522_132745\n"
     ]
    },
    {
     "data": {
      "text/plain": [
       "['ok']"
      ]
     },
     "execution_count": 41,
     "metadata": {},
     "output_type": "execute_result"
    }
   ],
   "source": [
    "config_file_name = '20240718_uniformzigzag.yml'\n",
    "\n",
    "#Clear any Zernikes there already\n",
    "client.send_reset_add_phase()\n",
    "client.send_project()\n",
    "\n",
    "#First actually load config file: Zernikes, pattern, etc., and send it to screen\n",
    "client.load_config(\"C:\\\\experiment-control\\\\matlab_new\\\\NaCsSLM\\\\lib\\\\Na_config\\\\\" + config_file_name + \".yml\")\n",
    "client.send_project()"
   ]
  },
  {
   "cell_type": "markdown",
   "id": "5971dfd5",
   "metadata": {},
   "source": [
    "This regenerated array is pretty uniform. Let's now try to feed back on the Zernikes and monitor the average light shift, to see if we can maximize it."
   ]
  },
  {
   "cell_type": "code",
   "execution_count": 71,
   "id": "1d56ab52",
   "metadata": {},
   "outputs": [
    {
     "ename": "AttributeError",
     "evalue": "'Client' object has no attribute 'get_current_info'",
     "output_type": "error",
     "traceback": [
      "\u001b[1;31m---------------------------------------------------------------------------\u001b[0m",
      "\u001b[1;31mAttributeError\u001b[0m                            Traceback (most recent call last)",
      "\u001b[1;32mC:\\Users\\Simulation Computer\\AppData\\Local\\Temp\\ipykernel_21108\\3368436151.py\u001b[0m in \u001b[0;36m<module>\u001b[1;34m\u001b[0m\n\u001b[0;32m      1\u001b[0m \u001b[1;31m#Initial corrections\u001b[0m\u001b[1;33m\u001b[0m\u001b[1;33m\u001b[0m\u001b[1;33m\u001b[0m\u001b[0m\n\u001b[1;32m----> 2\u001b[1;33m \u001b[0mclient\u001b[0m\u001b[1;33m.\u001b[0m\u001b[0mget_current_info\u001b[0m\u001b[1;33m(\u001b[0m\u001b[1;33m)\u001b[0m\u001b[1;33m\u001b[0m\u001b[1;33m\u001b[0m\u001b[0m\n\u001b[0m",
      "\u001b[1;31mAttributeError\u001b[0m: 'Client' object has no attribute 'get_current_info'"
     ]
    }
   ],
   "source": [
    "#Initial corrections\n",
    "client.get_current_info()"
   ]
  },
  {
   "cell_type": "code",
   "execution_count": 6,
   "id": "055845c9",
   "metadata": {},
   "outputs": [
    {
     "name": "stdout",
     "output_type": "stream",
     "text": [
      "20240521_190257\n",
      "20240521_190257\n",
      "20240521_190257\n",
      "20240521_190257\n",
      "20240521_190257\n"
     ]
    },
    {
     "data": {
      "text/plain": [
       "['ok']"
      ]
     },
     "execution_count": 6,
     "metadata": {},
     "output_type": "execute_result"
    }
   ],
   "source": [
    "#Recreate correction pattern\n",
    "client.send_reset_add_phase()\n",
    "client.send_fresnel_lens(np.array([-6e5])) #seems to be good correction for Na SLM\n",
    "client.send_correction(\"C:\\\\msys64\\\\home\\\\nilab\\\\projects\\\\NaCsSLM\\\\lib\\\\Na_Correction_Patterns\\\\CAL_LSH0803972_620nm.bmp\")\n",
    "notice = client.send_zernike_poly(np.array([[2,1,-15],[2,2,-5],[2,0,10]]))\n",
    "#print(notice)\n",
    "# notice = client.send_zernike_poly(np.array([[2,1,1]]))\n",
    "client.send_project()\n"
   ]
  },
  {
   "cell_type": "code",
   "execution_count": 154,
   "id": "5a33e67e",
   "metadata": {},
   "outputs": [
    {
     "name": "stdout",
     "output_type": "stream",
     "text": [
      "20240523_182720\n",
      "20240523_182720\n",
      "20240523_182720\n",
      "20240523_182720\n",
      "20240523_182720\n"
     ]
    },
    {
     "data": {
      "text/plain": [
       "['ok']"
      ]
     },
     "execution_count": 154,
     "metadata": {},
     "output_type": "execute_result"
    }
   ],
   "source": [
    "#Recreate correction pattern\n",
    "client.send_reset_add_phase()\n",
    "client.send_fresnel_lens(np.array([-6e5])) #seems to be good correction for Na SLM\n",
    "client.send_correction(\"C:\\\\msys64\\\\home\\\\nilab\\\\projects\\\\NaCsSLM\\\\lib\\\\Na_Correction_Patterns\\\\CAL_LSH0803972_620nm.bmp\")\n",
    "notice = client.send_zernike_poly(np.array([[2,1,0]]))\n",
    "#print(notice)\n",
    "# notice = client.send_zernike_poly(np.array([[2,1,1]]))\n",
    "client.send_project()"
   ]
  },
  {
   "cell_type": "markdown",
   "id": "56766072",
   "metadata": {},
   "source": [
    "# Feedback with old phase guess\n",
    "The idea is to import an initial phase guess for WGS. This way our feedback on target amplitudes will begin from the old configuration and should be repeatable. "
   ]
  },
  {
   "cell_type": "code",
   "execution_count": 31,
   "id": "ed9eb8a2",
   "metadata": {},
   "outputs": [],
   "source": [
    "ntargets = 4\n",
    "targets = np.zeros((2, ntargets))\n",
    "targets[0,:] = np.array([1002,1024,1046,1068])# x coordinates\n",
    "targets[1,:] = np.array([1011,1011,1011,1011]) # y coordinates\n",
    "# targets[0,:] = np.array([1002,1024,1046,1100])# x coordinates\n",
    "# targets[1,:] = np.array([1011,1011,1011,950]) # y coordinates\n",
    "\n",
    "#target_amps = np.array([[0.49, 0.48, 0.5,0.53]])\n",
    "target_amps = np.array([[0.5, 0.5, 0.5, 0.5]])"
   ]
  },
  {
   "cell_type": "code",
   "execution_count": 32,
   "id": "0313bab8",
   "metadata": {},
   "outputs": [
    {
     "name": "stdout",
     "output_type": "stream",
     "text": [
      "20240528_113337\n",
      "20240528_113339\n",
      "20240528_113339\n",
      "20240528_113339\n",
      "This phase guess will be stored at C:\\msys64\\home\\nilab\\projects\\NaCsSLM\\lib\\Na_pattern\\20240528_113332normal_1x4hori_data.npz\n"
     ]
    }
   ],
   "source": [
    "target_file_name = \"normal_1x4hori\" #where to save new pattern\n",
    "old_guess_file_name = \"\"#\"C:\\\\msys64\\\\home\\\\nilab\\\\projects\\\\NaCsSLM\\\\lib\\\\Na_pattern\\\\20240501_1351394x1_horizontal_test_iteration5\" #initial phase guess file name, need to remove _data.npz\n",
    "[_,targetname,_,_] = client.calculate_save_and_project(targets, target_amps, 20, \"C:\\\\msys64\\\\home\\\\nilab\\\\projects\\\\NaCsSLM\\\\lib\\\\Na_pattern\", target_file_name, old_guess_file_name)\n",
    "print('This phase guess will be stored at %s' % targetname)\n",
    "#lient.calculate_save_and_project(targets, target_amps, 20, \"C:\\\\msys64\\\\home\\\\nilab\\\\projects\\\\NaCsSLM\\\\lib\\\\Na_pattern\", target_file_name, old_guess_file_name)"
   ]
  },
  {
   "cell_type": "code",
   "execution_count": 141,
   "id": "41ee5e5e",
   "metadata": {},
   "outputs": [
    {
     "name": "stdout",
     "output_type": "stream",
     "text": [
      "20240522_184716\n",
      "20240522_184716\n",
      "20240522_184716\n",
      "20240522_184717\n",
      "20240522_184717\n",
      "20240522_184717\n"
     ]
    },
    {
     "data": {
      "text/plain": [
       "['base: C:\\\\msys64\\\\home\\\\nilab\\\\projects\\\\NaCsSLM\\\\lib\\\\Na_pattern\\\\20240426_1714154x1_horizontal_test additional: fresnel_lens:-600000.,file_correction:C:\\\\msys64\\\\home\\\\nilab\\\\projects\\\\NaCsSLM\\\\lib\\\\Na_Correction_Patterns\\\\CAL_LSH0803972_620nm.bmp,zernike:[((2, 0), 10.0), ((2, 2), -50.0), ((2, 1), -15.0), ((3, 2), -5.0), ((3, 1), 3.0)], aperture: None']"
      ]
     },
     "execution_count": 141,
     "metadata": {},
     "output_type": "execute_result"
    }
   ],
   "source": [
    "#Recreate correction pattern\n",
    "client.send_reset_add_phase()\n",
    "client.send_fresnel_lens(np.array([-6e5])) #seems to be good correction for Na SLM\n",
    "client.send_correction(\"C:\\\\msys64\\\\home\\\\nilab\\\\projects\\\\NaCsSLM\\\\lib\\\\Na_Correction_Patterns\\\\CAL_LSH0803972_620nm.bmp\")\n",
    "notice = client.send_zernike_poly(np.array([[2,0,10],[2,2,-50],[2,1,-15],[3,2,-5],[3,1,3]]))\n",
    "#print(notice)\n",
    "# notice = client.send_zernike_poly(np.array([[2,1,1]]))\n",
    "client.send_project()\n",
    "client.send_get_current_phase_info()\n"
   ]
  },
  {
   "cell_type": "markdown",
   "id": "7f6d2fa7",
   "metadata": {},
   "source": [
    "# Correction Pattern \n",
    "## generation and project"
   ]
  },
  {
   "cell_type": "code",
   "execution_count": 176,
   "id": "e45e510f",
   "metadata": {},
   "outputs": [
    {
     "name": "stdout",
     "output_type": "stream",
     "text": [
      "20240523_192042\n",
      "20240523_192042\n",
      "20240523_192042\n",
      "20240523_192042\n",
      "20240523_192042\n"
     ]
    },
    {
     "data": {
      "text/plain": [
       "['ok']"
      ]
     },
     "execution_count": 176,
     "metadata": {},
     "output_type": "execute_result"
    }
   ],
   "source": [
    "client.send_reset_add_phase()\n",
    "client.send_correction(\"C:\\\\msys64\\\\home\\\\nilab\\\\projects\\\\NaCsSLM\\\\lib\\\\Na_Correction_Patterns\\\\CAL_LSH0803972_620nm.bmp\")\n",
    "client.send_fresnel_lens(np.array([-6.0e5]))\n",
    "#notice = client.send_zernike_poly(np.array([[2,2,-20],[2,1,5]]))\n",
    "#notice = client.send_zernike_poly(np.array([[2,2,-5],[2,1,-10], [2,0,10]]))\n",
    "# notice = client.send_zernike_poly(np.array([[2,2,-5],[2,1,-15], [2,0,10]]))\n",
    "notice = client.send_zernike_poly(np.array([[2,2,0],[2,1,-12], [2,0,0]]))\n",
    "# notice = client.send_zernike_poly(np.array([[2,2,-50],[2,0,20],[3,2,0],[3,1,0]]))\n",
    "client.send_project()"
   ]
  },
  {
   "cell_type": "code",
   "execution_count": 177,
   "id": "a21ca9b7",
   "metadata": {},
   "outputs": [
    {
     "name": "stdout",
     "output_type": "stream",
     "text": [
      "20240524_134906\n"
     ]
    },
    {
     "data": {
      "text/plain": [
       "['base: C:\\\\msys64\\\\home\\\\nilab\\\\projects\\\\NaCsSLM\\\\lib\\\\Na_pattern\\\\20240523_1844511074_976 additional: file_correction:C:\\\\msys64\\\\home\\\\nilab\\\\projects\\\\NaCsSLM\\\\lib\\\\Na_Correction_Patterns\\\\CAL_LSH0803972_620nm.bmp,fresnel_lens:-600000.,zernike:[((2, 2), 0.0), ((2, 1), -12.0), ((2, 0), 0.0)], aperture: [10000. 10000.]']"
      ]
     },
     "execution_count": 177,
     "metadata": {},
     "output_type": "execute_result"
    }
   ],
   "source": [
    "client.send_get_current_phase_info()"
   ]
  },
  {
   "cell_type": "code",
   "execution_count": 4,
   "id": "23eff241",
   "metadata": {},
   "outputs": [
    {
     "ename": "AttributeError",
     "evalue": "'Client' object has no attribute 'get_spot_amps'",
     "output_type": "error",
     "traceback": [
      "\u001b[1;31m---------------------------------------------------------------------------\u001b[0m",
      "\u001b[1;31mAttributeError\u001b[0m                            Traceback (most recent call last)",
      "\u001b[1;32mC:\\Users\\Simulation Computer\\AppData\\Local\\Temp\\ipykernel_40820\\3884974193.py\u001b[0m in \u001b[0;36m<module>\u001b[1;34m\u001b[0m\n\u001b[1;32m----> 1\u001b[1;33m \u001b[0mclient\u001b[0m\u001b[1;33m.\u001b[0m\u001b[0mget_spot_amps\u001b[0m\u001b[1;33m(\u001b[0m\u001b[1;33m)\u001b[0m\u001b[1;33m\u001b[0m\u001b[1;33m\u001b[0m\u001b[0m\n\u001b[0m",
      "\u001b[1;31mAttributeError\u001b[0m: 'Client' object has no attribute 'get_spot_amps'"
     ]
    }
   ],
   "source": []
  },
  {
   "cell_type": "markdown",
   "id": "4b903bf1",
   "metadata": {},
   "source": [
    "## reset"
   ]
  },
  {
   "cell_type": "code",
   "execution_count": 35,
   "id": "7c4ae12a",
   "metadata": {},
   "outputs": [
    {
     "name": "stdout",
     "output_type": "stream",
     "text": [
      "20240228_175344\n",
      "20240228_175344\n"
     ]
    },
    {
     "data": {
      "text/plain": [
       "['ok']"
      ]
     },
     "execution_count": 35,
     "metadata": {},
     "output_type": "execute_result"
    }
   ],
   "source": [
    "client.send_reset_add_phase()\n",
    "client.send_project()"
   ]
  },
  {
   "cell_type": "markdown",
   "id": "4a5ac260",
   "metadata": {},
   "source": [
    "# Calibration"
   ]
  },
  {
   "cell_type": "code",
   "execution_count": 1,
   "id": "1416542f",
   "metadata": {},
   "outputs": [
    {
     "ename": "NameError",
     "evalue": "name 'client' is not defined",
     "output_type": "error",
     "traceback": [
      "\u001b[1;31m---------------------------------------------------------------------------\u001b[0m",
      "\u001b[1;31mNameError\u001b[0m                                 Traceback (most recent call last)",
      "\u001b[1;32mC:\\Users\\Simulation Computer\\AppData\\Local\\Temp\\ipykernel_23756\\2344036315.py\u001b[0m in \u001b[0;36m<module>\u001b[1;34m\u001b[0m\n\u001b[1;32m----> 1\u001b[1;33m \u001b[0mclient\u001b[0m\u001b[1;33m.\u001b[0m\u001b[0msend_reset_add_phase\u001b[0m\u001b[1;33m(\u001b[0m\u001b[1;33m)\u001b[0m\u001b[1;33m\u001b[0m\u001b[1;33m\u001b[0m\u001b[0m\n\u001b[0m\u001b[0;32m      2\u001b[0m \u001b[0mclient\u001b[0m\u001b[1;33m.\u001b[0m\u001b[0mload_config\u001b[0m\u001b[1;33m(\u001b[0m\u001b[1;34m\"C:\\\\experiment-control\\\\matlab_new\\\\NaCsSLM\\\\lib\\\\Na_config\\\\20241007_uniformzigzag_todozernike.yml\"\u001b[0m\u001b[1;33m)\u001b[0m\u001b[1;33m\u001b[0m\u001b[1;33m\u001b[0m\u001b[0m\n\u001b[0;32m      3\u001b[0m \u001b[0mclient\u001b[0m\u001b[1;33m.\u001b[0m\u001b[0msend_project\u001b[0m\u001b[1;33m(\u001b[0m\u001b[1;33m)\u001b[0m\u001b[1;33m\u001b[0m\u001b[1;33m\u001b[0m\u001b[0m\n",
      "\u001b[1;31mNameError\u001b[0m: name 'client' is not defined"
     ]
    }
   ],
   "source": [
    "client.send_reset_add_phase()\n",
    "client.load_config(\"C:\\\\experiment-control\\\\matlab_new\\\\NaCsSLM\\\\lib\\\\Na_config\\\\20241007_uniformzigzag_todozernike.yml\")\n",
    "client.send_project()"
   ]
  },
  {
   "cell_type": "code",
   "execution_count": 150,
   "id": "065de487",
   "metadata": {},
   "outputs": [
    {
     "name": "stdout",
     "output_type": "stream",
     "text": [
      "20240216_142954\n"
     ]
    },
    {
     "data": {
      "text/plain": [
       "['ok']"
      ]
     },
     "execution_count": 150,
     "metadata": {},
     "output_type": "execute_result"
    }
   ],
   "source": [
    "# start a new calibration\n",
    "client.send_perform_fourier_calibration(np.array([6,5]), np.array([25,25]))"
   ]
  },
  {
   "cell_type": "code",
   "execution_count": 153,
   "id": "0c746eae",
   "metadata": {},
   "outputs": [
    {
     "name": "stdout",
     "output_type": "stream",
     "text": [
      "20240216_143420\n"
     ]
    },
    {
     "data": {
      "text/plain": [
       "['C:\\\\msys64\\\\home\\\\nilab\\\\projects\\\\NaCsSLM\\\\lib\\\\Na_0216_calibration_bishop_flipper_00000.h5']"
      ]
     },
     "execution_count": 153,
     "metadata": {},
     "output_type": "execute_result"
    }
   ],
   "source": [
    "# save the current calibration\n",
    "calibration_file_name = \"Na_0216_calibration_bishop_flipper\"\n",
    "client.send_save_fourier_calibration(\"C:\\\\msys64\\\\home\\\\nilab\\\\projects\\\\NaCsSLM\\\\lib\", calibration_file_name)"
   ]
  },
  {
   "cell_type": "code",
   "execution_count": 2,
   "id": "10e01b2a",
   "metadata": {},
   "outputs": [
    {
     "name": "stdout",
     "output_type": "stream",
     "text": [
      "20240216_152656\n"
     ]
    },
    {
     "data": {
      "text/plain": [
       "['ok']"
      ]
     },
     "execution_count": 2,
     "metadata": {},
     "output_type": "execute_result"
    }
   ],
   "source": [
    "# load a calibration file\n",
    "client.send_load_fourier_calibration('C:\\\\msys64\\\\home\\\\nilab\\\\projects\\\\NaCsSLM\\\\lib\\\\Na_0216_calibration_bishop_flipper_00000.h5')"
   ]
  },
  {
   "cell_type": "code",
   "execution_count": 61,
   "id": "67ab4ff6",
   "metadata": {},
   "outputs": [
    {
     "name": "stdout",
     "output_type": "stream",
     "text": [
      "20240429_180716\n"
     ]
    },
    {
     "data": {
      "text/plain": [
       "['base: C:\\\\msys64\\\\home\\\\nilab\\\\projects\\\\NaCsSLM\\\\lib\\\\Na_pattern\\\\20240426_1939034x1_horizontal_test_rd3 additional: file_correction:C:\\\\msys64\\\\home\\\\nilab\\\\projects\\\\NaCsSLM\\\\lib\\\\Na_Correction_Patterns\\\\CAL_LSH0803972_620nm.bmp,fresnel_lens:-600000.,zernike:[((2, 1), -15.0), ((2, 2), -5.0), ((2, 0), 10.0)],']"
      ]
     },
     "execution_count": 61,
     "metadata": {},
     "output_type": "execute_result"
    }
   ],
   "source": [
    "client.send_get_current_phase_info()"
   ]
  },
  {
   "cell_type": "code",
   "execution_count": 19,
   "id": "d25543fb",
   "metadata": {},
   "outputs": [
    {
     "name": "stdout",
     "output_type": "stream",
     "text": [
      "20241007_103401\n",
      "20241007_103401\n"
     ]
    }
   ],
   "source": [
    "client.save_config(\"C:\\\\experiment-control\\\\matlab_new\\\\NaCsSLM\\\\lib\\\\Na_config\\\\20241007_uniformzigzag_todozernike.yml\")"
   ]
  },
  {
   "cell_type": "code",
   "execution_count": 18,
   "id": "b3481dea",
   "metadata": {},
   "outputs": [
    {
     "name": "stdout",
     "output_type": "stream",
     "text": [
      "20240402_152741\n",
      "20240402_152741\n",
      "20240402_152741\n",
      "20240402_152742\n"
     ]
    }
   ],
   "source": [
    "client.load_config(\"C:\\\\msys64\\\\home\\\\Simulation Computer\\\\projects\\\\NaCsSLM\\\\lib\\\\Na_config\\\\20200402_1x4vertical.yml\")"
   ]
  },
  {
   "cell_type": "code",
   "execution_count": 19,
   "id": "e2ce5421",
   "metadata": {},
   "outputs": [
    {
     "name": "stdout",
     "output_type": "stream",
     "text": [
      "20240402_152743\n"
     ]
    },
    {
     "data": {
      "text/plain": [
       "['ok']"
      ]
     },
     "execution_count": 19,
     "metadata": {},
     "output_type": "execute_result"
    }
   ],
   "source": [
    "client.send_project()\n",
    "\n"
   ]
  },
  {
   "cell_type": "code",
   "execution_count": 42,
   "id": "767f1f32",
   "metadata": {},
   "outputs": [
    {
     "name": "stdout",
     "output_type": "stream",
     "text": [
      "20240425_173044\n"
     ]
    },
    {
     "data": {
      "text/plain": [
       "['ok']"
      ]
     },
     "execution_count": 42,
     "metadata": {},
     "output_type": "execute_result"
    }
   ],
   "source": [
    "client.send_perform_scan_feedback(2, 1300)"
   ]
  },
  {
   "cell_type": "code",
   "execution_count": 14,
   "id": "b16d4df8",
   "metadata": {},
   "outputs": [
    {
     "name": "stdout",
     "output_type": "stream",
     "text": [
      "20240318_150516\n",
      "20240318_150516\n",
      "20240318_150516\n",
      "20240318_150516\n",
      "20240318_150516\n",
      "20240318_150516\n",
      "20240318_150517\n"
     ]
    },
    {
     "data": {
      "text/plain": [
       "['ok']"
      ]
     },
     "execution_count": 14,
     "metadata": {},
     "output_type": "execute_result"
    }
   ],
   "source": [
    "client.send_reset_pattern()\n",
    "client.send_reset_add_phase()\n",
    "client.load_config(\"C:\\\\msys64\\\\home\\\\Simulation Computer\\\\projects\\\\NaCsSLM\\\\lib\\\\Na_config\\\\20200220_1x3_large_spacing_Andor20_2.yml\")\n",
    "client.send_project()"
   ]
  },
  {
   "cell_type": "code",
   "execution_count": 9,
   "id": "5840593b",
   "metadata": {},
   "outputs": [
    {
     "name": "stdout",
     "output_type": "stream",
     "text": [
      "20240318_150034\n"
     ]
    },
    {
     "data": {
      "text/plain": [
       "['base: C:\\\\msys64\\\\home\\\\nilab\\\\projects\\\\NaCsSLM\\\\lib\\\\Na_pattern\\\\20240318_1458422x3 additional: file_correction:C:\\\\msys64\\\\home\\\\nilab\\\\projects\\\\NaCsSLM\\\\lib\\\\Na_Correction_Patterns\\\\CAL_LSH0803972_620nm.bmp,fresnel_lens:-600000.,zernike:[((2, 2), 0.0), ((2, 1), -15.0)],']"
      ]
     },
     "execution_count": 9,
     "metadata": {},
     "output_type": "execute_result"
    }
   ],
   "source": [
    "client.send_get_current_phase_info()"
   ]
  },
  {
   "cell_type": "code",
   "execution_count": 48,
   "id": "811671bc",
   "metadata": {},
   "outputs": [
    {
     "name": "stdout",
     "output_type": "stream",
     "text": [
      "20240229_103127\n",
      "20240229_103129\n",
      "20240229_103129\n",
      "20240229_103129\n"
     ]
    },
    {
     "data": {
      "text/plain": [
       "('C:\\\\msys64\\\\home\\\\nilab\\\\projects\\\\NaCsSLM\\\\lib\\\\Na_pattern\\\\20240229_1031231024.0_1011.0_config.yml',\n",
       " 'C:\\\\msys64\\\\home\\\\nilab\\\\projects\\\\NaCsSLM\\\\lib\\\\Na_pattern\\\\20240229_1031231024.0_1011.0_data.npz',\n",
       " ['ok'],\n",
       " ['ok'])"
      ]
     },
     "execution_count": 48,
     "metadata": {},
     "output_type": "execute_result"
    }
   ],
   "source": [
    "# 6x6 array\n",
    "ntargets = 1\n",
    "targets = np.zeros((2, ntargets))\n",
    "\n",
    "targets[0,:] = [1024]\n",
    "targets[1,:] = [1011]\n",
    "\n",
    "target_amps = np.array([1])#np.ones((1, ntargets))\n",
    "target_file_name = str(targets[0,0]) + '_' + str(targets[1,0])\n",
    "client.calculate_save_and_project(targets, target_amps, 20,\"C:\\\\msys64\\\\home\\\\nilab\\\\projects\\\\NaCsSLM\\\\lib\\\\Na_pattern\" ,target_file_name)"
   ]
  },
  {
   "cell_type": "markdown",
   "id": "065cea3a",
   "metadata": {},
   "source": [
    "# Code 2/16"
   ]
  },
  {
   "cell_type": "code",
   "execution_count": 16,
   "id": "e7c4574f",
   "metadata": {},
   "outputs": [
    {
     "name": "stdout",
     "output_type": "stream",
     "text": [
      "20240216_163650\n",
      "20240216_163653\n",
      "20240216_163653\n",
      "20240216_163653\n"
     ]
    },
    {
     "data": {
      "text/plain": [
       "('C:\\\\msys64\\\\home\\\\nilab\\\\projects\\\\NaCsSLM\\\\lib\\\\Na_pattern\\\\20240216_163646Na_pairs_config.yml',\n",
       " 'C:\\\\msys64\\\\home\\\\nilab\\\\projects\\\\NaCsSLM\\\\lib\\\\Na_pattern\\\\20240216_163646Na_pairs_data.npz',\n",
       " ['ok'],\n",
       " ['ok'])"
      ]
     },
     "execution_count": 16,
     "metadata": {},
     "output_type": "execute_result"
    }
   ],
   "source": [
    "targets1, target_amps1 = utils.gen_square_targets([2,1], 118, 0.06981317007977318, [610, 480 + 118])\n",
    "targets2, target_amps2 = utils.gen_square_targets([2,1], 118, 0.06981317007977318, [610 + 23, 480 + 118])\n",
    "targets = np.concatenate((targets1,targets2),axis=1)\n",
    "target_amps = np.concatenate((target_amps1, target_amps2))\n",
    "target_file_name = \"Na_pairs\"\n",
    "WGS_iterations = 40\n",
    "client.calculate_save_and_project(targets, target_amps, WGS_iterations, \"C:\\\\msys64\\\\home\\\\nilab\\\\projects\\\\NaCsSLM\\\\lib\\\\Na_pattern\" ,target_file_name)"
   ]
  },
  {
   "cell_type": "code",
   "execution_count": 17,
   "id": "2fb05085",
   "metadata": {},
   "outputs": [
    {
     "name": "stdout",
     "output_type": "stream",
     "text": [
      "20240216_163850\n"
     ]
    },
    {
     "data": {
      "text/plain": [
       "['ok']"
      ]
     },
     "execution_count": 17,
     "metadata": {},
     "output_type": "execute_result"
    }
   ],
   "source": [
    "client.send_perform_camera_feedback(30)"
   ]
  },
  {
   "cell_type": "code",
   "execution_count": 18,
   "id": "126cb3bc",
   "metadata": {},
   "outputs": [
    {
     "name": "stdout",
     "output_type": "stream",
     "text": [
      "20240216_163930\n"
     ]
    },
    {
     "data": {
      "text/plain": [
       "['C:\\\\msys64\\\\home\\\\nilab\\\\projects\\\\NaCsSLM\\\\lib\\\\Na_pattern\\\\20240216_163923Na_pairs_with_feedback_config.yml',\n",
       " 'C:\\\\msys64\\\\home\\\\nilab\\\\projects\\\\NaCsSLM\\\\lib\\\\Na_pattern\\\\20240216_163923Na_pairs_with_feedback_data.npz']"
      ]
     },
     "execution_count": 18,
     "metadata": {},
     "output_type": "execute_result"
    }
   ],
   "source": [
    "uniform_hologram_file_name = \"Na_pairs_with_feedback\"\n",
    "client.send_save(\"C:\\\\msys64\\\\home\\\\nilab\\\\projects\\\\NaCsSLM\\\\lib\\\\Na_pattern\", uniform_hologram_file_name)"
   ]
  },
  {
   "cell_type": "markdown",
   "id": "b4dc78eb",
   "metadata": {},
   "source": [
    "# Target array\n",
    "## Generate target array"
   ]
  },
  {
   "cell_type": "code",
   "execution_count": 27,
   "id": "a95e8b8e",
   "metadata": {},
   "outputs": [],
   "source": [
    "ntargets = 2\n",
    "targets = np.zeros((2, ntargets))\n",
    "\n",
    "# targets[0,:] = np.array([1024,1069,1115])# x coordinates\n",
    "# targets[1,:] = np.array([1011,1011,1011]) # y coordinates\n",
    "\n",
    "# targets[0,:] = np.array([1115,1024,1069])# x coordinates\n",
    "# targets[1,:] = np.array([1011,1011,1011]) # y coordinates\n",
    "\n",
    "# target_amps = np.ones((1,ntargets))\n",
    "# target_amps = np.array([[1, 1, 1,1]])\n",
    "targets[0,:] = np.array([1046, 1068])\n",
    "targets[1,:] = np.array([1011, 1011])\n",
    "\n",
    "target_amps = np.ones((1, 2))"
   ]
  },
  {
   "cell_type": "code",
   "execution_count": 96,
   "id": "8e6cf098",
   "metadata": {},
   "outputs": [
    {
     "data": {
      "text/plain": [
       "921"
      ]
     },
     "execution_count": 96,
     "metadata": {},
     "output_type": "execute_result"
    }
   ],
   "source": []
  },
  {
   "cell_type": "code",
   "execution_count": 55,
   "id": "f3fb9d21",
   "metadata": {},
   "outputs": [],
   "source": [
    "ntargets = 4\n",
    "targets = np.zeros((2, ntargets))\n",
    "# targets[0,:] = np.array([1024])# x coordinates\n",
    "# targets[1,:] = np.array([1011]) # y coordinates\n",
    "targets[0,:] = np.array([1002,1024,1046,1068])# x coordinates\n",
    "targets[1,:] = np.array([1011,1011,1011,1011]) # y coordinates\n",
    "\n",
    "# targets[0,:] = np.array([1024,1069,1115,1024,1069,1115,1024,1069,1115])# x coordinates\n",
    "# targets[1,:] = np.array([1011,1011,1011,1056,1056,1056,1101,1101,1101]) # y coordinates\n",
    "\n",
    "# target_amps = np.ones((1,ntargets))\n",
    "target_amps = np.array([[1, 1.07, 0.95,0.95]])"
   ]
  },
  {
   "cell_type": "code",
   "execution_count": 56,
   "id": "5e960382",
   "metadata": {},
   "outputs": [
    {
     "data": {
      "text/plain": [
       "'[[1.   1.07 0.95 0.95]]'"
      ]
     },
     "execution_count": 56,
     "metadata": {},
     "output_type": "execute_result"
    }
   ],
   "source": [
    "str(target_amps)"
   ]
  },
  {
   "cell_type": "code",
   "execution_count": 28,
   "id": "c709f3ea",
   "metadata": {},
   "outputs": [
    {
     "name": "stdout",
     "output_type": "stream",
     "text": [
      "20240522_110803\n",
      "20240522_110805\n",
      "20240522_110805\n",
      "20240522_110806\n"
     ]
    },
    {
     "data": {
      "text/plain": [
       "('C:\\\\msys64\\\\home\\\\nilab\\\\projects\\\\NaCsSLM\\\\lib\\\\Na_pattern\\\\20240522_1108022x1_horizontal_config.yml',\n",
       " 'C:\\\\msys64\\\\home\\\\nilab\\\\projects\\\\NaCsSLM\\\\lib\\\\Na_pattern\\\\20240522_1108022x1_horizontal_data.npz',\n",
       " ['ok'],\n",
       " ['ok'])"
      ]
     },
     "execution_count": 28,
     "metadata": {},
     "output_type": "execute_result"
    }
   ],
   "source": [
    "target_file_name = \"2x1_horizontal\"\n",
    "client.calculate_save_and_project(targets, target_amps, 20, \"C:\\\\msys64\\\\home\\\\nilab\\\\projects\\\\NaCsSLM\\\\lib\\\\Na_pattern\", target_file_name)\n"
   ]
  },
  {
   "cell_type": "code",
   "execution_count": null,
   "id": "cc134e5d",
   "metadata": {},
   "outputs": [],
   "source": [
    "client.send_perform_scan_feedback(2, 250)"
   ]
  },
  {
   "cell_type": "code",
   "execution_count": 104,
   "id": "ba27082d",
   "metadata": {},
   "outputs": [
    {
     "name": "stdout",
     "output_type": "stream",
     "text": [
      "20240325_102536\n"
     ]
    },
    {
     "data": {
      "text/plain": [
       "['base: C:\\\\msys64\\\\home\\\\nilab\\\\projects\\\\NaCsSLM\\\\lib\\\\Na_pattern\\\\20240324_1732214x1 additional: fresnel_lens:-600000.,file_correction:C:\\\\\\\\msys64\\\\\\\\home\\\\\\\\nilab\\\\\\\\projects\\\\\\\\NaCsSLM\\\\\\\\lib\\\\\\\\Na_Correction_Patterns\\\\\\\\CAL_LSH0803972_620nm.bmp,zernike:[((2, 1), -15.0), ((2, 2), 0.0), ((2, 0), 20.0)],']"
      ]
     },
     "execution_count": 104,
     "metadata": {},
     "output_type": "execute_result"
    }
   ],
   "source": [
    "client.send_get_current_phase_info()"
   ]
  },
  {
   "cell_type": "code",
   "execution_count": 3,
   "id": "efc6831c",
   "metadata": {},
   "outputs": [
    {
     "name": "stdout",
     "output_type": "stream",
     "text": [
      "20240329_113112\n",
      "20240329_113112\n"
     ]
    },
    {
     "data": {
      "text/plain": [
       "(['ok'], ['ok'])"
      ]
     },
     "execution_count": 3,
     "metadata": {},
     "output_type": "execute_result"
    }
   ],
   "source": [
    "client.load_and_project('C:\\\\msys64\\\\home\\\\nilab\\\\projects\\\\NaCsSLM\\\\lib\\\\Na_pattern\\\\20240324_1732214x1')"
   ]
  },
  {
   "cell_type": "markdown",
   "id": "cdeb55bb",
   "metadata": {},
   "source": [
    "## Project the target array"
   ]
  },
  {
   "cell_type": "code",
   "execution_count": 155,
   "id": "6f264beb",
   "metadata": {},
   "outputs": [
    {
     "name": "stdout",
     "output_type": "stream",
     "text": [
      "20240216_143457\n",
      "20240216_143459\n",
      "20240216_143459\n",
      "20240216_143500\n"
     ]
    },
    {
     "data": {
      "text/plain": [
       "('C:\\\\msys64\\\\home\\\\nilab\\\\projects\\\\NaCsSLM\\\\lib\\\\Na_pattern\\\\20240216_143453610_480_config.yml',\n",
       " 'C:\\\\msys64\\\\home\\\\nilab\\\\projects\\\\NaCsSLM\\\\lib\\\\Na_pattern\\\\20240216_143453610_480_data.npz',\n",
       " ['ok'],\n",
       " ['ok'])"
      ]
     },
     "execution_count": 155,
     "metadata": {},
     "output_type": "execute_result"
    }
   ],
   "source": [
    "target_file_name = \"610_480\"\n",
    "client.calculate_save_and_project(targets, target_amps, 20, \"C:\\\\msys64\\\\home\\\\nilab\\\\projects\\\\NaCsSLM\\\\lib\\\\Na_pattern\", target_file_name)"
   ]
  },
  {
   "cell_type": "markdown",
   "id": "1608014a",
   "metadata": {},
   "source": [
    "# Uniformity feedback"
   ]
  },
  {
   "cell_type": "code",
   "execution_count": null,
   "id": "fa2c1d2d",
   "metadata": {},
   "outputs": [],
   "source": [
    "# define a target first \n",
    "client.send_calculate(targets, target_amps, 20)\n",
    "uniformity_feedback_iterations = 10\n",
    "client.send_perform_camera_feedback(uniformity_feedback_iterations)"
   ]
  },
  {
   "cell_type": "code",
   "execution_count": null,
   "id": "7765e98d",
   "metadata": {},
   "outputs": [],
   "source": [
    "uniform_hologram_file_name = \"1x3_with_feedback\"\n",
    "client.send_save(\"C:\\\\msys64\\\\home\\\\nilab\\\\projects\\\\NaCsSLM\\\\lib\\\\Na_pattern\", uniform_hologram_file_name)"
   ]
  },
  {
   "cell_type": "markdown",
   "id": "e4d9c615",
   "metadata": {},
   "source": [
    "# Daily operation "
   ]
  },
  {
   "cell_type": "code",
   "execution_count": null,
   "id": "468c4634",
   "metadata": {},
   "outputs": [],
   "source": [
    "# load a fourier calibration\n",
    "client.send_load_fourier_calibration('C:\\\\msys64\\\\home\\\\nilab\\\\projects\\\\NaCsSLM\\\\lib\\\\Na_0207_calibration_00000.h5')"
   ]
  },
  {
   "cell_type": "code",
   "execution_count": 12,
   "id": "40f8672b",
   "metadata": {},
   "outputs": [
    {
     "name": "stdout",
     "output_type": "stream",
     "text": [
      "20240227_100129\n",
      "20240227_100129\n",
      "20240227_100129\n"
     ]
    },
    {
     "data": {
      "text/plain": [
       "['ok']"
      ]
     },
     "execution_count": 12,
     "metadata": {},
     "output_type": "execute_result"
    }
   ],
   "source": [
    "# load a correction pattern \n",
    "client.send_correction(\"C:\\\\msys64\\\\home\\\\nilab\\\\projects\\\\NaCsSLM\\\\lib\\\\Na_Correction_Patterns\\\\CAL_LSH0803972_620nm.bmp\")\n",
    "client.send_fresnel_lens(np.array([5e5]))\n",
    "client.send_project()"
   ]
  },
  {
   "cell_type": "code",
   "execution_count": 37,
   "id": "6f5a43a1",
   "metadata": {},
   "outputs": [
    {
     "name": "stdout",
     "output_type": "stream",
     "text": [
      "20240318_173835\n",
      "20240318_173835\n"
     ]
    },
    {
     "data": {
      "text/plain": [
       "(['ok'], ['ok'])"
      ]
     },
     "execution_count": 37,
     "metadata": {},
     "output_type": "execute_result"
    }
   ],
   "source": [
    "# load a base pattern \n",
    "#current_file = \"C:\\\\msys64\\\\home\\\\nilab\\\\projects\\\\NaCsSLM\\\\lib\\\\Na_pattern\\\\20240207_1445471x3_with_feedback\"\n",
    "current_file = \"C:\\\\msys64\\\\home\\\\nilab\\\\projects\\\\NaCsSLM\\\\lib\\\\Na_pattern\\\\20240318_1544352x3\"\n",
    "\n",
    "client.load_and_project(current_file)"
   ]
  },
  {
   "cell_type": "code",
   "execution_count": 20,
   "id": "60312f04",
   "metadata": {
    "scrolled": true
   },
   "outputs": [
    {
     "name": "stdout",
     "output_type": "stream",
     "text": [
      "20240318_155227\n"
     ]
    },
    {
     "data": {
      "text/plain": [
       "['base: C:\\\\msys64\\\\home\\\\nilab\\\\projects\\\\NaCsSLM\\\\lib\\\\Na_pattern\\\\20240318_1544352x3 additional: fresnel_lens:-600000.,file_correction:C:\\\\msys64\\\\home\\\\nilab\\\\projects\\\\NaCsSLM\\\\lib\\\\Na_Correction_Patterns\\\\CAL_LSH0803972_620nm.bmp,zernike:[((2, 1), 5.0), ((2, 2), -20.0), ((2, 0), 10.0)],']"
      ]
     },
     "execution_count": 20,
     "metadata": {},
     "output_type": "execute_result"
    }
   ],
   "source": [
    "client.send_get_current_phase_info()"
   ]
  },
  {
   "cell_type": "code",
   "execution_count": null,
   "id": "2ad4d982",
   "metadata": {},
   "outputs": [],
   "source": [
    "#client.send_slm_amplitude(\"gaussian\", np.array([400.0]), np.array([400.0])) # Sets a slm amplitude, gaussian beam with waist 400 px"
   ]
  },
  {
   "cell_type": "code",
   "execution_count": 41,
   "id": "ce6bb354",
   "metadata": {},
   "outputs": [],
   "source": [
    "import time"
   ]
  },
  {
   "cell_type": "code",
   "execution_count": 45,
   "id": "4ed2788b",
   "metadata": {},
   "outputs": [
    {
     "name": "stdout",
     "output_type": "stream",
     "text": [
      "Trying f = 400000.0\n",
      "20240208_145247\n",
      "20240208_145247\n",
      "20240208_145247\n",
      "20240208_145248\n",
      "Waiting\n",
      "Trying f = 452631.5789473684\n",
      "20240208_145249\n",
      "20240208_145249\n",
      "20240208_145249\n",
      "20240208_145249\n",
      "Waiting\n",
      "Trying f = 505263.1578947368\n",
      "20240208_145250\n",
      "20240208_145250\n",
      "20240208_145250\n",
      "20240208_145250\n",
      "Waiting\n",
      "Trying f = 557894.7368421053\n",
      "20240208_145251\n",
      "20240208_145251\n",
      "20240208_145252\n",
      "20240208_145252\n",
      "Waiting\n",
      "Trying f = 610526.3157894736\n",
      "20240208_145253\n",
      "20240208_145253\n",
      "20240208_145253\n",
      "20240208_145253\n",
      "Waiting\n",
      "Trying f = 663157.8947368421\n",
      "20240208_145254\n",
      "20240208_145254\n",
      "20240208_145254\n",
      "20240208_145255\n",
      "Waiting\n",
      "Trying f = 715789.4736842106\n",
      "20240208_145256\n",
      "20240208_145256\n",
      "20240208_145256\n",
      "20240208_145256\n",
      "Waiting\n",
      "Trying f = 768421.052631579\n",
      "20240208_145257\n",
      "20240208_145257\n",
      "20240208_145257\n",
      "20240208_145258\n",
      "Waiting\n",
      "Trying f = 821052.6315789473\n",
      "20240208_145259\n",
      "20240208_145259\n",
      "20240208_145259\n",
      "20240208_145259\n",
      "Waiting\n",
      "Trying f = 873684.2105263157\n",
      "20240208_145300\n",
      "20240208_145300\n",
      "20240208_145300\n",
      "20240208_145301\n",
      "Waiting\n",
      "Trying f = 926315.7894736843\n",
      "20240208_145302\n",
      "20240208_145302\n",
      "20240208_145302\n",
      "20240208_145302\n",
      "Waiting\n",
      "Trying f = 978947.3684210526\n",
      "20240208_145303\n",
      "20240208_145303\n",
      "20240208_145303\n",
      "20240208_145303\n",
      "Waiting\n",
      "Trying f = 1031578.947368421\n",
      "20240208_145304\n",
      "20240208_145304\n",
      "20240208_145304\n",
      "20240208_145305\n",
      "Waiting\n",
      "Trying f = 1084210.5263157894\n",
      "20240208_145306\n",
      "20240208_145306\n",
      "20240208_145306\n",
      "20240208_145306\n",
      "Waiting\n",
      "Trying f = 1136842.105263158\n",
      "20240208_145307\n",
      "20240208_145307\n",
      "20240208_145307\n",
      "20240208_145308\n",
      "Waiting\n",
      "Trying f = 1189473.6842105263\n",
      "20240208_145309\n",
      "20240208_145309\n",
      "20240208_145309\n",
      "20240208_145309\n",
      "Waiting\n",
      "Trying f = 1242105.2631578946\n",
      "20240208_145310\n",
      "20240208_145310\n",
      "20240208_145310\n",
      "20240208_145311\n",
      "Waiting\n",
      "Trying f = 1294736.8421052631\n",
      "20240208_145312\n",
      "20240208_145312\n",
      "20240208_145312\n",
      "20240208_145312\n",
      "Waiting\n",
      "Trying f = 1347368.4210526315\n",
      "20240208_145313\n",
      "20240208_145313\n",
      "20240208_145313\n",
      "20240208_145313\n",
      "Waiting\n",
      "Trying f = 1400000.0\n",
      "20240208_145314\n",
      "20240208_145314\n",
      "20240208_145315\n",
      "20240208_145315\n",
      "Waiting\n"
     ]
    }
   ],
   "source": [
    "# fs = np.linspace(0.1, 0.17, 18) * 1e5   # Thorcam \n",
    "fs = np.linspace(4, 14, 20) * 1e5   # Andor\n",
    "for f in fs:\n",
    "    print('Trying f = ' + str(f))\n",
    "    client.send_reset_add_phase()\n",
    "    client.send_fresnel_lens(np.array([f])) #seems to be good correction for Cs SLM\n",
    "    client.send_correction(\"C:\\\\msys64\\\\home\\\\nilab\\\\projects\\\\NaCsSLM\\\\lib\\\\Na_Correction_Patterns\\\\CAL_LSH0803972_620nm.bmp\")\n",
    "    client.send_project()\n",
    "    print('Waiting')\n",
    "    time.sleep(1)\n",
    "    "
   ]
  },
  {
   "cell_type": "code",
   "execution_count": 160,
   "id": "18286b4e",
   "metadata": {
    "scrolled": false
   },
   "outputs": [
    {
     "name": "stdout",
     "output_type": "stream",
     "text": [
      "Trying weight = -50.0\n",
      "20240208_173022\n",
      "20240208_173022\n",
      "20240208_173023\n",
      "['ok']\n",
      "20240208_173023\n",
      "Waiting\n",
      "Trying weight = -38.888888888888886\n",
      "20240208_173024\n",
      "20240208_173024\n",
      "20240208_173024\n",
      "['ok']\n",
      "20240208_173025\n",
      "Waiting\n",
      "Trying weight = -27.77777777777778\n",
      "20240208_173026\n",
      "20240208_173026\n",
      "20240208_173026\n",
      "['ok']\n",
      "20240208_173027\n",
      "Waiting\n",
      "Trying weight = -16.66666666666667\n",
      "20240208_173028\n",
      "20240208_173028\n",
      "20240208_173028\n",
      "['ok']\n",
      "20240208_173028\n",
      "Waiting\n",
      "Trying weight = -5.555555555555557\n",
      "20240208_173029\n",
      "20240208_173029\n",
      "20240208_173030\n",
      "['ok']\n",
      "20240208_173030\n",
      "Waiting\n",
      "Trying weight = 5.555555555555557\n",
      "20240208_173031\n",
      "20240208_173031\n",
      "20240208_173032\n",
      "['ok']\n",
      "20240208_173032\n",
      "Waiting\n",
      "Trying weight = 16.666666666666657\n",
      "20240208_173033\n",
      "20240208_173033\n",
      "20240208_173033\n",
      "['ok']\n",
      "20240208_173034\n",
      "Waiting\n",
      "Trying weight = 27.77777777777777\n",
      "20240208_173035\n",
      "20240208_173035\n",
      "20240208_173035\n",
      "['ok']\n",
      "20240208_173035\n",
      "Waiting\n",
      "Trying weight = 38.888888888888886\n",
      "20240208_173036\n",
      "20240208_173036\n",
      "20240208_173037\n",
      "['ok']\n",
      "20240208_173037\n",
      "Waiting\n",
      "Trying weight = 50.0\n",
      "20240208_173038\n",
      "20240208_173038\n",
      "20240208_173038\n",
      "['ok']\n",
      "20240208_173039\n",
      "Waiting\n"
     ]
    }
   ],
   "source": [
    "# fs = np.linspace(0.1, 0.17, 18) * 1e5   # Thorcam \n",
    "# scan the Zernike \n",
    "# fs = np.linspace(0.25, 0.26, 20) * 1e5   # Andor\n",
    "weights = np.linspace(-50,50,10)\n",
    "for weight in weights:\n",
    "    print('Trying weight = ' + str(weight))\n",
    "    client.send_reset_add_phase()\n",
    "#     client.send_fresnel_lens(np.array([weight])*1e5) #seems to be good correction for Cs SLM\n",
    "    client.send_correction(\"C:\\\\msys64\\\\home\\\\nilab\\\\projects\\\\NaCsSLM\\\\lib\\\\Na_Correction_Patterns\\\\CAL_LSH0803972_620nm.bmp\")\n",
    "    notice = client.send_zernike_poly(np.array([[2,2,-50.0],[2,0,20],[3,2,weight]]))\n",
    "    print(notice)\n",
    "    client.send_project()\n",
    "    print('Waiting')\n",
    "    time.sleep(1)"
   ]
  },
  {
   "cell_type": "code",
   "execution_count": 19,
   "id": "4887b943",
   "metadata": {},
   "outputs": [
    {
     "name": "stdout",
     "output_type": "stream",
     "text": [
      "20240318_155136\n",
      "20240318_155136\n",
      "20240318_155136\n",
      "20240318_155136\n",
      "20240318_155137\n"
     ]
    },
    {
     "data": {
      "text/plain": [
       "['ok']"
      ]
     },
     "execution_count": 19,
     "metadata": {},
     "output_type": "execute_result"
    }
   ],
   "source": [
    "client.send_reset_add_phase()\n",
    "client.send_fresnel_lens(np.array([-6e5])) #seems to be good correction for Na SLM\n",
    "client.send_correction(\"C:\\\\msys64\\\\home\\\\nilab\\\\projects\\\\NaCsSLM\\\\lib\\\\Na_Correction_Patterns\\\\CAL_LSH0803972_620nm.bmp\")\n",
    "notice = client.send_zernike_poly(np.array([[2,1,5],[2,2,-20],[2,0,10]]))\n",
    "#print(notice)\n",
    "# notice = client.send_zernike_poly(np.array([[2,1,1]]))\n",
    "client.send_project()\n"
   ]
  },
  {
   "cell_type": "code",
   "execution_count": 2,
   "id": "ace1600b",
   "metadata": {},
   "outputs": [
    {
     "name": "stdout",
     "output_type": "stream",
     "text": [
      "20240215_110628\n",
      "20240215_110628\n",
      "20240215_110629\n"
     ]
    },
    {
     "data": {
      "text/plain": [
       "['ok']"
      ]
     },
     "execution_count": 2,
     "metadata": {},
     "output_type": "execute_result"
    }
   ],
   "source": [
    "#test fresnel on bishop\n",
    "client.send_reset_add_phase()\n",
    "# client.send_fresnel_lens(np.array([2e5])) #seems to be good correction for Na SLM\n",
    "client.send_correction(\"C:\\\\msys64\\\\home\\\\nilab\\\\projects\\\\NaCsSLM\\\\lib\\\\Na_Correction_Patterns\\\\CAL_LSH0803972_620nm.bmp\")\n",
    "#notice = client.send_zernike_poly(np.array([[2,2,-50.0],[2,0,20.0],[3,2,-30]]))\n",
    "#print(notice)\n",
    "# notice = client.send_zernike_poly(np.array([[2,1,1]]))\n",
    "client.send_project()\n"
   ]
  },
  {
   "cell_type": "code",
   "execution_count": 6,
   "id": "40e9af05",
   "metadata": {},
   "outputs": [
    {
     "name": "stdout",
     "output_type": "stream",
     "text": [
      "20240221_101007\n",
      "20240221_101007\n"
     ]
    },
    {
     "data": {
      "text/plain": [
       "['ok']"
      ]
     },
     "execution_count": 6,
     "metadata": {},
     "output_type": "execute_result"
    }
   ],
   "source": [
    "client.send_reset_add_phase()\n",
    "client.send_project()"
   ]
  },
  {
   "cell_type": "code",
   "execution_count": 126,
   "id": "a6d89bfd",
   "metadata": {},
   "outputs": [
    {
     "name": "stdout",
     "output_type": "stream",
     "text": [
      "20240220_164701\n"
     ]
    },
    {
     "data": {
      "text/plain": [
       "['base: C:\\\\msys64\\\\home\\\\nilab\\\\projects\\\\NaCsSLM\\\\lib\\\\Na_pattern\\\\20240216_1558561x3Andor20_quad2_with_feedback additional: file_correction:C:\\\\msys64\\\\home\\\\nilab\\\\projects\\\\NaCsSLM\\\\lib\\\\Na_Correction_Patterns\\\\CAL_LSH0803972_620nm.bmp,fresnel_lens:-600000.,zernike:[((2, 2), 0.0), ((2, 1), -15.0)],']"
      ]
     },
     "execution_count": 126,
     "metadata": {},
     "output_type": "execute_result"
    }
   ],
   "source": [
    "client.send_get_current_phase_info()\n"
   ]
  },
  {
   "cell_type": "code",
   "execution_count": 5,
   "id": "a15f2803",
   "metadata": {},
   "outputs": [
    {
     "name": "stdout",
     "output_type": "stream",
     "text": [
      "20240221_101000\n",
      "20240221_101000\n"
     ]
    },
    {
     "data": {
      "text/plain": [
       "['ok']"
      ]
     },
     "execution_count": 5,
     "metadata": {},
     "output_type": "execute_result"
    }
   ],
   "source": [
    "client.send_reset_pattern()\n",
    "client.send_project()"
   ]
  },
  {
   "cell_type": "code",
   "execution_count": 15,
   "id": "5ed0b914",
   "metadata": {},
   "outputs": [],
   "source": [
    "targets, target_amps = utils.gen_square_targets(2, 118, 0, [761, 651])"
   ]
  },
  {
   "cell_type": "code",
   "execution_count": 16,
   "id": "9d8a66d1",
   "metadata": {},
   "outputs": [
    {
     "data": {
      "text/plain": [
       "array([[643., 643., 879., 879.],\n",
       "       [533., 769., 533., 769.]])"
      ]
     },
     "execution_count": 16,
     "metadata": {},
     "output_type": "execute_result"
    }
   ],
   "source": [
    "targets"
   ]
  },
  {
   "cell_type": "code",
   "execution_count": 17,
   "id": "0e5afff5",
   "metadata": {},
   "outputs": [
    {
     "data": {
      "text/plain": [
       "15"
      ]
     },
     "execution_count": 17,
     "metadata": {},
     "output_type": "execute_result"
    }
   ],
   "source": [
    "np.prod(np.array([3,5]))"
   ]
  },
  {
   "cell_type": "code",
   "execution_count": 8,
   "id": "2b84552a",
   "metadata": {},
   "outputs": [
    {
     "data": {
      "text/plain": [
       "887"
      ]
     },
     "execution_count": 8,
     "metadata": {},
     "output_type": "execute_result"
    }
   ],
   "source": [
    "651 + 236"
   ]
  },
  {
   "cell_type": "code",
   "execution_count": 9,
   "id": "fb7fbd4c",
   "metadata": {},
   "outputs": [],
   "source": [
    "import utils\n",
    "import numpy as np"
   ]
  },
  {
   "cell_type": "code",
   "execution_count": 30,
   "id": "1ebb9c63",
   "metadata": {},
   "outputs": [
    {
     "name": "stdout",
     "output_type": "stream",
     "text": [
      "[[ 78.35215599  70.69848735  63.0448187   55.39115005  47.7374814\n",
      "   96.82974664  89.176078    81.52240935  73.8687407   66.21507206\n",
      "  115.30733729 107.65366865 100.          92.34633135  84.69266271\n",
      "  133.78492794 126.1312593  118.47759065 110.823922   103.17025336\n",
      "  152.2625186  144.60884995 136.9551813  129.30151265 121.64784401]\n",
      " [ 77.7374814   96.21507206 114.69266271 133.17025336 151.64784401\n",
      "   85.39115005 103.8687407  122.34633135 140.823922   159.30151265\n",
      "   93.0448187  111.52240935 130.         148.47759065 166.9551813\n",
      "  100.69848735 119.176078   137.65366865 156.1312593  174.60884995\n",
      "  108.35215599 126.82974664 145.30733729 163.78492794 182.2625186 ]]\n",
      "[1. 1. 1. 1. 1. 1. 1. 1. 1. 1. 1. 1. 1. 1. 1. 1. 1. 1. 1. 1. 1. 1. 1. 1.\n",
      " 1.]\n"
     ]
    }
   ],
   "source": [
    "targets, target_amps = utils.gen_square_targets2(5, [20,20], np.pi/8, [100,130])\n",
    "print(targets)\n",
    "print(target_amps)"
   ]
  },
  {
   "cell_type": "code",
   "execution_count": 31,
   "id": "70328f3f",
   "metadata": {},
   "outputs": [
    {
     "data": {
      "text/plain": [
       "(42.51122954543943, 157.48877045456058, 72.51122954543942, 187.48877045456058)"
      ]
     },
     "execution_count": 31,
     "metadata": {},
     "output_type": "execute_result"
    },
    {
     "data": {
      "image/png": "[encoded data removed]",
      "text/plain": [
       "<Figure size 640x480 with 1 Axes>"
      ]
     },
     "metadata": {},
     "output_type": "display_data"
    }
   ],
   "source": [
    "from matplotlib import pyplot as plt\n",
    "plt.scatter(targets[0,:], targets[1,:])\n",
    "plt.gca().axis('equal')"
   ]
  },
  {
   "cell_type": "code",
   "execution_count": 23,
   "id": "63e6614a",
   "metadata": {},
   "outputs": [
    {
     "name": "stdout",
     "output_type": "stream",
     "text": [
      "20240219_163111\n",
      "20240219_163111\n"
     ]
    },
    {
     "data": {
      "text/plain": [
       "(['ok'], ['ok'])"
      ]
     },
     "execution_count": 23,
     "metadata": {},
     "output_type": "execute_result"
    }
   ],
   "source": [
    "client.load_and_project('C:\\\\msys64\\\\home\\\\nilab\\\\projects\\\\NaCsSLM\\\\lib\\\\Na_pattern\\\\20240216_1558561x3Andor20_quad2_with_feedback')"
   ]
  },
  {
   "cell_type": "code",
   "execution_count": 130,
   "id": "5af077d9",
   "metadata": {},
   "outputs": [
    {
     "name": "stdout",
     "output_type": "stream",
     "text": [
      "20240220_165358\n"
     ]
    },
    {
     "data": {
      "text/plain": [
       "['C:\\\\msys64\\\\home\\\\nilab\\\\projects\\\\NaCsSLM\\\\lib\\\\Na_0216_calibration_bishop_flipper_00000.h5']"
      ]
     },
     "execution_count": 130,
     "metadata": {},
     "output_type": "execute_result"
    }
   ],
   "source": [
    "client.send_get_fourier_calibration()"
   ]
  },
  {
   "cell_type": "code",
   "execution_count": null,
   "id": "3e77f017",
   "metadata": {},
   "outputs": [],
   "source": [
    "C:\\\\msys64\\\\home\\\\nilab\\\\projects\\\\NaCsSLM\\\\lib\\\\Na_pattern\\\\20240426_1714154x1_horizontal_test"
   ]
  }
 ],
 "metadata": {
  "kernelspec": {
   "display_name": "Python 3 (ipykernel)",
   "language": "python",
   "name": "python3"
  },
  "language_info": {
   "codemirror_mode": {
    "name": "ipython",
    "version": 3
   },
   "file_extension": ".py",
   "mimetype": "text/x-python",
   "name": "python",
   "nbconvert_exporter": "python",
   "pygments_lexer": "ipython3",
   "version": "3.7.2"
  }
 },
 "nbformat": 4,
 "nbformat_minor": 5
}
